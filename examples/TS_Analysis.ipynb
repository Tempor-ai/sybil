{
 "cells": [
  {
   "cell_type": "code",
   "execution_count": 2,
   "id": "70eb0cb9-5087-4b80-98a2-0b5beb989dda",
   "metadata": {
    "tags": []
   },
   "outputs": [],
   "source": [
    "import sys\n",
    "sys.path.append(\"../src/models/\")\n",
    "from ts_utils import *\n",
    "import pandas as pd"
   ]
  },
  {
   "cell_type": "code",
   "execution_count": 3,
   "id": "583bdd26-46f7-4b40-9037-1a47793cdf35",
   "metadata": {
    "tags": []
   },
   "outputs": [],
   "source": [
    "# testing_datasets = [\n",
    "#     {\n",
    "#         \"file_name\": \"../datasets/energy/elecdemand_dataset.csv\",\n",
    "#         \"format\": \"csv\",\n",
    "#         \"time_col_index\": 0,\n",
    "#         \"target_col_index\": -1,\n",
    "#         \"exovar\": False,\n",
    "#     },\n",
    "#     {\n",
    "#         \"file_name\": \"../datasets/energy/power_solar_minutely.csv\",\n",
    "#         \"format\": \"csv\",\n",
    "#         \"time_col_index\": 0,\n",
    "#         \"target_col_index\": -1,\n",
    "#         \"exovar\": False,\n",
    "#     },\n",
    "#     {\n",
    "#         \"file_name\": \"../datasets/energy/power_wind_minutely.csv\",\n",
    "#         \"format\": \"csv\",\n",
    "#         \"time_col_index\": 0,\n",
    "#         \"target_col_index\": -1,\n",
    "#         \"exovar\": False,\n",
    "#     }\n",
    "# ]"
   ]
  },
  {
   "cell_type": "code",
   "execution_count": 8,
   "id": "f575ac4d-f07f-4d5a-ad5c-6f2416f1b013",
   "metadata": {
    "tags": []
   },
   "outputs": [],
   "source": [
    "dataset_info = {\n",
    "        \"file_name\": \"https://github.com/ourownstory/neuralprophet-data/raw/main/datasets/air_passengers.csv\",\n",
    "        \"format\": \"csv\",\n",
    "        \"time_col_index\": 0,\n",
    "        \"target_col_index\": -1,\n",
    "        \"exovar\": False,\n",
    "    }"
   ]
  },
  {
   "cell_type": "code",
   "execution_count": 10,
   "id": "61c4439a-b95c-4b3b-ad7b-db0a1235d1ee",
   "metadata": {
    "tags": []
   },
   "outputs": [],
   "source": [
    "def prepare_dataset(dataset_info):\n",
    "    if dataset_info[\"format\"] == \"csv\":\n",
    "        train_df = pd.read_csv(dataset_info[\"file_name\"])\n",
    "        time_col = train_df.columns[dataset_info[\"time_col_index\"]]\n",
    "        target_col = train_df.columns[dataset_info[\"target_col_index\"]]\n",
    "        \n",
    "        train_df[time_col] = pd.to_datetime(train_df[time_col])\n",
    "    return train_df"
   ]
  },
  {
   "cell_type": "code",
   "execution_count": 13,
   "id": "f9a51015-0e9a-413b-a573-109c4b48f75e",
   "metadata": {
    "tags": []
   },
   "outputs": [],
   "source": [
    "df = prepare_dataset(dataset_info)"
   ]
  },
  {
   "cell_type": "code",
   "execution_count": 18,
   "id": "34944042-0401-4b0d-bed7-5fc933b7f327",
   "metadata": {
    "tags": []
   },
   "outputs": [
    {
     "data": {
      "text/html": [
       "<div>\n",
       "<style scoped>\n",
       "    .dataframe tbody tr th:only-of-type {\n",
       "        vertical-align: middle;\n",
       "    }\n",
       "\n",
       "    .dataframe tbody tr th {\n",
       "        vertical-align: top;\n",
       "    }\n",
       "\n",
       "    .dataframe thead th {\n",
       "        text-align: right;\n",
       "    }\n",
       "</style>\n",
       "<table border=\"1\" class=\"dataframe\">\n",
       "  <thead>\n",
       "    <tr style=\"text-align: right;\">\n",
       "      <th></th>\n",
       "      <th>ds</th>\n",
       "      <th>y</th>\n",
       "    </tr>\n",
       "  </thead>\n",
       "  <tbody>\n",
       "    <tr>\n",
       "      <th>0</th>\n",
       "      <td>1949-01-01</td>\n",
       "      <td>112</td>\n",
       "    </tr>\n",
       "    <tr>\n",
       "      <th>1</th>\n",
       "      <td>1949-02-01</td>\n",
       "      <td>118</td>\n",
       "    </tr>\n",
       "    <tr>\n",
       "      <th>2</th>\n",
       "      <td>1949-03-01</td>\n",
       "      <td>132</td>\n",
       "    </tr>\n",
       "    <tr>\n",
       "      <th>3</th>\n",
       "      <td>1949-04-01</td>\n",
       "      <td>129</td>\n",
       "    </tr>\n",
       "    <tr>\n",
       "      <th>4</th>\n",
       "      <td>1949-05-01</td>\n",
       "      <td>121</td>\n",
       "    </tr>\n",
       "    <tr>\n",
       "      <th>...</th>\n",
       "      <td>...</td>\n",
       "      <td>...</td>\n",
       "    </tr>\n",
       "    <tr>\n",
       "      <th>139</th>\n",
       "      <td>1960-08-01</td>\n",
       "      <td>606</td>\n",
       "    </tr>\n",
       "    <tr>\n",
       "      <th>140</th>\n",
       "      <td>1960-09-01</td>\n",
       "      <td>508</td>\n",
       "    </tr>\n",
       "    <tr>\n",
       "      <th>141</th>\n",
       "      <td>1960-10-01</td>\n",
       "      <td>461</td>\n",
       "    </tr>\n",
       "    <tr>\n",
       "      <th>142</th>\n",
       "      <td>1960-11-01</td>\n",
       "      <td>390</td>\n",
       "    </tr>\n",
       "    <tr>\n",
       "      <th>143</th>\n",
       "      <td>1960-12-01</td>\n",
       "      <td>432</td>\n",
       "    </tr>\n",
       "  </tbody>\n",
       "</table>\n",
       "<p>144 rows × 2 columns</p>\n",
       "</div>"
      ],
      "text/plain": [
       "            ds    y\n",
       "0   1949-01-01  112\n",
       "1   1949-02-01  118\n",
       "2   1949-03-01  132\n",
       "3   1949-04-01  129\n",
       "4   1949-05-01  121\n",
       "..         ...  ...\n",
       "139 1960-08-01  606\n",
       "140 1960-09-01  508\n",
       "141 1960-10-01  461\n",
       "142 1960-11-01  390\n",
       "143 1960-12-01  432\n",
       "\n",
       "[144 rows x 2 columns]"
      ]
     },
     "execution_count": 18,
     "metadata": {},
     "output_type": "execute_result"
    }
   ],
   "source": [
    "df"
   ]
  },
  {
   "cell_type": "code",
   "execution_count": 14,
   "id": "c012ba44-d612-450e-990a-723d1e921838",
   "metadata": {
    "tags": []
   },
   "outputs": [
    {
     "data": {
      "text/plain": [
       "144"
      ]
     },
     "execution_count": 14,
     "metadata": {},
     "output_type": "execute_result"
    }
   ],
   "source": [
    "len(df)"
   ]
  },
  {
   "cell_type": "code",
   "execution_count": 15,
   "id": "63dc5549-82e5-4dfd-9031-cb6ca1c0d9e4",
   "metadata": {
    "tags": []
   },
   "outputs": [
    {
     "data": {
      "text/plain": [
       "'MS'"
      ]
     },
     "execution_count": 15,
     "metadata": {},
     "output_type": "execute_result"
    }
   ],
   "source": [
    "get_frequency(df.set_index('ds'))"
   ]
  },
  {
   "cell_type": "code",
   "execution_count": 20,
   "id": "7e5831d9-8d81-4f3e-bb4f-c0d1065b7720",
   "metadata": {
    "tags": []
   },
   "outputs": [
    {
     "data": {
      "text/plain": [
       "<Axes: xlabel='ds'>"
      ]
     },
     "execution_count": 20,
     "metadata": {},
     "output_type": "execute_result"
    },
    {
     "data": {
      "image/png": "[encoded data removed]",
      "text/plain": [
       "<Figure size 640x480 with 1 Axes>"
      ]
     },
     "metadata": {},
     "output_type": "display_data"
    }
   ],
   "source": [
    "df.set_index('ds').plot()"
   ]
  },
  {
   "cell_type": "code",
   "execution_count": 22,
   "id": "c95947a8-9463-47cb-9c83-2e684c93714d",
   "metadata": {},
   "outputs": [
    {
     "data": {
      "text/plain": [
       "True"
      ]
     },
     "execution_count": 22,
     "metadata": {},
     "output_type": "execute_result"
    }
   ],
   "source": [
    "is_seasonal(df.set_index('ds'))"
   ]
  },
  {
   "cell_type": "code",
   "execution_count": 23,
   "id": "a1bbf515-591e-4ea2-9fd9-0c6ef997b9f9",
   "metadata": {
    "tags": []
   },
   "outputs": [
    {
     "data": {
      "text/plain": [
       "12"
      ]
     },
     "execution_count": 23,
     "metadata": {},
     "output_type": "execute_result"
    }
   ],
   "source": [
    "get_seasonal_period(df.set_index('ds'))"
   ]
  },
  {
   "cell_type": "code",
   "execution_count": null,
   "id": "264f8493-88ae-471e-b2b8-ef3455d2afd6",
   "metadata": {},
   "outputs": [],
   "source": []
  }
 ],
 "metadata": {
  "kernelspec": {
   "display_name": "darts1:Python",
   "language": "python",
   "name": "conda-env-darts1-py"
  },
  "language_info": {
   "codemirror_mode": {
    "name": "ipython",
    "version": 3
   },
   "file_extension": ".py",
   "mimetype": "text/x-python",
   "name": "python",
   "nbconvert_exporter": "python",
   "pygments_lexer": "ipython3",
   "version": "3.9.18"
  }
 },
 "nbformat": 4,
 "nbformat_minor": 5
}
