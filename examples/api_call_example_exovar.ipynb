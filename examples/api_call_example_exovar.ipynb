{
 "cells": [
  {
   "cell_type": "markdown",
   "id": "48e57c5e-f2f9-448c-8901-e27610b878d5",
   "metadata": {},
   "source": [
    "Check Python version"
   ]
  },
  {
   "cell_type": "code",
   "execution_count": 1,
   "id": "c00c0a6f-c24c-4255-a430-6f89264a5a41",
   "metadata": {
    "ExecuteTime": {
     "end_time": "2023-10-03T15:08:39.331769900Z",
     "start_time": "2023-10-03T15:08:38.809815600Z"
    }
   },
   "outputs": [
    {
     "name": "stdout",
     "output_type": "stream",
     "text": [
      "Python 3.9.16\n"
     ]
    }
   ],
   "source": [
    "!python --version"
   ]
  },
  {
   "cell_type": "markdown",
   "id": "6173c739-e07c-46f5-9841-a6c7d7f1b4ff",
   "metadata": {},
   "source": [
    "Import libraries"
   ]
  },
  {
   "cell_type": "code",
   "execution_count": 2,
   "id": "4c7954a0-e6b4-4fa1-962b-83141e8b19cc",
   "metadata": {
    "ExecuteTime": {
     "end_time": "2023-10-03T15:08:39.331769900Z",
     "start_time": "2023-10-03T15:08:38.889855400Z"
    }
   },
   "outputs": [],
   "source": [
    "import json\n",
    "import yaml\n",
    "import requests\n",
    "import pandas as pd\n",
    "import matplotlib.pyplot as plt\n",
    "import seaborn as sns\n",
    "sns.set()"
   ]
  },
  {
   "cell_type": "markdown",
   "id": "4b126246-b152-4de2-a39d-21feb5d6f6d2",
   "metadata": {},
   "source": [
    "### **Extract Data**"
   ]
  },
  {
   "cell_type": "code",
   "execution_count": 3,
   "id": "a1f7662e-1117-4a4b-9118-09faa296ccf9",
   "metadata": {
    "ExecuteTime": {
     "end_time": "2023-10-03T15:08:39.359834Z",
     "start_time": "2023-10-03T15:08:38.902074500Z"
    }
   },
   "outputs": [],
   "source": [
    "# Local directory\n",
    "data_dir = \"../datasets/climate\"\n",
    "file_name = \"temp_anom_w_forcing\"\n",
    "#data_dir = \"../datasets/finance\"\n",
    "#file_name = \"Returns_short_interest_data_train\"\n",
    "file_path = f\"{data_dir}/{file_name}.csv\"\n",
    "\n",
    "# Through online GitHub\n",
    "# file_path = \"https://github.com/ourownstory/neuralprophet-data/raw/main/datasets/air_passengers.csv\""
   ]
  },
  {
   "cell_type": "markdown",
   "id": "25b808b4a17d8da5",
   "metadata": {
    "collapsed": false
   },
   "source": []
  },
  {
   "cell_type": "code",
   "execution_count": 4,
   "id": "437651ae-7fe0-4adb-b614-607e663b735c",
   "metadata": {
    "ExecuteTime": {
     "end_time": "2023-10-03T15:08:39.442046600Z",
     "start_time": "2023-10-03T15:08:38.920012300Z"
    }
   },
   "outputs": [],
   "source": [
    "dataset = pd.read_csv(file_path)"
   ]
  },
  {
   "cell_type": "code",
   "execution_count": 5,
   "id": "53700774-809a-4cd9-a385-e155c2d99236",
   "metadata": {
    "ExecuteTime": {
     "end_time": "2023-10-03T15:08:39.521086700Z",
     "start_time": "2023-10-03T15:08:39.049859900Z"
    }
   },
   "outputs": [
    {
     "data": {
      "text/plain": [
       "(163, 11)"
      ]
     },
     "execution_count": 5,
     "metadata": {},
     "output_type": "execute_result"
    }
   ],
   "source": [
    "dataset.shape"
   ]
  },
  {
   "cell_type": "code",
   "execution_count": 6,
   "id": "114fc37e-da5d-4764-bb26-3fab6a761c54",
   "metadata": {
    "ExecuteTime": {
     "end_time": "2023-10-03T15:08:39.521591700Z",
     "start_time": "2023-10-03T15:08:39.062520700Z"
    }
   },
   "outputs": [
    {
     "data": {
      "text/plain": [
       "Index(['Year', 'WMGHG', 'Ozone', 'Solar', 'Land_Use', 'SnowAlb_BC', 'Orbital',\n",
       "       'TropAerDir', 'TropAerInd', 'StratAer', 'Anomaly'],\n",
       "      dtype='object')"
      ]
     },
     "execution_count": 6,
     "metadata": {},
     "output_type": "execute_result"
    }
   ],
   "source": [
    "dataset.columns"
   ]
  },
  {
   "cell_type": "code",
   "execution_count": 7,
   "id": "5d0d9da3-5d20-4c88-b821-b8066cfe4399",
   "metadata": {
    "ExecuteTime": {
     "end_time": "2023-10-03T15:08:39.522637600Z",
     "start_time": "2023-10-03T15:08:39.080141300Z"
    }
   },
   "outputs": [
    {
     "data": {
      "text/html": [
       "<div>\n",
       "<style scoped>\n",
       "    .dataframe tbody tr th:only-of-type {\n",
       "        vertical-align: middle;\n",
       "    }\n",
       "\n",
       "    .dataframe tbody tr th {\n",
       "        vertical-align: top;\n",
       "    }\n",
       "\n",
       "    .dataframe thead th {\n",
       "        text-align: right;\n",
       "    }\n",
       "</style>\n",
       "<table border=\"1\" class=\"dataframe\">\n",
       "  <thead>\n",
       "    <tr style=\"text-align: right;\">\n",
       "      <th></th>\n",
       "      <th>Year</th>\n",
       "      <th>WMGHG</th>\n",
       "      <th>Ozone</th>\n",
       "      <th>Solar</th>\n",
       "      <th>Land_Use</th>\n",
       "      <th>SnowAlb_BC</th>\n",
       "      <th>Orbital</th>\n",
       "      <th>TropAerDir</th>\n",
       "      <th>TropAerInd</th>\n",
       "      <th>StratAer</th>\n",
       "      <th>Anomaly</th>\n",
       "    </tr>\n",
       "  </thead>\n",
       "  <tbody>\n",
       "    <tr>\n",
       "      <th>0</th>\n",
       "      <td>1850</td>\n",
       "      <td>0.000000</td>\n",
       "      <td>0.000000</td>\n",
       "      <td>0.000000</td>\n",
       "      <td>0.000000</td>\n",
       "      <td>0.000000</td>\n",
       "      <td>0.000000</td>\n",
       "      <td>0.000000</td>\n",
       "      <td>0.000000</td>\n",
       "      <td>0.000000</td>\n",
       "      <td>-0.17</td>\n",
       "    </tr>\n",
       "    <tr>\n",
       "      <th>1</th>\n",
       "      <td>1851</td>\n",
       "      <td>0.005954</td>\n",
       "      <td>0.000745</td>\n",
       "      <td>0.001166</td>\n",
       "      <td>-0.000940</td>\n",
       "      <td>0.000649</td>\n",
       "      <td>0.000653</td>\n",
       "      <td>0.000649</td>\n",
       "      <td>-0.000005</td>\n",
       "      <td>0.029088</td>\n",
       "      <td>-0.09</td>\n",
       "    </tr>\n",
       "    <tr>\n",
       "      <th>2</th>\n",
       "      <td>1852</td>\n",
       "      <td>0.010502</td>\n",
       "      <td>0.000909</td>\n",
       "      <td>-0.010756</td>\n",
       "      <td>-0.002531</td>\n",
       "      <td>0.000649</td>\n",
       "      <td>0.000671</td>\n",
       "      <td>0.000649</td>\n",
       "      <td>-0.000005</td>\n",
       "      <td>0.056712</td>\n",
       "      <td>-0.11</td>\n",
       "    </tr>\n",
       "    <tr>\n",
       "      <th>3</th>\n",
       "      <td>1853</td>\n",
       "      <td>0.014587</td>\n",
       "      <td>0.001020</td>\n",
       "      <td>-0.027220</td>\n",
       "      <td>-0.004123</td>\n",
       "      <td>0.000649</td>\n",
       "      <td>0.000688</td>\n",
       "      <td>0.000649</td>\n",
       "      <td>-0.000005</td>\n",
       "      <td>0.077260</td>\n",
       "      <td>-0.12</td>\n",
       "    </tr>\n",
       "    <tr>\n",
       "      <th>4</th>\n",
       "      <td>1854</td>\n",
       "      <td>0.020521</td>\n",
       "      <td>0.001188</td>\n",
       "      <td>-0.045539</td>\n",
       "      <td>-0.005717</td>\n",
       "      <td>0.000649</td>\n",
       "      <td>0.000689</td>\n",
       "      <td>0.000649</td>\n",
       "      <td>-0.000005</td>\n",
       "      <td>0.085759</td>\n",
       "      <td>-0.12</td>\n",
       "    </tr>\n",
       "  </tbody>\n",
       "</table>\n",
       "</div>"
      ],
      "text/plain": [
       "   Year     WMGHG     Ozone     Solar  Land_Use  SnowAlb_BC   Orbital  \\\n",
       "0  1850  0.000000  0.000000  0.000000  0.000000    0.000000  0.000000   \n",
       "1  1851  0.005954  0.000745  0.001166 -0.000940    0.000649  0.000653   \n",
       "2  1852  0.010502  0.000909 -0.010756 -0.002531    0.000649  0.000671   \n",
       "3  1853  0.014587  0.001020 -0.027220 -0.004123    0.000649  0.000688   \n",
       "4  1854  0.020521  0.001188 -0.045539 -0.005717    0.000649  0.000689   \n",
       "\n",
       "   TropAerDir  TropAerInd  StratAer  Anomaly  \n",
       "0    0.000000    0.000000  0.000000    -0.17  \n",
       "1    0.000649   -0.000005  0.029088    -0.09  \n",
       "2    0.000649   -0.000005  0.056712    -0.11  \n",
       "3    0.000649   -0.000005  0.077260    -0.12  \n",
       "4    0.000649   -0.000005  0.085759    -0.12  "
      ]
     },
     "execution_count": 7,
     "metadata": {},
     "output_type": "execute_result"
    }
   ],
   "source": [
    "dataset.head()"
   ]
  },
  {
   "cell_type": "code",
   "execution_count": 8,
   "id": "0a4ec852-b801-49fd-a130-075895b7db94",
   "metadata": {
    "ExecuteTime": {
     "end_time": "2023-10-03T15:08:39.522637600Z",
     "start_time": "2023-10-03T15:08:39.099780200Z"
    }
   },
   "outputs": [
    {
     "data": {
      "text/html": [
       "<div>\n",
       "<style scoped>\n",
       "    .dataframe tbody tr th:only-of-type {\n",
       "        vertical-align: middle;\n",
       "    }\n",
       "\n",
       "    .dataframe tbody tr th {\n",
       "        vertical-align: top;\n",
       "    }\n",
       "\n",
       "    .dataframe thead th {\n",
       "        text-align: right;\n",
       "    }\n",
       "</style>\n",
       "<table border=\"1\" class=\"dataframe\">\n",
       "  <thead>\n",
       "    <tr style=\"text-align: right;\">\n",
       "      <th></th>\n",
       "      <th>Year</th>\n",
       "      <th>WMGHG</th>\n",
       "      <th>Ozone</th>\n",
       "      <th>Solar</th>\n",
       "      <th>Land_Use</th>\n",
       "      <th>SnowAlb_BC</th>\n",
       "      <th>Orbital</th>\n",
       "      <th>TropAerDir</th>\n",
       "      <th>TropAerInd</th>\n",
       "      <th>StratAer</th>\n",
       "      <th>Anomaly</th>\n",
       "    </tr>\n",
       "  </thead>\n",
       "  <tbody>\n",
       "    <tr>\n",
       "      <th>158</th>\n",
       "      <td>2008</td>\n",
       "      <td>3.36688</td>\n",
       "      <td>0.451834</td>\n",
       "      <td>-0.009377</td>\n",
       "      <td>-0.205278</td>\n",
       "      <td>0.053937</td>\n",
       "      <td>0.002234</td>\n",
       "      <td>-0.189395</td>\n",
       "      <td>-0.697385</td>\n",
       "      <td>0.059742</td>\n",
       "      <td>0.55</td>\n",
       "    </tr>\n",
       "    <tr>\n",
       "      <th>159</th>\n",
       "      <td>2009</td>\n",
       "      <td>3.40963</td>\n",
       "      <td>0.451834</td>\n",
       "      <td>-0.006203</td>\n",
       "      <td>-0.205278</td>\n",
       "      <td>0.053937</td>\n",
       "      <td>0.002241</td>\n",
       "      <td>-0.189395</td>\n",
       "      <td>-0.697385</td>\n",
       "      <td>0.040626</td>\n",
       "      <td>0.66</td>\n",
       "    </tr>\n",
       "    <tr>\n",
       "      <th>160</th>\n",
       "      <td>2010</td>\n",
       "      <td>3.45082</td>\n",
       "      <td>0.451834</td>\n",
       "      <td>0.020822</td>\n",
       "      <td>-0.205278</td>\n",
       "      <td>0.053937</td>\n",
       "      <td>0.002254</td>\n",
       "      <td>-0.189395</td>\n",
       "      <td>-0.697385</td>\n",
       "      <td>0.081508</td>\n",
       "      <td>0.73</td>\n",
       "    </tr>\n",
       "    <tr>\n",
       "      <th>161</th>\n",
       "      <td>2011</td>\n",
       "      <td>3.49278</td>\n",
       "      <td>0.451834</td>\n",
       "      <td>0.058369</td>\n",
       "      <td>-0.205278</td>\n",
       "      <td>0.053937</td>\n",
       "      <td>0.002261</td>\n",
       "      <td>-0.189395</td>\n",
       "      <td>-0.697385</td>\n",
       "      <td>0.088224</td>\n",
       "      <td>0.62</td>\n",
       "    </tr>\n",
       "    <tr>\n",
       "      <th>162</th>\n",
       "      <td>2012</td>\n",
       "      <td>3.53407</td>\n",
       "      <td>0.451834</td>\n",
       "      <td>0.095752</td>\n",
       "      <td>-0.205278</td>\n",
       "      <td>0.053937</td>\n",
       "      <td>0.002277</td>\n",
       "      <td>-0.189395</td>\n",
       "      <td>-0.697385</td>\n",
       "      <td>0.088224</td>\n",
       "      <td>0.66</td>\n",
       "    </tr>\n",
       "  </tbody>\n",
       "</table>\n",
       "</div>"
      ],
      "text/plain": [
       "     Year    WMGHG     Ozone     Solar  Land_Use  SnowAlb_BC   Orbital  \\\n",
       "158  2008  3.36688  0.451834 -0.009377 -0.205278    0.053937  0.002234   \n",
       "159  2009  3.40963  0.451834 -0.006203 -0.205278    0.053937  0.002241   \n",
       "160  2010  3.45082  0.451834  0.020822 -0.205278    0.053937  0.002254   \n",
       "161  2011  3.49278  0.451834  0.058369 -0.205278    0.053937  0.002261   \n",
       "162  2012  3.53407  0.451834  0.095752 -0.205278    0.053937  0.002277   \n",
       "\n",
       "     TropAerDir  TropAerInd  StratAer  Anomaly  \n",
       "158   -0.189395   -0.697385  0.059742     0.55  \n",
       "159   -0.189395   -0.697385  0.040626     0.66  \n",
       "160   -0.189395   -0.697385  0.081508     0.73  \n",
       "161   -0.189395   -0.697385  0.088224     0.62  \n",
       "162   -0.189395   -0.697385  0.088224     0.66  "
      ]
     },
     "execution_count": 8,
     "metadata": {},
     "output_type": "execute_result"
    }
   ],
   "source": [
    "dataset.tail()"
   ]
  },
  {
   "cell_type": "code",
   "execution_count": 9,
   "id": "56a641112e56865f",
   "metadata": {
    "ExecuteTime": {
     "end_time": "2023-10-03T15:08:39.523158Z",
     "start_time": "2023-10-03T15:08:39.109938400Z"
    },
    "collapsed": false
   },
   "outputs": [],
   "source": [
    "time_col = dataset.columns[0]\n",
    "target_col = dataset.columns[-1]\n",
    "dataset[time_col] = dataset[time_col].astype(str)"
   ]
  },
  {
   "cell_type": "markdown",
   "id": "92d1f999-8159-4f3e-9cd6-9b00bff324f9",
   "metadata": {},
   "source": [
    "Change 'target' to float"
   ]
  },
  {
   "cell_type": "code",
   "execution_count": 10,
   "id": "dba6f91b-6139-4664-87b1-7859b3b305a6",
   "metadata": {
    "ExecuteTime": {
     "end_time": "2023-10-03T15:08:39.523158Z",
     "start_time": "2023-10-03T15:08:39.130043Z"
    }
   },
   "outputs": [],
   "source": [
    "# dataset[target_col] = dataset[target_col].astype(float)"
   ]
  },
  {
   "cell_type": "code",
   "execution_count": 11,
   "id": "7a2c4026-c7f0-4ba9-8481-adf16e88d9f2",
   "metadata": {
    "ExecuteTime": {
     "end_time": "2023-10-03T15:08:39.523678200Z",
     "start_time": "2023-10-03T15:08:39.141561400Z"
    }
   },
   "outputs": [],
   "source": [
    "# dataset.head()"
   ]
  },
  {
   "cell_type": "code",
   "execution_count": 12,
   "id": "b24bd854a5160fc",
   "metadata": {
    "ExecuteTime": {
     "end_time": "2023-10-03T15:08:39.523678200Z",
     "start_time": "2023-10-03T15:08:39.159853400Z"
    },
    "collapsed": false
   },
   "outputs": [],
   "source": [
    "training_points = int(0.8*len(dataset))\n",
    "train_df = dataset.iloc[:training_points]\n",
    "test_df = dataset.iloc[training_points:]"
   ]
  },
  {
   "cell_type": "markdown",
   "id": "e56d7165-c252-4ea5-9981-7a22df96122e",
   "metadata": {},
   "source": [
    "Plot graph"
   ]
  },
  {
   "cell_type": "code",
   "execution_count": 13,
   "id": "30aac931-4d19-450a-ad79-fbaac30aa705",
   "metadata": {
    "ExecuteTime": {
     "end_time": "2023-10-03T15:08:39.620002Z",
     "start_time": "2023-10-03T15:08:39.173055500Z"
    }
   },
   "outputs": [
    {
     "data": {
      "image/png": "[encoded data removed]",
      "text/plain": [
       "<Figure size 1600x800 with 1 Axes>"
      ]
     },
     "metadata": {},
     "output_type": "display_data"
    }
   ],
   "source": [
    "figsize = (16, 8)\n",
    "train_df.set_index(time_col)[target_col].plot(figsize=figsize);"
   ]
  },
  {
   "cell_type": "markdown",
   "id": "7c3bd0f2-f6f4-49fd-b38a-9edd670a6fef",
   "metadata": {},
   "source": [
    "### **Train API**"
   ]
  },
  {
   "cell_type": "markdown",
   "id": "34362404-30a1-469f-914c-2baf85cc3be1",
   "metadata": {},
   "source": [
    "Train data: convert df to list-of-list"
   ]
  },
  {
   "cell_type": "code",
   "execution_count": 14,
   "id": "431b90c2-d4a8-4acd-969c-a357eea54db7",
   "metadata": {
    "ExecuteTime": {
     "end_time": "2023-10-03T15:08:39.620002Z",
     "start_time": "2023-10-03T15:08:39.362854100Z"
    }
   },
   "outputs": [],
   "source": [
    "train_data = []\n",
    "for value in train_df.values:\n",
    "    train_data.append(list(value))"
   ]
  },
  {
   "cell_type": "code",
   "execution_count": 15,
   "id": "5c04373b-1857-42b2-8e5c-0e7a51cddf75",
   "metadata": {
    "ExecuteTime": {
     "end_time": "2023-10-03T15:08:39.620002Z",
     "start_time": "2023-10-03T15:08:39.380065200Z"
    }
   },
   "outputs": [
    {
     "data": {
      "text/plain": [
       "[['1850', 0.0, 0.0, 0.0, 0.0, 0.0, 0.0, 0.0, 0.0, 0.0, -0.17],\n",
       " ['1851',\n",
       "  0.00595381,\n",
       "  0.0007451,\n",
       "  0.00116604,\n",
       "  -0.0009399,\n",
       "  0.00064918,\n",
       "  0.00065287,\n",
       "  0.00064918,\n",
       "  -4.97297e-06,\n",
       "  0.0290878,\n",
       "  -0.09]]"
      ]
     },
     "execution_count": 15,
     "metadata": {},
     "output_type": "execute_result"
    }
   ],
   "source": [
    "train_data[:2]"
   ]
  },
  {
   "cell_type": "markdown",
   "id": "622db7d3-3432-44b3-90ae-f08f34ca904e",
   "metadata": {},
   "source": [
    "Custom Model Request (optional)"
   ]
  },
  {
   "cell_type": "code",
   "execution_count": 16,
   "id": "e0faaf9c-4330-4cfe-9c12-ac230a638a2a",
   "metadata": {
    "ExecuteTime": {
     "end_time": "2023-10-03T15:08:39.620002Z",
     "start_time": "2023-10-03T15:08:39.394609700Z"
    }
   },
   "outputs": [],
   "source": [
    "custom_model_request_dict = {\n",
    "    'type': 'meta_wa',\n",
    "    'score': ['smape', 'mape'],\n",
    "    'param': {\n",
    "        'base_models': [\n",
    "            {'type': 'darts_autoarima'},\n",
    "            {'type': 'darts_autotheta'},\n",
    "            {'type': 'darts_autoets'},\n",
    "            {'type': 'stats_autotheta'},\n",
    "        ]\n",
    "    }\n",
    "}"
   ]
  },
  {
   "cell_type": "code",
   "execution_count": 17,
   "id": "a040d34f-32cc-43bb-8c14-610d40dd1220",
   "metadata": {
    "ExecuteTime": {
     "end_time": "2023-10-03T15:08:39.620002Z",
     "start_time": "2023-10-03T15:08:39.410075400Z"
    }
   },
   "outputs": [],
   "source": [
    "custom_model_request = json.dumps(custom_model_request_dict)"
   ]
  },
  {
   "cell_type": "markdown",
   "id": "5791ee3c-4e12-4240-996a-68ef15dd86f9",
   "metadata": {},
   "source": [
    "Train API JSON Payload"
   ]
  },
  {
   "cell_type": "code",
   "execution_count": 18,
   "id": "01012159-6fc7-43ee-ae3b-6eb5307e9e04",
   "metadata": {
    "ExecuteTime": {
     "end_time": "2023-10-03T15:08:39.620002Z",
     "start_time": "2023-10-03T15:08:39.429921800Z"
    }
   },
   "outputs": [],
   "source": [
    "api_json = {\n",
    "    'data': train_data,\n",
    "    # 'model': custom_model_request,  # TODO: custom_model_request_dict returns empty JSON output\n",
    "}"
   ]
  },
  {
   "cell_type": "markdown",
   "id": "754a97b7-b291-4263-a071-23d27f566417",
   "metadata": {},
   "source": [
    "Build URL"
   ]
  },
  {
   "cell_type": "code",
   "execution_count": 19,
   "id": "af5f0801-cf06-491f-819e-dba5ccdf0e97",
   "metadata": {
    "ExecuteTime": {
     "end_time": "2023-10-03T15:08:39.620002Z",
     "start_time": "2023-10-03T15:08:39.442046600Z"
    }
   },
   "outputs": [],
   "source": [
    "with open('url.yaml', 'r') as file:\n",
    "    url_dict = yaml.safe_load(file)"
   ]
  },
  {
   "cell_type": "code",
   "execution_count": 20,
   "id": "3b4738ba-1d32-4d6c-a2dd-5ac07ad055f6",
   "metadata": {
    "ExecuteTime": {
     "end_time": "2023-10-03T15:08:39.620002Z",
     "start_time": "2023-10-03T15:08:39.459562600Z"
    }
   },
   "outputs": [],
   "source": [
    "# URL to our SYBIL AWS service\n",
    "protocol = url_dict[\"protocol\"]\n",
    "host = url_dict[\"host\"]\n",
    "port = url_dict[\"port\"]\n",
    "endpoint = \"train\"\n",
    "\n",
    "url = \"%s://%s:%s/%s\" % (protocol, host, str(port), endpoint)"
   ]
  },
  {
   "cell_type": "code",
   "execution_count": 21,
   "id": "ff7248e4",
   "metadata": {
    "ExecuteTime": {
     "end_time": "2023-10-03T15:08:39.620002Z",
     "start_time": "2023-10-03T15:08:39.474040900Z"
    }
   },
   "outputs": [
    {
     "data": {
      "text/plain": [
       "('http', 'localhost', 80)"
      ]
     },
     "execution_count": 21,
     "metadata": {},
     "output_type": "execute_result"
    }
   ],
   "source": [
    "protocol, host, port"
   ]
  },
  {
   "cell_type": "markdown",
   "id": "29d6d0a2-a726-4ae9-b6ef-ae91a6bb89e5",
   "metadata": {},
   "source": [
    "Call endpoint, receive response JSON, write to output file"
   ]
  },
  {
   "cell_type": "code",
   "execution_count": 22,
   "id": "bda53dfa-829f-4458-aff9-c1d24bdb6258",
   "metadata": {
    "ExecuteTime": {
     "end_time": "2023-10-03T15:08:46.321152800Z",
     "start_time": "2023-10-03T15:08:39.490712100Z"
    }
   },
   "outputs": [
    {
     "name": "stdout",
     "output_type": "stream",
     "text": [
      "CPU times: user 5.04 ms, sys: 687 µs, total: 5.73 ms\n",
      "Wall time: 5.03 ms\n"
     ]
    }
   ],
   "source": [
    "%%time\n",
    "# TODO: gain a accredited cert and remove verify=False\n",
    "response = requests.post(url, json=api_json, verify=False)"
   ]
  },
  {
   "cell_type": "code",
   "execution_count": 23,
   "id": "a9b0c75a-25ab-47c5-a1db-e7296a3f3a20",
   "metadata": {
    "ExecuteTime": {
     "end_time": "2023-10-03T15:08:46.365668800Z",
     "start_time": "2023-10-03T15:08:46.321655500Z"
    }
   },
   "outputs": [
    {
     "ename": "JSONDecodeError",
     "evalue": "Expecting value: line 1 column 1 (char 0)",
     "output_type": "error",
     "traceback": [
      "\u001b[0;31m---------------------------------------------------------------------------\u001b[0m",
      "\u001b[0;31mJSONDecodeError\u001b[0m                           Traceback (most recent call last)",
      "File \u001b[0;32m~/anaconda3/envs/test/lib/python3.9/site-packages/requests/models.py:971\u001b[0m, in \u001b[0;36mResponse.json\u001b[0;34m(self, **kwargs)\u001b[0m\n\u001b[1;32m    970\u001b[0m \u001b[39mtry\u001b[39;00m:\n\u001b[0;32m--> 971\u001b[0m     \u001b[39mreturn\u001b[39;00m complexjson\u001b[39m.\u001b[39;49mloads(\u001b[39mself\u001b[39;49m\u001b[39m.\u001b[39;49mtext, \u001b[39m*\u001b[39;49m\u001b[39m*\u001b[39;49mkwargs)\n\u001b[1;32m    972\u001b[0m \u001b[39mexcept\u001b[39;00m JSONDecodeError \u001b[39mas\u001b[39;00m e:\n\u001b[1;32m    973\u001b[0m     \u001b[39m# Catch JSON-related errors and raise as requests.JSONDecodeError\u001b[39;00m\n\u001b[1;32m    974\u001b[0m     \u001b[39m# This aliases json.JSONDecodeError and simplejson.JSONDecodeError\u001b[39;00m\n",
      "File \u001b[0;32m~/anaconda3/envs/test/lib/python3.9/json/__init__.py:346\u001b[0m, in \u001b[0;36mloads\u001b[0;34m(s, cls, object_hook, parse_float, parse_int, parse_constant, object_pairs_hook, **kw)\u001b[0m\n\u001b[1;32m    343\u001b[0m \u001b[39mif\u001b[39;00m (\u001b[39mcls\u001b[39m \u001b[39mis\u001b[39;00m \u001b[39mNone\u001b[39;00m \u001b[39mand\u001b[39;00m object_hook \u001b[39mis\u001b[39;00m \u001b[39mNone\u001b[39;00m \u001b[39mand\u001b[39;00m\n\u001b[1;32m    344\u001b[0m         parse_int \u001b[39mis\u001b[39;00m \u001b[39mNone\u001b[39;00m \u001b[39mand\u001b[39;00m parse_float \u001b[39mis\u001b[39;00m \u001b[39mNone\u001b[39;00m \u001b[39mand\u001b[39;00m\n\u001b[1;32m    345\u001b[0m         parse_constant \u001b[39mis\u001b[39;00m \u001b[39mNone\u001b[39;00m \u001b[39mand\u001b[39;00m object_pairs_hook \u001b[39mis\u001b[39;00m \u001b[39mNone\u001b[39;00m \u001b[39mand\u001b[39;00m \u001b[39mnot\u001b[39;00m kw):\n\u001b[0;32m--> 346\u001b[0m     \u001b[39mreturn\u001b[39;00m _default_decoder\u001b[39m.\u001b[39;49mdecode(s)\n\u001b[1;32m    347\u001b[0m \u001b[39mif\u001b[39;00m \u001b[39mcls\u001b[39m \u001b[39mis\u001b[39;00m \u001b[39mNone\u001b[39;00m:\n",
      "File \u001b[0;32m~/anaconda3/envs/test/lib/python3.9/json/decoder.py:337\u001b[0m, in \u001b[0;36mJSONDecoder.decode\u001b[0;34m(self, s, _w)\u001b[0m\n\u001b[1;32m    333\u001b[0m \u001b[39m\"\"\"Return the Python representation of ``s`` (a ``str`` instance\u001b[39;00m\n\u001b[1;32m    334\u001b[0m \u001b[39mcontaining a JSON document).\u001b[39;00m\n\u001b[1;32m    335\u001b[0m \n\u001b[1;32m    336\u001b[0m \u001b[39m\"\"\"\u001b[39;00m\n\u001b[0;32m--> 337\u001b[0m obj, end \u001b[39m=\u001b[39m \u001b[39mself\u001b[39;49m\u001b[39m.\u001b[39;49mraw_decode(s, idx\u001b[39m=\u001b[39;49m_w(s, \u001b[39m0\u001b[39;49m)\u001b[39m.\u001b[39;49mend())\n\u001b[1;32m    338\u001b[0m end \u001b[39m=\u001b[39m _w(s, end)\u001b[39m.\u001b[39mend()\n",
      "File \u001b[0;32m~/anaconda3/envs/test/lib/python3.9/json/decoder.py:355\u001b[0m, in \u001b[0;36mJSONDecoder.raw_decode\u001b[0;34m(self, s, idx)\u001b[0m\n\u001b[1;32m    354\u001b[0m \u001b[39mexcept\u001b[39;00m \u001b[39mStopIteration\u001b[39;00m \u001b[39mas\u001b[39;00m err:\n\u001b[0;32m--> 355\u001b[0m     \u001b[39mraise\u001b[39;00m JSONDecodeError(\u001b[39m\"\u001b[39m\u001b[39mExpecting value\u001b[39m\u001b[39m\"\u001b[39m, s, err\u001b[39m.\u001b[39mvalue) \u001b[39mfrom\u001b[39;00m \u001b[39mNone\u001b[39m\n\u001b[1;32m    356\u001b[0m \u001b[39mreturn\u001b[39;00m obj, end\n",
      "\u001b[0;31mJSONDecodeError\u001b[0m: Expecting value: line 1 column 1 (char 0)",
      "\nDuring handling of the above exception, another exception occurred:\n",
      "\u001b[0;31mJSONDecodeError\u001b[0m                           Traceback (most recent call last)",
      "\u001b[1;32m/home/kevin/workspace/temporai/sybil/examples/api_call_example_exovar.ipynb Cell 35\u001b[0m line \u001b[0;36m1\n\u001b[0;32m----> <a href='vscode-notebook-cell:/home/kevin/workspace/temporai/sybil/examples/api_call_example_exovar.ipynb#X46sZmlsZQ%3D%3D?line=0'>1</a>\u001b[0m train_json_out \u001b[39m=\u001b[39m response\u001b[39m.\u001b[39;49mjson()\n",
      "File \u001b[0;32m~/anaconda3/envs/test/lib/python3.9/site-packages/requests/models.py:975\u001b[0m, in \u001b[0;36mResponse.json\u001b[0;34m(self, **kwargs)\u001b[0m\n\u001b[1;32m    971\u001b[0m     \u001b[39mreturn\u001b[39;00m complexjson\u001b[39m.\u001b[39mloads(\u001b[39mself\u001b[39m\u001b[39m.\u001b[39mtext, \u001b[39m*\u001b[39m\u001b[39m*\u001b[39mkwargs)\n\u001b[1;32m    972\u001b[0m \u001b[39mexcept\u001b[39;00m JSONDecodeError \u001b[39mas\u001b[39;00m e:\n\u001b[1;32m    973\u001b[0m     \u001b[39m# Catch JSON-related errors and raise as requests.JSONDecodeError\u001b[39;00m\n\u001b[1;32m    974\u001b[0m     \u001b[39m# This aliases json.JSONDecodeError and simplejson.JSONDecodeError\u001b[39;00m\n\u001b[0;32m--> 975\u001b[0m     \u001b[39mraise\u001b[39;00m RequestsJSONDecodeError(e\u001b[39m.\u001b[39mmsg, e\u001b[39m.\u001b[39mdoc, e\u001b[39m.\u001b[39mpos)\n",
      "\u001b[0;31mJSONDecodeError\u001b[0m: Expecting value: line 1 column 1 (char 0)"
     ]
    }
   ],
   "source": [
    "train_json_out = response.json()  # dict output\n",
    "# train_json_out = json.dumps(response.json())  # str output\n",
    "# train_json_out = json.dumps(response.json(), indent=4)  # str output w tabs"
   ]
  },
  {
   "cell_type": "code",
   "execution_count": null,
   "id": "8f6ecd72-e91e-4c3b-b8cd-b26e75ed2386",
   "metadata": {
    "ExecuteTime": {
     "end_time": "2023-10-03T15:08:46.369673400Z",
     "start_time": "2023-10-03T15:08:46.339558200Z"
    }
   },
   "outputs": [],
   "source": [
    "train_json_out"
   ]
  },
  {
   "cell_type": "markdown",
   "id": "a5f8d92a-2ec6-438b-a756-bd956030bb2a",
   "metadata": {},
   "source": [
    "### **Forecast API**"
   ]
  },
  {
   "cell_type": "markdown",
   "id": "2a2598a4-6c6a-40dc-bc45-82fa0cc662eb",
   "metadata": {},
   "source": [
    "Forecast Dates: predict the next 2 years of air passenger data (1961-1962)"
   ]
  },
  {
   "cell_type": "code",
   "execution_count": null,
   "id": "138b6ede-3d9b-4d80-8d26-c3cabd21be66",
   "metadata": {
    "ExecuteTime": {
     "end_time": "2023-10-03T15:08:46.369673400Z",
     "start_time": "2023-10-03T15:08:46.349915400Z"
    }
   },
   "outputs": [],
   "source": [
    "test_data = []\n",
    "for value in test_df.drop(columns=target_col).values:\n",
    "    test_data.append(list(value))"
   ]
  },
  {
   "cell_type": "code",
   "execution_count": null,
   "id": "5efc487a849d2aee",
   "metadata": {
    "ExecuteTime": {
     "end_time": "2023-10-03T15:08:46.382268Z",
     "start_time": "2023-10-03T15:08:46.365668800Z"
    },
    "collapsed": false
   },
   "outputs": [],
   "source": [
    "test_data[:2]"
   ]
  },
  {
   "cell_type": "markdown",
   "id": "9c54f592-5262-46ec-b651-555edd2edb49",
   "metadata": {},
   "source": [
    "Model from Train API"
   ]
  },
  {
   "cell_type": "code",
   "execution_count": null,
   "id": "44037535-5b07-40e2-b6a7-3e301d19deda",
   "metadata": {
    "ExecuteTime": {
     "end_time": "2023-10-03T15:08:46.445112900Z",
     "start_time": "2023-10-03T15:08:46.382268Z"
    }
   },
   "outputs": [],
   "source": [
    "model = train_json_out[\"model\"]"
   ]
  },
  {
   "cell_type": "markdown",
   "id": "ab30f283-f727-4d4e-8a92-791318ede6b4",
   "metadata": {},
   "source": [
    "Forecast API JSON Payload"
   ]
  },
  {
   "cell_type": "code",
   "execution_count": null,
   "id": "1fc68132-9353-4951-bed3-6b916eb52e44",
   "metadata": {
    "ExecuteTime": {
     "end_time": "2023-10-03T15:08:46.507109600Z",
     "start_time": "2023-10-03T15:08:46.399876600Z"
    }
   },
   "outputs": [],
   "source": [
    "api_json = {\n",
    "    'model': model,\n",
    "    'predicts': test_data\n",
    "}"
   ]
  },
  {
   "cell_type": "markdown",
   "id": "72336096-face-429d-99e7-70e55f79449f",
   "metadata": {},
   "source": [
    "Build URL (same as train except for the endpoint)"
   ]
  },
  {
   "cell_type": "code",
   "execution_count": null,
   "id": "98888d03-d90d-4694-a648-7ec375dd2c75",
   "metadata": {
    "ExecuteTime": {
     "end_time": "2023-10-03T15:08:46.538454900Z",
     "start_time": "2023-10-03T15:08:46.414171Z"
    }
   },
   "outputs": [],
   "source": [
    "endpoint = \"forecast\"\n",
    "\n",
    "url = \"%s://%s:%s/%s\" % (protocol, host, str(port), endpoint)"
   ]
  },
  {
   "cell_type": "markdown",
   "id": "8bfd1167-c0ef-4404-a9d4-441dbcdb9864",
   "metadata": {},
   "source": [
    "Call endpoint, receive response JSON, write to output file"
   ]
  },
  {
   "cell_type": "code",
   "execution_count": null,
   "id": "443ff168-22e0-42c4-8e93-742a3293cc81",
   "metadata": {
    "ExecuteTime": {
     "end_time": "2023-10-03T15:08:46.634937Z",
     "start_time": "2023-10-03T15:08:46.429594Z"
    }
   },
   "outputs": [],
   "source": [
    "%%time\n",
    "# TODO: gain a accredited cert and remove verify=False\n",
    "response = requests.post(url, json=api_json, verify=False)"
   ]
  },
  {
   "cell_type": "code",
   "execution_count": null,
   "id": "a8968a73-f03c-4e0c-bf6c-d1e67f3bb7b8",
   "metadata": {
    "ExecuteTime": {
     "end_time": "2023-10-03T15:08:46.666642900Z",
     "start_time": "2023-10-03T15:08:46.497796700Z"
    }
   },
   "outputs": [],
   "source": [
    "forecast_json_out = response.json()  # dict output\n",
    "# forecast_json_out = json.dumps(response.json())  # str output\n",
    "# forecast_json_out = json.dumps(response.json(), indent=4)  # str output w tabs"
   ]
  },
  {
   "cell_type": "code",
   "execution_count": null,
   "id": "cf135123-5f75-4d74-9188-70e617f87b3b",
   "metadata": {
    "ExecuteTime": {
     "end_time": "2023-10-03T15:08:46.714370400Z",
     "start_time": "2023-10-03T15:08:46.509616700Z"
    }
   },
   "outputs": [],
   "source": [
    "forecast_json_out"
   ]
  },
  {
   "cell_type": "markdown",
   "id": "9d42cf65-1bd5-4ef3-a48d-52d44b702040",
   "metadata": {},
   "source": [
    "Combine forecast dates and output"
   ]
  },
  {
   "cell_type": "code",
   "execution_count": null,
   "id": "e819b0a7-4c42-4fb3-8785-057f9898f927",
   "metadata": {
    "ExecuteTime": {
     "end_time": "2023-10-03T15:08:46.719923400Z",
     "start_time": "2023-10-03T15:08:46.529860900Z"
    }
   },
   "outputs": [],
   "source": [
    "forecast_df = pd.DataFrame(forecast_json_out[\"data\"], columns = [time_col, target_col])"
   ]
  },
  {
   "cell_type": "code",
   "execution_count": null,
   "id": "0a7c0974-5279-4186-8f37-3ae2a24c5837",
   "metadata": {
    "ExecuteTime": {
     "end_time": "2023-10-03T15:08:46.719923400Z",
     "start_time": "2023-10-03T15:08:46.539960100Z"
    }
   },
   "outputs": [],
   "source": [
    "forecast_df.shape"
   ]
  },
  {
   "cell_type": "code",
   "execution_count": null,
   "id": "f2a9507d-3127-4bec-930e-5ccd2248802e",
   "metadata": {
    "ExecuteTime": {
     "end_time": "2023-10-03T15:08:46.719923400Z",
     "start_time": "2023-10-03T15:08:46.559609400Z"
    }
   },
   "outputs": [],
   "source": [
    "forecast_df.columns"
   ]
  },
  {
   "cell_type": "code",
   "execution_count": null,
   "id": "de1a02db-f5a5-497e-aee3-08f962c664f5",
   "metadata": {
    "ExecuteTime": {
     "end_time": "2023-10-03T15:08:46.719923400Z",
     "start_time": "2023-10-03T15:08:46.570119200Z"
    }
   },
   "outputs": [],
   "source": [
    "forecast_df.head()"
   ]
  },
  {
   "cell_type": "code",
   "execution_count": null,
   "id": "508358d2-8319-49bc-bd94-c5da97b0b7a4",
   "metadata": {
    "ExecuteTime": {
     "end_time": "2023-10-03T15:08:46.719923400Z",
     "start_time": "2023-10-03T15:08:46.589849400Z"
    }
   },
   "outputs": [],
   "source": [
    "forecast_df.tail()"
   ]
  },
  {
   "cell_type": "markdown",
   "id": "a86a090e-de22-4045-a055-45198f240e60",
   "metadata": {},
   "source": [
    "Plot train and forecast side-by-side"
   ]
  },
  {
   "cell_type": "code",
   "execution_count": null,
   "id": "8bc95c77-c93a-422b-a7da-551c67f0418e",
   "metadata": {
    "ExecuteTime": {
     "end_time": "2023-10-03T15:08:46.999969700Z",
     "start_time": "2023-10-03T15:08:46.619981900Z"
    }
   },
   "outputs": [],
   "source": [
    "train_df[\"color\"] = \"b\"\n",
    "train_df.set_index(time_col)[target_col].plot(figsize=figsize, color=train_df[\"color\"]);"
   ]
  },
  {
   "cell_type": "code",
   "execution_count": null,
   "id": "386d8c56-bf2a-4975-821e-ca4351146041",
   "metadata": {
    "ExecuteTime": {
     "end_time": "2023-10-03T15:08:47.329705600Z",
     "start_time": "2023-10-03T15:08:46.830068600Z"
    }
   },
   "outputs": [],
   "source": [
    "forecast_df[\"color\"] = \"r\"\n",
    "forecast_df.set_index(time_col).plot(figsize=figsize, color=forecast_df[\"color\"]);"
   ]
  },
  {
   "cell_type": "markdown",
   "id": "5d09e17b-d4b1-4589-8756-d0b4e23cc532",
   "metadata": {},
   "source": [
    "Combine train and test sets"
   ]
  },
  {
   "cell_type": "code",
   "execution_count": null,
   "id": "2372cd4f-9014-4c4f-ba2f-58718094cf09",
   "metadata": {
    "ExecuteTime": {
     "end_time": "2023-10-03T15:08:47.361653500Z",
     "start_time": "2023-10-03T15:08:47.049604400Z"
    }
   },
   "outputs": [],
   "source": [
    "df = pd.concat([train_df, forecast_df]).reset_index(drop=True)"
   ]
  },
  {
   "cell_type": "code",
   "execution_count": null,
   "id": "46736586-4f20-4f55-a758-148e3338a202",
   "metadata": {
    "ExecuteTime": {
     "end_time": "2023-10-03T15:08:47.361653500Z",
     "start_time": "2023-10-03T15:08:47.059707100Z"
    }
   },
   "outputs": [],
   "source": [
    "df.shape"
   ]
  },
  {
   "cell_type": "code",
   "execution_count": null,
   "id": "b7f69447-161c-4a8a-95b7-64e4f230a524",
   "metadata": {
    "ExecuteTime": {
     "end_time": "2023-10-03T15:08:47.361653500Z",
     "start_time": "2023-10-03T15:08:47.075936300Z"
    }
   },
   "outputs": [],
   "source": [
    "df.head()"
   ]
  },
  {
   "cell_type": "code",
   "execution_count": null,
   "id": "26c6a481-6000-4912-9fb8-875ab6ab44cc",
   "metadata": {
    "ExecuteTime": {
     "end_time": "2023-10-03T15:08:47.361653500Z",
     "start_time": "2023-10-03T15:08:47.090952700Z"
    }
   },
   "outputs": [],
   "source": [
    "df.tail()"
   ]
  },
  {
   "cell_type": "markdown",
   "id": "50aa95fa-1317-4c96-af94-a3ded106e5cb",
   "metadata": {},
   "source": [
    "Plot combined train and test sets with the vertical black line as the cut-off"
   ]
  },
  {
   "cell_type": "code",
   "execution_count": null,
   "id": "91386104-8366-42f8-9cd7-f524a108c5bb",
   "metadata": {
    "ExecuteTime": {
     "end_time": "2023-10-03T15:08:47.361653500Z",
     "start_time": "2023-10-03T15:08:47.109989400Z"
    }
   },
   "outputs": [],
   "source": [
    "df.set_index(time_col)[target_col].plot(figsize=figsize, color=df[\"color\"])\n",
    "plt.axvline(x=len(train_df), color='black', label ='Train/Test set cut-off')\n",
    "plt.show();"
   ]
  }
 ],
 "metadata": {
  "kernelspec": {
   "display_name": "test",
   "language": "python",
   "name": "python3"
  },
  "language_info": {
   "codemirror_mode": {
    "name": "ipython",
    "version": 3
   },
   "file_extension": ".py",
   "mimetype": "text/x-python",
   "name": "python",
   "nbconvert_exporter": "python",
   "pygments_lexer": "ipython3",
   "version": "3.9.16"
  }
 },
 "nbformat": 4,
 "nbformat_minor": 5
}
