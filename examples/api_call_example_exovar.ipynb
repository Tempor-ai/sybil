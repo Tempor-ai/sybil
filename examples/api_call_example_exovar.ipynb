{
 "cells": [
  {
   "cell_type": "markdown",
   "id": "48e57c5e-f2f9-448c-8901-e27610b878d5",
   "metadata": {},
   "source": [
    "Check Python version"
   ]
  },
  {
   "cell_type": "code",
   "execution_count": null,
   "id": "c00c0a6f-c24c-4255-a430-6f89264a5a41",
   "metadata": {
    "ExecuteTime": {
     "end_time": "2023-10-03T23:52:39.588502200Z",
     "start_time": "2023-10-03T23:52:39.092941100Z"
    }
   },
   "outputs": [],
   "source": [
    "!python --version"
   ]
  },
  {
   "cell_type": "markdown",
   "id": "6173c739-e07c-46f5-9841-a6c7d7f1b4ff",
   "metadata": {},
   "source": [
    "Import libraries"
   ]
  },
  {
   "cell_type": "code",
   "execution_count": null,
   "id": "4c7954a0-e6b4-4fa1-962b-83141e8b19cc",
   "metadata": {
    "ExecuteTime": {
     "end_time": "2023-10-03T23:52:39.619119500Z",
     "start_time": "2023-10-03T23:52:39.181013400Z"
    }
   },
   "outputs": [],
   "source": [
    "import json\n",
    "import yaml\n",
    "import requests\n",
    "import pandas as pd\n",
    "import matplotlib.pyplot as plt\n",
    "import seaborn as sns\n",
    "sns.set()"
   ]
  },
  {
   "cell_type": "markdown",
   "id": "4b126246-b152-4de2-a39d-21feb5d6f6d2",
   "metadata": {},
   "source": [
    "### **Extract Data**"
   ]
  },
  {
   "cell_type": "code",
   "execution_count": null,
   "id": "a1f7662e-1117-4a4b-9118-09faa296ccf9",
   "metadata": {
    "ExecuteTime": {
     "end_time": "2023-10-03T23:52:39.638362800Z",
     "start_time": "2023-10-03T23:52:39.192509900Z"
    }
   },
   "outputs": [],
   "source": [
    "# Local directory\n",
    "data_dir = '../datasets/climate'\n",
    "file_name = 'temp_anom_w_forcing'\n",
    "#data_dir = '../datasets/finance'\n",
    "#file_name = 'Returns_short_interest_data_train'\n",
    "file_path = f'{data_dir}/{file_name}.csv'"
   ]
  },
  {
   "cell_type": "code",
   "execution_count": null,
   "id": "437651ae-7fe0-4adb-b614-607e663b735c",
   "metadata": {
    "ExecuteTime": {
     "end_time": "2023-10-03T23:52:39.718010600Z",
     "start_time": "2023-10-03T23:52:39.208312700Z"
    }
   },
   "outputs": [],
   "source": [
    "dataset = pd.read_csv(file_path)"
   ]
  },
  {
   "cell_type": "code",
   "execution_count": null,
   "id": "53700774-809a-4cd9-a385-e155c2d99236",
   "metadata": {
    "ExecuteTime": {
     "end_time": "2023-10-03T23:52:39.768035200Z",
     "start_time": "2023-10-03T23:52:39.238507700Z"
    }
   },
   "outputs": [],
   "source": [
    "dataset.shape"
   ]
  },
  {
   "cell_type": "code",
   "execution_count": null,
   "id": "114fc37e-da5d-4764-bb26-3fab6a761c54",
   "metadata": {
    "ExecuteTime": {
     "end_time": "2023-10-03T23:52:39.778117900Z",
     "start_time": "2023-10-03T23:52:39.254233Z"
    }
   },
   "outputs": [],
   "source": [
    "dataset.columns"
   ]
  },
  {
   "cell_type": "code",
   "execution_count": null,
   "id": "5d0d9da3-5d20-4c88-b821-b8066cfe4399",
   "metadata": {
    "ExecuteTime": {
     "end_time": "2023-10-03T23:52:39.785472800Z",
     "start_time": "2023-10-03T23:52:39.268268300Z"
    }
   },
   "outputs": [],
   "source": [
    "dataset.head()"
   ]
  },
  {
   "cell_type": "code",
   "execution_count": null,
   "id": "0a4ec852-b801-49fd-a130-075895b7db94",
   "metadata": {
    "ExecuteTime": {
     "end_time": "2023-10-03T23:52:39.785472800Z",
     "start_time": "2023-10-03T23:52:39.288008200Z"
    }
   },
   "outputs": [],
   "source": [
    "dataset.tail()"
   ]
  },
  {
   "cell_type": "markdown",
   "id": "328d1088",
   "metadata": {},
   "source": [
    "Define the required time and target columns"
   ]
  },
  {
   "cell_type": "code",
   "execution_count": null,
   "id": "56a641112e56865f",
   "metadata": {
    "ExecuteTime": {
     "end_time": "2023-10-03T23:52:39.785472800Z",
     "start_time": "2023-10-03T23:52:39.299832100Z"
    },
    "collapsed": false,
    "jupyter": {
     "outputs_hidden": false
    }
   },
   "outputs": [],
   "source": [
    "time_col = dataset.columns[0]\n",
    "target_col = dataset.columns[-1]\n",
    "dataset[time_col] = dataset[time_col].astype(str)"
   ]
  },
  {
   "cell_type": "markdown",
   "id": "92d1f999-8159-4f3e-9cd6-9b00bff324f9",
   "metadata": {},
   "source": [
    "Change target column to float"
   ]
  },
  {
   "cell_type": "code",
   "execution_count": null,
   "id": "dba6f91b-6139-4664-87b1-7859b3b305a6",
   "metadata": {
    "ExecuteTime": {
     "end_time": "2023-10-03T23:52:39.785472800Z",
     "start_time": "2023-10-03T23:52:39.320189500Z"
    }
   },
   "outputs": [],
   "source": [
    "# dataset[target_col] = dataset[target_col].astype(float)"
   ]
  },
  {
   "cell_type": "code",
   "execution_count": null,
   "id": "7a2c4026-c7f0-4ba9-8481-adf16e88d9f2",
   "metadata": {
    "ExecuteTime": {
     "end_time": "2023-10-03T23:52:39.785472800Z",
     "start_time": "2023-10-03T23:52:39.333267Z"
    }
   },
   "outputs": [],
   "source": [
    "# dataset.head()"
   ]
  },
  {
   "cell_type": "markdown",
   "id": "dd98f585",
   "metadata": {},
   "source": [
    "Split dataset into train and test sets"
   ]
  },
  {
   "cell_type": "code",
   "execution_count": null,
   "id": "b24bd854a5160fc",
   "metadata": {
    "ExecuteTime": {
     "end_time": "2023-10-03T23:52:39.785472800Z",
     "start_time": "2023-10-03T23:52:39.348302800Z"
    },
    "collapsed": false,
    "jupyter": {
     "outputs_hidden": false
    }
   },
   "outputs": [],
   "source": [
    "train_size = 0.8\n",
    "train_points = int(train_size*len(dataset))\n",
    "train_df = dataset.iloc[:train_points]\n",
    "test_df = dataset.iloc[train_points:]"
   ]
  },
  {
   "cell_type": "markdown",
   "id": "e56d7165-c252-4ea5-9981-7a22df96122e",
   "metadata": {},
   "source": [
    "Plot graph"
   ]
  },
  {
   "cell_type": "code",
   "execution_count": null,
   "id": "30aac931-4d19-450a-ad79-fbaac30aa705",
   "metadata": {
    "ExecuteTime": {
     "end_time": "2023-10-03T23:52:39.785472800Z",
     "start_time": "2023-10-03T23:52:39.367997400Z"
    }
   },
   "outputs": [],
   "source": [
    "figsize = (16, 8)\n",
    "train_df.set_index(time_col)[target_col].plot(figsize=figsize);"
   ]
  },
  {
   "cell_type": "markdown",
   "id": "7c3bd0f2-f6f4-49fd-b38a-9edd670a6fef",
   "metadata": {},
   "source": [
    "### **Train API**"
   ]
  },
  {
   "cell_type": "markdown",
   "id": "34362404-30a1-469f-914c-2baf85cc3be1",
   "metadata": {},
   "source": [
    "Train data: convert df to list-of-list"
   ]
  },
  {
   "cell_type": "code",
   "execution_count": null,
   "id": "431b90c2-d4a8-4acd-969c-a357eea54db7",
   "metadata": {
    "ExecuteTime": {
     "end_time": "2023-10-03T23:52:40.064215800Z",
     "start_time": "2023-10-03T23:52:39.558202700Z"
    }
   },
   "outputs": [],
   "source": [
    "train_data = []\n",
    "for value in train_df.values:\n",
    "    train_data.append(list(value))"
   ]
  },
  {
   "cell_type": "code",
   "execution_count": null,
   "id": "5c04373b-1857-42b2-8e5c-0e7a51cddf75",
   "metadata": {
    "ExecuteTime": {
     "end_time": "2023-10-03T23:52:40.064723300Z",
     "start_time": "2023-10-03T23:52:39.571313200Z"
    }
   },
   "outputs": [],
   "source": [
    "train_data[:2]"
   ]
  },
  {
   "cell_type": "markdown",
   "id": "622db7d3-3432-44b3-90ae-f08f34ca904e",
   "metadata": {},
   "source": [
    "Custom Model Request (optional)"
   ]
  },
  {
   "cell_type": "code",
   "execution_count": null,
   "id": "e0faaf9c-4330-4cfe-9c12-ac230a638a2a",
   "metadata": {
    "ExecuteTime": {
     "end_time": "2023-10-03T23:52:40.066729300Z",
     "start_time": "2023-10-03T23:52:39.588502200Z"
    }
   },
   "outputs": [],
   "source": [
    "# # # Default model request\n",
    "# # model_request = {\n",
    "# #     'type': 'meta_lr',  # 'meta_wa'\n",
    "# #     'scorers': ['smape', 'mape'],\n",
    "# #     'params': {\n",
    "# #         'preprocessors': [\n",
    "# #             {'type': 'dartsimputer', 'params': {'fill': 'auto'}},\n",
    "# #             # {'type': 'simpleimputer', 'params': {'strategy': 'mean'}},\n",
    "# #             {'type': 'minmaxscaler'},\n",
    "# #         ],\n",
    "# #         'base_models': [\n",
    "# #             {'type': 'darts_rnn'},\n",
    "# #             {'type': 'darts_lightgbm'},\n",
    "# #             {'type': 'darts_autotheta'},\n",
    "# #             {'type': 'darts_autoarima'},\n",
    "# #             {'type': 'darts_autoets'},\n",
    "# #             # {'type': 'stats_autotheta'},\n",
    "# #             # {'type': 'stats_autoarima'},\n",
    "# #             # {'type': 'stats_autoets'},\n",
    "# #         ],\n",
    "# #     },\n",
    "# # }\n",
    "\n",
    "# # Onboard NeuralProphet customized model request\n",
    "# np_external_model_request = {\n",
    "#     'type': 'neuralprophet',\n",
    "#     'metrics': ['rmse', 'mae'],\n",
    "#     # 'metrics': ['smape', 'mape'],\n",
    "#     'params': {\n",
    "#         'lagged_regressors': [\n",
    "#             {'index': 0},\n",
    "#             {'index': 1},\n",
    "#             {'index': 2},\n",
    "#             {'index': 3},\n",
    "#             {'index': 4},\n",
    "#             {'index': 5},\n",
    "#             {'index': 6},\n",
    "#             {'index': 7},\n",
    "#             {'index': 8}\n",
    "#         ],\n",
    "#         \"epochs\": 5\n",
    "#     },\n",
    "# }\n",
    "# # np_external_model_request = None\n",
    "\n",
    "\n",
    "# # Customized model request\n",
    "# model_request = {\n",
    "#     'type': 'meta_lr',  # 'meta_wa'\n",
    "#     'scorers': ['smape', 'mape'],\n",
    "#     'params': {\n",
    "#         'preprocessors': [\n",
    "#             {'type': 'dartsimputer', 'params': {'fill': 'auto'}},\n",
    "#             # {'type': 'simpleimputer', 'params': {'strategy': 'mean'}},\n",
    "#             {'type': 'minmaxscaler'},\n",
    "#         ],\n",
    "#         'base_models': [\n",
    "#             {'type': 'darts_naive'},\n",
    "#             {'type': 'darts_seasonalnaive'},\n",
    "#             {'type': 'darts_autotheta'},\n",
    "#             # {'type': 'stats_autotheta'},\n",
    "#             {'type': 'darts_autoets'},\n",
    "#             # {'type': 'stats_autoets'},\n",
    "#             {'type': 'darts_autoarima'},\n",
    "#             # {'type': 'stats_autoarima'},\n",
    "#             {'type': 'darts_tbats'},\n",
    "#             # {'type': 'darts_linearregression'},\n",
    "#             {'type': 'darts_lightgbm',\n",
    "#              'params': {\n",
    "#                 'lags': 12,\n",
    "#                 'lags_future_covariates': [0, 1, 2],\n",
    "#                 'output_chunk_length': 6,\n",
    "#                 'verbose': -1\n",
    "#             }},  #'lags_past_covariates' \n",
    "#             {'type': 'darts_rnn',\n",
    "#              'params': {\n",
    "#                 'model': 'LSTM',\n",
    "#                 'hidden_dim': 10,\n",
    "#                 'n_rnn_layers': 3\n",
    "#             }},\n",
    "#             {'type': 'neuralprophet', \n",
    "#              'external_params': np_external_model_request\n",
    "#             }  # Onboard NeuralProphet external service\n",
    "#         ],\n",
    "#     },\n",
    "# }"
   ]
  },
  {
   "cell_type": "markdown",
   "id": "614cc479",
   "metadata": {},
   "source": [
    "This is for JSON model_request"
   ]
  },
  {
   "cell_type": "code",
   "execution_count": null,
   "id": "cc3c6f5a",
   "metadata": {},
   "outputs": [],
   "source": [
    "# file_path = 'model_request.json'\n",
    "# # For writing the model request to a json file\n",
    "# with open(file_path, 'r') as file:\n",
    "#     model_request = json.load(file)"
   ]
  },
  {
   "cell_type": "markdown",
   "id": "48b9572c",
   "metadata": {},
   "source": [
    "This is for YAML model_request"
   ]
  },
  {
   "cell_type": "code",
   "execution_count": null,
   "id": "8ee04191",
   "metadata": {},
   "outputs": [],
   "source": [
    "file_path = 'model_request.yaml'\n",
    "# For reading the model request from a yaml file\n",
    "with open(file_path, 'r') as file:\n",
    "    model_request = yaml.safe_load(file)"
   ]
  },
  {
   "cell_type": "markdown",
   "id": "5791ee3c-4e12-4240-996a-68ef15dd86f9",
   "metadata": {},
   "source": [
    "Train API JSON Payload"
   ]
  },
  {
   "cell_type": "code",
   "execution_count": null,
   "id": "01012159-6fc7-43ee-ae3b-6eb5307e9e04",
   "metadata": {
    "ExecuteTime": {
     "end_time": "2023-10-03T23:52:40.080836300Z",
     "start_time": "2023-10-03T23:52:39.619119500Z"
    }
   },
   "outputs": [],
   "source": [
    "api_json = {\n",
    "    'data': train_data,\n",
    "    'model': model_request  # (optional) can be commented out\n",
    "}"
   ]
  },
  {
   "cell_type": "markdown",
   "id": "754a97b7-b291-4263-a071-23d27f566417",
   "metadata": {},
   "source": [
    "Build URL"
   ]
  },
  {
   "cell_type": "code",
   "execution_count": null,
   "id": "af5f0801-cf06-491f-819e-dba5ccdf0e97",
   "metadata": {
    "ExecuteTime": {
     "end_time": "2023-10-03T23:52:40.080836300Z",
     "start_time": "2023-10-03T23:52:39.638362800Z"
    }
   },
   "outputs": [],
   "source": [
    "with open('url.yaml', 'r') as file:\n",
    "    url_dict = yaml.safe_load(file)"
   ]
  },
  {
   "cell_type": "code",
   "execution_count": null,
   "id": "3b4738ba-1d32-4d6c-a2dd-5ac07ad055f6",
   "metadata": {
    "ExecuteTime": {
     "end_time": "2023-10-03T23:52:40.080836300Z",
     "start_time": "2023-10-03T23:52:39.650892800Z"
    }
   },
   "outputs": [],
   "source": [
    "# URL to our SYBIL AWS service\n",
    "protocol = url_dict['protocol']\n",
    "host = url_dict['host']\n",
    "port = url_dict['port']\n",
    "endpoint = 'train'\n",
    "\n",
    "url = '%s://%s:%s/%s' % (protocol, host, str(port), endpoint)"
   ]
  },
  {
   "cell_type": "code",
   "execution_count": null,
   "id": "ff7248e4",
   "metadata": {
    "ExecuteTime": {
     "end_time": "2023-10-03T23:52:40.082345300Z",
     "start_time": "2023-10-03T23:52:39.668363800Z"
    }
   },
   "outputs": [],
   "source": [
    "# protocol, host, port"
   ]
  },
  {
   "cell_type": "markdown",
   "id": "29d6d0a2-a726-4ae9-b6ef-ae91a6bb89e5",
   "metadata": {},
   "source": [
    "Call endpoint, receive response JSON, write to output file"
   ]
  },
  {
   "cell_type": "code",
   "execution_count": 23,
   "id": "bda53dfa-829f-4458-aff9-c1d24bdb6258",
   "metadata": {
    "ExecuteTime": {
     "end_time": "2023-10-03T23:52:49.591545Z",
     "start_time": "2023-10-03T23:52:39.682970700Z"
    }
   },
   "outputs": [],
   "source": [
    "%%time\n",
    "response = requests.post(url, json=api_json)\n",
    "print(response)\n",
    "print()"
   ]
  },
  {
   "cell_type": "code",
   "execution_count": null,
   "id": "a9b0c75a-25ab-47c5-a1db-e7296a3f3a20",
   "metadata": {
    "ExecuteTime": {
     "end_time": "2023-10-03T23:52:49.639356100Z",
     "start_time": "2023-10-03T23:52:49.591545Z"
    }
   },
   "outputs": [],
   "source": [
    "train_json_out = response.json()  # dict output\n",
    "train_json_out"
   ]
  },
  {
   "cell_type": "markdown",
   "id": "a5f8d92a-2ec6-438b-a756-bd956030bb2a",
   "metadata": {},
   "source": [
    "### **Forecast API**"
   ]
  },
  {
   "cell_type": "markdown",
   "id": "2a2598a4-6c6a-40dc-bc45-82fa0cc662eb",
   "metadata": {},
   "source": [
    "Forecast Dates: predict the next 32 years of temperature anomaly data (1980-2012)"
   ]
  },
  {
   "cell_type": "code",
   "execution_count": null,
   "id": "138b6ede-3d9b-4d80-8d26-c3cabd21be66",
   "metadata": {
    "ExecuteTime": {
     "end_time": "2023-10-03T23:52:49.639356100Z",
     "start_time": "2023-10-03T23:52:49.628028800Z"
    }
   },
   "outputs": [],
   "source": [
    "test_data = []\n",
    "for value in test_df.drop(columns=target_col).values:\n",
    "    test_data.append(list(value))"
   ]
  },
  {
   "cell_type": "code",
   "execution_count": null,
   "id": "5efc487a849d2aee",
   "metadata": {
    "ExecuteTime": {
     "end_time": "2023-10-03T23:52:49.658045600Z",
     "start_time": "2023-10-03T23:52:49.639356100Z"
    },
    "collapsed": false,
    "jupyter": {
     "outputs_hidden": false
    }
   },
   "outputs": [],
   "source": [
    "test_data[:2]"
   ]
  },
  {
   "cell_type": "markdown",
   "id": "9c54f592-5262-46ec-b651-555edd2edb49",
   "metadata": {},
   "source": [
    "Model from Train API"
   ]
  },
  {
   "cell_type": "code",
   "execution_count": null,
   "id": "44037535-5b07-40e2-b6a7-3e301d19deda",
   "metadata": {
    "ExecuteTime": {
     "end_time": "2023-10-03T23:52:49.828436300Z",
     "start_time": "2023-10-03T23:52:49.658045600Z"
    }
   },
   "outputs": [],
   "source": [
    "model = train_json_out['model']"
   ]
  },
  {
   "cell_type": "markdown",
   "id": "ab30f283-f727-4d4e-8a92-791318ede6b4",
   "metadata": {},
   "source": [
    "Forecast API JSON Payload"
   ]
  },
  {
   "cell_type": "code",
   "execution_count": null,
   "id": "1fc68132-9353-4951-bed3-6b916eb52e44",
   "metadata": {
    "ExecuteTime": {
     "end_time": "2023-10-03T23:52:49.837906300Z",
     "start_time": "2023-10-03T23:52:49.681682300Z"
    }
   },
   "outputs": [],
   "source": [
    "api_json = {\n",
    "    'model': model,\n",
    "    'data': test_data\n",
    "}"
   ]
  },
  {
   "cell_type": "markdown",
   "id": "72336096-face-429d-99e7-70e55f79449f",
   "metadata": {},
   "source": [
    "Build URL (same as train except for the endpoint)"
   ]
  },
  {
   "cell_type": "code",
   "execution_count": null,
   "id": "98888d03-d90d-4694-a648-7ec375dd2c75",
   "metadata": {
    "ExecuteTime": {
     "end_time": "2023-10-03T23:52:49.837906300Z",
     "start_time": "2023-10-03T23:52:49.691123Z"
    }
   },
   "outputs": [],
   "source": [
    "endpoint = 'forecast'\n",
    "\n",
    "url = '%s://%s:%s/%s' % (protocol, host, str(port), endpoint)"
   ]
  },
  {
   "cell_type": "markdown",
   "id": "8bfd1167-c0ef-4404-a9d4-441dbcdb9864",
   "metadata": {},
   "source": [
    "Call endpoint, receive response JSON, write to output file"
   ]
  },
  {
   "cell_type": "code",
   "execution_count": null,
   "id": "443ff168-22e0-42c4-8e93-742a3293cc81",
   "metadata": {
    "ExecuteTime": {
     "end_time": "2023-10-03T23:52:49.848336400Z",
     "start_time": "2023-10-03T23:52:49.706192100Z"
    }
   },
   "outputs": [],
   "source": [
    "%%time\n",
    "response = requests.post(url, json=api_json)\n",
    "print(response)\n",
    "print()"
   ]
  },
  {
   "cell_type": "code",
   "execution_count": null,
   "id": "a8968a73-f03c-4e0c-bf6c-d1e67f3bb7b8",
   "metadata": {
    "ExecuteTime": {
     "end_time": "2023-10-03T23:52:49.848336400Z",
     "start_time": "2023-10-03T23:52:49.761892600Z"
    }
   },
   "outputs": [],
   "source": [
    "forecast_json_out = response.json()  # dict output\n",
    "forecast_json_out"
   ]
  },
  {
   "cell_type": "markdown",
   "id": "9d42cf65-1bd5-4ef3-a48d-52d44b702040",
   "metadata": {},
   "source": [
    "Combine forecast dates and output"
   ]
  },
  {
   "cell_type": "code",
   "execution_count": null,
   "id": "e819b0a7-4c42-4fb3-8785-057f9898f927",
   "metadata": {
    "ExecuteTime": {
     "end_time": "2023-10-03T23:52:49.848336400Z",
     "start_time": "2023-10-03T23:52:49.788093700Z"
    }
   },
   "outputs": [],
   "source": [
    "forecast_df = pd.DataFrame(\n",
    "    data=forecast_json_out['data'],\n",
    "    columns=[time_col, target_col],\n",
    ")"
   ]
  },
  {
   "cell_type": "code",
   "execution_count": null,
   "id": "0a7c0974-5279-4186-8f37-3ae2a24c5837",
   "metadata": {
    "ExecuteTime": {
     "end_time": "2023-10-03T23:52:49.848336400Z",
     "start_time": "2023-10-03T23:52:49.798339200Z"
    }
   },
   "outputs": [],
   "source": [
    "forecast_df.shape"
   ]
  },
  {
   "cell_type": "code",
   "execution_count": null,
   "id": "f2a9507d-3127-4bec-930e-5ccd2248802e",
   "metadata": {
    "ExecuteTime": {
     "end_time": "2023-10-03T23:52:49.848336400Z",
     "start_time": "2023-10-03T23:52:49.812897300Z"
    }
   },
   "outputs": [],
   "source": [
    "forecast_df.columns"
   ]
  },
  {
   "cell_type": "code",
   "execution_count": null,
   "id": "de1a02db-f5a5-497e-aee3-08f962c664f5",
   "metadata": {
    "ExecuteTime": {
     "end_time": "2023-10-03T23:52:49.858331200Z",
     "start_time": "2023-10-03T23:52:49.828436300Z"
    }
   },
   "outputs": [],
   "source": [
    "forecast_df.head()"
   ]
  },
  {
   "cell_type": "code",
   "execution_count": null,
   "id": "508358d2-8319-49bc-bd94-c5da97b0b7a4",
   "metadata": {
    "ExecuteTime": {
     "end_time": "2023-10-03T23:52:49.971403800Z",
     "start_time": "2023-10-03T23:52:49.848336400Z"
    }
   },
   "outputs": [],
   "source": [
    "forecast_df.tail()"
   ]
  },
  {
   "cell_type": "markdown",
   "id": "a86a090e-de22-4045-a055-45198f240e60",
   "metadata": {},
   "source": [
    "Plot train and forecast side-by-side"
   ]
  },
  {
   "cell_type": "code",
   "execution_count": null,
   "id": "8bc95c77-c93a-422b-a7da-551c67f0418e",
   "metadata": {
    "ExecuteTime": {
     "end_time": "2023-10-03T23:52:50.144348800Z",
     "start_time": "2023-10-03T23:52:49.860348100Z"
    }
   },
   "outputs": [],
   "source": [
    "train_df['color'] = 'b'\n",
    "train_df.set_index(time_col)[target_col].plot(figsize=figsize, color=train_df['color']);"
   ]
  },
  {
   "cell_type": "code",
   "execution_count": null,
   "id": "386d8c56-bf2a-4975-821e-ca4351146041",
   "metadata": {
    "ExecuteTime": {
     "end_time": "2023-10-03T23:52:50.281111400Z",
     "start_time": "2023-10-03T23:52:50.080823Z"
    }
   },
   "outputs": [],
   "source": [
    "forecast_df['color'] = 'r'\n",
    "forecast_df.set_index(time_col).plot(figsize=figsize, color=forecast_df['color']);"
   ]
  },
  {
   "cell_type": "markdown",
   "id": "5d09e17b-d4b1-4589-8756-d0b4e23cc532",
   "metadata": {},
   "source": [
    "Combine train and forecast sets"
   ]
  },
  {
   "cell_type": "code",
   "execution_count": null,
   "id": "2372cd4f-9014-4c4f-ba2f-58718094cf09",
   "metadata": {
    "ExecuteTime": {
     "end_time": "2023-10-03T23:52:50.288141700Z",
     "start_time": "2023-10-03T23:52:50.268027Z"
    }
   },
   "outputs": [],
   "source": [
    "df = pd.concat([train_df, forecast_df]).reset_index(drop=True)"
   ]
  },
  {
   "cell_type": "code",
   "execution_count": null,
   "id": "46736586-4f20-4f55-a758-148e3338a202",
   "metadata": {
    "ExecuteTime": {
     "end_time": "2023-10-03T23:52:50.297963900Z",
     "start_time": "2023-10-03T23:52:50.284116Z"
    }
   },
   "outputs": [],
   "source": [
    "df.shape"
   ]
  },
  {
   "cell_type": "code",
   "execution_count": null,
   "id": "b7f69447-161c-4a8a-95b7-64e4f230a524",
   "metadata": {
    "ExecuteTime": {
     "end_time": "2023-10-03T23:52:50.458330600Z",
     "start_time": "2023-10-03T23:52:50.308227700Z"
    }
   },
   "outputs": [],
   "source": [
    "df.head()"
   ]
  },
  {
   "cell_type": "code",
   "execution_count": null,
   "id": "26c6a481-6000-4912-9fb8-875ab6ab44cc",
   "metadata": {
    "ExecuteTime": {
     "end_time": "2023-10-03T23:52:50.458330600Z",
     "start_time": "2023-10-03T23:52:50.318461Z"
    }
   },
   "outputs": [],
   "source": [
    "df.tail()"
   ]
  },
  {
   "cell_type": "markdown",
   "id": "50aa95fa-1317-4c96-af94-a3ded106e5cb",
   "metadata": {},
   "source": [
    "Plot combined train and forecast sets with the vertical black line as the cut-off"
   ]
  },
  {
   "cell_type": "code",
   "execution_count": null,
   "id": "edd3fa45",
   "metadata": {},
   "outputs": [],
   "source": [
    "df.set_index(time_col)[target_col].plot(figsize=figsize, color='r')\n",
    "plt.axvline(x=len(train_df), color='black', label='Train/Forecast set cut-off')\n",
    "plt.text(x=len(train_df)-9, y=forecast_df[target_col].max(), s='Train', fontweight='bold', fontsize=14)\n",
    "plt.text(x=len(train_df)+1, y=forecast_df[target_col].max(), s='Forecast', fontweight='bold', fontsize=14)\n",
    "plt.ylabel(ylabel='Temperature Anomaly (' + u'\\N{DEGREE SIGN}' + 'C)')\n",
    "plt.title(label='Annual Temperature Anomaly (Train: 1850-1979) (Forecast: 1980-2012)', fontweight='bold', fontsize=20)\n",
    "plt.show();"
   ]
  },
  {
   "cell_type": "markdown",
   "id": "67c0e624-feba-4b52-9179-43e94cd65021",
   "metadata": {},
   "source": [
    "Plot original dataset to compare"
   ]
  },
  {
   "cell_type": "code",
   "execution_count": null,
   "id": "7b419ce0-a7d0-41f5-8f54-90bcb796baa2",
   "metadata": {},
   "outputs": [],
   "source": [
    "figsize = (16, 8)\n",
    "dataset.set_index(time_col)[target_col].plot(figsize=figsize);\n",
    "plt.ylabel(ylabel='Temperature Anomaly (' + u'\\N{DEGREE SIGN}' + 'C)')\n",
    "plt.title(label='Annual Temperature Anomaly (1850-2012)', fontweight='bold', fontsize=20)\n",
    "plt.show();"
   ]
  },
  {
   "cell_type": "markdown",
   "id": "769856da-e91d-4a07-9991-65586c4da14e",
   "metadata": {},
   "source": [
    "Plot original dataset (blue) with SYBIL forecasted values (red)"
   ]
  },
  {
   "cell_type": "code",
   "execution_count": null,
   "id": "0651d470-7598-4c75-be53-6454ee9e4531",
   "metadata": {},
   "outputs": [],
   "source": [
    "df.set_index(time_col)[target_col].plot(figsize=figsize, color='r')\n",
    "dataset.set_index(time_col)[target_col].plot(figsize=figsize);\n",
    "plt.axvline(x=len(train_df), color='black', label='Train/Forecast set cut-off')\n",
    "plt.text(x=len(train_df)-9, y=forecast_df[target_col].max(), s='Train', fontweight='bold', fontsize=14)\n",
    "plt.text(x=len(train_df)+1, y=forecast_df[target_col].max(), s='Forecast', fontweight='bold', fontsize=14)\n",
    "plt.ylabel(ylabel='Temperature Anomaly (' + u'\\N{DEGREE SIGN}' + 'C)')\n",
    "plt.title(label='Annual Temperature Anomaly (Train: 1850-1979) (Forecast: 1980-2012)', fontweight='bold', fontsize=20)\n",
    "plt.show();"
   ]
  },
  {
   "cell_type": "code",
   "execution_count": null,
   "id": "e8634cf9-d389-4191-be60-2fabb976bd69",
   "metadata": {},
   "outputs": [],
   "source": []
  },
  {
   "cell_type": "code",
   "execution_count": null,
   "id": "8838ddae",
   "metadata": {},
   "outputs": [],
   "source": []
  }
 ],
 "metadata": {
  "kernelspec": {
   "display_name": "sybil",
   "language": "python",
   "name": "python3"
  },
  "language_info": {
   "codemirror_mode": {
    "name": "ipython",
    "version": 3
   },
   "file_extension": ".py",
   "mimetype": "text/x-python",
   "name": "python",
   "nbconvert_exporter": "python",
   "pygments_lexer": "ipython3",
   "version": "3.10.13"
  }
 },
 "nbformat": 4,
 "nbformat_minor": 5
}
