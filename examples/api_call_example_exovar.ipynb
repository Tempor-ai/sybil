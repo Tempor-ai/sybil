{
 "cells": [
  {
   "cell_type": "markdown",
   "id": "48e57c5e-f2f9-448c-8901-e27610b878d5",
   "metadata": {},
   "source": [
    "Check Python version"
   ]
  },
  {
   "cell_type": "code",
   "execution_count": 1,
   "id": "c00c0a6f-c24c-4255-a430-6f89264a5a41",
   "metadata": {},
   "outputs": [
    {
     "name": "stdout",
     "output_type": "stream",
     "text": [
      "Python 3.9.12\n"
     ]
    }
   ],
   "source": [
    "!python --version"
   ]
  },
  {
   "cell_type": "markdown",
   "id": "6173c739-e07c-46f5-9841-a6c7d7f1b4ff",
   "metadata": {},
   "source": [
    "Import libraries"
   ]
  },
  {
   "cell_type": "code",
   "execution_count": 2,
   "id": "4c7954a0-e6b4-4fa1-962b-83141e8b19cc",
   "metadata": {},
   "outputs": [],
   "source": [
    "import json\n",
    "import yaml\n",
    "import requests\n",
    "import pandas as pd\n",
    "import matplotlib.pyplot as plt\n",
    "import seaborn as sns\n",
    "sns.set()"
   ]
  },
  {
   "cell_type": "markdown",
   "id": "4b126246-b152-4de2-a39d-21feb5d6f6d2",
   "metadata": {},
   "source": [
    "### **Extract Data**"
   ]
  },
  {
   "cell_type": "code",
   "execution_count": 3,
   "id": "a1f7662e-1117-4a4b-9118-09faa296ccf9",
   "metadata": {},
   "outputs": [],
   "source": [
    "# Local directory\n",
    "data_dir = \"../datasets/finance\"\n",
    "file_name = \"Returns_short_interest_data_train\"\n",
    "file_path = f\"{data_dir}/{file_name}.csv\"\n",
    "\n",
    "# Through online GitHub\n",
    "# file_path = \"https://github.com/ourownstory/neuralprophet-data/raw/main/datasets/air_passengers.csv\""
   ]
  },
  {
   "cell_type": "code",
   "execution_count": 4,
   "id": "437651ae-7fe0-4adb-b614-607e663b735c",
   "metadata": {},
   "outputs": [],
   "source": [
    "train_df = pd.read_csv(file_path)"
   ]
  },
  {
   "cell_type": "code",
   "execution_count": 5,
   "id": "53700774-809a-4cd9-a385-e155c2d99236",
   "metadata": {},
   "outputs": [
    {
     "data": {
      "text/plain": [
       "(788, 15)"
      ]
     },
     "execution_count": 5,
     "metadata": {},
     "output_type": "execute_result"
    }
   ],
   "source": [
    "train_df.shape"
   ]
  },
  {
   "cell_type": "code",
   "execution_count": 6,
   "id": "114fc37e-da5d-4764-bb26-3fab6a761c54",
   "metadata": {},
   "outputs": [
    {
     "data": {
      "text/plain": [
       "Index(['date', 'log_dp', 'log_dy', 'log_ep', 'log_de', 'bm', 'ntis', 'tbl',\n",
       "       'lty', 'ltr', 'tml', 'dfy', 'dfr', 'infl_lag', 'target'],\n",
       "      dtype='object')"
      ]
     },
     "execution_count": 6,
     "metadata": {},
     "output_type": "execute_result"
    }
   ],
   "source": [
    "train_df.columns"
   ]
  },
  {
   "cell_type": "code",
   "execution_count": 7,
   "id": "5d0d9da3-5d20-4c88-b821-b8066cfe4399",
   "metadata": {},
   "outputs": [
    {
     "data": {
      "text/html": [
       "<div>\n",
       "<style scoped>\n",
       "    .dataframe tbody tr th:only-of-type {\n",
       "        vertical-align: middle;\n",
       "    }\n",
       "\n",
       "    .dataframe tbody tr th {\n",
       "        vertical-align: top;\n",
       "    }\n",
       "\n",
       "    .dataframe thead th {\n",
       "        text-align: right;\n",
       "    }\n",
       "</style>\n",
       "<table border=\"1\" class=\"dataframe\">\n",
       "  <thead>\n",
       "    <tr style=\"text-align: right;\">\n",
       "      <th></th>\n",
       "      <th>date</th>\n",
       "      <th>log_dp</th>\n",
       "      <th>log_dy</th>\n",
       "      <th>log_ep</th>\n",
       "      <th>log_de</th>\n",
       "      <th>bm</th>\n",
       "      <th>ntis</th>\n",
       "      <th>tbl</th>\n",
       "      <th>lty</th>\n",
       "      <th>ltr</th>\n",
       "      <th>tml</th>\n",
       "      <th>dfy</th>\n",
       "      <th>dfr</th>\n",
       "      <th>infl_lag</th>\n",
       "      <th>target</th>\n",
       "    </tr>\n",
       "  </thead>\n",
       "  <tbody>\n",
       "    <tr>\n",
       "      <th>0</th>\n",
       "      <td>1937-05-01</td>\n",
       "      <td>-2.999429</td>\n",
       "      <td>-2.999429</td>\n",
       "      <td>-2.648946</td>\n",
       "      <td>-0.350483</td>\n",
       "      <td>0.489382</td>\n",
       "      <td>0.028278</td>\n",
       "      <td>0.0041</td>\n",
       "      <td>0.0282</td>\n",
       "      <td>0.0053</td>\n",
       "      <td>0.0241</td>\n",
       "      <td>0.0151</td>\n",
       "      <td>-0.0013</td>\n",
       "      <td>-2.999429</td>\n",
       "      <td>-0.006041</td>\n",
       "    </tr>\n",
       "    <tr>\n",
       "      <th>1</th>\n",
       "      <td>1937-06-01</td>\n",
       "      <td>-2.908721</td>\n",
       "      <td>-2.908721</td>\n",
       "      <td>-2.577364</td>\n",
       "      <td>-0.331357</td>\n",
       "      <td>0.504961</td>\n",
       "      <td>0.031266</td>\n",
       "      <td>0.0036</td>\n",
       "      <td>0.0285</td>\n",
       "      <td>-0.0018</td>\n",
       "      <td>0.0249</td>\n",
       "      <td>0.0165</td>\n",
       "      <td>0.0071</td>\n",
       "      <td>-2.908721</td>\n",
       "      <td>-0.054103</td>\n",
       "    </tr>\n",
       "    <tr>\n",
       "      <th>2</th>\n",
       "      <td>1937-07-01</td>\n",
       "      <td>-3.034560</td>\n",
       "      <td>-3.034560</td>\n",
       "      <td>-2.660885</td>\n",
       "      <td>-0.373675</td>\n",
       "      <td>0.464649</td>\n",
       "      <td>0.027225</td>\n",
       "      <td>0.0028</td>\n",
       "      <td>0.0277</td>\n",
       "      <td>0.0138</td>\n",
       "      <td>0.0249</td>\n",
       "      <td>0.0166</td>\n",
       "      <td>-0.0099</td>\n",
       "      <td>-3.034560</td>\n",
       "      <td>0.098758</td>\n",
       "    </tr>\n",
       "    <tr>\n",
       "      <th>3</th>\n",
       "      <td>1937-08-01</td>\n",
       "      <td>-3.006598</td>\n",
       "      <td>-3.006598</td>\n",
       "      <td>-2.589993</td>\n",
       "      <td>-0.416605</td>\n",
       "      <td>0.481935</td>\n",
       "      <td>0.031064</td>\n",
       "      <td>0.0029</td>\n",
       "      <td>0.0286</td>\n",
       "      <td>-0.0104</td>\n",
       "      <td>0.0257</td>\n",
       "      <td>0.0168</td>\n",
       "      <td>0.0087</td>\n",
       "      <td>-3.006598</td>\n",
       "      <td>-0.051425</td>\n",
       "    </tr>\n",
       "    <tr>\n",
       "      <th>4</th>\n",
       "      <td>1937-09-01</td>\n",
       "      <td>-2.883131</td>\n",
       "      <td>-2.883131</td>\n",
       "      <td>-2.422915</td>\n",
       "      <td>-0.460216</td>\n",
       "      <td>0.553147</td>\n",
       "      <td>0.035847</td>\n",
       "      <td>0.0031</td>\n",
       "      <td>0.0284</td>\n",
       "      <td>0.0045</td>\n",
       "      <td>0.0253</td>\n",
       "      <td>0.0188</td>\n",
       "      <td>-0.0020</td>\n",
       "      <td>-2.883131</td>\n",
       "      <td>-0.139868</td>\n",
       "    </tr>\n",
       "  </tbody>\n",
       "</table>\n",
       "</div>"
      ],
      "text/plain": [
       "         date    log_dp    log_dy    log_ep    log_de        bm      ntis  \\\n",
       "0  1937-05-01 -2.999429 -2.999429 -2.648946 -0.350483  0.489382  0.028278   \n",
       "1  1937-06-01 -2.908721 -2.908721 -2.577364 -0.331357  0.504961  0.031266   \n",
       "2  1937-07-01 -3.034560 -3.034560 -2.660885 -0.373675  0.464649  0.027225   \n",
       "3  1937-08-01 -3.006598 -3.006598 -2.589993 -0.416605  0.481935  0.031064   \n",
       "4  1937-09-01 -2.883131 -2.883131 -2.422915 -0.460216  0.553147  0.035847   \n",
       "\n",
       "      tbl     lty     ltr     tml     dfy     dfr  infl_lag    target  \n",
       "0  0.0041  0.0282  0.0053  0.0241  0.0151 -0.0013 -2.999429 -0.006041  \n",
       "1  0.0036  0.0285 -0.0018  0.0249  0.0165  0.0071 -2.908721 -0.054103  \n",
       "2  0.0028  0.0277  0.0138  0.0249  0.0166 -0.0099 -3.034560  0.098758  \n",
       "3  0.0029  0.0286 -0.0104  0.0257  0.0168  0.0087 -3.006598 -0.051425  \n",
       "4  0.0031  0.0284  0.0045  0.0253  0.0188 -0.0020 -2.883131 -0.139868  "
      ]
     },
     "execution_count": 7,
     "metadata": {},
     "output_type": "execute_result"
    }
   ],
   "source": [
    "train_df.head()"
   ]
  },
  {
   "cell_type": "code",
   "execution_count": 8,
   "id": "0a4ec852-b801-49fd-a130-075895b7db94",
   "metadata": {},
   "outputs": [
    {
     "data": {
      "text/html": [
       "<div>\n",
       "<style scoped>\n",
       "    .dataframe tbody tr th:only-of-type {\n",
       "        vertical-align: middle;\n",
       "    }\n",
       "\n",
       "    .dataframe tbody tr th {\n",
       "        vertical-align: top;\n",
       "    }\n",
       "\n",
       "    .dataframe thead th {\n",
       "        text-align: right;\n",
       "    }\n",
       "</style>\n",
       "<table border=\"1\" class=\"dataframe\">\n",
       "  <thead>\n",
       "    <tr style=\"text-align: right;\">\n",
       "      <th></th>\n",
       "      <th>date</th>\n",
       "      <th>log_dp</th>\n",
       "      <th>log_dy</th>\n",
       "      <th>log_ep</th>\n",
       "      <th>log_de</th>\n",
       "      <th>bm</th>\n",
       "      <th>ntis</th>\n",
       "      <th>tbl</th>\n",
       "      <th>lty</th>\n",
       "      <th>ltr</th>\n",
       "      <th>tml</th>\n",
       "      <th>dfy</th>\n",
       "      <th>dfr</th>\n",
       "      <th>infl_lag</th>\n",
       "      <th>target</th>\n",
       "    </tr>\n",
       "  </thead>\n",
       "  <tbody>\n",
       "    <tr>\n",
       "      <th>783</th>\n",
       "      <td>2002-08-01</td>\n",
       "      <td>-4.054990</td>\n",
       "      <td>-4.054990</td>\n",
       "      <td>-3.454868</td>\n",
       "      <td>-0.600122</td>\n",
       "      <td>0.284412</td>\n",
       "      <td>0.025483</td>\n",
       "      <td>0.0162</td>\n",
       "      <td>0.0510</td>\n",
       "      <td>0.0464</td>\n",
       "      <td>0.0348</td>\n",
       "      <td>0.0121</td>\n",
       "      <td>-0.0012</td>\n",
       "      <td>-4.054990</td>\n",
       "      <td>0.005711</td>\n",
       "    </tr>\n",
       "    <tr>\n",
       "      <th>784</th>\n",
       "      <td>2002-09-01</td>\n",
       "      <td>-3.943471</td>\n",
       "      <td>-3.943471</td>\n",
       "      <td>-3.301014</td>\n",
       "      <td>-0.642457</td>\n",
       "      <td>0.324555</td>\n",
       "      <td>0.029393</td>\n",
       "      <td>0.0163</td>\n",
       "      <td>0.0480</td>\n",
       "      <td>0.0417</td>\n",
       "      <td>0.0317</td>\n",
       "      <td>0.0125</td>\n",
       "      <td>-0.0087</td>\n",
       "      <td>-3.943471</td>\n",
       "      <td>-0.110377</td>\n",
       "    </tr>\n",
       "    <tr>\n",
       "      <th>785</th>\n",
       "      <td>2002-10-01</td>\n",
       "      <td>-4.020567</td>\n",
       "      <td>-4.020567</td>\n",
       "      <td>-3.411479</td>\n",
       "      <td>-0.609089</td>\n",
       "      <td>0.293437</td>\n",
       "      <td>0.025778</td>\n",
       "      <td>0.0158</td>\n",
       "      <td>0.0508</td>\n",
       "      <td>-0.0294</td>\n",
       "      <td>0.0350</td>\n",
       "      <td>0.0141</td>\n",
       "      <td>0.0054</td>\n",
       "      <td>-4.020567</td>\n",
       "      <td>0.087282</td>\n",
       "    </tr>\n",
       "    <tr>\n",
       "      <th>786</th>\n",
       "      <td>2002-11-01</td>\n",
       "      <td>-4.070296</td>\n",
       "      <td>-4.070296</td>\n",
       "      <td>-3.495323</td>\n",
       "      <td>-0.574973</td>\n",
       "      <td>0.276975</td>\n",
       "      <td>0.023009</td>\n",
       "      <td>0.0123</td>\n",
       "      <td>0.0521</td>\n",
       "      <td>-0.0122</td>\n",
       "      <td>0.0398</td>\n",
       "      <td>0.0131</td>\n",
       "      <td>0.0252</td>\n",
       "      <td>-4.070296</td>\n",
       "      <td>0.057994</td>\n",
       "    </tr>\n",
       "    <tr>\n",
       "      <th>787</th>\n",
       "      <td>2002-12-01</td>\n",
       "      <td>-4.002328</td>\n",
       "      <td>-4.002328</td>\n",
       "      <td>-3.462264</td>\n",
       "      <td>-0.540064</td>\n",
       "      <td>0.295386</td>\n",
       "      <td>0.025838</td>\n",
       "      <td>0.0119</td>\n",
       "      <td>0.0484</td>\n",
       "      <td>0.0507</td>\n",
       "      <td>0.0365</td>\n",
       "      <td>0.0124</td>\n",
       "      <td>-0.0146</td>\n",
       "      <td>-4.002328</td>\n",
       "      <td>-0.059826</td>\n",
       "    </tr>\n",
       "  </tbody>\n",
       "</table>\n",
       "</div>"
      ],
      "text/plain": [
       "           date    log_dp    log_dy    log_ep    log_de        bm      ntis  \\\n",
       "783  2002-08-01 -4.054990 -4.054990 -3.454868 -0.600122  0.284412  0.025483   \n",
       "784  2002-09-01 -3.943471 -3.943471 -3.301014 -0.642457  0.324555  0.029393   \n",
       "785  2002-10-01 -4.020567 -4.020567 -3.411479 -0.609089  0.293437  0.025778   \n",
       "786  2002-11-01 -4.070296 -4.070296 -3.495323 -0.574973  0.276975  0.023009   \n",
       "787  2002-12-01 -4.002328 -4.002328 -3.462264 -0.540064  0.295386  0.025838   \n",
       "\n",
       "        tbl     lty     ltr     tml     dfy     dfr  infl_lag    target  \n",
       "783  0.0162  0.0510  0.0464  0.0348  0.0121 -0.0012 -4.054990  0.005711  \n",
       "784  0.0163  0.0480  0.0417  0.0317  0.0125 -0.0087 -3.943471 -0.110377  \n",
       "785  0.0158  0.0508 -0.0294  0.0350  0.0141  0.0054 -4.020567  0.087282  \n",
       "786  0.0123  0.0521 -0.0122  0.0398  0.0131  0.0252 -4.070296  0.057994  \n",
       "787  0.0119  0.0484  0.0507  0.0365  0.0124 -0.0146 -4.002328 -0.059826  "
      ]
     },
     "execution_count": 8,
     "metadata": {},
     "output_type": "execute_result"
    }
   ],
   "source": [
    "train_df.tail()"
   ]
  },
  {
   "cell_type": "markdown",
   "id": "92d1f999-8159-4f3e-9cd6-9b00bff324f9",
   "metadata": {},
   "source": [
    "Change 'target' to float"
   ]
  },
  {
   "cell_type": "code",
   "execution_count": 9,
   "id": "dba6f91b-6139-4664-87b1-7859b3b305a6",
   "metadata": {},
   "outputs": [],
   "source": [
    "# train_df[\"target\"] = train_df[\"target\"].astype(float)"
   ]
  },
  {
   "cell_type": "code",
   "execution_count": 10,
   "id": "7a2c4026-c7f0-4ba9-8481-adf16e88d9f2",
   "metadata": {},
   "outputs": [],
   "source": [
    "# train_df.head()"
   ]
  },
  {
   "cell_type": "markdown",
   "id": "e56d7165-c252-4ea5-9981-7a22df96122e",
   "metadata": {},
   "source": [
    "Plot graph"
   ]
  },
  {
   "cell_type": "code",
   "execution_count": 11,
   "id": "30aac931-4d19-450a-ad79-fbaac30aa705",
   "metadata": {},
   "outputs": [
    {
     "data": {
      "image/png": "[encoded data removed]",
      "text/plain": [
       "<Figure size 1152x576 with 1 Axes>"
      ]
     },
     "metadata": {
      "needs_background": "light"
     },
     "output_type": "display_data"
    }
   ],
   "source": [
    "figsize = (16, 8)\n",
    "train_df.set_index(\"date\")[\"target\"].plot(figsize=figsize);"
   ]
  },
  {
   "cell_type": "markdown",
   "id": "7c3bd0f2-f6f4-49fd-b38a-9edd670a6fef",
   "metadata": {},
   "source": [
    "### **Train API**"
   ]
  },
  {
   "cell_type": "markdown",
   "id": "34362404-30a1-469f-914c-2baf85cc3be1",
   "metadata": {},
   "source": [
    "Train data: convert df to list-of-list"
   ]
  },
  {
   "cell_type": "code",
   "execution_count": 12,
   "id": "22347890-f3f5-48bf-b037-0f1d48458c2d",
   "metadata": {},
   "outputs": [],
   "source": [
    "train_data = []"
   ]
  },
  {
   "cell_type": "code",
   "execution_count": 13,
   "id": "431b90c2-d4a8-4acd-969c-a357eea54db7",
   "metadata": {},
   "outputs": [],
   "source": [
    "for value in train_df.values:\n",
    "    train_data.append(list(value))"
   ]
  },
  {
   "cell_type": "code",
   "execution_count": 14,
   "id": "5c04373b-1857-42b2-8e5c-0e7a51cddf75",
   "metadata": {},
   "outputs": [
    {
     "data": {
      "text/plain": [
       "[['1937-05-01',\n",
       "  -2.9994291354353173,\n",
       "  -2.9994291354353173,\n",
       "  -2.648946161744506,\n",
       "  -0.3504829736908111,\n",
       "  0.4893824051284986,\n",
       "  0.0282780631029591,\n",
       "  0.0040999999999999,\n",
       "  0.0282,\n",
       "  0.0053,\n",
       "  0.0241,\n",
       "  0.0150999999999999,\n",
       "  -0.0013,\n",
       "  -2.9994291354353173,\n",
       "  -0.0060406666666666],\n",
       " ['1937-06-01',\n",
       "  -2.908720896564361,\n",
       "  -2.908720896564361,\n",
       "  -2.5773637606099187,\n",
       "  -0.3313571359544425,\n",
       "  0.5049610205527995,\n",
       "  0.0312661665365891,\n",
       "  0.0036,\n",
       "  0.0285,\n",
       "  -0.0018,\n",
       "  0.0249,\n",
       "  0.0165,\n",
       "  0.0071,\n",
       "  -2.908720896564361,\n",
       "  -0.054103]]"
      ]
     },
     "execution_count": 14,
     "metadata": {},
     "output_type": "execute_result"
    }
   ],
   "source": [
    "train_data[:2]"
   ]
  },
  {
   "cell_type": "markdown",
   "id": "622db7d3-3432-44b3-90ae-f08f34ca904e",
   "metadata": {},
   "source": [
    "Custom Model Request (optional)"
   ]
  },
  {
   "cell_type": "code",
   "execution_count": 15,
   "id": "e0faaf9c-4330-4cfe-9c12-ac230a638a2a",
   "metadata": {},
   "outputs": [],
   "source": [
    "custom_model_request_dict = {\n",
    "    'type': 'meta_wa',\n",
    "    'score': ['smape', 'mape'],\n",
    "    'param': {\n",
    "        'base_models': [\n",
    "            {'type': 'darts_autoarima'},\n",
    "            {'type': 'darts_autotheta'},\n",
    "            {'type': 'darts_autoets'},\n",
    "            {'type': 'stats_autotheta'},\n",
    "        ]\n",
    "    }\n",
    "}"
   ]
  },
  {
   "cell_type": "code",
   "execution_count": 16,
   "id": "a040d34f-32cc-43bb-8c14-610d40dd1220",
   "metadata": {},
   "outputs": [],
   "source": [
    "custom_model_request = json.dumps(custom_model_request_dict)"
   ]
  },
  {
   "cell_type": "markdown",
   "id": "5791ee3c-4e12-4240-996a-68ef15dd86f9",
   "metadata": {},
   "source": [
    "Train API JSON Payload"
   ]
  },
  {
   "cell_type": "code",
   "execution_count": 17,
   "id": "01012159-6fc7-43ee-ae3b-6eb5307e9e04",
   "metadata": {},
   "outputs": [],
   "source": [
    "api_json = {\n",
    "    'data': train_data,\n",
    "    # 'model': custom_model_request,  # TODO: custom_model_request_dict returns empty JSON output\n",
    "}"
   ]
  },
  {
   "cell_type": "markdown",
   "id": "754a97b7-b291-4263-a071-23d27f566417",
   "metadata": {},
   "source": [
    "Build URL"
   ]
  },
  {
   "cell_type": "code",
   "execution_count": 18,
   "id": "af5f0801-cf06-491f-819e-dba5ccdf0e97",
   "metadata": {},
   "outputs": [],
   "source": [
    "with open('url.yaml', 'r') as file:\n",
    "    url_dict = yaml.safe_load(file)"
   ]
  },
  {
   "cell_type": "code",
   "execution_count": 19,
   "id": "3b4738ba-1d32-4d6c-a2dd-5ac07ad055f6",
   "metadata": {},
   "outputs": [],
   "source": [
    "# URL to our SYBIL AWS service\n",
    "protocol = url_dict[\"protocol\"]\n",
    "host = url_dict[\"host\"]\n",
    "port = url_dict[\"port\"]\n",
    "endpoint = \"train\"\n",
    "\n",
    "url = \"%s://%s:%s/%s\" % (protocol, host, str(port), endpoint)"
   ]
  },
  {
   "cell_type": "markdown",
   "id": "29d6d0a2-a726-4ae9-b6ef-ae91a6bb89e5",
   "metadata": {},
   "source": [
    "Call endpoint, receive response JSON, write to output file"
   ]
  },
  {
   "cell_type": "code",
   "execution_count": 20,
   "id": "bda53dfa-829f-4458-aff9-c1d24bdb6258",
   "metadata": {},
   "outputs": [
    {
     "name": "stdout",
     "output_type": "stream",
     "text": [
      "CPU times: user 28.4 ms, sys: 0 ns, total: 28.4 ms\n",
      "Wall time: 157 ms\n"
     ]
    },
    {
     "name": "stderr",
     "output_type": "stream",
     "text": [
      "/home/studio-lab-user/.conda/envs/dev/lib/python3.9/site-packages/urllib3/connectionpool.py:1043: InsecureRequestWarning: Unverified HTTPS request is being made to host 'sybil.tempor.ai'. Adding certificate verification is strongly advised. See: https://urllib3.readthedocs.io/en/1.26.x/advanced-usage.html#ssl-warnings\n",
      "  warnings.warn(\n"
     ]
    }
   ],
   "source": [
    "%%time\n",
    "# TODO: gain a accredited cert and remove verify=False\n",
    "response = requests.post(url, json=api_json, verify=False)"
   ]
  },
  {
   "cell_type": "code",
   "execution_count": 21,
   "id": "2df9d948-1e0d-4b31-8a8b-7cf30eb66046",
   "metadata": {},
   "outputs": [
    {
     "data": {
      "text/plain": [
       "<Response [500]>"
      ]
     },
     "execution_count": 21,
     "metadata": {},
     "output_type": "execute_result"
    }
   ],
   "source": [
    "response"
   ]
  },
  {
   "cell_type": "code",
   "execution_count": 22,
   "id": "a9b0c75a-25ab-47c5-a1db-e7296a3f3a20",
   "metadata": {},
   "outputs": [
    {
     "ename": "JSONDecodeError",
     "evalue": "Expecting value: line 1 column 1 (char 0)",
     "output_type": "error",
     "traceback": [
      "\u001b[0;31m---------------------------------------------------------------------------\u001b[0m",
      "\u001b[0;31mJSONDecodeError\u001b[0m                           Traceback (most recent call last)",
      "File \u001b[0;32m~/.conda/envs/dev/lib/python3.9/site-packages/requests/models.py:971\u001b[0m, in \u001b[0;36mResponse.json\u001b[0;34m(self, **kwargs)\u001b[0m\n\u001b[1;32m    970\u001b[0m \u001b[38;5;28;01mtry\u001b[39;00m:\n\u001b[0;32m--> 971\u001b[0m     \u001b[38;5;28;01mreturn\u001b[39;00m \u001b[43mcomplexjson\u001b[49m\u001b[38;5;241;43m.\u001b[39;49m\u001b[43mloads\u001b[49m\u001b[43m(\u001b[49m\u001b[38;5;28;43mself\u001b[39;49m\u001b[38;5;241;43m.\u001b[39;49m\u001b[43mtext\u001b[49m\u001b[43m,\u001b[49m\u001b[43m \u001b[49m\u001b[38;5;241;43m*\u001b[39;49m\u001b[38;5;241;43m*\u001b[39;49m\u001b[43mkwargs\u001b[49m\u001b[43m)\u001b[49m\n\u001b[1;32m    972\u001b[0m \u001b[38;5;28;01mexcept\u001b[39;00m JSONDecodeError \u001b[38;5;28;01mas\u001b[39;00m e:\n\u001b[1;32m    973\u001b[0m     \u001b[38;5;66;03m# Catch JSON-related errors and raise as requests.JSONDecodeError\u001b[39;00m\n\u001b[1;32m    974\u001b[0m     \u001b[38;5;66;03m# This aliases json.JSONDecodeError and simplejson.JSONDecodeError\u001b[39;00m\n",
      "File \u001b[0;32m~/.conda/envs/dev/lib/python3.9/json/__init__.py:346\u001b[0m, in \u001b[0;36mloads\u001b[0;34m(s, cls, object_hook, parse_float, parse_int, parse_constant, object_pairs_hook, **kw)\u001b[0m\n\u001b[1;32m    343\u001b[0m \u001b[38;5;28;01mif\u001b[39;00m (\u001b[38;5;28mcls\u001b[39m \u001b[38;5;129;01mis\u001b[39;00m \u001b[38;5;28;01mNone\u001b[39;00m \u001b[38;5;129;01mand\u001b[39;00m object_hook \u001b[38;5;129;01mis\u001b[39;00m \u001b[38;5;28;01mNone\u001b[39;00m \u001b[38;5;129;01mand\u001b[39;00m\n\u001b[1;32m    344\u001b[0m         parse_int \u001b[38;5;129;01mis\u001b[39;00m \u001b[38;5;28;01mNone\u001b[39;00m \u001b[38;5;129;01mand\u001b[39;00m parse_float \u001b[38;5;129;01mis\u001b[39;00m \u001b[38;5;28;01mNone\u001b[39;00m \u001b[38;5;129;01mand\u001b[39;00m\n\u001b[1;32m    345\u001b[0m         parse_constant \u001b[38;5;129;01mis\u001b[39;00m \u001b[38;5;28;01mNone\u001b[39;00m \u001b[38;5;129;01mand\u001b[39;00m object_pairs_hook \u001b[38;5;129;01mis\u001b[39;00m \u001b[38;5;28;01mNone\u001b[39;00m \u001b[38;5;129;01mand\u001b[39;00m \u001b[38;5;129;01mnot\u001b[39;00m kw):\n\u001b[0;32m--> 346\u001b[0m     \u001b[38;5;28;01mreturn\u001b[39;00m \u001b[43m_default_decoder\u001b[49m\u001b[38;5;241;43m.\u001b[39;49m\u001b[43mdecode\u001b[49m\u001b[43m(\u001b[49m\u001b[43ms\u001b[49m\u001b[43m)\u001b[49m\n\u001b[1;32m    347\u001b[0m \u001b[38;5;28;01mif\u001b[39;00m \u001b[38;5;28mcls\u001b[39m \u001b[38;5;129;01mis\u001b[39;00m \u001b[38;5;28;01mNone\u001b[39;00m:\n",
      "File \u001b[0;32m~/.conda/envs/dev/lib/python3.9/json/decoder.py:337\u001b[0m, in \u001b[0;36mJSONDecoder.decode\u001b[0;34m(self, s, _w)\u001b[0m\n\u001b[1;32m    333\u001b[0m \u001b[38;5;124;03m\"\"\"Return the Python representation of ``s`` (a ``str`` instance\u001b[39;00m\n\u001b[1;32m    334\u001b[0m \u001b[38;5;124;03mcontaining a JSON document).\u001b[39;00m\n\u001b[1;32m    335\u001b[0m \n\u001b[1;32m    336\u001b[0m \u001b[38;5;124;03m\"\"\"\u001b[39;00m\n\u001b[0;32m--> 337\u001b[0m obj, end \u001b[38;5;241m=\u001b[39m \u001b[38;5;28;43mself\u001b[39;49m\u001b[38;5;241;43m.\u001b[39;49m\u001b[43mraw_decode\u001b[49m\u001b[43m(\u001b[49m\u001b[43ms\u001b[49m\u001b[43m,\u001b[49m\u001b[43m \u001b[49m\u001b[43midx\u001b[49m\u001b[38;5;241;43m=\u001b[39;49m\u001b[43m_w\u001b[49m\u001b[43m(\u001b[49m\u001b[43ms\u001b[49m\u001b[43m,\u001b[49m\u001b[43m \u001b[49m\u001b[38;5;241;43m0\u001b[39;49m\u001b[43m)\u001b[49m\u001b[38;5;241;43m.\u001b[39;49m\u001b[43mend\u001b[49m\u001b[43m(\u001b[49m\u001b[43m)\u001b[49m\u001b[43m)\u001b[49m\n\u001b[1;32m    338\u001b[0m end \u001b[38;5;241m=\u001b[39m _w(s, end)\u001b[38;5;241m.\u001b[39mend()\n",
      "File \u001b[0;32m~/.conda/envs/dev/lib/python3.9/json/decoder.py:355\u001b[0m, in \u001b[0;36mJSONDecoder.raw_decode\u001b[0;34m(self, s, idx)\u001b[0m\n\u001b[1;32m    354\u001b[0m \u001b[38;5;28;01mexcept\u001b[39;00m \u001b[38;5;167;01mStopIteration\u001b[39;00m \u001b[38;5;28;01mas\u001b[39;00m err:\n\u001b[0;32m--> 355\u001b[0m     \u001b[38;5;28;01mraise\u001b[39;00m JSONDecodeError(\u001b[38;5;124m\"\u001b[39m\u001b[38;5;124mExpecting value\u001b[39m\u001b[38;5;124m\"\u001b[39m, s, err\u001b[38;5;241m.\u001b[39mvalue) \u001b[38;5;28;01mfrom\u001b[39;00m \u001b[38;5;28mNone\u001b[39m\n\u001b[1;32m    356\u001b[0m \u001b[38;5;28;01mreturn\u001b[39;00m obj, end\n",
      "\u001b[0;31mJSONDecodeError\u001b[0m: Expecting value: line 1 column 1 (char 0)",
      "\nDuring handling of the above exception, another exception occurred:\n",
      "\u001b[0;31mJSONDecodeError\u001b[0m                           Traceback (most recent call last)",
      "Input \u001b[0;32mIn [22]\u001b[0m, in \u001b[0;36m<cell line: 1>\u001b[0;34m()\u001b[0m\n\u001b[0;32m----> 1\u001b[0m train_json_out \u001b[38;5;241m=\u001b[39m \u001b[43mresponse\u001b[49m\u001b[38;5;241;43m.\u001b[39;49m\u001b[43mjson\u001b[49m\u001b[43m(\u001b[49m\u001b[43m)\u001b[49m\n",
      "File \u001b[0;32m~/.conda/envs/dev/lib/python3.9/site-packages/requests/models.py:975\u001b[0m, in \u001b[0;36mResponse.json\u001b[0;34m(self, **kwargs)\u001b[0m\n\u001b[1;32m    971\u001b[0m     \u001b[38;5;28;01mreturn\u001b[39;00m complexjson\u001b[38;5;241m.\u001b[39mloads(\u001b[38;5;28mself\u001b[39m\u001b[38;5;241m.\u001b[39mtext, \u001b[38;5;241m*\u001b[39m\u001b[38;5;241m*\u001b[39mkwargs)\n\u001b[1;32m    972\u001b[0m \u001b[38;5;28;01mexcept\u001b[39;00m JSONDecodeError \u001b[38;5;28;01mas\u001b[39;00m e:\n\u001b[1;32m    973\u001b[0m     \u001b[38;5;66;03m# Catch JSON-related errors and raise as requests.JSONDecodeError\u001b[39;00m\n\u001b[1;32m    974\u001b[0m     \u001b[38;5;66;03m# This aliases json.JSONDecodeError and simplejson.JSONDecodeError\u001b[39;00m\n\u001b[0;32m--> 975\u001b[0m     \u001b[38;5;28;01mraise\u001b[39;00m RequestsJSONDecodeError(e\u001b[38;5;241m.\u001b[39mmsg, e\u001b[38;5;241m.\u001b[39mdoc, e\u001b[38;5;241m.\u001b[39mpos)\n",
      "\u001b[0;31mJSONDecodeError\u001b[0m: Expecting value: line 1 column 1 (char 0)"
     ]
    }
   ],
   "source": [
    "train_json_out = response.json()  # dict output\n",
    "# train_json_out = json.dumps(response.json())  # str output\n",
    "# train_json_out = json.dumps(response.json(), indent=4)  # str output w tabs"
   ]
  },
  {
   "cell_type": "code",
   "execution_count": null,
   "id": "8f6ecd72-e91e-4c3b-b8cd-b26e75ed2386",
   "metadata": {},
   "outputs": [],
   "source": [
    "train_json_out"
   ]
  },
  {
   "cell_type": "markdown",
   "id": "a5f8d92a-2ec6-438b-a756-bd956030bb2a",
   "metadata": {},
   "source": [
    "### **Forecast API**"
   ]
  },
  {
   "cell_type": "markdown",
   "id": "2a2598a4-6c6a-40dc-bc45-82fa0cc662eb",
   "metadata": {},
   "source": [
    "Forecast Dates: predict the next 2 years of air passenger data (1961-1962)"
   ]
  },
  {
   "cell_type": "code",
   "execution_count": null,
   "id": "138b6ede-3d9b-4d80-8d26-c3cabd21be66",
   "metadata": {},
   "outputs": [],
   "source": [
    "dates = [\n",
    "    \"1961-01-01\", \"1961-02-01\", \"1961-03-01\", \"1961-04-01\", \"1961-05-01\", \"1961-06-01\",\n",
    "    \"1961-07-01\", \"1961-08-01\", \"1961-09-01\", \"1961-10-01\", \"1961-11-01\", \"1961-12-01\",\n",
    "    \"1962-01-01\", \"1962-02-01\", \"1962-03-01\", \"1962-04-01\", \"1962-05-01\", \"1962-06-01\",\n",
    "    \"1962-07-01\", \"1962-08-01\", \"1962-09-01\", \"1962-10-01\", \"1962-11-01\", \"1962-12-01\",\n",
    "]"
   ]
  },
  {
   "cell_type": "markdown",
   "id": "9c54f592-5262-46ec-b651-555edd2edb49",
   "metadata": {},
   "source": [
    "Model from Train API"
   ]
  },
  {
   "cell_type": "code",
   "execution_count": null,
   "id": "44037535-5b07-40e2-b6a7-3e301d19deda",
   "metadata": {},
   "outputs": [],
   "source": [
    "model = train_json_out[\"model\"]"
   ]
  },
  {
   "cell_type": "markdown",
   "id": "ab30f283-f727-4d4e-8a92-791318ede6b4",
   "metadata": {},
   "source": [
    "Forecast API JSON Payload"
   ]
  },
  {
   "cell_type": "code",
   "execution_count": null,
   "id": "1fc68132-9353-4951-bed3-6b916eb52e44",
   "metadata": {},
   "outputs": [],
   "source": [
    "api_json = {\n",
    "    'model': model,\n",
    "    'predicts': dates\n",
    "}"
   ]
  },
  {
   "cell_type": "markdown",
   "id": "72336096-face-429d-99e7-70e55f79449f",
   "metadata": {},
   "source": [
    "Build URL (same as train except for the endpoint)"
   ]
  },
  {
   "cell_type": "code",
   "execution_count": null,
   "id": "98888d03-d90d-4694-a648-7ec375dd2c75",
   "metadata": {},
   "outputs": [],
   "source": [
    "endpoint = \"forecast\"\n",
    "\n",
    "url = \"%s://%s:%s/%s\" % (protocol, host, str(port), endpoint)"
   ]
  },
  {
   "cell_type": "markdown",
   "id": "8bfd1167-c0ef-4404-a9d4-441dbcdb9864",
   "metadata": {},
   "source": [
    "Call endpoint, receive response JSON, write to output file"
   ]
  },
  {
   "cell_type": "code",
   "execution_count": null,
   "id": "443ff168-22e0-42c4-8e93-742a3293cc81",
   "metadata": {},
   "outputs": [],
   "source": [
    "%%time\n",
    "# TODO: gain a accredited cert and remove verify=False\n",
    "response = requests.post(url, json=api_json, verify=False)"
   ]
  },
  {
   "cell_type": "code",
   "execution_count": null,
   "id": "a8968a73-f03c-4e0c-bf6c-d1e67f3bb7b8",
   "metadata": {},
   "outputs": [],
   "source": [
    "forecast_json_out = response.json()  # dict output\n",
    "# forecast_json_out = json.dumps(response.json())  # str output\n",
    "# forecast_json_out = json.dumps(response.json(), indent=4)  # str output w tabs"
   ]
  },
  {
   "cell_type": "code",
   "execution_count": null,
   "id": "cf135123-5f75-4d74-9188-70e617f87b3b",
   "metadata": {},
   "outputs": [],
   "source": [
    "forecast_json_out"
   ]
  },
  {
   "cell_type": "markdown",
   "id": "9d42cf65-1bd5-4ef3-a48d-52d44b702040",
   "metadata": {},
   "source": [
    "Combine forecast dates and output"
   ]
  },
  {
   "cell_type": "code",
   "execution_count": null,
   "id": "e819b0a7-4c42-4fb3-8785-057f9898f927",
   "metadata": {},
   "outputs": [],
   "source": [
    "forecast_data = list(zip(dates, forecast_json_out[\"data\"]))\n",
    "forecast_df = pd.DataFrame(forecast_data, columns = [\"ds\", \"y\"])"
   ]
  },
  {
   "cell_type": "code",
   "execution_count": null,
   "id": "0a7c0974-5279-4186-8f37-3ae2a24c5837",
   "metadata": {},
   "outputs": [],
   "source": [
    "forecast_df.shape"
   ]
  },
  {
   "cell_type": "code",
   "execution_count": null,
   "id": "f2a9507d-3127-4bec-930e-5ccd2248802e",
   "metadata": {},
   "outputs": [],
   "source": [
    "forecast_df.columns"
   ]
  },
  {
   "cell_type": "code",
   "execution_count": null,
   "id": "de1a02db-f5a5-497e-aee3-08f962c664f5",
   "metadata": {},
   "outputs": [],
   "source": [
    "forecast_df.head()"
   ]
  },
  {
   "cell_type": "code",
   "execution_count": null,
   "id": "508358d2-8319-49bc-bd94-c5da97b0b7a4",
   "metadata": {},
   "outputs": [],
   "source": [
    "forecast_df.tail()"
   ]
  },
  {
   "cell_type": "markdown",
   "id": "a86a090e-de22-4045-a055-45198f240e60",
   "metadata": {},
   "source": [
    "Plot train and forecast side-by-side"
   ]
  },
  {
   "cell_type": "code",
   "execution_count": null,
   "id": "8bc95c77-c93a-422b-a7da-551c67f0418e",
   "metadata": {},
   "outputs": [],
   "source": [
    "train_df[\"color\"] = \"b\"\n",
    "train_df.set_index(\"ds\").plot(figsize=figsize, color=train_df[\"color\"]);"
   ]
  },
  {
   "cell_type": "code",
   "execution_count": null,
   "id": "386d8c56-bf2a-4975-821e-ca4351146041",
   "metadata": {},
   "outputs": [],
   "source": [
    "forecast_df[\"color\"] = \"r\"\n",
    "forecast_df.set_index(\"ds\").plot(figsize=figsize, color=forecast_df[\"color\"]);"
   ]
  },
  {
   "cell_type": "markdown",
   "id": "5d09e17b-d4b1-4589-8756-d0b4e23cc532",
   "metadata": {},
   "source": [
    "Combine train and test sets"
   ]
  },
  {
   "cell_type": "code",
   "execution_count": null,
   "id": "2372cd4f-9014-4c4f-ba2f-58718094cf09",
   "metadata": {},
   "outputs": [],
   "source": [
    "df = pd.concat([train_df, forecast_df]).reset_index(drop=True)"
   ]
  },
  {
   "cell_type": "code",
   "execution_count": null,
   "id": "46736586-4f20-4f55-a758-148e3338a202",
   "metadata": {},
   "outputs": [],
   "source": [
    "df.shape"
   ]
  },
  {
   "cell_type": "code",
   "execution_count": null,
   "id": "b7f69447-161c-4a8a-95b7-64e4f230a524",
   "metadata": {},
   "outputs": [],
   "source": [
    "df.head()"
   ]
  },
  {
   "cell_type": "code",
   "execution_count": null,
   "id": "26c6a481-6000-4912-9fb8-875ab6ab44cc",
   "metadata": {},
   "outputs": [],
   "source": [
    "df.tail()"
   ]
  },
  {
   "cell_type": "markdown",
   "id": "50aa95fa-1317-4c96-af94-a3ded106e5cb",
   "metadata": {},
   "source": [
    "Plot combined train and test sets with the vertical black line as the cut-off"
   ]
  },
  {
   "cell_type": "code",
   "execution_count": null,
   "id": "91386104-8366-42f8-9cd7-f524a108c5bb",
   "metadata": {},
   "outputs": [],
   "source": [
    "df.set_index(\"ds\").plot(figsize=figsize, color=df[\"color\"])\n",
    "plt.axvline(x=len(train_df), color='black', label ='Train/Test set cut-off')\n",
    "plt.show();"
   ]
  },
  {
   "cell_type": "code",
   "execution_count": null,
   "id": "5ea7f1d1-e6b8-4208-b9c7-8c104ca28d4c",
   "metadata": {},
   "outputs": [],
   "source": []
  }
 ],
 "metadata": {
  "kernelspec": {
   "display_name": "dev:Python",
   "language": "python",
   "name": "conda-env-dev-py"
  },
  "language_info": {
   "codemirror_mode": {
    "name": "ipython",
    "version": 3
   },
   "file_extension": ".py",
   "mimetype": "text/x-python",
   "name": "python",
   "nbconvert_exporter": "python",
   "pygments_lexer": "ipython3",
   "version": "3.9.12"
  }
 },
 "nbformat": 4,
 "nbformat_minor": 5
}
