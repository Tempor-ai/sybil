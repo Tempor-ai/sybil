{
 "cells": [
  {
   "cell_type": "markdown",
   "id": "ec59431f-85d1-4b69-9ac5-8d690ad4b58a",
   "metadata": {},
   "source": [
    "## TOC:\n",
    "* [Datasets](#datasets-bullet)\n",
    "* [Logging Settings](#logging-bullet)\n",
    "* [Request](#requests-bullet)\n",
    "* [Forecast](#forecast-bullet)\n",
    "* [Save Results](#results-bullet)"
   ]
  },
  {
   "cell_type": "markdown",
   "id": "897b0c70-03a8-4597-8357-d30e293d8837",
   "metadata": {},
   "source": [
    "Additional to train api testing notebook features, this notebook contains \n",
    "- train test split for evaluation,\n",
    "- forecasting to see results,\n",
    "- metrics for forecasted period"
   ]
  },
  {
   "cell_type": "code",
   "execution_count": 1,
   "id": "4c7954a0-e6b4-4fa1-962b-83141e8b19cc",
   "metadata": {
    "ExecuteTime": {
     "end_time": "2023-10-19T19:33:49.931772Z",
     "start_time": "2023-10-19T19:33:49.571682600Z"
    },
    "tags": []
   },
   "outputs": [],
   "source": [
    "import json\n",
    "import yaml\n",
    "import requests\n",
    "import getpass\n",
    "import os\n",
    "import time\n",
    "import numpy as np\n",
    "import pandas as pd\n",
    "import matplotlib.pyplot as plt\n",
    "import seaborn as sns\n",
    "\n",
    "sns.set()"
   ]
  },
  {
   "cell_type": "markdown",
   "id": "5803bf7a-c9a5-4f08-8c3a-5ec41ddc067a",
   "metadata": {},
   "source": [
    "## Datasets <a class=\"anchor\" id=\"datasets-bullet\"></a>"
   ]
  },
  {
   "cell_type": "code",
   "execution_count": 2,
   "id": "1fcbdfb4-b690-46de-9d9e-62d283798c07",
   "metadata": {
    "tags": []
   },
   "outputs": [],
   "source": [
    "testing_datasets = [\n",
    "    {\n",
    "        \"file_name\": \"https://github.com/ourownstory/neuralprophet-data/raw/main/datasets/air_passengers.csv\",\n",
    "        \"format\": \"csv\",\n",
    "        \"time_col_index\": 0,\n",
    "        \"target_col_index\": -1,\n",
    "        \"exovar\": False,\n",
    "    },\n",
    "    {\n",
    "        \"file_name\": \"../datasets/air_quality/BeijingPM25_0.csv\",\n",
    "        \"format\": \"csv\",\n",
    "        \"time_col_index\": 0,\n",
    "        \"target_col_index\": -1,\n",
    "        \"exovar\": False,\n",
    "    }\n",
    "]"
   ]
  },
  {
   "cell_type": "code",
   "execution_count": 3,
   "id": "84524a83-6def-45e0-9307-0ac38329b4e1",
   "metadata": {
    "tags": []
   },
   "outputs": [],
   "source": [
    "TEST_PERIOD=7"
   ]
  },
  {
   "cell_type": "code",
   "execution_count": 4,
   "id": "2eb9147a-6613-4327-b1e3-3e63dde0fa8f",
   "metadata": {
    "tags": []
   },
   "outputs": [],
   "source": [
    "def prepare_dataset_forecast(dataset_info, test_period=TEST_PERIOD):\n",
    "    if dataset_info[\"format\"] == \"csv\":\n",
    "        train_df = pd.read_csv(dataset_info[\"file_name\"])\n",
    "        time_col = train_df.columns[dataset_info[\"time_col_index\"]]\n",
    "        target_col = train_df.columns[dataset_info[\"target_col_index\"]]\n",
    "        train_df[time_col] = train_df[time_col].astype(str)\n",
    "        train_df[target_col] = train_df[target_col].astype(float)\n",
    "        train_data = []\n",
    "        for value in train_df.values:\n",
    "            train_data.append(list(value))\n",
    "    return train_data[:-test_period], train_data[-test_period:]"
   ]
  },
  {
   "cell_type": "markdown",
   "id": "7a6a9028-16cc-4704-affa-f64a677cc1dd",
   "metadata": {},
   "source": [
    "## Logging Settings <a class=\"anchor\" id=\"logging-bullet\"></a>"
   ]
  },
  {
   "cell_type": "code",
   "execution_count": 20,
   "id": "3f2eb7b1-b071-438b-9431-50c096cba403",
   "metadata": {
    "tags": []
   },
   "outputs": [],
   "source": [
    "LOG_RESULTS = True"
   ]
  },
  {
   "cell_type": "code",
   "execution_count": 6,
   "id": "91e0c07c-3262-4d19-b135-94d704269aed",
   "metadata": {
    "tags": []
   },
   "outputs": [],
   "source": [
    "user_name = getpass.getuser()"
   ]
  },
  {
   "cell_type": "code",
   "execution_count": 7,
   "id": "27e67916-35ea-4a5d-9885-2f467d3595f2",
   "metadata": {
    "tags": []
   },
   "outputs": [
    {
     "name": "stdout",
     "output_type": "stream",
     "text": [
      "./test_logs/test_logs_forecast_studio-lab-user.csv\n"
     ]
    }
   ],
   "source": [
    "output_file_name = \"./test_logs/test_logs_forecast_{}.csv\".format(user_name)\n",
    "print(output_file_name)\n",
    "\n",
    "column_names = [\"file_name\", \"model_request\", \"user\", \"time\", \"response\", \n",
    "                \"type\", \"metrics\", \"model\", \"test_data\"]\n",
    "log_df = pd.DataFrame(columns=column_names)"
   ]
  },
  {
   "cell_type": "markdown",
   "id": "f7915419-8326-4825-a67a-06a4099e1bee",
   "metadata": {
    "tags": []
   },
   "source": [
    "## Request <a class=\"anchor\" id=\"requests-bullet\"></a>"
   ]
  },
  {
   "cell_type": "markdown",
   "id": "622db7d3-3432-44b3-90ae-f08f34ca904e",
   "metadata": {},
   "source": [
    "Define Model Request (optional)"
   ]
  },
  {
   "cell_type": "code",
   "execution_count": 8,
   "id": "e0faaf9c-4330-4cfe-9c12-ac230a638a2a",
   "metadata": {
    "ExecuteTime": {
     "end_time": "2023-10-19T19:33:50.696629Z",
     "start_time": "2023-10-19T19:33:50.621861300Z"
    },
    "tags": []
   },
   "outputs": [],
   "source": [
    "# Customized model request\n",
    "model_request = {\n",
    "    \"type\": \"meta_lr\",  # 'meta_wa'\n",
    "    \"scorers\": [\"smape\", \"mape\"],\n",
    "    \"params\": {\n",
    "        \"preprocessors\": [\n",
    "            {\"type\": \"dartsimputer\", \"params\": {\"strategy\": \"mean\"}},\n",
    "            # {'type': 'simpleimputer', 'params': {'strategy': 'mean'}},\n",
    "            {\"type\": \"minmaxscaler\"},\n",
    "        ],\n",
    "        \"base_models\": [\n",
    "            {\"type\": \"darts_naive\"},\n",
    "            {\"type\": \"darts_seasonalnaive\"},\n",
    "            {\"type\": \"darts_autotheta\"},\n",
    "            {\"type\": \"darts_autoets\"},\n",
    "            {\"type\": \"darts_autoarima\"},\n",
    "            #{\"type\": \"darts_tbats\"},\n",
    "            #{\"type\": \"darts_linearregression\"},\n",
    "            # {'type': 'darts_lightgbm'},\n",
    "            # {'type': 'darts_rnn'},\n",
    "        ],\n",
    "    },\n",
    "}"
   ]
  },
  {
   "cell_type": "code",
   "execution_count": 9,
   "id": "a0ce99e4-70ba-4368-be80-436fa6290c73",
   "metadata": {
    "tags": []
   },
   "outputs": [],
   "source": [
    "with open(\"url.yaml\", \"r\") as file:\n",
    "    url_dict = yaml.safe_load(file)\n",
    "\n",
    "# URL to our SYBIL AWS service\n",
    "protocol = url_dict[\"protocol\"]\n",
    "host = url_dict[\"host\"]\n",
    "port = url_dict[\"port\"]\n",
    "endpoint = \"train\"\n",
    "\n",
    "url = \"%s://%s:%s/%s\" % (protocol, host, str(port), endpoint)"
   ]
  },
  {
   "cell_type": "code",
   "execution_count": 10,
   "id": "70ce4c71-8e94-4ee9-99a1-0dc898566abc",
   "metadata": {
    "tags": []
   },
   "outputs": [
    {
     "name": "stdout",
     "output_type": "stream",
     "text": [
      "<Response [200]>\n",
      "<Response [200]>\n"
     ]
    }
   ],
   "source": [
    "for dataset in testing_datasets:\n",
    "    train_data, test_data = prepare_dataset_forecast(dataset)\n",
    "    api_json = {\n",
    "        \"data\": train_data,\n",
    "        \"model\": model_request,  # (optional) can be commented out\n",
    "    }\n",
    "    start_time = time.time()\n",
    "    response = requests.post(url, json=api_json)\n",
    "    exc_time = time.time() - start_time\n",
    "    model_req = api_json[\"model\"] if \"model\" in api_json.keys() else \"default\"\n",
    "    new_row = pd.DataFrame(\n",
    "        [\n",
    "            {\n",
    "                \"file_name\": dataset[\"file_name\"],\n",
    "                \"model_request\": model_req,\n",
    "                \"user\": user_name,\n",
    "                \"time\": exc_time,\n",
    "                \"response\": response.status_code,\n",
    "                \"type\": response.json()['type'],\n",
    "                \"metrics\": response.json()['metrics'],\n",
    "                \"model\": response.json()['model'],\n",
    "                \"test_data\": test_data\n",
    "            }\n",
    "        ]\n",
    "    )\n",
    "    log_df = pd.concat([log_df, new_row], ignore_index=True)\n",
    "    print(response)"
   ]
  },
  {
   "cell_type": "markdown",
   "id": "1422fb02-e1ac-434e-b26a-47fe8c0ed488",
   "metadata": {},
   "source": [
    "## Forecast <a class=\"anchor\" id=\"forecast-bullet\"></a>"
   ]
  },
  {
   "cell_type": "code",
   "execution_count": 12,
   "id": "017c91fa-9a76-4323-b89f-6fc80aabf9c0",
   "metadata": {
    "tags": []
   },
   "outputs": [],
   "source": [
    "responses = []\n",
    "for idx, row in log_df.iterrows():\n",
    "    dates = list(np.array(row['test_data'])[:,0])\n",
    "    model = row['model']\n",
    "    api_json = {\n",
    "                    'model': model,\n",
    "                    'data': dates\n",
    "                }\n",
    "    endpoint = 'forecast'\n",
    "    url = '%s://%s:%s/%s' % (protocol, host, str(port), endpoint)\n",
    "    response = requests.post(url, json=api_json)\n",
    "    responses.append(response.json()['data'])"
   ]
  },
  {
   "cell_type": "code",
   "execution_count": 14,
   "id": "da48ff94-87bc-4f79-86e7-8d6d6ef6642e",
   "metadata": {
    "tags": []
   },
   "outputs": [],
   "source": [
    "log_df['forecast_data'] = responses"
   ]
  },
  {
   "cell_type": "code",
   "execution_count": 18,
   "id": "3210a695-46c2-489b-b676-b5665ff367c3",
   "metadata": {},
   "outputs": [
    {
     "data": {
      "text/html": [
       "<div>\n",
       "<style scoped>\n",
       "    .dataframe tbody tr th:only-of-type {\n",
       "        vertical-align: middle;\n",
       "    }\n",
       "\n",
       "    .dataframe tbody tr th {\n",
       "        vertical-align: top;\n",
       "    }\n",
       "\n",
       "    .dataframe thead th {\n",
       "        text-align: right;\n",
       "    }\n",
       "</style>\n",
       "<table border=\"1\" class=\"dataframe\">\n",
       "  <thead>\n",
       "    <tr style=\"text-align: right;\">\n",
       "      <th></th>\n",
       "      <th>test</th>\n",
       "      <th>pred</th>\n",
       "    </tr>\n",
       "  </thead>\n",
       "  <tbody>\n",
       "    <tr>\n",
       "      <th>0</th>\n",
       "      <td>535.0</td>\n",
       "      <td>536.6447784284949</td>\n",
       "    </tr>\n",
       "    <tr>\n",
       "      <th>1</th>\n",
       "      <td>622.0</td>\n",
       "      <td>624.7126156353609</td>\n",
       "    </tr>\n",
       "    <tr>\n",
       "      <th>2</th>\n",
       "      <td>606.0</td>\n",
       "      <td>640.3087357562652</td>\n",
       "    </tr>\n",
       "    <tr>\n",
       "      <th>3</th>\n",
       "      <td>508.0</td>\n",
       "      <td>528.9142194897604</td>\n",
       "    </tr>\n",
       "    <tr>\n",
       "      <th>4</th>\n",
       "      <td>461.0</td>\n",
       "      <td>470.3129232763376</td>\n",
       "    </tr>\n",
       "    <tr>\n",
       "      <th>5</th>\n",
       "      <td>390.0</td>\n",
       "      <td>425.80237944609354</td>\n",
       "    </tr>\n",
       "    <tr>\n",
       "      <th>6</th>\n",
       "      <td>432.0</td>\n",
       "      <td>472.80518427899443</td>\n",
       "    </tr>\n",
       "  </tbody>\n",
       "</table>\n",
       "</div>"
      ],
      "text/plain": [
       "    test                pred\n",
       "0  535.0   536.6447784284949\n",
       "1  622.0   624.7126156353609\n",
       "2  606.0   640.3087357562652\n",
       "3  508.0   528.9142194897604\n",
       "4  461.0   470.3129232763376\n",
       "5  390.0  425.80237944609354\n",
       "6  432.0  472.80518427899443"
      ]
     },
     "metadata": {},
     "output_type": "display_data"
    },
    {
     "data": {
      "text/html": [
       "<div>\n",
       "<style scoped>\n",
       "    .dataframe tbody tr th:only-of-type {\n",
       "        vertical-align: middle;\n",
       "    }\n",
       "\n",
       "    .dataframe tbody tr th {\n",
       "        vertical-align: top;\n",
       "    }\n",
       "\n",
       "    .dataframe thead th {\n",
       "        text-align: right;\n",
       "    }\n",
       "</style>\n",
       "<table border=\"1\" class=\"dataframe\">\n",
       "  <thead>\n",
       "    <tr style=\"text-align: right;\">\n",
       "      <th></th>\n",
       "      <th>test</th>\n",
       "      <th>pred</th>\n",
       "    </tr>\n",
       "  </thead>\n",
       "  <tbody>\n",
       "    <tr>\n",
       "      <th>0</th>\n",
       "      <td>9.0</td>\n",
       "      <td>244.06093488531084</td>\n",
       "    </tr>\n",
       "    <tr>\n",
       "      <th>1</th>\n",
       "      <td>10.0</td>\n",
       "      <td>244.48628522951086</td>\n",
       "    </tr>\n",
       "    <tr>\n",
       "      <th>2</th>\n",
       "      <td>8.0</td>\n",
       "      <td>244.63454529401204</td>\n",
       "    </tr>\n",
       "    <tr>\n",
       "      <th>3</th>\n",
       "      <td>10.0</td>\n",
       "      <td>244.8708786939524</td>\n",
       "    </tr>\n",
       "    <tr>\n",
       "      <th>4</th>\n",
       "      <td>10.0</td>\n",
       "      <td>245.1138124924792</td>\n",
       "    </tr>\n",
       "    <tr>\n",
       "      <th>5</th>\n",
       "      <td>8.0</td>\n",
       "      <td>245.36014990794823</td>\n",
       "    </tr>\n",
       "    <tr>\n",
       "      <th>6</th>\n",
       "      <td>12.0</td>\n",
       "      <td>245.59873940475293</td>\n",
       "    </tr>\n",
       "  </tbody>\n",
       "</table>\n",
       "</div>"
      ],
      "text/plain": [
       "   test                pred\n",
       "0   9.0  244.06093488531084\n",
       "1  10.0  244.48628522951086\n",
       "2   8.0  244.63454529401204\n",
       "3  10.0   244.8708786939524\n",
       "4  10.0   245.1138124924792\n",
       "5   8.0  245.36014990794823\n",
       "6  12.0  245.59873940475293"
      ]
     },
     "metadata": {},
     "output_type": "display_data"
    }
   ],
   "source": [
    "# Comparison of the results\n",
    "for idx, row in log_df.iterrows():\n",
    "    comparison_df = pd.DataFrame({'test':list(np.array(row['test_data'])[:,1]),\n",
    "                'pred':list(np.array(row['forecast_data'])[:,1])})\n",
    "    display(comparison_df)"
   ]
  },
  {
   "cell_type": "markdown",
   "id": "857434e1-28c2-4f01-b1af-05cbf8ba02d3",
   "metadata": {},
   "source": [
    "## Save Results <a class=\"anchor\" id=\"results-bullet\"></a>"
   ]
  },
  {
   "cell_type": "code",
   "execution_count": 19,
   "id": "4e065a7f-614b-4d13-ad56-929de48f606f",
   "metadata": {
    "tags": []
   },
   "outputs": [
    {
     "data": {
      "text/html": [
       "<div>\n",
       "<style scoped>\n",
       "    .dataframe tbody tr th:only-of-type {\n",
       "        vertical-align: middle;\n",
       "    }\n",
       "\n",
       "    .dataframe tbody tr th {\n",
       "        vertical-align: top;\n",
       "    }\n",
       "\n",
       "    .dataframe thead th {\n",
       "        text-align: right;\n",
       "    }\n",
       "</style>\n",
       "<table border=\"1\" class=\"dataframe\">\n",
       "  <thead>\n",
       "    <tr style=\"text-align: right;\">\n",
       "      <th></th>\n",
       "      <th>file_name</th>\n",
       "      <th>model_request</th>\n",
       "      <th>user</th>\n",
       "      <th>time</th>\n",
       "      <th>response</th>\n",
       "      <th>type</th>\n",
       "      <th>metrics</th>\n",
       "      <th>model</th>\n",
       "      <th>test_data</th>\n",
       "      <th>forecast_data</th>\n",
       "    </tr>\n",
       "  </thead>\n",
       "  <tbody>\n",
       "    <tr>\n",
       "      <th>0</th>\n",
       "      <td>https://github.com/ourownstory/neuralprophet-d...</td>\n",
       "      <td>{'type': 'meta_lr', 'scorers': ['smape', 'mape...</td>\n",
       "      <td>studio-lab-user</td>\n",
       "      <td>60.140282</td>\n",
       "      <td>200</td>\n",
       "      <td>meta_lr</td>\n",
       "      <td>[{'type': 'smape', 'value': 4.667966174549589}...</td>\n",
       "      <td>AgEBCNHWAADQ1gAAUXcAABgAAABMdwAASg4AAD+AAGVsaZ...</td>\n",
       "      <td>[[1960-06-01, 535.0], [1960-07-01, 622.0], [19...</td>\n",
       "      <td>[[1960-05-31T00:00:00, 536.6447784284949], [19...</td>\n",
       "    </tr>\n",
       "    <tr>\n",
       "      <th>1</th>\n",
       "      <td>../datasets/air_quality/BeijingPM25_0.csv</td>\n",
       "      <td>{'type': 'meta_lr', 'scorers': ['smape', 'mape...</td>\n",
       "      <td>studio-lab-user</td>\n",
       "      <td>1127.717623</td>\n",
       "      <td>200</td>\n",
       "      <td>meta_lr</td>\n",
       "      <td>[{'type': 'smape', 'value': 200.0}, {'type': '...</td>\n",
       "      <td>AgEBCPQYcwAAABAAvUxHADAAAACatg4A9bkBAOctPABiih...</td>\n",
       "      <td>[[2014-12-31 17:00:00, 9.0], [2014-12-31 18:00...</td>\n",
       "      <td>[[2014-12-31T17:00:00, 244.06093488531084], [2...</td>\n",
       "    </tr>\n",
       "  </tbody>\n",
       "</table>\n",
       "</div>"
      ],
      "text/plain": [
       "                                           file_name  \\\n",
       "0  https://github.com/ourownstory/neuralprophet-d...   \n",
       "1          ../datasets/air_quality/BeijingPM25_0.csv   \n",
       "\n",
       "                                       model_request             user  \\\n",
       "0  {'type': 'meta_lr', 'scorers': ['smape', 'mape...  studio-lab-user   \n",
       "1  {'type': 'meta_lr', 'scorers': ['smape', 'mape...  studio-lab-user   \n",
       "\n",
       "          time response     type  \\\n",
       "0    60.140282      200  meta_lr   \n",
       "1  1127.717623      200  meta_lr   \n",
       "\n",
       "                                             metrics  \\\n",
       "0  [{'type': 'smape', 'value': 4.667966174549589}...   \n",
       "1  [{'type': 'smape', 'value': 200.0}, {'type': '...   \n",
       "\n",
       "                                               model  \\\n",
       "0  AgEBCNHWAADQ1gAAUXcAABgAAABMdwAASg4AAD+AAGVsaZ...   \n",
       "1  AgEBCPQYcwAAABAAvUxHADAAAACatg4A9bkBAOctPABiih...   \n",
       "\n",
       "                                           test_data  \\\n",
       "0  [[1960-06-01, 535.0], [1960-07-01, 622.0], [19...   \n",
       "1  [[2014-12-31 17:00:00, 9.0], [2014-12-31 18:00...   \n",
       "\n",
       "                                       forecast_data  \n",
       "0  [[1960-05-31T00:00:00, 536.6447784284949], [19...  \n",
       "1  [[2014-12-31T17:00:00, 244.06093488531084], [2...  "
      ]
     },
     "execution_count": 19,
     "metadata": {},
     "output_type": "execute_result"
    }
   ],
   "source": [
    "# Logs\n",
    "log_df"
   ]
  },
  {
   "cell_type": "code",
   "execution_count": null,
   "id": "ffeb212e-c731-4e46-8ab8-0aaa82506135",
   "metadata": {
    "tags": []
   },
   "outputs": [],
   "source": [
    "log_df['model_request'].iloc[0]"
   ]
  },
  {
   "cell_type": "code",
   "execution_count": null,
   "id": "09b7deae-c617-4671-900c-aa6c873de72e",
   "metadata": {
    "tags": []
   },
   "outputs": [],
   "source": [
    "# Broken runs\n",
    "log_df[log_df['response'] != 200]"
   ]
  },
  {
   "cell_type": "code",
   "execution_count": null,
   "id": "4bea5f0e-af6d-4330-9221-ad8fd97276e8",
   "metadata": {
    "tags": []
   },
   "outputs": [],
   "source": [
    "if LOG_RESULTS:\n",
    "    if os.path.exists(output_file_name):\n",
    "        existing_log_df = pd.read_csv(output_file_name)\n",
    "        updated_df = pd.concat([existing_log_df, log_df], ignore_index=True)\n",
    "    else:\n",
    "        updated_df = log_df\n",
    "    updated_df.to_csv(output_file_name, index=False)"
   ]
  },
  {
   "cell_type": "code",
   "execution_count": null,
   "id": "fc90b3d4-a050-4b7e-8d85-0d7c41e2bf21",
   "metadata": {},
   "outputs": [],
   "source": []
  },
  {
   "cell_type": "code",
   "execution_count": null,
   "id": "b849d65b-1f07-423c-b320-0e8b22c46e58",
   "metadata": {},
   "outputs": [],
   "source": []
  }
 ],
 "metadata": {
  "kernelspec": {
   "display_name": "darts1:Python",
   "language": "python",
   "name": "conda-env-darts1-py"
  },
  "language_info": {
   "codemirror_mode": {
    "name": "ipython",
    "version": 3
   },
   "file_extension": ".py",
   "mimetype": "text/x-python",
   "name": "python",
   "nbconvert_exporter": "python",
   "pygments_lexer": "ipython3",
   "version": "3.9.18"
  }
 },
 "nbformat": 4,
 "nbformat_minor": 5
}
