{
 "cells": [
  {
   "cell_type": "markdown",
   "id": "ec59431f-85d1-4b69-9ac5-8d690ad4b58a",
   "metadata": {},
   "source": [
    "## TOC:\n",
    "* [Datasets](#datasets-bullet)\n",
    "* [Logging Settings](#logging-bullet)\n",
    "* [Request](#requests-bullet)\n",
    "* [Save Results](#results-bullet)"
   ]
  },
  {
   "cell_type": "code",
   "execution_count": 13,
   "id": "4c7954a0-e6b4-4fa1-962b-83141e8b19cc",
   "metadata": {
    "ExecuteTime": {
     "end_time": "2023-10-19T19:33:49.931772Z",
     "start_time": "2023-10-19T19:33:49.571682600Z"
    },
    "tags": []
   },
   "outputs": [],
   "source": [
    "import json\n",
    "import yaml\n",
    "import requests\n",
    "import getpass\n",
    "import os\n",
    "import time\n",
    "import pandas as pd\n",
    "import matplotlib.pyplot as plt\n",
    "import seaborn as sns\n",
    "\n",
    "sns.set()"
   ]
  },
  {
   "cell_type": "markdown",
   "id": "5803bf7a-c9a5-4f08-8c3a-5ec41ddc067a",
   "metadata": {},
   "source": [
    "## Datasets <a class=\"anchor\" id=\"datasets-bullet\"></a>"
   ]
  },
  {
   "cell_type": "code",
   "execution_count": 14,
   "id": "1fcbdfb4-b690-46de-9d9e-62d283798c07",
   "metadata": {
    "tags": []
   },
   "outputs": [],
   "source": [
    "testing_datasets = [\n",
    "    {\n",
    "        \"file_name\": \"https://github.com/ourownstory/neuralprophet-data/raw/main/datasets/air_passengers.csv\",\n",
    "        \"format\": \"csv\",\n",
    "        \"time_col_index\": 0,\n",
    "        \"target_col_index\": -1,\n",
    "        \"exovar\": False,\n",
    "    },\n",
    "    {\n",
    "        \"file_name\": \"../datasets/air_quality/BeijingPM25_0.csv\",\n",
    "        \"format\": \"csv\",\n",
    "        \"time_col_index\": 0,\n",
    "        \"target_col_index\": -1,\n",
    "        \"exovar\": False,\n",
    "    }\n",
    "]"
   ]
  },
  {
   "cell_type": "code",
   "execution_count": 15,
   "id": "2eb9147a-6613-4327-b1e3-3e63dde0fa8f",
   "metadata": {
    "tags": []
   },
   "outputs": [],
   "source": [
    "def prepare_dataset(dataset_info):\n",
    "    if dataset_info[\"format\"] == \"csv\":\n",
    "        train_df = pd.read_csv(dataset_info[\"file_name\"])\n",
    "        time_col = train_df.columns[dataset_info[\"time_col_index\"]]\n",
    "        target_col = train_df.columns[dataset_info[\"target_col_index\"]]\n",
    "        train_df[time_col] = train_df[time_col].astype(str)\n",
    "        train_df[target_col] = train_df[target_col].astype(float)\n",
    "        train_data = []\n",
    "        for value in train_df.values:\n",
    "            train_data.append(list(value))\n",
    "    return train_data"
   ]
  },
  {
   "cell_type": "markdown",
   "id": "7a6a9028-16cc-4704-affa-f64a677cc1dd",
   "metadata": {},
   "source": [
    "## Logging Settings <a class=\"anchor\" id=\"logging-bullet\"></a>"
   ]
  },
  {
   "cell_type": "code",
   "execution_count": 16,
   "id": "3f2eb7b1-b071-438b-9431-50c096cba403",
   "metadata": {
    "tags": []
   },
   "outputs": [],
   "source": [
    "LOG_RESULTS = True"
   ]
  },
  {
   "cell_type": "code",
   "execution_count": 17,
   "id": "91e0c07c-3262-4d19-b135-94d704269aed",
   "metadata": {
    "tags": []
   },
   "outputs": [],
   "source": [
    "user_name = getpass.getuser()"
   ]
  },
  {
   "cell_type": "code",
   "execution_count": 18,
   "id": "27e67916-35ea-4a5d-9885-2f467d3595f2",
   "metadata": {
    "tags": []
   },
   "outputs": [
    {
     "name": "stdout",
     "output_type": "stream",
     "text": [
      "./test_logs/test_logs_parvb.csv\n"
     ]
    }
   ],
   "source": [
    "output_file_name = \"./test_logs/test_logs_{}.csv\".format(user_name)\n",
    "print(output_file_name)\n",
    "\n",
    "column_names = [\"file_name\", \"model_request\", \"user\", \"time\", \"response\", \"type\", \"metrics\"]\n",
    "log_df = pd.DataFrame(columns=column_names)"
   ]
  },
  {
   "cell_type": "markdown",
   "id": "f7915419-8326-4825-a67a-06a4099e1bee",
   "metadata": {
    "tags": []
   },
   "source": [
    "## Request <a class=\"anchor\" id=\"requests-bullet\"></a>"
   ]
  },
  {
   "cell_type": "markdown",
   "id": "622db7d3-3432-44b3-90ae-f08f34ca904e",
   "metadata": {},
   "source": [
    "Define Model Request (optional)"
   ]
  },
  {
   "cell_type": "code",
   "execution_count": 19,
   "id": "e0faaf9c-4330-4cfe-9c12-ac230a638a2a",
   "metadata": {
    "ExecuteTime": {
     "end_time": "2023-10-19T19:33:50.696629Z",
     "start_time": "2023-10-19T19:33:50.621861300Z"
    },
    "tags": []
   },
   "outputs": [],
   "source": [
    "# # Customized model request\n",
    "# model_request = {\n",
    "#     \"type\": \"meta_lr\",  # 'meta_wa'\n",
    "#     \"scorers\": [\"smape\", \"mape\"],\n",
    "#     \"params\": {\n",
    "#         \"preprocessors\": [\n",
    "#             {\"type\": \"dartsimputer\", \"params\": {\"strategy\": \"mean\"}},\n",
    "#             # {'type': 'simpleimputer', 'params': {'strategy': 'mean'}},\n",
    "#             {\"type\": \"minmaxscaler\"},\n",
    "#         ],\n",
    "#         \"base_models\": [\n",
    "#             {\"type\": \"darts_naive\"},\n",
    "#             {\"type\": \"darts_seasonalnaive\"},\n",
    "#             {\"type\": \"darts_autotheta\"},\n",
    "#             {\"type\": \"darts_autoets\"},\n",
    "#             {\"type\": \"darts_autoarima\"},\n",
    "#             #{\"type\": \"darts_tbats\"},\n",
    "#             #{\"type\": \"darts_linearregression\"},\n",
    "#             # {'type': 'darts_lightgbm'},\n",
    "#             # {'type': 'darts_rnn'},\n",
    "#         ],\n",
    "#     },\n",
    "# }"
   ]
  },
  {
   "cell_type": "markdown",
   "id": "e2804214",
   "metadata": {},
   "source": [
    "Load using JSON model request  "
   ]
  },
  {
   "cell_type": "code",
   "execution_count": 20,
   "id": "88299830",
   "metadata": {},
   "outputs": [],
   "source": [
    "file_path = 'model_request.json'\n",
    "# For writing the model request to a json file\n",
    "with open(file_path, 'r') as file:\n",
    "    model_request = json.load(file)"
   ]
  },
  {
   "cell_type": "markdown",
   "id": "c7200fb3",
   "metadata": {},
   "source": [
    "Load using YAML model request  "
   ]
  },
  {
   "cell_type": "code",
   "execution_count": 21,
   "id": "a32cbcd1",
   "metadata": {},
   "outputs": [],
   "source": [
    "# file_path = 'model_request.yaml'\n",
    "# # For reading the model request from a yaml file\n",
    "# with open(file_path, 'r') as file:\n",
    "#     model_request = yaml.safe_load(file)"
   ]
  },
  {
   "cell_type": "code",
   "execution_count": 22,
   "id": "a0ce99e4-70ba-4368-be80-436fa6290c73",
   "metadata": {
    "tags": []
   },
   "outputs": [],
   "source": [
    "with open(\"url.yaml\", \"r\") as file:\n",
    "    url_dict = yaml.safe_load(file)\n",
    "\n",
    "# URL to our SYBIL AWS service\n",
    "protocol = url_dict[\"protocol\"]\n",
    "host = url_dict[\"host\"]\n",
    "port = url_dict[\"port\"]\n",
    "endpoint = \"train\"\n",
    "\n",
    "url = \"%s://%s:%s/%s\" % (protocol, host, str(port), endpoint)"
   ]
  },
  {
   "cell_type": "code",
   "execution_count": 23,
   "id": "70ce4c71-8e94-4ee9-99a1-0dc898566abc",
   "metadata": {
    "tags": []
   },
   "outputs": [
    {
     "name": "stdout",
     "output_type": "stream",
     "text": [
      "<Response [200]>\n",
      "<Response [200]>\n"
     ]
    }
   ],
   "source": [
    "for dataset in testing_datasets:\n",
    "    train_data = prepare_dataset(dataset)\n",
    "    api_json = {\n",
    "        \"data\": train_data,\n",
    "        \"model\": model_request,  # (optional) can be commented out\n",
    "    }\n",
    "    start_time = time.time()\n",
    "    response = requests.post(url, json=api_json)\n",
    "    exc_time = time.time() - start_time\n",
    "    model_req = api_json[\"model\"] if \"model\" in api_json.keys() else \"default\"\n",
    "    new_row = pd.DataFrame(\n",
    "        [\n",
    "            {\n",
    "                \"file_name\": dataset[\"file_name\"],\n",
    "                \"model_request\": model_req,\n",
    "                \"user\": user_name,\n",
    "                \"time\": exc_time,\n",
    "                \"response\": response.status_code,\n",
    "                \"type\": response.json()['type'],\n",
    "                \"metrics\": response.json()['metrics']\n",
    "            }\n",
    "        ]\n",
    "    )\n",
    "    log_df = pd.concat([log_df, new_row], ignore_index=True)\n",
    "    print(response)"
   ]
  },
  {
   "cell_type": "markdown",
   "id": "857434e1-28c2-4f01-b1af-05cbf8ba02d3",
   "metadata": {},
   "source": [
    "## Save Results <a class=\"anchor\" id=\"results-bullet\"></a>"
   ]
  },
  {
   "cell_type": "code",
   "execution_count": 24,
   "id": "4e065a7f-614b-4d13-ad56-929de48f606f",
   "metadata": {
    "tags": []
   },
   "outputs": [
    {
     "data": {
      "text/html": [
       "<div>\n",
       "<style scoped>\n",
       "    .dataframe tbody tr th:only-of-type {\n",
       "        vertical-align: middle;\n",
       "    }\n",
       "\n",
       "    .dataframe tbody tr th {\n",
       "        vertical-align: top;\n",
       "    }\n",
       "\n",
       "    .dataframe thead th {\n",
       "        text-align: right;\n",
       "    }\n",
       "</style>\n",
       "<table border=\"1\" class=\"dataframe\">\n",
       "  <thead>\n",
       "    <tr style=\"text-align: right;\">\n",
       "      <th></th>\n",
       "      <th>file_name</th>\n",
       "      <th>model_request</th>\n",
       "      <th>user</th>\n",
       "      <th>time</th>\n",
       "      <th>response</th>\n",
       "      <th>type</th>\n",
       "      <th>metrics</th>\n",
       "    </tr>\n",
       "  </thead>\n",
       "  <tbody>\n",
       "    <tr>\n",
       "      <th>0</th>\n",
       "      <td>https://github.com/ourownstory/neuralprophet-d...</td>\n",
       "      <td>{'type': 'meta_lr', 'scorers': ['smape', 'mape...</td>\n",
       "      <td>parvb</td>\n",
       "      <td>56.739597</td>\n",
       "      <td>200</td>\n",
       "      <td>meta_lr</td>\n",
       "      <td>[{'type': 'smape', 'value': 3.694321533128671}...</td>\n",
       "    </tr>\n",
       "    <tr>\n",
       "      <th>1</th>\n",
       "      <td>../datasets/air_quality/BeijingPM25_0.csv</td>\n",
       "      <td>{'type': 'meta_lr', 'scorers': ['smape', 'mape...</td>\n",
       "      <td>parvb</td>\n",
       "      <td>742.208511</td>\n",
       "      <td>200</td>\n",
       "      <td>meta_lr</td>\n",
       "      <td>[{'type': 'smape', 'value': 83.32473483341317}...</td>\n",
       "    </tr>\n",
       "  </tbody>\n",
       "</table>\n",
       "</div>"
      ],
      "text/plain": [
       "                                           file_name  \\\n",
       "0  https://github.com/ourownstory/neuralprophet-d...   \n",
       "1          ../datasets/air_quality/BeijingPM25_0.csv   \n",
       "\n",
       "                                       model_request   user        time  \\\n",
       "0  {'type': 'meta_lr', 'scorers': ['smape', 'mape...  parvb   56.739597   \n",
       "1  {'type': 'meta_lr', 'scorers': ['smape', 'mape...  parvb  742.208511   \n",
       "\n",
       "  response     type                                            metrics  \n",
       "0      200  meta_lr  [{'type': 'smape', 'value': 3.694321533128671}...  \n",
       "1      200  meta_lr  [{'type': 'smape', 'value': 83.32473483341317}...  "
      ]
     },
     "execution_count": 24,
     "metadata": {},
     "output_type": "execute_result"
    }
   ],
   "source": [
    "# Logs\n",
    "log_df"
   ]
  },
  {
   "cell_type": "code",
   "execution_count": 25,
   "id": "ffeb212e-c731-4e46-8ab8-0aaa82506135",
   "metadata": {
    "tags": []
   },
   "outputs": [
    {
     "data": {
      "text/plain": [
       "{'type': 'meta_lr',\n",
       " 'scorers': ['smape', 'mape'],\n",
       " 'params': {'preprocessors': [{'type': 'dartsimputer',\n",
       "    'params': {'strategy': 'mean'}},\n",
       "   {'type': 'minmaxscaler'}],\n",
       "  'base_models': [{'type': 'darts_naive'},\n",
       "   {'type': 'darts_seasonalnaive'},\n",
       "   {'type': 'darts_autotheta'},\n",
       "   {'type': 'darts_autoets'},\n",
       "   {'type': 'darts_autoarima'}]}}"
      ]
     },
     "execution_count": 25,
     "metadata": {},
     "output_type": "execute_result"
    }
   ],
   "source": [
    "log_df['model_request'].iloc[0]"
   ]
  },
  {
   "cell_type": "code",
   "execution_count": 26,
   "id": "09b7deae-c617-4671-900c-aa6c873de72e",
   "metadata": {
    "tags": []
   },
   "outputs": [
    {
     "data": {
      "text/html": [
       "<div>\n",
       "<style scoped>\n",
       "    .dataframe tbody tr th:only-of-type {\n",
       "        vertical-align: middle;\n",
       "    }\n",
       "\n",
       "    .dataframe tbody tr th {\n",
       "        vertical-align: top;\n",
       "    }\n",
       "\n",
       "    .dataframe thead th {\n",
       "        text-align: right;\n",
       "    }\n",
       "</style>\n",
       "<table border=\"1\" class=\"dataframe\">\n",
       "  <thead>\n",
       "    <tr style=\"text-align: right;\">\n",
       "      <th></th>\n",
       "      <th>file_name</th>\n",
       "      <th>model_request</th>\n",
       "      <th>user</th>\n",
       "      <th>time</th>\n",
       "      <th>response</th>\n",
       "      <th>type</th>\n",
       "      <th>metrics</th>\n",
       "    </tr>\n",
       "  </thead>\n",
       "  <tbody>\n",
       "  </tbody>\n",
       "</table>\n",
       "</div>"
      ],
      "text/plain": [
       "Empty DataFrame\n",
       "Columns: [file_name, model_request, user, time, response, type, metrics]\n",
       "Index: []"
      ]
     },
     "execution_count": 26,
     "metadata": {},
     "output_type": "execute_result"
    }
   ],
   "source": [
    "# Broken runs\n",
    "log_df[log_df['response'] != 200]"
   ]
  },
  {
   "cell_type": "code",
   "execution_count": 27,
   "id": "4bea5f0e-af6d-4330-9221-ad8fd97276e8",
   "metadata": {
    "tags": []
   },
   "outputs": [],
   "source": [
    "if LOG_RESULTS:\n",
    "    if os.path.exists(output_file_name):\n",
    "        existing_log_df = pd.read_csv(output_file_name)\n",
    "        updated_df = pd.concat([existing_log_df, log_df], ignore_index=True)\n",
    "    else:\n",
    "        updated_df = log_df\n",
    "    updated_df.to_csv(output_file_name, index=False)"
   ]
  },
  {
   "cell_type": "code",
   "execution_count": null,
   "id": "fc90b3d4-a050-4b7e-8d85-0d7c41e2bf21",
   "metadata": {},
   "outputs": [],
   "source": []
  },
  {
   "cell_type": "code",
   "execution_count": null,
   "id": "b849d65b-1f07-423c-b320-0e8b22c46e58",
   "metadata": {},
   "outputs": [],
   "source": []
  }
 ],
 "metadata": {
  "kernelspec": {
   "display_name": "sybil",
   "language": "python",
   "name": "python3"
  },
  "language_info": {
   "codemirror_mode": {
    "name": "ipython",
    "version": 3
   },
   "file_extension": ".py",
   "mimetype": "text/x-python",
   "name": "python",
   "nbconvert_exporter": "python",
   "pygments_lexer": "ipython3",
   "version": "3.10.13"
  }
 },
 "nbformat": 4,
 "nbformat_minor": 5
}
