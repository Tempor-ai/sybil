{
 "cells": [
  {
   "cell_type": "markdown",
   "id": "48e57c5e-f2f9-448c-8901-e27610b878d5",
   "metadata": {},
   "source": [
    "Check Python version"
   ]
  },
  {
   "cell_type": "code",
   "execution_count": 1,
   "id": "c00c0a6f-c24c-4255-a430-6f89264a5a41",
   "metadata": {},
   "outputs": [
    {
     "name": "stdout",
     "output_type": "stream",
     "text": [
      "Python 3.9.12\n"
     ]
    }
   ],
   "source": [
    "!python --version"
   ]
  },
  {
   "cell_type": "markdown",
   "id": "6173c739-e07c-46f5-9841-a6c7d7f1b4ff",
   "metadata": {},
   "source": [
    "Import libraries"
   ]
  },
  {
   "cell_type": "code",
   "execution_count": 2,
   "id": "4c7954a0-e6b4-4fa1-962b-83141e8b19cc",
   "metadata": {},
   "outputs": [],
   "source": [
    "import json\n",
    "import yaml\n",
    "import requests\n",
    "import pandas as pd\n",
    "import matplotlib.pyplot as plt\n",
    "import seaborn as sns\n",
    "sns.set()"
   ]
  },
  {
   "cell_type": "markdown",
   "id": "4b126246-b152-4de2-a39d-21feb5d6f6d2",
   "metadata": {},
   "source": [
    "### **Extract Data**"
   ]
  },
  {
   "cell_type": "code",
   "execution_count": 3,
   "id": "a1f7662e-1117-4a4b-9118-09faa296ccf9",
   "metadata": {},
   "outputs": [],
   "source": [
    "# Local directory\n",
    "# data_dir = \"../datasets/retail\"\n",
    "# file_name = \"air_passengers\"\n",
    "# file_path = f\"{data_dir}/{file_name}.csv\"\n",
    "\n",
    "# Through online GitHub\n",
    "file_path = \"https://github.com/ourownstory/neuralprophet-data/raw/main/datasets/air_passengers.csv\""
   ]
  },
  {
   "cell_type": "code",
   "execution_count": 4,
   "id": "437651ae-7fe0-4adb-b614-607e663b735c",
   "metadata": {},
   "outputs": [],
   "source": [
    "train_df = pd.read_csv(file_path)"
   ]
  },
  {
   "cell_type": "code",
   "execution_count": 5,
   "id": "53700774-809a-4cd9-a385-e155c2d99236",
   "metadata": {},
   "outputs": [
    {
     "data": {
      "text/plain": [
       "(144, 2)"
      ]
     },
     "execution_count": 5,
     "metadata": {},
     "output_type": "execute_result"
    }
   ],
   "source": [
    "train_df.shape"
   ]
  },
  {
   "cell_type": "code",
   "execution_count": 6,
   "id": "114fc37e-da5d-4764-bb26-3fab6a761c54",
   "metadata": {},
   "outputs": [
    {
     "data": {
      "text/plain": [
       "Index(['ds', 'y'], dtype='object')"
      ]
     },
     "execution_count": 6,
     "metadata": {},
     "output_type": "execute_result"
    }
   ],
   "source": [
    "train_df.columns"
   ]
  },
  {
   "cell_type": "code",
   "execution_count": 7,
   "id": "5d0d9da3-5d20-4c88-b821-b8066cfe4399",
   "metadata": {},
   "outputs": [
    {
     "data": {
      "text/html": [
       "<div>\n",
       "<style scoped>\n",
       "    .dataframe tbody tr th:only-of-type {\n",
       "        vertical-align: middle;\n",
       "    }\n",
       "\n",
       "    .dataframe tbody tr th {\n",
       "        vertical-align: top;\n",
       "    }\n",
       "\n",
       "    .dataframe thead th {\n",
       "        text-align: right;\n",
       "    }\n",
       "</style>\n",
       "<table border=\"1\" class=\"dataframe\">\n",
       "  <thead>\n",
       "    <tr style=\"text-align: right;\">\n",
       "      <th></th>\n",
       "      <th>ds</th>\n",
       "      <th>y</th>\n",
       "    </tr>\n",
       "  </thead>\n",
       "  <tbody>\n",
       "    <tr>\n",
       "      <th>0</th>\n",
       "      <td>1949-01-01</td>\n",
       "      <td>112</td>\n",
       "    </tr>\n",
       "    <tr>\n",
       "      <th>1</th>\n",
       "      <td>1949-02-01</td>\n",
       "      <td>118</td>\n",
       "    </tr>\n",
       "    <tr>\n",
       "      <th>2</th>\n",
       "      <td>1949-03-01</td>\n",
       "      <td>132</td>\n",
       "    </tr>\n",
       "    <tr>\n",
       "      <th>3</th>\n",
       "      <td>1949-04-01</td>\n",
       "      <td>129</td>\n",
       "    </tr>\n",
       "    <tr>\n",
       "      <th>4</th>\n",
       "      <td>1949-05-01</td>\n",
       "      <td>121</td>\n",
       "    </tr>\n",
       "  </tbody>\n",
       "</table>\n",
       "</div>"
      ],
      "text/plain": [
       "           ds    y\n",
       "0  1949-01-01  112\n",
       "1  1949-02-01  118\n",
       "2  1949-03-01  132\n",
       "3  1949-04-01  129\n",
       "4  1949-05-01  121"
      ]
     },
     "execution_count": 7,
     "metadata": {},
     "output_type": "execute_result"
    }
   ],
   "source": [
    "train_df.head()"
   ]
  },
  {
   "cell_type": "code",
   "execution_count": 8,
   "id": "0a4ec852-b801-49fd-a130-075895b7db94",
   "metadata": {},
   "outputs": [
    {
     "data": {
      "text/html": [
       "<div>\n",
       "<style scoped>\n",
       "    .dataframe tbody tr th:only-of-type {\n",
       "        vertical-align: middle;\n",
       "    }\n",
       "\n",
       "    .dataframe tbody tr th {\n",
       "        vertical-align: top;\n",
       "    }\n",
       "\n",
       "    .dataframe thead th {\n",
       "        text-align: right;\n",
       "    }\n",
       "</style>\n",
       "<table border=\"1\" class=\"dataframe\">\n",
       "  <thead>\n",
       "    <tr style=\"text-align: right;\">\n",
       "      <th></th>\n",
       "      <th>ds</th>\n",
       "      <th>y</th>\n",
       "    </tr>\n",
       "  </thead>\n",
       "  <tbody>\n",
       "    <tr>\n",
       "      <th>139</th>\n",
       "      <td>1960-08-01</td>\n",
       "      <td>606</td>\n",
       "    </tr>\n",
       "    <tr>\n",
       "      <th>140</th>\n",
       "      <td>1960-09-01</td>\n",
       "      <td>508</td>\n",
       "    </tr>\n",
       "    <tr>\n",
       "      <th>141</th>\n",
       "      <td>1960-10-01</td>\n",
       "      <td>461</td>\n",
       "    </tr>\n",
       "    <tr>\n",
       "      <th>142</th>\n",
       "      <td>1960-11-01</td>\n",
       "      <td>390</td>\n",
       "    </tr>\n",
       "    <tr>\n",
       "      <th>143</th>\n",
       "      <td>1960-12-01</td>\n",
       "      <td>432</td>\n",
       "    </tr>\n",
       "  </tbody>\n",
       "</table>\n",
       "</div>"
      ],
      "text/plain": [
       "             ds    y\n",
       "139  1960-08-01  606\n",
       "140  1960-09-01  508\n",
       "141  1960-10-01  461\n",
       "142  1960-11-01  390\n",
       "143  1960-12-01  432"
      ]
     },
     "execution_count": 8,
     "metadata": {},
     "output_type": "execute_result"
    }
   ],
   "source": [
    "train_df.tail()"
   ]
  },
  {
   "cell_type": "markdown",
   "id": "92d1f999-8159-4f3e-9cd6-9b00bff324f9",
   "metadata": {},
   "source": [
    "Change 'y' to float"
   ]
  },
  {
   "cell_type": "code",
   "execution_count": 9,
   "id": "dba6f91b-6139-4664-87b1-7859b3b305a6",
   "metadata": {},
   "outputs": [],
   "source": [
    "train_df[\"y\"] = train_df[\"y\"].astype(float)"
   ]
  },
  {
   "cell_type": "code",
   "execution_count": 10,
   "id": "7a2c4026-c7f0-4ba9-8481-adf16e88d9f2",
   "metadata": {},
   "outputs": [
    {
     "data": {
      "text/html": [
       "<div>\n",
       "<style scoped>\n",
       "    .dataframe tbody tr th:only-of-type {\n",
       "        vertical-align: middle;\n",
       "    }\n",
       "\n",
       "    .dataframe tbody tr th {\n",
       "        vertical-align: top;\n",
       "    }\n",
       "\n",
       "    .dataframe thead th {\n",
       "        text-align: right;\n",
       "    }\n",
       "</style>\n",
       "<table border=\"1\" class=\"dataframe\">\n",
       "  <thead>\n",
       "    <tr style=\"text-align: right;\">\n",
       "      <th></th>\n",
       "      <th>ds</th>\n",
       "      <th>y</th>\n",
       "    </tr>\n",
       "  </thead>\n",
       "  <tbody>\n",
       "    <tr>\n",
       "      <th>0</th>\n",
       "      <td>1949-01-01</td>\n",
       "      <td>112.0</td>\n",
       "    </tr>\n",
       "    <tr>\n",
       "      <th>1</th>\n",
       "      <td>1949-02-01</td>\n",
       "      <td>118.0</td>\n",
       "    </tr>\n",
       "    <tr>\n",
       "      <th>2</th>\n",
       "      <td>1949-03-01</td>\n",
       "      <td>132.0</td>\n",
       "    </tr>\n",
       "    <tr>\n",
       "      <th>3</th>\n",
       "      <td>1949-04-01</td>\n",
       "      <td>129.0</td>\n",
       "    </tr>\n",
       "    <tr>\n",
       "      <th>4</th>\n",
       "      <td>1949-05-01</td>\n",
       "      <td>121.0</td>\n",
       "    </tr>\n",
       "  </tbody>\n",
       "</table>\n",
       "</div>"
      ],
      "text/plain": [
       "           ds      y\n",
       "0  1949-01-01  112.0\n",
       "1  1949-02-01  118.0\n",
       "2  1949-03-01  132.0\n",
       "3  1949-04-01  129.0\n",
       "4  1949-05-01  121.0"
      ]
     },
     "execution_count": 10,
     "metadata": {},
     "output_type": "execute_result"
    }
   ],
   "source": [
    "train_df.head()"
   ]
  },
  {
   "cell_type": "markdown",
   "id": "e56d7165-c252-4ea5-9981-7a22df96122e",
   "metadata": {},
   "source": [
    "Plot graph"
   ]
  },
  {
   "cell_type": "code",
   "execution_count": 11,
   "id": "30aac931-4d19-450a-ad79-fbaac30aa705",
   "metadata": {},
   "outputs": [
    {
     "data": {
      "image/png": "[encoded data removed]",
      "text/plain": [
       "<Figure size 1152x576 with 1 Axes>"
      ]
     },
     "metadata": {
      "needs_background": "light"
     },
     "output_type": "display_data"
    }
   ],
   "source": [
    "figsize = (16, 8)\n",
    "train_df.set_index(\"ds\").plot(figsize=figsize);"
   ]
  },
  {
   "cell_type": "markdown",
   "id": "7c3bd0f2-f6f4-49fd-b38a-9edd670a6fef",
   "metadata": {},
   "source": [
    "### **Train API**"
   ]
  },
  {
   "cell_type": "markdown",
   "id": "34362404-30a1-469f-914c-2baf85cc3be1",
   "metadata": {},
   "source": [
    "Train data: convert df to list-of-list"
   ]
  },
  {
   "cell_type": "code",
   "execution_count": 12,
   "id": "22347890-f3f5-48bf-b037-0f1d48458c2d",
   "metadata": {},
   "outputs": [],
   "source": [
    "train_data = []"
   ]
  },
  {
   "cell_type": "code",
   "execution_count": 13,
   "id": "431b90c2-d4a8-4acd-969c-a357eea54db7",
   "metadata": {},
   "outputs": [],
   "source": [
    "for value in train_df.values:\n",
    "    train_data.append(list(value))"
   ]
  },
  {
   "cell_type": "code",
   "execution_count": 14,
   "id": "5c04373b-1857-42b2-8e5c-0e7a51cddf75",
   "metadata": {},
   "outputs": [
    {
     "data": {
      "text/plain": [
       "[['1949-01-01', 112.0],\n",
       " ['1949-02-01', 118.0],\n",
       " ['1949-03-01', 132.0],\n",
       " ['1949-04-01', 129.0],\n",
       " ['1949-05-01', 121.0],\n",
       " ['1949-06-01', 135.0],\n",
       " ['1949-07-01', 148.0],\n",
       " ['1949-08-01', 148.0],\n",
       " ['1949-09-01', 136.0],\n",
       " ['1949-10-01', 119.0]]"
      ]
     },
     "execution_count": 14,
     "metadata": {},
     "output_type": "execute_result"
    }
   ],
   "source": [
    "train_data[:10]"
   ]
  },
  {
   "cell_type": "markdown",
   "id": "622db7d3-3432-44b3-90ae-f08f34ca904e",
   "metadata": {},
   "source": [
    "Custom Model Request (optional)"
   ]
  },
  {
   "cell_type": "code",
   "execution_count": 15,
   "id": "e0faaf9c-4330-4cfe-9c12-ac230a638a2a",
   "metadata": {},
   "outputs": [],
   "source": [
    "custom_model_request_dict = {\n",
    "    'type': 'meta_wa',\n",
    "    'score': ['smape', 'mape'],\n",
    "    'param': {\n",
    "        'base_models': [\n",
    "            {'type': 'darts_autoarima'},\n",
    "            {'type': 'darts_autotheta'},\n",
    "            {'type': 'darts_autoets'},\n",
    "            {'type': 'stats_autotheta'},\n",
    "        ]\n",
    "    }\n",
    "}"
   ]
  },
  {
   "cell_type": "code",
   "execution_count": 16,
   "id": "a040d34f-32cc-43bb-8c14-610d40dd1220",
   "metadata": {},
   "outputs": [],
   "source": [
    "custom_model_request = json.dumps(custom_model_request_dict)"
   ]
  },
  {
   "cell_type": "markdown",
   "id": "5791ee3c-4e12-4240-996a-68ef15dd86f9",
   "metadata": {},
   "source": [
    "Train API JSON Payload"
   ]
  },
  {
   "cell_type": "code",
   "execution_count": 17,
   "id": "01012159-6fc7-43ee-ae3b-6eb5307e9e04",
   "metadata": {},
   "outputs": [],
   "source": [
    "api_json = {\n",
    "    'data': train_data,\n",
    "    # 'model': custom_model_request,  # TODO: custom_model_request_dict returns empty JSON output\n",
    "}"
   ]
  },
  {
   "cell_type": "markdown",
   "id": "754a97b7-b291-4263-a071-23d27f566417",
   "metadata": {},
   "source": [
    "Build URL"
   ]
  },
  {
   "cell_type": "code",
   "execution_count": 18,
   "id": "af5f0801-cf06-491f-819e-dba5ccdf0e97",
   "metadata": {},
   "outputs": [],
   "source": [
    "with open('url.yaml', 'r') as file:\n",
    "    url_dict = yaml.safe_load(file)"
   ]
  },
  {
   "cell_type": "code",
   "execution_count": 19,
   "id": "3b4738ba-1d32-4d6c-a2dd-5ac07ad055f6",
   "metadata": {},
   "outputs": [],
   "source": [
    "# URL to our SYBIL AWS service\n",
    "protocol = url_dict[\"protocol\"]\n",
    "host = url_dict[\"host\"]\n",
    "port = url_dict[\"port\"]\n",
    "endpoint = \"train\"\n",
    "\n",
    "url = \"%s://%s:%s/%s\" % (protocol, host, str(port), endpoint)"
   ]
  },
  {
   "cell_type": "markdown",
   "id": "29d6d0a2-a726-4ae9-b6ef-ae91a6bb89e5",
   "metadata": {},
   "source": [
    "Call endpoint, receive response JSON, write to output file"
   ]
  },
  {
   "cell_type": "code",
   "execution_count": 20,
   "id": "bda53dfa-829f-4458-aff9-c1d24bdb6258",
   "metadata": {},
   "outputs": [
    {
     "name": "stderr",
     "output_type": "stream",
     "text": [
      "/home/studio-lab-user/.conda/envs/dev/lib/python3.9/site-packages/urllib3/connectionpool.py:1043: InsecureRequestWarning: Unverified HTTPS request is being made to host 'sybil.tempor.ai'. Adding certificate verification is strongly advised. See: https://urllib3.readthedocs.io/en/1.26.x/advanced-usage.html#ssl-warnings\n",
      "  warnings.warn(\n"
     ]
    },
    {
     "name": "stdout",
     "output_type": "stream",
     "text": [
      "CPU times: user 17.4 ms, sys: 0 ns, total: 17.4 ms\n",
      "Wall time: 3.63 s\n"
     ]
    }
   ],
   "source": [
    "%%time\n",
    "# TODO: gain a accredited cert and remove verify=False\n",
    "response = requests.post(url, json=api_json, verify=False)"
   ]
  },
  {
   "cell_type": "code",
   "execution_count": 21,
   "id": "a9b0c75a-25ab-47c5-a1db-e7296a3f3a20",
   "metadata": {},
   "outputs": [],
   "source": [
    "train_json_out = response.json()  # dict output\n",
    "# train_json_out = json.dumps(response.json())  # str output\n",
    "# train_json_out = json.dumps(response.json(), indent=4)  # str output w tabs"
   ]
  },
  {
   "cell_type": "code",
   "execution_count": 22,
   "id": "8f6ecd72-e91e-4c3b-b8cd-b26e75ed2386",
   "metadata": {},
   "outputs": [
    {
     "data": {
      "text/plain": [
       "{'model': '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',\n",
       " 'type': 'meta_wa',\n",
       " 'evaluation': [{'type': 'smape', 'value': 3.168187809542327},\n",
       "  {'type': 'mape', 'value': 3.1486861784999585}]}"
      ]
     },
     "execution_count": 22,
     "metadata": {},
     "output_type": "execute_result"
    }
   ],
   "source": [
    "train_json_out"
   ]
  },
  {
   "cell_type": "markdown",
   "id": "a5f8d92a-2ec6-438b-a756-bd956030bb2a",
   "metadata": {},
   "source": [
    "### **Forecast API**"
   ]
  },
  {
   "cell_type": "markdown",
   "id": "2a2598a4-6c6a-40dc-bc45-82fa0cc662eb",
   "metadata": {},
   "source": [
    "Forecast Dates: predict the next 2 years of air passenger data (1961-1962)"
   ]
  },
  {
   "cell_type": "code",
   "execution_count": 23,
   "id": "138b6ede-3d9b-4d80-8d26-c3cabd21be66",
   "metadata": {},
   "outputs": [],
   "source": [
    "dates = [\n",
    "    \"1961-01-01\", \"1961-02-01\", \"1961-03-01\", \"1961-04-01\", \"1961-05-01\", \"1961-06-01\",\n",
    "    \"1961-07-01\", \"1961-08-01\", \"1961-09-01\", \"1961-10-01\", \"1961-11-01\", \"1961-12-01\",\n",
    "    \"1962-01-01\", \"1962-02-01\", \"1962-03-01\", \"1962-04-01\", \"1962-05-01\", \"1962-06-01\",\n",
    "    \"1962-07-01\", \"1962-08-01\", \"1962-09-01\", \"1962-10-01\", \"1962-11-01\", \"1962-12-01\",\n",
    "]"
   ]
  },
  {
   "cell_type": "markdown",
   "id": "9c54f592-5262-46ec-b651-555edd2edb49",
   "metadata": {},
   "source": [
    "Model from Train API"
   ]
  },
  {
   "cell_type": "code",
   "execution_count": 24,
   "id": "44037535-5b07-40e2-b6a7-3e301d19deda",
   "metadata": {},
   "outputs": [],
   "source": [
    "model = train_json_out[\"model\"]"
   ]
  },
  {
   "cell_type": "markdown",
   "id": "ab30f283-f727-4d4e-8a92-791318ede6b4",
   "metadata": {},
   "source": [
    "Forecast API JSON Payload"
   ]
  },
  {
   "cell_type": "code",
   "execution_count": 25,
   "id": "1fc68132-9353-4951-bed3-6b916eb52e44",
   "metadata": {},
   "outputs": [],
   "source": [
    "api_json = {\n",
    "    'model': model,\n",
    "    'predicts': dates\n",
    "}"
   ]
  },
  {
   "cell_type": "markdown",
   "id": "72336096-face-429d-99e7-70e55f79449f",
   "metadata": {},
   "source": [
    "Build URL (same as train except for the endpoint)"
   ]
  },
  {
   "cell_type": "code",
   "execution_count": 26,
   "id": "98888d03-d90d-4694-a648-7ec375dd2c75",
   "metadata": {},
   "outputs": [],
   "source": [
    "endpoint = \"forecast\"\n",
    "\n",
    "url = \"%s://%s:%s/%s\" % (protocol, host, str(port), endpoint)"
   ]
  },
  {
   "cell_type": "markdown",
   "id": "8bfd1167-c0ef-4404-a9d4-441dbcdb9864",
   "metadata": {},
   "source": [
    "Call endpoint, receive response JSON, write to output file"
   ]
  },
  {
   "cell_type": "code",
   "execution_count": 27,
   "id": "443ff168-22e0-42c4-8e93-742a3293cc81",
   "metadata": {},
   "outputs": [
    {
     "name": "stdout",
     "output_type": "stream",
     "text": [
      "CPU times: user 13.8 ms, sys: 1.21 ms, total: 15.1 ms\n",
      "Wall time: 86.9 ms\n"
     ]
    },
    {
     "name": "stderr",
     "output_type": "stream",
     "text": [
      "/home/studio-lab-user/.conda/envs/dev/lib/python3.9/site-packages/urllib3/connectionpool.py:1043: InsecureRequestWarning: Unverified HTTPS request is being made to host 'sybil.tempor.ai'. Adding certificate verification is strongly advised. See: https://urllib3.readthedocs.io/en/1.26.x/advanced-usage.html#ssl-warnings\n",
      "  warnings.warn(\n"
     ]
    }
   ],
   "source": [
    "%%time\n",
    "# TODO: gain a accredited cert and remove verify=False\n",
    "response = requests.post(url, json=api_json, verify=False)"
   ]
  },
  {
   "cell_type": "code",
   "execution_count": 28,
   "id": "a8968a73-f03c-4e0c-bf6c-d1e67f3bb7b8",
   "metadata": {},
   "outputs": [],
   "source": [
    "forecast_json_out = response.json()  # dict output\n",
    "# forecast_json_out = json.dumps(response.json())  # str output\n",
    "# forecast_json_out = json.dumps(response.json(), indent=4)  # str output w tabs"
   ]
  },
  {
   "cell_type": "code",
   "execution_count": 29,
   "id": "cf135123-5f75-4d74-9188-70e617f87b3b",
   "metadata": {},
   "outputs": [
    {
     "data": {
      "text/plain": [
       "{'data': [410.648018323001,\n",
       "  359.22045206110135,\n",
       "  396.9376319291515,\n",
       "  408.5850783345507,\n",
       "  398.0236436296759,\n",
       "  459.43406753847927,\n",
       "  445.12396956661934,\n",
       "  455.8480911623816,\n",
       "  513.2163275504608,\n",
       "  575.5891907072628,\n",
       "  578.0649532874502,\n",
       "  497.6966732774506,\n",
       "  442.0795726116245,\n",
       "  389.6633152788227,\n",
       "  428.1836927127506,\n",
       "  439.92095273582936,\n",
       "  429.17547315270315,\n",
       "  491.65001580926275,\n",
       "  477.0119810264976,\n",
       "  487.7327215155152,\n",
       "  546.1918477057344,\n",
       "  609.4639650224614,\n",
       "  611.8701797786096,\n",
       "  530.2600406898707]}"
      ]
     },
     "execution_count": 29,
     "metadata": {},
     "output_type": "execute_result"
    }
   ],
   "source": [
    "forecast_json_out"
   ]
  },
  {
   "cell_type": "markdown",
   "id": "9d42cf65-1bd5-4ef3-a48d-52d44b702040",
   "metadata": {},
   "source": [
    "Combine forecast dates and output"
   ]
  },
  {
   "cell_type": "code",
   "execution_count": 30,
   "id": "e819b0a7-4c42-4fb3-8785-057f9898f927",
   "metadata": {},
   "outputs": [],
   "source": [
    "forecast_data = list(zip(dates, forecast_json_out[\"data\"]))\n",
    "forecast_df = pd.DataFrame(forecast_data, columns = [\"ds\", \"y\"])"
   ]
  },
  {
   "cell_type": "code",
   "execution_count": 31,
   "id": "0a7c0974-5279-4186-8f37-3ae2a24c5837",
   "metadata": {},
   "outputs": [
    {
     "data": {
      "text/plain": [
       "(24, 2)"
      ]
     },
     "execution_count": 31,
     "metadata": {},
     "output_type": "execute_result"
    }
   ],
   "source": [
    "forecast_df.shape"
   ]
  },
  {
   "cell_type": "code",
   "execution_count": 32,
   "id": "f2a9507d-3127-4bec-930e-5ccd2248802e",
   "metadata": {},
   "outputs": [
    {
     "data": {
      "text/plain": [
       "Index(['ds', 'y'], dtype='object')"
      ]
     },
     "execution_count": 32,
     "metadata": {},
     "output_type": "execute_result"
    }
   ],
   "source": [
    "forecast_df.columns"
   ]
  },
  {
   "cell_type": "code",
   "execution_count": 33,
   "id": "de1a02db-f5a5-497e-aee3-08f962c664f5",
   "metadata": {},
   "outputs": [
    {
     "data": {
      "text/html": [
       "<div>\n",
       "<style scoped>\n",
       "    .dataframe tbody tr th:only-of-type {\n",
       "        vertical-align: middle;\n",
       "    }\n",
       "\n",
       "    .dataframe tbody tr th {\n",
       "        vertical-align: top;\n",
       "    }\n",
       "\n",
       "    .dataframe thead th {\n",
       "        text-align: right;\n",
       "    }\n",
       "</style>\n",
       "<table border=\"1\" class=\"dataframe\">\n",
       "  <thead>\n",
       "    <tr style=\"text-align: right;\">\n",
       "      <th></th>\n",
       "      <th>ds</th>\n",
       "      <th>y</th>\n",
       "    </tr>\n",
       "  </thead>\n",
       "  <tbody>\n",
       "    <tr>\n",
       "      <th>0</th>\n",
       "      <td>1961-01-01</td>\n",
       "      <td>410.648018</td>\n",
       "    </tr>\n",
       "    <tr>\n",
       "      <th>1</th>\n",
       "      <td>1961-02-01</td>\n",
       "      <td>359.220452</td>\n",
       "    </tr>\n",
       "    <tr>\n",
       "      <th>2</th>\n",
       "      <td>1961-03-01</td>\n",
       "      <td>396.937632</td>\n",
       "    </tr>\n",
       "    <tr>\n",
       "      <th>3</th>\n",
       "      <td>1961-04-01</td>\n",
       "      <td>408.585078</td>\n",
       "    </tr>\n",
       "    <tr>\n",
       "      <th>4</th>\n",
       "      <td>1961-05-01</td>\n",
       "      <td>398.023644</td>\n",
       "    </tr>\n",
       "  </tbody>\n",
       "</table>\n",
       "</div>"
      ],
      "text/plain": [
       "           ds           y\n",
       "0  1961-01-01  410.648018\n",
       "1  1961-02-01  359.220452\n",
       "2  1961-03-01  396.937632\n",
       "3  1961-04-01  408.585078\n",
       "4  1961-05-01  398.023644"
      ]
     },
     "execution_count": 33,
     "metadata": {},
     "output_type": "execute_result"
    }
   ],
   "source": [
    "forecast_df.head()"
   ]
  },
  {
   "cell_type": "code",
   "execution_count": 34,
   "id": "508358d2-8319-49bc-bd94-c5da97b0b7a4",
   "metadata": {},
   "outputs": [
    {
     "data": {
      "text/html": [
       "<div>\n",
       "<style scoped>\n",
       "    .dataframe tbody tr th:only-of-type {\n",
       "        vertical-align: middle;\n",
       "    }\n",
       "\n",
       "    .dataframe tbody tr th {\n",
       "        vertical-align: top;\n",
       "    }\n",
       "\n",
       "    .dataframe thead th {\n",
       "        text-align: right;\n",
       "    }\n",
       "</style>\n",
       "<table border=\"1\" class=\"dataframe\">\n",
       "  <thead>\n",
       "    <tr style=\"text-align: right;\">\n",
       "      <th></th>\n",
       "      <th>ds</th>\n",
       "      <th>y</th>\n",
       "    </tr>\n",
       "  </thead>\n",
       "  <tbody>\n",
       "    <tr>\n",
       "      <th>19</th>\n",
       "      <td>1962-08-01</td>\n",
       "      <td>487.732722</td>\n",
       "    </tr>\n",
       "    <tr>\n",
       "      <th>20</th>\n",
       "      <td>1962-09-01</td>\n",
       "      <td>546.191848</td>\n",
       "    </tr>\n",
       "    <tr>\n",
       "      <th>21</th>\n",
       "      <td>1962-10-01</td>\n",
       "      <td>609.463965</td>\n",
       "    </tr>\n",
       "    <tr>\n",
       "      <th>22</th>\n",
       "      <td>1962-11-01</td>\n",
       "      <td>611.870180</td>\n",
       "    </tr>\n",
       "    <tr>\n",
       "      <th>23</th>\n",
       "      <td>1962-12-01</td>\n",
       "      <td>530.260041</td>\n",
       "    </tr>\n",
       "  </tbody>\n",
       "</table>\n",
       "</div>"
      ],
      "text/plain": [
       "            ds           y\n",
       "19  1962-08-01  487.732722\n",
       "20  1962-09-01  546.191848\n",
       "21  1962-10-01  609.463965\n",
       "22  1962-11-01  611.870180\n",
       "23  1962-12-01  530.260041"
      ]
     },
     "execution_count": 34,
     "metadata": {},
     "output_type": "execute_result"
    }
   ],
   "source": [
    "forecast_df.tail()"
   ]
  },
  {
   "cell_type": "markdown",
   "id": "a86a090e-de22-4045-a055-45198f240e60",
   "metadata": {},
   "source": [
    "Plot train and forecast side-by-side"
   ]
  },
  {
   "cell_type": "code",
   "execution_count": 35,
   "id": "8bc95c77-c93a-422b-a7da-551c67f0418e",
   "metadata": {},
   "outputs": [
    {
     "data": {
      "image/png": "[encoded data removed]",
      "text/plain": [
       "<Figure size 1152x576 with 1 Axes>"
      ]
     },
     "metadata": {
      "needs_background": "light"
     },
     "output_type": "display_data"
    }
   ],
   "source": [
    "train_df[\"color\"] = \"b\"\n",
    "train_df.set_index(\"ds\").plot(figsize=figsize, color=train_df[\"color\"]);"
   ]
  },
  {
   "cell_type": "code",
   "execution_count": 36,
   "id": "386d8c56-bf2a-4975-821e-ca4351146041",
   "metadata": {},
   "outputs": [
    {
     "data": {
      "image/png": "[encoded data removed]",
      "text/plain": [
       "<Figure size 1152x576 with 1 Axes>"
      ]
     },
     "metadata": {
      "needs_background": "light"
     },
     "output_type": "display_data"
    }
   ],
   "source": [
    "forecast_df[\"color\"] = \"r\"\n",
    "forecast_df.set_index(\"ds\").plot(figsize=figsize, color=forecast_df[\"color\"]);"
   ]
  },
  {
   "cell_type": "markdown",
   "id": "5d09e17b-d4b1-4589-8756-d0b4e23cc532",
   "metadata": {},
   "source": [
    "Combine train and test sets"
   ]
  },
  {
   "cell_type": "code",
   "execution_count": 37,
   "id": "2372cd4f-9014-4c4f-ba2f-58718094cf09",
   "metadata": {},
   "outputs": [],
   "source": [
    "df = pd.concat([train_df, forecast_df]).reset_index(drop=True)"
   ]
  },
  {
   "cell_type": "code",
   "execution_count": 38,
   "id": "46736586-4f20-4f55-a758-148e3338a202",
   "metadata": {},
   "outputs": [
    {
     "data": {
      "text/plain": [
       "(168, 3)"
      ]
     },
     "execution_count": 38,
     "metadata": {},
     "output_type": "execute_result"
    }
   ],
   "source": [
    "df.shape"
   ]
  },
  {
   "cell_type": "code",
   "execution_count": 39,
   "id": "b7f69447-161c-4a8a-95b7-64e4f230a524",
   "metadata": {},
   "outputs": [
    {
     "data": {
      "text/html": [
       "<div>\n",
       "<style scoped>\n",
       "    .dataframe tbody tr th:only-of-type {\n",
       "        vertical-align: middle;\n",
       "    }\n",
       "\n",
       "    .dataframe tbody tr th {\n",
       "        vertical-align: top;\n",
       "    }\n",
       "\n",
       "    .dataframe thead th {\n",
       "        text-align: right;\n",
       "    }\n",
       "</style>\n",
       "<table border=\"1\" class=\"dataframe\">\n",
       "  <thead>\n",
       "    <tr style=\"text-align: right;\">\n",
       "      <th></th>\n",
       "      <th>ds</th>\n",
       "      <th>y</th>\n",
       "      <th>color</th>\n",
       "    </tr>\n",
       "  </thead>\n",
       "  <tbody>\n",
       "    <tr>\n",
       "      <th>0</th>\n",
       "      <td>1949-01-01</td>\n",
       "      <td>112.0</td>\n",
       "      <td>b</td>\n",
       "    </tr>\n",
       "    <tr>\n",
       "      <th>1</th>\n",
       "      <td>1949-02-01</td>\n",
       "      <td>118.0</td>\n",
       "      <td>b</td>\n",
       "    </tr>\n",
       "    <tr>\n",
       "      <th>2</th>\n",
       "      <td>1949-03-01</td>\n",
       "      <td>132.0</td>\n",
       "      <td>b</td>\n",
       "    </tr>\n",
       "    <tr>\n",
       "      <th>3</th>\n",
       "      <td>1949-04-01</td>\n",
       "      <td>129.0</td>\n",
       "      <td>b</td>\n",
       "    </tr>\n",
       "    <tr>\n",
       "      <th>4</th>\n",
       "      <td>1949-05-01</td>\n",
       "      <td>121.0</td>\n",
       "      <td>b</td>\n",
       "    </tr>\n",
       "  </tbody>\n",
       "</table>\n",
       "</div>"
      ],
      "text/plain": [
       "           ds      y color\n",
       "0  1949-01-01  112.0     b\n",
       "1  1949-02-01  118.0     b\n",
       "2  1949-03-01  132.0     b\n",
       "3  1949-04-01  129.0     b\n",
       "4  1949-05-01  121.0     b"
      ]
     },
     "execution_count": 39,
     "metadata": {},
     "output_type": "execute_result"
    }
   ],
   "source": [
    "df.head()"
   ]
  },
  {
   "cell_type": "code",
   "execution_count": 40,
   "id": "26c6a481-6000-4912-9fb8-875ab6ab44cc",
   "metadata": {},
   "outputs": [
    {
     "data": {
      "text/html": [
       "<div>\n",
       "<style scoped>\n",
       "    .dataframe tbody tr th:only-of-type {\n",
       "        vertical-align: middle;\n",
       "    }\n",
       "\n",
       "    .dataframe tbody tr th {\n",
       "        vertical-align: top;\n",
       "    }\n",
       "\n",
       "    .dataframe thead th {\n",
       "        text-align: right;\n",
       "    }\n",
       "</style>\n",
       "<table border=\"1\" class=\"dataframe\">\n",
       "  <thead>\n",
       "    <tr style=\"text-align: right;\">\n",
       "      <th></th>\n",
       "      <th>ds</th>\n",
       "      <th>y</th>\n",
       "      <th>color</th>\n",
       "    </tr>\n",
       "  </thead>\n",
       "  <tbody>\n",
       "    <tr>\n",
       "      <th>163</th>\n",
       "      <td>1962-08-01</td>\n",
       "      <td>487.732722</td>\n",
       "      <td>r</td>\n",
       "    </tr>\n",
       "    <tr>\n",
       "      <th>164</th>\n",
       "      <td>1962-09-01</td>\n",
       "      <td>546.191848</td>\n",
       "      <td>r</td>\n",
       "    </tr>\n",
       "    <tr>\n",
       "      <th>165</th>\n",
       "      <td>1962-10-01</td>\n",
       "      <td>609.463965</td>\n",
       "      <td>r</td>\n",
       "    </tr>\n",
       "    <tr>\n",
       "      <th>166</th>\n",
       "      <td>1962-11-01</td>\n",
       "      <td>611.870180</td>\n",
       "      <td>r</td>\n",
       "    </tr>\n",
       "    <tr>\n",
       "      <th>167</th>\n",
       "      <td>1962-12-01</td>\n",
       "      <td>530.260041</td>\n",
       "      <td>r</td>\n",
       "    </tr>\n",
       "  </tbody>\n",
       "</table>\n",
       "</div>"
      ],
      "text/plain": [
       "             ds           y color\n",
       "163  1962-08-01  487.732722     r\n",
       "164  1962-09-01  546.191848     r\n",
       "165  1962-10-01  609.463965     r\n",
       "166  1962-11-01  611.870180     r\n",
       "167  1962-12-01  530.260041     r"
      ]
     },
     "execution_count": 40,
     "metadata": {},
     "output_type": "execute_result"
    }
   ],
   "source": [
    "df.tail()"
   ]
  },
  {
   "cell_type": "markdown",
   "id": "50aa95fa-1317-4c96-af94-a3ded106e5cb",
   "metadata": {},
   "source": [
    "Plot combined train and test sets with the vertical black line as the cut-off"
   ]
  },
  {
   "cell_type": "code",
   "execution_count": 41,
   "id": "91386104-8366-42f8-9cd7-f524a108c5bb",
   "metadata": {},
   "outputs": [
    {
     "data": {
      "image/png": "[encoded data removed]",
      "text/plain": [
       "<Figure size 1152x576 with 1 Axes>"
      ]
     },
     "metadata": {
      "needs_background": "light"
     },
     "output_type": "display_data"
    }
   ],
   "source": [
    "df.set_index(\"ds\").plot(figsize=figsize, color=df[\"color\"])\n",
    "plt.axvline(x=len(train_df), color='black', label ='Train/Test set cut-off')\n",
    "plt.show();"
   ]
  },
  {
   "cell_type": "code",
   "execution_count": null,
   "id": "5ea7f1d1-e6b8-4208-b9c7-8c104ca28d4c",
   "metadata": {},
   "outputs": [],
   "source": []
  }
 ],
 "metadata": {
  "kernelspec": {
   "display_name": "dev:Python",
   "language": "python",
   "name": "conda-env-dev-py"
  },
  "language_info": {
   "codemirror_mode": {
    "name": "ipython",
    "version": 3
   },
   "file_extension": ".py",
   "mimetype": "text/x-python",
   "name": "python",
   "nbconvert_exporter": "python",
   "pygments_lexer": "ipython3",
   "version": "3.9.12"
  }
 },
 "nbformat": 4,
 "nbformat_minor": 5
}
