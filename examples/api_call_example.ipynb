{
 "cells": [
  {
   "cell_type": "markdown",
   "id": "48e57c5e-f2f9-448c-8901-e27610b878d5",
   "metadata": {},
   "source": [
    "Check Python version"
   ]
  },
  {
   "cell_type": "code",
   "execution_count": 1,
   "id": "c00c0a6f-c24c-4255-a430-6f89264a5a41",
   "metadata": {
    "ExecuteTime": {
     "end_time": "2024-05-28T16:46:03.471969Z",
     "start_time": "2024-05-28T16:46:03.443996Z"
    }
   },
   "outputs": [
    {
     "name": "stdout",
     "output_type": "stream",
     "text": [
      "Python 3.11.7\n"
     ]
    }
   ],
   "source": [
    "!python --version"
   ]
  },
  {
   "cell_type": "markdown",
   "id": "6173c739-e07c-46f5-9841-a6c7d7f1b4ff",
   "metadata": {},
   "source": [
    "Import libraries"
   ]
  },
  {
   "cell_type": "code",
   "execution_count": 2,
   "id": "4c7954a0-e6b4-4fa1-962b-83141e8b19cc",
   "metadata": {
    "ExecuteTime": {
     "end_time": "2024-05-28T16:46:03.768577Z",
     "start_time": "2024-05-28T16:46:03.472041Z"
    }
   },
   "outputs": [],
   "source": [
    "import json\n",
    "import yaml\n",
    "import requests\n",
    "import pandas as pd\n",
    "import matplotlib.pyplot as plt\n",
    "import seaborn as sns\n",
    "sns.set()"
   ]
  },
  {
   "cell_type": "markdown",
   "id": "4b126246-b152-4de2-a39d-21feb5d6f6d2",
   "metadata": {},
   "source": [
    "### **Extract Data**"
   ]
  },
  {
   "cell_type": "code",
   "execution_count": 3,
   "id": "a1f7662e-1117-4a4b-9118-09faa296ccf9",
   "metadata": {
    "ExecuteTime": {
     "end_time": "2024-05-28T16:46:03.772308Z",
     "start_time": "2024-05-28T16:46:03.769630Z"
    }
   },
   "outputs": [],
   "source": [
    "# Through online GitHub\n",
    "file_name = 'https://github.com/ourownstory/neuralprophet-data/raw/main/datasets/air_passengers.csv'"
   ]
  },
  {
   "cell_type": "code",
   "execution_count": 4,
   "id": "437651ae-7fe0-4adb-b614-607e663b735c",
   "metadata": {
    "ExecuteTime": {
     "end_time": "2024-05-28T16:46:03.998749Z",
     "start_time": "2024-05-28T16:46:03.773335Z"
    }
   },
   "outputs": [],
   "source": [
    "train_df = pd.read_csv(file_name)"
   ]
  },
  {
   "cell_type": "code",
   "execution_count": 5,
   "id": "53700774-809a-4cd9-a385-e155c2d99236",
   "metadata": {
    "ExecuteTime": {
     "end_time": "2024-05-28T16:46:04.013918Z",
     "start_time": "2024-05-28T16:46:04.001069Z"
    }
   },
   "outputs": [
    {
     "data": {
      "text/plain": "(144, 2)"
     },
     "execution_count": 5,
     "metadata": {},
     "output_type": "execute_result"
    }
   ],
   "source": [
    "train_df.shape"
   ]
  },
  {
   "cell_type": "code",
   "execution_count": 6,
   "id": "114fc37e-da5d-4764-bb26-3fab6a761c54",
   "metadata": {
    "ExecuteTime": {
     "end_time": "2024-05-28T16:46:04.021743Z",
     "start_time": "2024-05-28T16:46:04.015989Z"
    }
   },
   "outputs": [
    {
     "data": {
      "text/plain": "Index(['ds', 'y'], dtype='object')"
     },
     "execution_count": 6,
     "metadata": {},
     "output_type": "execute_result"
    }
   ],
   "source": [
    "train_df.columns"
   ]
  },
  {
   "cell_type": "code",
   "execution_count": 7,
   "id": "5d0d9da3-5d20-4c88-b821-b8066cfe4399",
   "metadata": {
    "ExecuteTime": {
     "end_time": "2024-05-28T16:46:04.033288Z",
     "start_time": "2024-05-28T16:46:04.022826Z"
    }
   },
   "outputs": [
    {
     "data": {
      "text/plain": "           ds    y\n0  1949-01-01  112\n1  1949-02-01  118\n2  1949-03-01  132\n3  1949-04-01  129\n4  1949-05-01  121",
      "text/html": "<div>\n<style scoped>\n    .dataframe tbody tr th:only-of-type {\n        vertical-align: middle;\n    }\n\n    .dataframe tbody tr th {\n        vertical-align: top;\n    }\n\n    .dataframe thead th {\n        text-align: right;\n    }\n</style>\n<table border=\"1\" class=\"dataframe\">\n  <thead>\n    <tr style=\"text-align: right;\">\n      <th></th>\n      <th>ds</th>\n      <th>y</th>\n    </tr>\n  </thead>\n  <tbody>\n    <tr>\n      <th>0</th>\n      <td>1949-01-01</td>\n      <td>112</td>\n    </tr>\n    <tr>\n      <th>1</th>\n      <td>1949-02-01</td>\n      <td>118</td>\n    </tr>\n    <tr>\n      <th>2</th>\n      <td>1949-03-01</td>\n      <td>132</td>\n    </tr>\n    <tr>\n      <th>3</th>\n      <td>1949-04-01</td>\n      <td>129</td>\n    </tr>\n    <tr>\n      <th>4</th>\n      <td>1949-05-01</td>\n      <td>121</td>\n    </tr>\n  </tbody>\n</table>\n</div>"
     },
     "execution_count": 7,
     "metadata": {},
     "output_type": "execute_result"
    }
   ],
   "source": [
    "train_df.head()"
   ]
  },
  {
   "cell_type": "code",
   "execution_count": 8,
   "id": "0a4ec852-b801-49fd-a130-075895b7db94",
   "metadata": {
    "ExecuteTime": {
     "end_time": "2024-05-28T16:46:04.043082Z",
     "start_time": "2024-05-28T16:46:04.035949Z"
    }
   },
   "outputs": [
    {
     "data": {
      "text/plain": "             ds    y\n139  1960-08-01  606\n140  1960-09-01  508\n141  1960-10-01  461\n142  1960-11-01  390\n143  1960-12-01  432",
      "text/html": "<div>\n<style scoped>\n    .dataframe tbody tr th:only-of-type {\n        vertical-align: middle;\n    }\n\n    .dataframe tbody tr th {\n        vertical-align: top;\n    }\n\n    .dataframe thead th {\n        text-align: right;\n    }\n</style>\n<table border=\"1\" class=\"dataframe\">\n  <thead>\n    <tr style=\"text-align: right;\">\n      <th></th>\n      <th>ds</th>\n      <th>y</th>\n    </tr>\n  </thead>\n  <tbody>\n    <tr>\n      <th>139</th>\n      <td>1960-08-01</td>\n      <td>606</td>\n    </tr>\n    <tr>\n      <th>140</th>\n      <td>1960-09-01</td>\n      <td>508</td>\n    </tr>\n    <tr>\n      <th>141</th>\n      <td>1960-10-01</td>\n      <td>461</td>\n    </tr>\n    <tr>\n      <th>142</th>\n      <td>1960-11-01</td>\n      <td>390</td>\n    </tr>\n    <tr>\n      <th>143</th>\n      <td>1960-12-01</td>\n      <td>432</td>\n    </tr>\n  </tbody>\n</table>\n</div>"
     },
     "execution_count": 8,
     "metadata": {},
     "output_type": "execute_result"
    }
   ],
   "source": [
    "train_df.tail()"
   ]
  },
  {
   "cell_type": "markdown",
   "id": "6c2154b8",
   "metadata": {},
   "source": [
    "Define the required time and target columns"
   ]
  },
  {
   "cell_type": "code",
   "execution_count": 9,
   "id": "93423cff",
   "metadata": {
    "ExecuteTime": {
     "end_time": "2024-05-28T16:46:04.048600Z",
     "start_time": "2024-05-28T16:46:04.044179Z"
    }
   },
   "outputs": [],
   "source": [
    "time_col = train_df.columns[0]\n",
    "target_col = train_df.columns[-1]\n",
    "train_df[time_col] = train_df[time_col].astype(str)"
   ]
  },
  {
   "cell_type": "markdown",
   "id": "92d1f999-8159-4f3e-9cd6-9b00bff324f9",
   "metadata": {},
   "source": [
    "Change target column to float"
   ]
  },
  {
   "cell_type": "code",
   "execution_count": 10,
   "id": "dba6f91b-6139-4664-87b1-7859b3b305a6",
   "metadata": {
    "ExecuteTime": {
     "end_time": "2024-05-28T16:46:04.054526Z",
     "start_time": "2024-05-28T16:46:04.049961Z"
    }
   },
   "outputs": [],
   "source": [
    "train_df[target_col] = train_df[target_col].astype(float)"
   ]
  },
  {
   "cell_type": "code",
   "execution_count": 11,
   "id": "7a2c4026-c7f0-4ba9-8481-adf16e88d9f2",
   "metadata": {
    "ExecuteTime": {
     "end_time": "2024-05-28T16:46:04.064640Z",
     "start_time": "2024-05-28T16:46:04.055520Z"
    }
   },
   "outputs": [
    {
     "data": {
      "text/plain": "           ds      y\n0  1949-01-01  112.0\n1  1949-02-01  118.0\n2  1949-03-01  132.0\n3  1949-04-01  129.0\n4  1949-05-01  121.0",
      "text/html": "<div>\n<style scoped>\n    .dataframe tbody tr th:only-of-type {\n        vertical-align: middle;\n    }\n\n    .dataframe tbody tr th {\n        vertical-align: top;\n    }\n\n    .dataframe thead th {\n        text-align: right;\n    }\n</style>\n<table border=\"1\" class=\"dataframe\">\n  <thead>\n    <tr style=\"text-align: right;\">\n      <th></th>\n      <th>ds</th>\n      <th>y</th>\n    </tr>\n  </thead>\n  <tbody>\n    <tr>\n      <th>0</th>\n      <td>1949-01-01</td>\n      <td>112.0</td>\n    </tr>\n    <tr>\n      <th>1</th>\n      <td>1949-02-01</td>\n      <td>118.0</td>\n    </tr>\n    <tr>\n      <th>2</th>\n      <td>1949-03-01</td>\n      <td>132.0</td>\n    </tr>\n    <tr>\n      <th>3</th>\n      <td>1949-04-01</td>\n      <td>129.0</td>\n    </tr>\n    <tr>\n      <th>4</th>\n      <td>1949-05-01</td>\n      <td>121.0</td>\n    </tr>\n  </tbody>\n</table>\n</div>"
     },
     "execution_count": 11,
     "metadata": {},
     "output_type": "execute_result"
    }
   ],
   "source": [
    "train_df.head()"
   ]
  },
  {
   "cell_type": "markdown",
   "id": "e56d7165-c252-4ea5-9981-7a22df96122e",
   "metadata": {},
   "source": [
    "Plot graph"
   ]
  },
  {
   "cell_type": "code",
   "execution_count": 12,
   "id": "30aac931-4d19-450a-ad79-fbaac30aa705",
   "metadata": {
    "ExecuteTime": {
     "end_time": "2024-05-28T16:46:04.358917Z",
     "start_time": "2024-05-28T16:46:04.065686Z"
    }
   },
   "outputs": [
    {
     "data": {
      "text/plain": "<Figure size 1600x800 with 1 Axes>",
      "image/png": "[encoded data removed]"
     },
     "metadata": {},
     "output_type": "display_data"
    }
   ],
   "source": [
    "figsize = (16, 8)\n",
    "train_df.set_index(time_col).plot(figsize=figsize);"
   ]
  },
  {
   "cell_type": "markdown",
   "id": "7c3bd0f2-f6f4-49fd-b38a-9edd670a6fef",
   "metadata": {},
   "source": [
    "### **Train API**"
   ]
  },
  {
   "cell_type": "markdown",
   "id": "34362404-30a1-469f-914c-2baf85cc3be1",
   "metadata": {},
   "source": [
    "Train data: convert df to list-of-list"
   ]
  },
  {
   "cell_type": "code",
   "execution_count": 13,
   "id": "22347890-f3f5-48bf-b037-0f1d48458c2d",
   "metadata": {
    "ExecuteTime": {
     "end_time": "2024-05-28T16:46:04.362405Z",
     "start_time": "2024-05-28T16:46:04.359937Z"
    }
   },
   "outputs": [],
   "source": [
    "train_data = []"
   ]
  },
  {
   "cell_type": "code",
   "execution_count": 14,
   "id": "431b90c2-d4a8-4acd-969c-a357eea54db7",
   "metadata": {
    "ExecuteTime": {
     "end_time": "2024-05-28T16:46:04.368038Z",
     "start_time": "2024-05-28T16:46:04.363465Z"
    }
   },
   "outputs": [],
   "source": [
    "for value in train_df.values:\n",
    "    train_data.append(list(value))"
   ]
  },
  {
   "cell_type": "code",
   "execution_count": 15,
   "id": "5c04373b-1857-42b2-8e5c-0e7a51cddf75",
   "metadata": {
    "ExecuteTime": {
     "end_time": "2024-05-28T16:46:04.374654Z",
     "start_time": "2024-05-28T16:46:04.369136Z"
    }
   },
   "outputs": [
    {
     "data": {
      "text/plain": "[['1949-01-01', 112.0],\n ['1949-02-01', 118.0],\n ['1949-03-01', 132.0],\n ['1949-04-01', 129.0],\n ['1949-05-01', 121.0],\n ['1949-06-01', 135.0],\n ['1949-07-01', 148.0],\n ['1949-08-01', 148.0],\n ['1949-09-01', 136.0],\n ['1949-10-01', 119.0]]"
     },
     "execution_count": 15,
     "metadata": {},
     "output_type": "execute_result"
    }
   ],
   "source": [
    "train_data[:10]"
   ]
  },
  {
   "cell_type": "markdown",
   "id": "622db7d3-3432-44b3-90ae-f08f34ca904e",
   "metadata": {},
   "source": [
    "Define Model Request (optional)"
   ]
  },
  {
   "cell_type": "code",
   "execution_count": 16,
   "id": "e0faaf9c-4330-4cfe-9c12-ac230a638a2a",
   "metadata": {
    "ExecuteTime": {
     "end_time": "2024-05-28T16:46:04.380662Z",
     "start_time": "2024-05-28T16:46:04.376071Z"
    }
   },
   "outputs": [],
   "source": [
    "# Default model request\n",
    "# model_request = {\n",
    "#     'type': 'meta_lr',\n",
    "#     'scorers': ['smape', 'mase'],\n",
    "#     'params': {\n",
    "#         'preprocessors': [\n",
    "#             {'type': 'dartsimputer'},\n",
    "#             {'type': 'minmaxscaler'},\n",
    "#         ],\n",
    "#         'base_models': [\n",
    "#             {'type': 'darts_naive'},\n",
    "#             {'type': 'darts_seasonalnaive'},\n",
    "#             {'type': 'darts_autotheta'},\n",
    "#             {'type': 'darts_autoarima'},\n",
    "#             {'type': 'darts_autoets'},\n",
    "#         ],\n",
    "#     },\n",
    "# }\n",
    "\n",
    "# Onboard NeuralProphet customized model request\n",
    "# np_external_model_request = {\n",
    "#     'params': {\n",
    "#       'changepoints_range': 0.2,\n",
    "#       'epochs': 2,\n",
    "#       'growth': 'off'\n",
    "#     },\n",
    "#     'metrics': [],\n",
    "#     'type': 'neuralprophet',\n",
    "# }\n",
    "# np_external_model_request = None\n",
    "\n",
    "# Customized model request\n",
    "# model_request = {\n",
    "#     'type': 'meta_lr',  # 'meta_naive', 'meta_wa'\n",
    "#     'scorers': ['smape', 'mase'],\n",
    "#     'params': {\n",
    "#         'preprocessors': [\n",
    "#             {'type': 'dartsimputer'},\n",
    "#             # {'type': 'simpleimputer', 'params': {'strategy': 'mean'}},\n",
    "#             {'type': 'minmaxscaler'},\n",
    "#         ],\n",
    "#         'base_models': [\n",
    "#             {'type': 'darts_naive'},\n",
    "#             {'type': 'darts_seasonalnaive'},\n",
    "#             {'type': 'darts_autotheta'},\n",
    "#             # {'type': 'stats_autotheta'},\n",
    "#             {'type': 'darts_autoets'},\n",
    "#             # {'type': 'stats_autoets'},\n",
    "#             {'type': 'darts_autoarima'},\n",
    "#             # {'type': 'stats_autoarima'},\n",
    "#             {'type': 'darts_tbats'},\n",
    "#             {'type': 'darts_linearregression'},\n",
    "#             {'type': 'darts_lightgbm',\n",
    "#              'params': {\n",
    "#                  'lags': 12,\n",
    "#                  'output_chunk_length': 6,\n",
    "#                  'verbose': -1\n",
    "#             }},\n",
    "#             {'type': 'darts_rnn',\n",
    "#              'params': {\n",
    "#                  'model': 'LSTM',\n",
    "#                  'hidden_dim': 10,\n",
    "#                  'n_rnn_layers': 3\n",
    "#             }},\n",
    "#             {'type': 'neuralprophet',\n",
    "#              'external_params': np_external_model_request\n",
    "#             }  # Onboard NeuralProphet external service\n",
    "#         ],\n",
    "#     },\n",
    "# }"
   ]
  },
  {
   "cell_type": "markdown",
   "id": "2c59611b",
   "metadata": {},
   "source": [
    "This is for JSON model_request"
   ]
  },
  {
   "cell_type": "code",
   "execution_count": 17,
   "id": "98d2d9d5",
   "metadata": {
    "ExecuteTime": {
     "end_time": "2024-05-28T16:46:04.385425Z",
     "start_time": "2024-05-28T16:46:04.381852Z"
    }
   },
   "outputs": [],
   "source": [
    "# file_path = 'model_request.json'\n",
    "# # For writing the model request to a json file\n",
    "# with open(file_path, 'r') as file:\n",
    "#     model_request = json.load(file)"
   ]
  },
  {
   "cell_type": "markdown",
   "id": "51f3c5f5",
   "metadata": {},
   "source": [
    "This is for YAML model_request"
   ]
  },
  {
   "cell_type": "code",
   "execution_count": 18,
   "id": "5ff0d7a7",
   "metadata": {
    "ExecuteTime": {
     "end_time": "2024-05-28T16:46:04.394396Z",
     "start_time": "2024-05-28T16:46:04.386444Z"
    }
   },
   "outputs": [
    {
     "name": "stdout",
     "output_type": "stream",
     "text": [
      "{'type': 'meta_lr', 'scorers': ['smape', 'mase'], 'params': {'preprocessors': [{'type': 'dartsimputer'}, {'type': 'minmaxscaler'}], 'base_models': [{'type': 'darts_naive'}, {'type': 'darts_seasonalnaive'}, {'type': 'darts_autotheta'}, {'type': 'darts_autoets'}, {'type': 'darts_autoarima'}, {'type': 'darts_tbats'}, {'type': 'darts_linearregression'}, {'type': 'darts_lightgbm', 'params': {'lags': 12, 'output_chunk_length': 6, 'verbose': -1}}, {'type': 'darts_rnn', 'params': {'model': 'LSTM', 'hidden_dim': 10, 'n_rnn_layers': 3}}, {'type': 'neuralprophet', 'external_params': {'params': {'changepoints_range': 0.2, 'epochs': 2, 'growth': 'off'}, 'metrics': [], 'type': 'neuralprophet'}}]}}\n"
     ]
    }
   ],
   "source": [
    "file_path = 'model_request.yaml'\n",
    "# For reading the model request from a yaml file\n",
    "with open(file_path, 'r') as file:\n",
    "    model_request = yaml.safe_load(file)\n",
    "\n",
    "print(model_request)"
   ]
  },
  {
   "cell_type": "markdown",
   "id": "5791ee3c-4e12-4240-996a-68ef15dd86f9",
   "metadata": {},
   "source": [
    "Train API JSON Payload"
   ]
  },
  {
   "cell_type": "code",
   "execution_count": 19,
   "id": "01012159-6fc7-43ee-ae3b-6eb5307e9e04",
   "metadata": {
    "ExecuteTime": {
     "end_time": "2024-05-28T16:46:04.398749Z",
     "start_time": "2024-05-28T16:46:04.395434Z"
    }
   },
   "outputs": [],
   "source": [
    "api_json = {\n",
    "    'data': train_data,\n",
    "    'model': model_request  # (optional) can be commented out\n",
    "}"
   ]
  },
  {
   "cell_type": "markdown",
   "id": "754a97b7-b291-4263-a071-23d27f566417",
   "metadata": {},
   "source": [
    "Build URL"
   ]
  },
  {
   "cell_type": "code",
   "execution_count": 20,
   "id": "af5f0801-cf06-491f-819e-dba5ccdf0e97",
   "metadata": {
    "ExecuteTime": {
     "end_time": "2024-05-28T16:46:04.513835Z",
     "start_time": "2024-05-28T16:46:04.401612Z"
    }
   },
   "outputs": [],
   "source": [
    "with open('url.yaml', 'r') as file:\n",
    "    url_dict = yaml.safe_load(file)"
   ]
  },
  {
   "cell_type": "code",
   "execution_count": 21,
   "id": "3b4738ba-1d32-4d6c-a2dd-5ac07ad055f6",
   "metadata": {
    "ExecuteTime": {
     "end_time": "2024-05-28T16:46:04.518982Z",
     "start_time": "2024-05-28T16:46:04.515063Z"
    }
   },
   "outputs": [],
   "source": [
    "# URL to our SYBIL AWS service\n",
    "protocol = url_dict['protocol']\n",
    "host = url_dict['host']\n",
    "port = url_dict['port']\n",
    "endpoint = 'train'\n",
    "\n",
    "url = '%s://%s:%s/%s' % (protocol, host, str(port), endpoint)"
   ]
  },
  {
   "cell_type": "code",
   "execution_count": 22,
   "id": "d124a339-e643-4a32-bfe5-3d92014fa998",
   "metadata": {
    "ExecuteTime": {
     "end_time": "2024-05-28T16:46:04.523713Z",
     "start_time": "2024-05-28T16:46:04.520797Z"
    }
   },
   "outputs": [],
   "source": [
    "# protocol, host, port"
   ]
  },
  {
   "cell_type": "markdown",
   "id": "29d6d0a2-a726-4ae9-b6ef-ae91a6bb89e5",
   "metadata": {},
   "source": [
    "Call endpoint, receive response JSON, write to output file"
   ]
  },
  {
   "cell_type": "code",
   "execution_count": 23,
   "id": "bda53dfa-829f-4458-aff9-c1d24bdb6258",
   "metadata": {
    "ExecuteTime": {
     "end_time": "2024-05-28T16:49:20.558242Z",
     "start_time": "2024-05-28T16:46:04.524939Z"
    }
   },
   "outputs": [
    {
     "ename": "KeyboardInterrupt",
     "evalue": "",
     "output_type": "error",
     "traceback": [
      "\u001B[1;31m---------------------------------------------------------------------------\u001B[0m",
      "\u001B[1;31mConnectionResetError\u001B[0m                      Traceback (most recent call last)",
      "File \u001B[1;32m~\\AppData\\Local\\Programs\\Python\\Python311\\Lib\\http\\client.py:1386\u001B[0m, in \u001B[0;36mHTTPConnection.getresponse\u001B[1;34m(self)\u001B[0m\n\u001B[0;32m   1385\u001B[0m \u001B[38;5;28;01mtry\u001B[39;00m:\n\u001B[1;32m-> 1386\u001B[0m     \u001B[43mresponse\u001B[49m\u001B[38;5;241;43m.\u001B[39;49m\u001B[43mbegin\u001B[49m\u001B[43m(\u001B[49m\u001B[43m)\u001B[49m\n\u001B[0;32m   1387\u001B[0m \u001B[38;5;28;01mexcept\u001B[39;00m \u001B[38;5;167;01mConnectionError\u001B[39;00m:\n",
      "File \u001B[1;32m~\\AppData\\Local\\Programs\\Python\\Python311\\Lib\\http\\client.py:325\u001B[0m, in \u001B[0;36mHTTPResponse.begin\u001B[1;34m(self)\u001B[0m\n\u001B[0;32m    324\u001B[0m \u001B[38;5;28;01mwhile\u001B[39;00m \u001B[38;5;28;01mTrue\u001B[39;00m:\n\u001B[1;32m--> 325\u001B[0m     version, status, reason \u001B[38;5;241m=\u001B[39m \u001B[38;5;28;43mself\u001B[39;49m\u001B[38;5;241;43m.\u001B[39;49m\u001B[43m_read_status\u001B[49m\u001B[43m(\u001B[49m\u001B[43m)\u001B[49m\n\u001B[0;32m    326\u001B[0m     \u001B[38;5;28;01mif\u001B[39;00m status \u001B[38;5;241m!=\u001B[39m CONTINUE:\n",
      "File \u001B[1;32m~\\AppData\\Local\\Programs\\Python\\Python311\\Lib\\http\\client.py:286\u001B[0m, in \u001B[0;36mHTTPResponse._read_status\u001B[1;34m(self)\u001B[0m\n\u001B[0;32m    285\u001B[0m \u001B[38;5;28;01mdef\u001B[39;00m \u001B[38;5;21m_read_status\u001B[39m(\u001B[38;5;28mself\u001B[39m):\n\u001B[1;32m--> 286\u001B[0m     line \u001B[38;5;241m=\u001B[39m \u001B[38;5;28mstr\u001B[39m(\u001B[38;5;28;43mself\u001B[39;49m\u001B[38;5;241;43m.\u001B[39;49m\u001B[43mfp\u001B[49m\u001B[38;5;241;43m.\u001B[39;49m\u001B[43mreadline\u001B[49m\u001B[43m(\u001B[49m\u001B[43m_MAXLINE\u001B[49m\u001B[43m \u001B[49m\u001B[38;5;241;43m+\u001B[39;49m\u001B[43m \u001B[49m\u001B[38;5;241;43m1\u001B[39;49m\u001B[43m)\u001B[49m, \u001B[38;5;124m\"\u001B[39m\u001B[38;5;124miso-8859-1\u001B[39m\u001B[38;5;124m\"\u001B[39m)\n\u001B[0;32m    287\u001B[0m     \u001B[38;5;28;01mif\u001B[39;00m \u001B[38;5;28mlen\u001B[39m(line) \u001B[38;5;241m>\u001B[39m _MAXLINE:\n",
      "File \u001B[1;32m~\\AppData\\Local\\Programs\\Python\\Python311\\Lib\\socket.py:706\u001B[0m, in \u001B[0;36mSocketIO.readinto\u001B[1;34m(self, b)\u001B[0m\n\u001B[0;32m    705\u001B[0m \u001B[38;5;28;01mtry\u001B[39;00m:\n\u001B[1;32m--> 706\u001B[0m     \u001B[38;5;28;01mreturn\u001B[39;00m \u001B[38;5;28;43mself\u001B[39;49m\u001B[38;5;241;43m.\u001B[39;49m\u001B[43m_sock\u001B[49m\u001B[38;5;241;43m.\u001B[39;49m\u001B[43mrecv_into\u001B[49m\u001B[43m(\u001B[49m\u001B[43mb\u001B[49m\u001B[43m)\u001B[49m\n\u001B[0;32m    707\u001B[0m \u001B[38;5;28;01mexcept\u001B[39;00m timeout:\n",
      "\u001B[1;31mConnectionResetError\u001B[0m: [WinError 10054] An existing connection was forcibly closed by the remote host",
      "\nDuring handling of the above exception, another exception occurred:\n",
      "\u001B[1;31mKeyboardInterrupt\u001B[0m                         Traceback (most recent call last)",
      "File \u001B[1;32m<timed exec>:1\u001B[0m\n",
      "File \u001B[1;32m~\\PycharmProjects\\Sybil_Testing\\.venv\\Lib\\site-packages\\requests\\api.py:115\u001B[0m, in \u001B[0;36mpost\u001B[1;34m(url, data, json, **kwargs)\u001B[0m\n\u001B[0;32m    103\u001B[0m \u001B[38;5;28;01mdef\u001B[39;00m \u001B[38;5;21mpost\u001B[39m(url, data\u001B[38;5;241m=\u001B[39m\u001B[38;5;28;01mNone\u001B[39;00m, json\u001B[38;5;241m=\u001B[39m\u001B[38;5;28;01mNone\u001B[39;00m, \u001B[38;5;241m*\u001B[39m\u001B[38;5;241m*\u001B[39mkwargs):\n\u001B[0;32m    104\u001B[0m \u001B[38;5;250m    \u001B[39m\u001B[38;5;124mr\u001B[39m\u001B[38;5;124;03m\"\"\"Sends a POST request.\u001B[39;00m\n\u001B[0;32m    105\u001B[0m \n\u001B[0;32m    106\u001B[0m \u001B[38;5;124;03m    :param url: URL for the new :class:`Request` object.\u001B[39;00m\n\u001B[1;32m   (...)\u001B[0m\n\u001B[0;32m    112\u001B[0m \u001B[38;5;124;03m    :rtype: requests.Response\u001B[39;00m\n\u001B[0;32m    113\u001B[0m \u001B[38;5;124;03m    \"\"\"\u001B[39;00m\n\u001B[1;32m--> 115\u001B[0m     \u001B[38;5;28;01mreturn\u001B[39;00m \u001B[43mrequest\u001B[49m\u001B[43m(\u001B[49m\u001B[38;5;124;43m\"\u001B[39;49m\u001B[38;5;124;43mpost\u001B[39;49m\u001B[38;5;124;43m\"\u001B[39;49m\u001B[43m,\u001B[49m\u001B[43m \u001B[49m\u001B[43murl\u001B[49m\u001B[43m,\u001B[49m\u001B[43m \u001B[49m\u001B[43mdata\u001B[49m\u001B[38;5;241;43m=\u001B[39;49m\u001B[43mdata\u001B[49m\u001B[43m,\u001B[49m\u001B[43m \u001B[49m\u001B[43mjson\u001B[49m\u001B[38;5;241;43m=\u001B[39;49m\u001B[43mjson\u001B[49m\u001B[43m,\u001B[49m\u001B[43m \u001B[49m\u001B[38;5;241;43m*\u001B[39;49m\u001B[38;5;241;43m*\u001B[39;49m\u001B[43mkwargs\u001B[49m\u001B[43m)\u001B[49m\n",
      "File \u001B[1;32m~\\PycharmProjects\\Sybil_Testing\\.venv\\Lib\\site-packages\\requests\\api.py:59\u001B[0m, in \u001B[0;36mrequest\u001B[1;34m(method, url, **kwargs)\u001B[0m\n\u001B[0;32m     55\u001B[0m \u001B[38;5;66;03m# By using the 'with' statement we are sure the session is closed, thus we\u001B[39;00m\n\u001B[0;32m     56\u001B[0m \u001B[38;5;66;03m# avoid leaving sockets open which can trigger a ResourceWarning in some\u001B[39;00m\n\u001B[0;32m     57\u001B[0m \u001B[38;5;66;03m# cases, and look like a memory leak in others.\u001B[39;00m\n\u001B[0;32m     58\u001B[0m \u001B[38;5;28;01mwith\u001B[39;00m sessions\u001B[38;5;241m.\u001B[39mSession() \u001B[38;5;28;01mas\u001B[39;00m session:\n\u001B[1;32m---> 59\u001B[0m     \u001B[38;5;28;01mreturn\u001B[39;00m \u001B[43msession\u001B[49m\u001B[38;5;241;43m.\u001B[39;49m\u001B[43mrequest\u001B[49m\u001B[43m(\u001B[49m\u001B[43mmethod\u001B[49m\u001B[38;5;241;43m=\u001B[39;49m\u001B[43mmethod\u001B[49m\u001B[43m,\u001B[49m\u001B[43m \u001B[49m\u001B[43murl\u001B[49m\u001B[38;5;241;43m=\u001B[39;49m\u001B[43murl\u001B[49m\u001B[43m,\u001B[49m\u001B[43m \u001B[49m\u001B[38;5;241;43m*\u001B[39;49m\u001B[38;5;241;43m*\u001B[39;49m\u001B[43mkwargs\u001B[49m\u001B[43m)\u001B[49m\n",
      "File \u001B[1;32m~\\PycharmProjects\\Sybil_Testing\\.venv\\Lib\\site-packages\\requests\\sessions.py:589\u001B[0m, in \u001B[0;36mSession.request\u001B[1;34m(self, method, url, params, data, headers, cookies, files, auth, timeout, allow_redirects, proxies, hooks, stream, verify, cert, json)\u001B[0m\n\u001B[0;32m    584\u001B[0m send_kwargs \u001B[38;5;241m=\u001B[39m {\n\u001B[0;32m    585\u001B[0m     \u001B[38;5;124m\"\u001B[39m\u001B[38;5;124mtimeout\u001B[39m\u001B[38;5;124m\"\u001B[39m: timeout,\n\u001B[0;32m    586\u001B[0m     \u001B[38;5;124m\"\u001B[39m\u001B[38;5;124mallow_redirects\u001B[39m\u001B[38;5;124m\"\u001B[39m: allow_redirects,\n\u001B[0;32m    587\u001B[0m }\n\u001B[0;32m    588\u001B[0m send_kwargs\u001B[38;5;241m.\u001B[39mupdate(settings)\n\u001B[1;32m--> 589\u001B[0m resp \u001B[38;5;241m=\u001B[39m \u001B[38;5;28;43mself\u001B[39;49m\u001B[38;5;241;43m.\u001B[39;49m\u001B[43msend\u001B[49m\u001B[43m(\u001B[49m\u001B[43mprep\u001B[49m\u001B[43m,\u001B[49m\u001B[43m \u001B[49m\u001B[38;5;241;43m*\u001B[39;49m\u001B[38;5;241;43m*\u001B[39;49m\u001B[43msend_kwargs\u001B[49m\u001B[43m)\u001B[49m\n\u001B[0;32m    591\u001B[0m \u001B[38;5;28;01mreturn\u001B[39;00m resp\n",
      "File \u001B[1;32m~\\PycharmProjects\\Sybil_Testing\\.venv\\Lib\\site-packages\\requests\\sessions.py:703\u001B[0m, in \u001B[0;36mSession.send\u001B[1;34m(self, request, **kwargs)\u001B[0m\n\u001B[0;32m    700\u001B[0m start \u001B[38;5;241m=\u001B[39m preferred_clock()\n\u001B[0;32m    702\u001B[0m \u001B[38;5;66;03m# Send the request\u001B[39;00m\n\u001B[1;32m--> 703\u001B[0m r \u001B[38;5;241m=\u001B[39m \u001B[43madapter\u001B[49m\u001B[38;5;241;43m.\u001B[39;49m\u001B[43msend\u001B[49m\u001B[43m(\u001B[49m\u001B[43mrequest\u001B[49m\u001B[43m,\u001B[49m\u001B[43m \u001B[49m\u001B[38;5;241;43m*\u001B[39;49m\u001B[38;5;241;43m*\u001B[39;49m\u001B[43mkwargs\u001B[49m\u001B[43m)\u001B[49m\n\u001B[0;32m    705\u001B[0m \u001B[38;5;66;03m# Total elapsed time of the request (approximately)\u001B[39;00m\n\u001B[0;32m    706\u001B[0m elapsed \u001B[38;5;241m=\u001B[39m preferred_clock() \u001B[38;5;241m-\u001B[39m start\n",
      "File \u001B[1;32m~\\PycharmProjects\\Sybil_Testing\\.venv\\Lib\\site-packages\\requests\\adapters.py:589\u001B[0m, in \u001B[0;36mHTTPAdapter.send\u001B[1;34m(self, request, stream, timeout, verify, cert, proxies)\u001B[0m\n\u001B[0;32m    586\u001B[0m     timeout \u001B[38;5;241m=\u001B[39m TimeoutSauce(connect\u001B[38;5;241m=\u001B[39mtimeout, read\u001B[38;5;241m=\u001B[39mtimeout)\n\u001B[0;32m    588\u001B[0m \u001B[38;5;28;01mtry\u001B[39;00m:\n\u001B[1;32m--> 589\u001B[0m     resp \u001B[38;5;241m=\u001B[39m \u001B[43mconn\u001B[49m\u001B[38;5;241;43m.\u001B[39;49m\u001B[43murlopen\u001B[49m\u001B[43m(\u001B[49m\n\u001B[0;32m    590\u001B[0m \u001B[43m        \u001B[49m\u001B[43mmethod\u001B[49m\u001B[38;5;241;43m=\u001B[39;49m\u001B[43mrequest\u001B[49m\u001B[38;5;241;43m.\u001B[39;49m\u001B[43mmethod\u001B[49m\u001B[43m,\u001B[49m\n\u001B[0;32m    591\u001B[0m \u001B[43m        \u001B[49m\u001B[43murl\u001B[49m\u001B[38;5;241;43m=\u001B[39;49m\u001B[43murl\u001B[49m\u001B[43m,\u001B[49m\n\u001B[0;32m    592\u001B[0m \u001B[43m        \u001B[49m\u001B[43mbody\u001B[49m\u001B[38;5;241;43m=\u001B[39;49m\u001B[43mrequest\u001B[49m\u001B[38;5;241;43m.\u001B[39;49m\u001B[43mbody\u001B[49m\u001B[43m,\u001B[49m\n\u001B[0;32m    593\u001B[0m \u001B[43m        \u001B[49m\u001B[43mheaders\u001B[49m\u001B[38;5;241;43m=\u001B[39;49m\u001B[43mrequest\u001B[49m\u001B[38;5;241;43m.\u001B[39;49m\u001B[43mheaders\u001B[49m\u001B[43m,\u001B[49m\n\u001B[0;32m    594\u001B[0m \u001B[43m        \u001B[49m\u001B[43mredirect\u001B[49m\u001B[38;5;241;43m=\u001B[39;49m\u001B[38;5;28;43;01mFalse\u001B[39;49;00m\u001B[43m,\u001B[49m\n\u001B[0;32m    595\u001B[0m \u001B[43m        \u001B[49m\u001B[43massert_same_host\u001B[49m\u001B[38;5;241;43m=\u001B[39;49m\u001B[38;5;28;43;01mFalse\u001B[39;49;00m\u001B[43m,\u001B[49m\n\u001B[0;32m    596\u001B[0m \u001B[43m        \u001B[49m\u001B[43mpreload_content\u001B[49m\u001B[38;5;241;43m=\u001B[39;49m\u001B[38;5;28;43;01mFalse\u001B[39;49;00m\u001B[43m,\u001B[49m\n\u001B[0;32m    597\u001B[0m \u001B[43m        \u001B[49m\u001B[43mdecode_content\u001B[49m\u001B[38;5;241;43m=\u001B[39;49m\u001B[38;5;28;43;01mFalse\u001B[39;49;00m\u001B[43m,\u001B[49m\n\u001B[0;32m    598\u001B[0m \u001B[43m        \u001B[49m\u001B[43mretries\u001B[49m\u001B[38;5;241;43m=\u001B[39;49m\u001B[38;5;28;43mself\u001B[39;49m\u001B[38;5;241;43m.\u001B[39;49m\u001B[43mmax_retries\u001B[49m\u001B[43m,\u001B[49m\n\u001B[0;32m    599\u001B[0m \u001B[43m        \u001B[49m\u001B[43mtimeout\u001B[49m\u001B[38;5;241;43m=\u001B[39;49m\u001B[43mtimeout\u001B[49m\u001B[43m,\u001B[49m\n\u001B[0;32m    600\u001B[0m \u001B[43m        \u001B[49m\u001B[43mchunked\u001B[49m\u001B[38;5;241;43m=\u001B[39;49m\u001B[43mchunked\u001B[49m\u001B[43m,\u001B[49m\n\u001B[0;32m    601\u001B[0m \u001B[43m    \u001B[49m\u001B[43m)\u001B[49m\n\u001B[0;32m    603\u001B[0m \u001B[38;5;28;01mexcept\u001B[39;00m (ProtocolError, \u001B[38;5;167;01mOSError\u001B[39;00m) \u001B[38;5;28;01mas\u001B[39;00m err:\n\u001B[0;32m    604\u001B[0m     \u001B[38;5;28;01mraise\u001B[39;00m \u001B[38;5;167;01mConnectionError\u001B[39;00m(err, request\u001B[38;5;241m=\u001B[39mrequest)\n",
      "File \u001B[1;32m~\\PycharmProjects\\Sybil_Testing\\.venv\\Lib\\site-packages\\urllib3\\connectionpool.py:793\u001B[0m, in \u001B[0;36mHTTPConnectionPool.urlopen\u001B[1;34m(self, method, url, body, headers, retries, redirect, assert_same_host, timeout, pool_timeout, release_conn, chunked, body_pos, preload_content, decode_content, **response_kw)\u001B[0m\n\u001B[0;32m    790\u001B[0m response_conn \u001B[38;5;241m=\u001B[39m conn \u001B[38;5;28;01mif\u001B[39;00m \u001B[38;5;129;01mnot\u001B[39;00m release_conn \u001B[38;5;28;01melse\u001B[39;00m \u001B[38;5;28;01mNone\u001B[39;00m\n\u001B[0;32m    792\u001B[0m \u001B[38;5;66;03m# Make the request on the HTTPConnection object\u001B[39;00m\n\u001B[1;32m--> 793\u001B[0m response \u001B[38;5;241m=\u001B[39m \u001B[38;5;28;43mself\u001B[39;49m\u001B[38;5;241;43m.\u001B[39;49m\u001B[43m_make_request\u001B[49m\u001B[43m(\u001B[49m\n\u001B[0;32m    794\u001B[0m \u001B[43m    \u001B[49m\u001B[43mconn\u001B[49m\u001B[43m,\u001B[49m\n\u001B[0;32m    795\u001B[0m \u001B[43m    \u001B[49m\u001B[43mmethod\u001B[49m\u001B[43m,\u001B[49m\n\u001B[0;32m    796\u001B[0m \u001B[43m    \u001B[49m\u001B[43murl\u001B[49m\u001B[43m,\u001B[49m\n\u001B[0;32m    797\u001B[0m \u001B[43m    \u001B[49m\u001B[43mtimeout\u001B[49m\u001B[38;5;241;43m=\u001B[39;49m\u001B[43mtimeout_obj\u001B[49m\u001B[43m,\u001B[49m\n\u001B[0;32m    798\u001B[0m \u001B[43m    \u001B[49m\u001B[43mbody\u001B[49m\u001B[38;5;241;43m=\u001B[39;49m\u001B[43mbody\u001B[49m\u001B[43m,\u001B[49m\n\u001B[0;32m    799\u001B[0m \u001B[43m    \u001B[49m\u001B[43mheaders\u001B[49m\u001B[38;5;241;43m=\u001B[39;49m\u001B[43mheaders\u001B[49m\u001B[43m,\u001B[49m\n\u001B[0;32m    800\u001B[0m \u001B[43m    \u001B[49m\u001B[43mchunked\u001B[49m\u001B[38;5;241;43m=\u001B[39;49m\u001B[43mchunked\u001B[49m\u001B[43m,\u001B[49m\n\u001B[0;32m    801\u001B[0m \u001B[43m    \u001B[49m\u001B[43mretries\u001B[49m\u001B[38;5;241;43m=\u001B[39;49m\u001B[43mretries\u001B[49m\u001B[43m,\u001B[49m\n\u001B[0;32m    802\u001B[0m \u001B[43m    \u001B[49m\u001B[43mresponse_conn\u001B[49m\u001B[38;5;241;43m=\u001B[39;49m\u001B[43mresponse_conn\u001B[49m\u001B[43m,\u001B[49m\n\u001B[0;32m    803\u001B[0m \u001B[43m    \u001B[49m\u001B[43mpreload_content\u001B[49m\u001B[38;5;241;43m=\u001B[39;49m\u001B[43mpreload_content\u001B[49m\u001B[43m,\u001B[49m\n\u001B[0;32m    804\u001B[0m \u001B[43m    \u001B[49m\u001B[43mdecode_content\u001B[49m\u001B[38;5;241;43m=\u001B[39;49m\u001B[43mdecode_content\u001B[49m\u001B[43m,\u001B[49m\n\u001B[0;32m    805\u001B[0m \u001B[43m    \u001B[49m\u001B[38;5;241;43m*\u001B[39;49m\u001B[38;5;241;43m*\u001B[39;49m\u001B[43mresponse_kw\u001B[49m\u001B[43m,\u001B[49m\n\u001B[0;32m    806\u001B[0m \u001B[43m\u001B[49m\u001B[43m)\u001B[49m\n\u001B[0;32m    808\u001B[0m \u001B[38;5;66;03m# Everything went great!\u001B[39;00m\n\u001B[0;32m    809\u001B[0m clean_exit \u001B[38;5;241m=\u001B[39m \u001B[38;5;28;01mTrue\u001B[39;00m\n",
      "File \u001B[1;32m~\\PycharmProjects\\Sybil_Testing\\.venv\\Lib\\site-packages\\urllib3\\connectionpool.py:537\u001B[0m, in \u001B[0;36mHTTPConnectionPool._make_request\u001B[1;34m(self, conn, method, url, body, headers, retries, timeout, chunked, response_conn, preload_content, decode_content, enforce_content_length)\u001B[0m\n\u001B[0;32m    535\u001B[0m \u001B[38;5;66;03m# Receive the response from the server\u001B[39;00m\n\u001B[0;32m    536\u001B[0m \u001B[38;5;28;01mtry\u001B[39;00m:\n\u001B[1;32m--> 537\u001B[0m     response \u001B[38;5;241m=\u001B[39m \u001B[43mconn\u001B[49m\u001B[38;5;241;43m.\u001B[39;49m\u001B[43mgetresponse\u001B[49m\u001B[43m(\u001B[49m\u001B[43m)\u001B[49m\n\u001B[0;32m    538\u001B[0m \u001B[38;5;28;01mexcept\u001B[39;00m (BaseSSLError, \u001B[38;5;167;01mOSError\u001B[39;00m) \u001B[38;5;28;01mas\u001B[39;00m e:\n\u001B[0;32m    539\u001B[0m     \u001B[38;5;28mself\u001B[39m\u001B[38;5;241m.\u001B[39m_raise_timeout(err\u001B[38;5;241m=\u001B[39me, url\u001B[38;5;241m=\u001B[39murl, timeout_value\u001B[38;5;241m=\u001B[39mread_timeout)\n",
      "File \u001B[1;32m~\\PycharmProjects\\Sybil_Testing\\.venv\\Lib\\site-packages\\urllib3\\connection.py:466\u001B[0m, in \u001B[0;36mHTTPConnection.getresponse\u001B[1;34m(self)\u001B[0m\n\u001B[0;32m    463\u001B[0m \u001B[38;5;28;01mfrom\u001B[39;00m \u001B[38;5;21;01m.\u001B[39;00m\u001B[38;5;21;01mresponse\u001B[39;00m \u001B[38;5;28;01mimport\u001B[39;00m HTTPResponse\n\u001B[0;32m    465\u001B[0m \u001B[38;5;66;03m# Get the response from http.client.HTTPConnection\u001B[39;00m\n\u001B[1;32m--> 466\u001B[0m httplib_response \u001B[38;5;241m=\u001B[39m \u001B[38;5;28;43msuper\u001B[39;49m\u001B[43m(\u001B[49m\u001B[43m)\u001B[49m\u001B[38;5;241;43m.\u001B[39;49m\u001B[43mgetresponse\u001B[49m\u001B[43m(\u001B[49m\u001B[43m)\u001B[49m\n\u001B[0;32m    468\u001B[0m \u001B[38;5;28;01mtry\u001B[39;00m:\n\u001B[0;32m    469\u001B[0m     assert_header_parsing(httplib_response\u001B[38;5;241m.\u001B[39mmsg)\n",
      "File \u001B[1;32m~\\AppData\\Local\\Programs\\Python\\Python311\\Lib\\http\\client.py:1388\u001B[0m, in \u001B[0;36mHTTPConnection.getresponse\u001B[1;34m(self)\u001B[0m\n\u001B[0;32m   1386\u001B[0m     response\u001B[38;5;241m.\u001B[39mbegin()\n\u001B[0;32m   1387\u001B[0m \u001B[38;5;28;01mexcept\u001B[39;00m \u001B[38;5;167;01mConnectionError\u001B[39;00m:\n\u001B[1;32m-> 1388\u001B[0m     \u001B[38;5;28;43mself\u001B[39;49m\u001B[38;5;241;43m.\u001B[39;49m\u001B[43mclose\u001B[49m\u001B[43m(\u001B[49m\u001B[43m)\u001B[49m\n\u001B[0;32m   1389\u001B[0m     \u001B[38;5;28;01mraise\u001B[39;00m\n\u001B[0;32m   1390\u001B[0m \u001B[38;5;28;01massert\u001B[39;00m response\u001B[38;5;241m.\u001B[39mwill_close \u001B[38;5;241m!=\u001B[39m _UNKNOWN\n",
      "File \u001B[1;32m~\\PycharmProjects\\Sybil_Testing\\.venv\\Lib\\site-packages\\urllib3\\connection.py:275\u001B[0m, in \u001B[0;36mHTTPConnection.close\u001B[1;34m(self)\u001B[0m\n\u001B[0;32m    270\u001B[0m \u001B[38;5;250m    \u001B[39m\u001B[38;5;124;03m\"\"\"\u001B[39;00m\n\u001B[0;32m    271\u001B[0m \u001B[38;5;124;03m    Return True if a forwarding proxy is configured, else return False\u001B[39;00m\n\u001B[0;32m    272\u001B[0m \u001B[38;5;124;03m    \"\"\"\u001B[39;00m\n\u001B[0;32m    273\u001B[0m     \u001B[38;5;28;01mreturn\u001B[39;00m \u001B[38;5;28mbool\u001B[39m(\u001B[38;5;28mself\u001B[39m\u001B[38;5;241m.\u001B[39mproxy) \u001B[38;5;129;01mand\u001B[39;00m \u001B[38;5;28mself\u001B[39m\u001B[38;5;241m.\u001B[39m_tunnel_host \u001B[38;5;129;01mis\u001B[39;00m \u001B[38;5;28;01mNone\u001B[39;00m\n\u001B[1;32m--> 275\u001B[0m \u001B[38;5;28;01mdef\u001B[39;00m \u001B[38;5;21mclose\u001B[39m(\u001B[38;5;28mself\u001B[39m) \u001B[38;5;241m-\u001B[39m\u001B[38;5;241m>\u001B[39m \u001B[38;5;28;01mNone\u001B[39;00m:\n\u001B[0;32m    276\u001B[0m     \u001B[38;5;28;01mtry\u001B[39;00m:\n\u001B[0;32m    277\u001B[0m         \u001B[38;5;28msuper\u001B[39m()\u001B[38;5;241m.\u001B[39mclose()\n",
      "\u001B[1;31mKeyboardInterrupt\u001B[0m: "
     ]
    }
   ],
   "source": [
    "%%time\n",
    "response = requests.post(url, json=api_json)\n",
    "print(response)\n",
    "print()"
   ]
  },
  {
   "cell_type": "code",
   "execution_count": 24,
   "id": "a9b0c75a-25ab-47c5-a1db-e7296a3f3a20",
   "metadata": {
    "ExecuteTime": {
     "end_time": "2024-05-28T16:49:20.712375Z",
     "start_time": "2024-05-28T16:49:20.559345Z"
    }
   },
   "outputs": [
    {
     "ename": "NameError",
     "evalue": "name 'response' is not defined",
     "output_type": "error",
     "traceback": [
      "\u001B[1;31m---------------------------------------------------------------------------\u001B[0m",
      "\u001B[1;31mNameError\u001B[0m                                 Traceback (most recent call last)",
      "Cell \u001B[1;32mIn[24], line 1\u001B[0m\n\u001B[1;32m----> 1\u001B[0m train_json_out \u001B[38;5;241m=\u001B[39m \u001B[43mresponse\u001B[49m\u001B[38;5;241m.\u001B[39mjson()  \u001B[38;5;66;03m# dict output\u001B[39;00m\n\u001B[0;32m      2\u001B[0m train_json_out\n",
      "\u001B[1;31mNameError\u001B[0m: name 'response' is not defined"
     ]
    }
   ],
   "source": [
    "train_json_out = response.json()  # dict output\n",
    "train_json_out"
   ]
  },
  {
   "cell_type": "markdown",
   "id": "a5f8d92a-2ec6-438b-a756-bd956030bb2a",
   "metadata": {},
   "source": [
    "### **Forecast API**"
   ]
  },
  {
   "cell_type": "markdown",
   "id": "2a2598a4-6c6a-40dc-bc45-82fa0cc662eb",
   "metadata": {},
   "source": [
    "Forecast Dates: predict the next 2 years of air passenger data (1961-1962)"
   ]
  },
  {
   "cell_type": "code",
   "execution_count": null,
   "id": "138b6ede-3d9b-4d80-8d26-c3cabd21be66",
   "metadata": {
    "ExecuteTime": {
     "start_time": "2024-05-28T16:49:20.714418Z"
    }
   },
   "outputs": [],
   "source": [
    "dates = [\n",
    "    '1961-01-01', '1961-02-01', '1961-03-01', '1961-04-01', '1961-05-01', '1961-06-01',\n",
    "    '1961-07-01', '1961-08-01', '1961-09-01', '1961-10-01', '1961-11-01', '1961-12-01',\n",
    "    '1962-01-01', '1962-02-01', '1962-03-01', '1962-04-01', '1962-05-01', '1962-06-01',\n",
    "    '1962-07-01', '1962-08-01', '1962-09-01', '1962-10-01', '1962-11-01', '1962-12-01',\n",
    "]"
   ]
  },
  {
   "cell_type": "markdown",
   "id": "9c54f592-5262-46ec-b651-555edd2edb49",
   "metadata": {},
   "source": [
    "Model from Train API"
   ]
  },
  {
   "cell_type": "code",
   "execution_count": null,
   "id": "44037535-5b07-40e2-b6a7-3e301d19deda",
   "metadata": {
    "ExecuteTime": {
     "start_time": "2024-05-28T16:49:20.715498Z"
    }
   },
   "outputs": [],
   "source": [
    "model = train_json_out['model']"
   ]
  },
  {
   "cell_type": "markdown",
   "id": "ab30f283-f727-4d4e-8a92-791318ede6b4",
   "metadata": {},
   "source": [
    "Forecast API JSON Payload"
   ]
  },
  {
   "cell_type": "code",
   "execution_count": null,
   "id": "1fc68132-9353-4951-bed3-6b916eb52e44",
   "metadata": {},
   "outputs": [],
   "source": [
    "api_json = {\n",
    "    'model': model,\n",
    "    'data': dates\n",
    "}"
   ]
  },
  {
   "cell_type": "markdown",
   "id": "72336096-face-429d-99e7-70e55f79449f",
   "metadata": {},
   "source": [
    "Build URL (same as train except for the endpoint)"
   ]
  },
  {
   "cell_type": "code",
   "execution_count": null,
   "id": "98888d03-d90d-4694-a648-7ec375dd2c75",
   "metadata": {},
   "outputs": [],
   "source": [
    "endpoint = 'forecast'\n",
    "\n",
    "url = '%s://%s:%s/%s' % (protocol, host, str(port), endpoint)"
   ]
  },
  {
   "cell_type": "markdown",
   "id": "8bfd1167-c0ef-4404-a9d4-441dbcdb9864",
   "metadata": {},
   "source": [
    "Call endpoint, receive response JSON, write to output file"
   ]
  },
  {
   "cell_type": "code",
   "execution_count": null,
   "id": "443ff168-22e0-42c4-8e93-742a3293cc81",
   "metadata": {
    "ExecuteTime": {
     "start_time": "2024-05-28T16:49:20.717698Z"
    }
   },
   "outputs": [],
   "source": [
    "%%time\n",
    "response = requests.post(url, json=api_json)\n",
    "print(response)\n",
    "print()"
   ]
  },
  {
   "cell_type": "code",
   "execution_count": null,
   "id": "a8968a73-f03c-4e0c-bf6c-d1e67f3bb7b8",
   "metadata": {
    "ExecuteTime": {
     "start_time": "2024-05-28T16:49:20.718696Z"
    }
   },
   "outputs": [],
   "source": [
    "forecast_json_out = response.json()  # dict output\n",
    "forecast_json_out"
   ]
  },
  {
   "cell_type": "markdown",
   "id": "9d42cf65-1bd5-4ef3-a48d-52d44b702040",
   "metadata": {},
   "source": [
    "Combine forecast dates and output"
   ]
  },
  {
   "cell_type": "code",
   "execution_count": null,
   "id": "e819b0a7-4c42-4fb3-8785-057f9898f927",
   "metadata": {},
   "outputs": [],
   "source": [
    "forecast_df = pd.DataFrame(\n",
    "    data=forecast_json_out['data'],\n",
    "    columns=[time_col, target_col],\n",
    ")"
   ]
  },
  {
   "cell_type": "code",
   "execution_count": null,
   "id": "0a7c0974-5279-4186-8f37-3ae2a24c5837",
   "metadata": {
    "ExecuteTime": {
     "start_time": "2024-05-28T16:49:20.719722Z"
    }
   },
   "outputs": [],
   "source": [
    "forecast_df.shape"
   ]
  },
  {
   "cell_type": "code",
   "execution_count": null,
   "id": "f2a9507d-3127-4bec-930e-5ccd2248802e",
   "metadata": {
    "ExecuteTime": {
     "start_time": "2024-05-28T16:49:20.720720Z"
    }
   },
   "outputs": [],
   "source": [
    "forecast_df.columns"
   ]
  },
  {
   "cell_type": "code",
   "execution_count": null,
   "id": "de1a02db-f5a5-497e-aee3-08f962c664f5",
   "metadata": {
    "ExecuteTime": {
     "start_time": "2024-05-28T16:49:20.720720Z"
    }
   },
   "outputs": [],
   "source": [
    "forecast_df.head()"
   ]
  },
  {
   "cell_type": "code",
   "execution_count": null,
   "id": "508358d2-8319-49bc-bd94-c5da97b0b7a4",
   "metadata": {
    "ExecuteTime": {
     "start_time": "2024-05-28T16:49:20.721740Z"
    }
   },
   "outputs": [],
   "source": [
    "forecast_df.tail()"
   ]
  },
  {
   "cell_type": "markdown",
   "id": "a86a090e-de22-4045-a055-45198f240e60",
   "metadata": {},
   "source": [
    "Plot train and forecast side-by-side"
   ]
  },
  {
   "cell_type": "code",
   "execution_count": null,
   "id": "8bc95c77-c93a-422b-a7da-551c67f0418e",
   "metadata": {
    "ExecuteTime": {
     "start_time": "2024-05-28T16:49:20.721740Z"
    }
   },
   "outputs": [],
   "source": [
    "train_df['color'] = 'b'\n",
    "train_df.set_index(time_col).plot(figsize=figsize, color=train_df['color']);"
   ]
  },
  {
   "cell_type": "code",
   "execution_count": null,
   "id": "386d8c56-bf2a-4975-821e-ca4351146041",
   "metadata": {
    "ExecuteTime": {
     "start_time": "2024-05-28T16:49:20.722737Z"
    }
   },
   "outputs": [],
   "source": [
    "forecast_df['color'] = 'r'\n",
    "forecast_df.set_index(time_col).plot(figsize=figsize, color=forecast_df['color']);"
   ]
  },
  {
   "cell_type": "markdown",
   "id": "5d09e17b-d4b1-4589-8756-d0b4e23cc532",
   "metadata": {},
   "source": [
    "Combine train and forecast sets"
   ]
  },
  {
   "cell_type": "code",
   "execution_count": null,
   "id": "2372cd4f-9014-4c4f-ba2f-58718094cf09",
   "metadata": {
    "ExecuteTime": {
     "start_time": "2024-05-28T16:49:20.723764Z"
    }
   },
   "outputs": [],
   "source": [
    "df = pd.concat([train_df, forecast_df]).reset_index(drop=True)"
   ]
  },
  {
   "cell_type": "code",
   "execution_count": null,
   "id": "46736586-4f20-4f55-a758-148e3338a202",
   "metadata": {
    "ExecuteTime": {
     "start_time": "2024-05-28T16:49:20.723764Z"
    }
   },
   "outputs": [],
   "source": [
    "df.shape"
   ]
  },
  {
   "cell_type": "code",
   "execution_count": null,
   "id": "b7f69447-161c-4a8a-95b7-64e4f230a524",
   "metadata": {
    "ExecuteTime": {
     "start_time": "2024-05-28T16:49:20.724762Z"
    }
   },
   "outputs": [],
   "source": [
    "df.head()"
   ]
  },
  {
   "cell_type": "code",
   "execution_count": null,
   "id": "26c6a481-6000-4912-9fb8-875ab6ab44cc",
   "metadata": {
    "ExecuteTime": {
     "start_time": "2024-05-28T16:49:20.725798Z"
    }
   },
   "outputs": [],
   "source": [
    "df.tail()"
   ]
  },
  {
   "cell_type": "markdown",
   "id": "50aa95fa-1317-4c96-af94-a3ded106e5cb",
   "metadata": {},
   "source": [
    "Plot combined train and forecast sets with the vertical black line as the cut-off"
   ]
  },
  {
   "cell_type": "code",
   "execution_count": null,
   "id": "91386104-8366-42f8-9cd7-f524a108c5bb",
   "metadata": {
    "ExecuteTime": {
     "start_time": "2024-05-28T16:49:20.725798Z"
    }
   },
   "outputs": [],
   "source": [
    "df.set_index(time_col).plot(figsize=figsize, color=df['color'])\n",
    "plt.axvline(x=len(train_df), color='black', label='Train/Forecast set cut-off')\n",
    "plt.text(x=len(train_df)-9, y=forecast_df[target_col].max(), s='Train', fontweight='bold', fontsize=14)\n",
    "plt.text(x=len(train_df)+1, y=forecast_df[target_col].max(), s='Forecast', fontweight='bold', fontsize=14)\n",
    "plt.title(label='Monthly Number of Air Passengers (Train: 1949-1960) (Forecast: 1961-1962)', fontweight='bold', fontsize=20)\n",
    "plt.show();"
   ]
  },
  {
   "cell_type": "code",
   "execution_count": null,
   "id": "197dac47",
   "metadata": {},
   "outputs": [],
   "source": []
  }
 ],
 "metadata": {
  "kernelspec": {
   "display_name": "sybil",
   "language": "python",
   "name": "python3"
  },
  "language_info": {
   "codemirror_mode": {
    "name": "ipython",
    "version": 3
   },
   "file_extension": ".py",
   "mimetype": "text/x-python",
   "name": "python",
   "nbconvert_exporter": "python",
   "pygments_lexer": "ipython3",
   "version": "3.9.18"
  }
 },
 "nbformat": 4,
 "nbformat_minor": 5
}
