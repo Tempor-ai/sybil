{
 "cells": [
  {
   "cell_type": "markdown",
   "id": "48e57c5e-f2f9-448c-8901-e27610b878d5",
   "metadata": {},
   "source": [
    "Check Python version"
   ]
  },
  {
   "cell_type": "code",
   "execution_count": 1,
   "id": "c00c0a6f-c24c-4255-a430-6f89264a5a41",
   "metadata": {
    "ExecuteTime": {
     "end_time": "2023-09-06T01:20:27.145781756Z",
     "start_time": "2023-09-06T01:20:26.766297214Z"
    }
   },
   "outputs": [
    {
     "name": "stdout",
     "output_type": "stream",
     "text": [
      "Python 3.9.12\n"
     ]
    }
   ],
   "source": [
    "!python --version"
   ]
  },
  {
   "cell_type": "markdown",
   "id": "6173c739-e07c-46f5-9841-a6c7d7f1b4ff",
   "metadata": {},
   "source": [
    "Import libraries"
   ]
  },
  {
   "cell_type": "code",
   "execution_count": 2,
   "id": "4c7954a0-e6b4-4fa1-962b-83141e8b19cc",
   "metadata": {
    "ExecuteTime": {
     "end_time": "2023-09-06T01:20:27.149299699Z",
     "start_time": "2023-09-06T01:20:26.980001752Z"
    }
   },
   "outputs": [],
   "source": [
    "import json\n",
    "import yaml\n",
    "import requests\n",
    "import pandas as pd\n",
    "import matplotlib.pyplot as plt\n",
    "import seaborn as sns\n",
    "sns.set()"
   ]
  },
  {
   "cell_type": "markdown",
   "id": "4b126246-b152-4de2-a39d-21feb5d6f6d2",
   "metadata": {},
   "source": [
    "### **Extract Data**"
   ]
  },
  {
   "cell_type": "code",
   "execution_count": 3,
   "id": "a1f7662e-1117-4a4b-9118-09faa296ccf9",
   "metadata": {
    "ExecuteTime": {
     "end_time": "2023-09-06T01:20:27.149569010Z",
     "start_time": "2023-09-06T01:20:26.980201253Z"
    }
   },
   "outputs": [],
   "source": [
    "# Local directory\n",
    "# data_dir = \"../datasets/retail\"\n",
    "# file_name = \"air_passengers\"\n",
    "# file_path = f\"{data_dir}/{file_name}.csv\"\n",
    "\n",
    "# Through online GitHub\n",
    "file_path = \"https://github.com/ourownstory/neuralprophet-data/raw/main/datasets/air_passengers.csv\""
   ]
  },
  {
   "cell_type": "code",
   "execution_count": 4,
   "id": "437651ae-7fe0-4adb-b614-607e663b735c",
   "metadata": {
    "ExecuteTime": {
     "end_time": "2023-09-06T01:20:27.263475171Z",
     "start_time": "2023-09-06T01:20:26.980332474Z"
    }
   },
   "outputs": [],
   "source": [
    "train_df = pd.read_csv(file_path)"
   ]
  },
  {
   "cell_type": "code",
   "execution_count": 5,
   "id": "53700774-809a-4cd9-a385-e155c2d99236",
   "metadata": {
    "ExecuteTime": {
     "end_time": "2023-09-06T01:20:27.264033784Z",
     "start_time": "2023-09-06T01:20:27.260748853Z"
    }
   },
   "outputs": [
    {
     "data": {
      "text/plain": [
       "(144, 2)"
      ]
     },
     "execution_count": 5,
     "metadata": {},
     "output_type": "execute_result"
    }
   ],
   "source": [
    "train_df.shape"
   ]
  },
  {
   "cell_type": "code",
   "execution_count": 6,
   "id": "114fc37e-da5d-4764-bb26-3fab6a761c54",
   "metadata": {
    "ExecuteTime": {
     "end_time": "2023-09-06T01:20:27.267825740Z",
     "start_time": "2023-09-06T01:20:27.264743909Z"
    }
   },
   "outputs": [
    {
     "data": {
      "text/plain": [
       "Index(['ds', 'y'], dtype='object')"
      ]
     },
     "execution_count": 6,
     "metadata": {},
     "output_type": "execute_result"
    }
   ],
   "source": [
    "train_df.columns"
   ]
  },
  {
   "cell_type": "code",
   "execution_count": 7,
   "id": "5d0d9da3-5d20-4c88-b821-b8066cfe4399",
   "metadata": {
    "ExecuteTime": {
     "end_time": "2023-09-06T01:20:27.280858936Z",
     "start_time": "2023-09-06T01:20:27.270705459Z"
    }
   },
   "outputs": [
    {
     "data": {
      "text/html": [
       "<div>\n",
       "<style scoped>\n",
       "    .dataframe tbody tr th:only-of-type {\n",
       "        vertical-align: middle;\n",
       "    }\n",
       "\n",
       "    .dataframe tbody tr th {\n",
       "        vertical-align: top;\n",
       "    }\n",
       "\n",
       "    .dataframe thead th {\n",
       "        text-align: right;\n",
       "    }\n",
       "</style>\n",
       "<table border=\"1\" class=\"dataframe\">\n",
       "  <thead>\n",
       "    <tr style=\"text-align: right;\">\n",
       "      <th></th>\n",
       "      <th>ds</th>\n",
       "      <th>y</th>\n",
       "    </tr>\n",
       "  </thead>\n",
       "  <tbody>\n",
       "    <tr>\n",
       "      <th>0</th>\n",
       "      <td>1949-01-01</td>\n",
       "      <td>112</td>\n",
       "    </tr>\n",
       "    <tr>\n",
       "      <th>1</th>\n",
       "      <td>1949-02-01</td>\n",
       "      <td>118</td>\n",
       "    </tr>\n",
       "    <tr>\n",
       "      <th>2</th>\n",
       "      <td>1949-03-01</td>\n",
       "      <td>132</td>\n",
       "    </tr>\n",
       "    <tr>\n",
       "      <th>3</th>\n",
       "      <td>1949-04-01</td>\n",
       "      <td>129</td>\n",
       "    </tr>\n",
       "    <tr>\n",
       "      <th>4</th>\n",
       "      <td>1949-05-01</td>\n",
       "      <td>121</td>\n",
       "    </tr>\n",
       "  </tbody>\n",
       "</table>\n",
       "</div>"
      ],
      "text/plain": [
       "           ds    y\n",
       "0  1949-01-01  112\n",
       "1  1949-02-01  118\n",
       "2  1949-03-01  132\n",
       "3  1949-04-01  129\n",
       "4  1949-05-01  121"
      ]
     },
     "execution_count": 7,
     "metadata": {},
     "output_type": "execute_result"
    }
   ],
   "source": [
    "train_df.head()"
   ]
  },
  {
   "cell_type": "code",
   "execution_count": 8,
   "id": "0a4ec852-b801-49fd-a130-075895b7db94",
   "metadata": {
    "ExecuteTime": {
     "end_time": "2023-09-06T01:20:27.371033520Z",
     "start_time": "2023-09-06T01:20:27.272643062Z"
    }
   },
   "outputs": [
    {
     "data": {
      "text/html": [
       "<div>\n",
       "<style scoped>\n",
       "    .dataframe tbody tr th:only-of-type {\n",
       "        vertical-align: middle;\n",
       "    }\n",
       "\n",
       "    .dataframe tbody tr th {\n",
       "        vertical-align: top;\n",
       "    }\n",
       "\n",
       "    .dataframe thead th {\n",
       "        text-align: right;\n",
       "    }\n",
       "</style>\n",
       "<table border=\"1\" class=\"dataframe\">\n",
       "  <thead>\n",
       "    <tr style=\"text-align: right;\">\n",
       "      <th></th>\n",
       "      <th>ds</th>\n",
       "      <th>y</th>\n",
       "    </tr>\n",
       "  </thead>\n",
       "  <tbody>\n",
       "    <tr>\n",
       "      <th>139</th>\n",
       "      <td>1960-08-01</td>\n",
       "      <td>606</td>\n",
       "    </tr>\n",
       "    <tr>\n",
       "      <th>140</th>\n",
       "      <td>1960-09-01</td>\n",
       "      <td>508</td>\n",
       "    </tr>\n",
       "    <tr>\n",
       "      <th>141</th>\n",
       "      <td>1960-10-01</td>\n",
       "      <td>461</td>\n",
       "    </tr>\n",
       "    <tr>\n",
       "      <th>142</th>\n",
       "      <td>1960-11-01</td>\n",
       "      <td>390</td>\n",
       "    </tr>\n",
       "    <tr>\n",
       "      <th>143</th>\n",
       "      <td>1960-12-01</td>\n",
       "      <td>432</td>\n",
       "    </tr>\n",
       "  </tbody>\n",
       "</table>\n",
       "</div>"
      ],
      "text/plain": [
       "             ds    y\n",
       "139  1960-08-01  606\n",
       "140  1960-09-01  508\n",
       "141  1960-10-01  461\n",
       "142  1960-11-01  390\n",
       "143  1960-12-01  432"
      ]
     },
     "execution_count": 8,
     "metadata": {},
     "output_type": "execute_result"
    }
   ],
   "source": [
    "train_df.tail()"
   ]
  },
  {
   "cell_type": "markdown",
   "id": "92d1f999-8159-4f3e-9cd6-9b00bff324f9",
   "metadata": {},
   "source": [
    "Change 'y' to float"
   ]
  },
  {
   "cell_type": "code",
   "execution_count": 9,
   "id": "dba6f91b-6139-4664-87b1-7859b3b305a6",
   "metadata": {
    "ExecuteTime": {
     "end_time": "2023-09-06T01:20:27.387296646Z",
     "start_time": "2023-09-06T01:20:27.320093734Z"
    }
   },
   "outputs": [],
   "source": [
    "train_df[\"y\"] = train_df[\"y\"].astype(float)"
   ]
  },
  {
   "cell_type": "code",
   "execution_count": 10,
   "id": "7a2c4026-c7f0-4ba9-8481-adf16e88d9f2",
   "metadata": {
    "ExecuteTime": {
     "end_time": "2023-09-06T01:20:27.388222563Z",
     "start_time": "2023-09-06T01:20:27.320298195Z"
    }
   },
   "outputs": [
    {
     "data": {
      "text/html": [
       "<div>\n",
       "<style scoped>\n",
       "    .dataframe tbody tr th:only-of-type {\n",
       "        vertical-align: middle;\n",
       "    }\n",
       "\n",
       "    .dataframe tbody tr th {\n",
       "        vertical-align: top;\n",
       "    }\n",
       "\n",
       "    .dataframe thead th {\n",
       "        text-align: right;\n",
       "    }\n",
       "</style>\n",
       "<table border=\"1\" class=\"dataframe\">\n",
       "  <thead>\n",
       "    <tr style=\"text-align: right;\">\n",
       "      <th></th>\n",
       "      <th>ds</th>\n",
       "      <th>y</th>\n",
       "    </tr>\n",
       "  </thead>\n",
       "  <tbody>\n",
       "    <tr>\n",
       "      <th>0</th>\n",
       "      <td>1949-01-01</td>\n",
       "      <td>112.0</td>\n",
       "    </tr>\n",
       "    <tr>\n",
       "      <th>1</th>\n",
       "      <td>1949-02-01</td>\n",
       "      <td>118.0</td>\n",
       "    </tr>\n",
       "    <tr>\n",
       "      <th>2</th>\n",
       "      <td>1949-03-01</td>\n",
       "      <td>132.0</td>\n",
       "    </tr>\n",
       "    <tr>\n",
       "      <th>3</th>\n",
       "      <td>1949-04-01</td>\n",
       "      <td>129.0</td>\n",
       "    </tr>\n",
       "    <tr>\n",
       "      <th>4</th>\n",
       "      <td>1949-05-01</td>\n",
       "      <td>121.0</td>\n",
       "    </tr>\n",
       "  </tbody>\n",
       "</table>\n",
       "</div>"
      ],
      "text/plain": [
       "           ds      y\n",
       "0  1949-01-01  112.0\n",
       "1  1949-02-01  118.0\n",
       "2  1949-03-01  132.0\n",
       "3  1949-04-01  129.0\n",
       "4  1949-05-01  121.0"
      ]
     },
     "execution_count": 10,
     "metadata": {},
     "output_type": "execute_result"
    }
   ],
   "source": [
    "train_df.head()"
   ]
  },
  {
   "cell_type": "markdown",
   "id": "e56d7165-c252-4ea5-9981-7a22df96122e",
   "metadata": {},
   "source": [
    "Plot graph"
   ]
  },
  {
   "cell_type": "code",
   "execution_count": 11,
   "id": "30aac931-4d19-450a-ad79-fbaac30aa705",
   "metadata": {
    "ExecuteTime": {
     "end_time": "2023-09-06T01:20:27.564466624Z",
     "start_time": "2023-09-06T01:20:27.386601612Z"
    }
   },
   "outputs": [
    {
     "data": {
      "image/png": "[encoded data removed]",
      "text/plain": [
       "<Figure size 1152x576 with 1 Axes>"
      ]
     },
     "metadata": {
      "needs_background": "light"
     },
     "output_type": "display_data"
    }
   ],
   "source": [
    "figsize = (16, 8)\n",
    "train_df.set_index(\"ds\").plot(figsize=figsize);"
   ]
  },
  {
   "cell_type": "markdown",
   "id": "7c3bd0f2-f6f4-49fd-b38a-9edd670a6fef",
   "metadata": {},
   "source": [
    "### **Train API**"
   ]
  },
  {
   "cell_type": "markdown",
   "id": "34362404-30a1-469f-914c-2baf85cc3be1",
   "metadata": {},
   "source": [
    "Train data: convert df to list-of-list"
   ]
  },
  {
   "cell_type": "code",
   "execution_count": 12,
   "id": "22347890-f3f5-48bf-b037-0f1d48458c2d",
   "metadata": {
    "ExecuteTime": {
     "end_time": "2023-09-06T01:20:27.570478695Z",
     "start_time": "2023-09-06T01:20:27.564353194Z"
    }
   },
   "outputs": [],
   "source": [
    "train_data = []"
   ]
  },
  {
   "cell_type": "code",
   "execution_count": 13,
   "id": "431b90c2-d4a8-4acd-969c-a357eea54db7",
   "metadata": {
    "ExecuteTime": {
     "end_time": "2023-09-06T01:20:27.683093806Z",
     "start_time": "2023-09-06T01:20:27.567886978Z"
    }
   },
   "outputs": [],
   "source": [
    "for value in train_df.values:\n",
    "    train_data.append(list(value))"
   ]
  },
  {
   "cell_type": "code",
   "execution_count": 14,
   "id": "5c04373b-1857-42b2-8e5c-0e7a51cddf75",
   "metadata": {
    "ExecuteTime": {
     "end_time": "2023-09-06T01:20:27.683591030Z",
     "start_time": "2023-09-06T01:20:27.616159585Z"
    }
   },
   "outputs": [
    {
     "data": {
      "text/plain": [
       "[['1949-01-01', 112.0],\n",
       " ['1949-02-01', 118.0],\n",
       " ['1949-03-01', 132.0],\n",
       " ['1949-04-01', 129.0],\n",
       " ['1949-05-01', 121.0],\n",
       " ['1949-06-01', 135.0],\n",
       " ['1949-07-01', 148.0],\n",
       " ['1949-08-01', 148.0],\n",
       " ['1949-09-01', 136.0],\n",
       " ['1949-10-01', 119.0]]"
      ]
     },
     "execution_count": 14,
     "metadata": {},
     "output_type": "execute_result"
    }
   ],
   "source": [
    "train_data[:10]"
   ]
  },
  {
   "cell_type": "markdown",
   "id": "622db7d3-3432-44b3-90ae-f08f34ca904e",
   "metadata": {},
   "source": [
    "Define Model Request (optional)"
   ]
  },
  {
   "cell_type": "code",
   "execution_count": 15,
   "id": "e0faaf9c-4330-4cfe-9c12-ac230a638a2a",
   "metadata": {
    "ExecuteTime": {
     "end_time": "2023-09-06T01:20:27.683754851Z",
     "start_time": "2023-09-06T01:20:27.616344737Z"
    }
   },
   "outputs": [],
   "source": [
    "# Default model request\n",
    "# model_request = {\n",
    "#     'type': 'darts_autotheta',\n",
    "#     'score': ['mape'],\n",
    "#     'param': None,\n",
    "# }\n",
    "\n",
    "# Custom model request\n",
    "model_request = {\n",
    "    'type': 'meta_wa',\n",
    "    'score': ['smape', 'mape'],\n",
    "    'param': {\n",
    "        'base_models': [\n",
    "            {'type': 'darts_autoarima'},\n",
    "            {'type': 'darts_autotheta'},\n",
    "            {'type': 'darts_autoets'},\n",
    "            {'type': 'stats_autotheta'},\n",
    "        ]\n",
    "    },\n",
    "}"
   ]
  },
  {
   "cell_type": "markdown",
   "id": "5791ee3c-4e12-4240-996a-68ef15dd86f9",
   "metadata": {},
   "source": [
    "Train API JSON Payload"
   ]
  },
  {
   "cell_type": "code",
   "execution_count": 16,
   "id": "01012159-6fc7-43ee-ae3b-6eb5307e9e04",
   "metadata": {
    "ExecuteTime": {
     "end_time": "2023-09-06T01:20:27.684005142Z",
     "start_time": "2023-09-06T01:20:27.616578818Z"
    }
   },
   "outputs": [],
   "source": [
    "api_json = {\n",
    "    'data': train_data,\n",
    "    'model': model_request,  # (optional) can be commented out\n",
    "}"
   ]
  },
  {
   "cell_type": "markdown",
   "id": "754a97b7-b291-4263-a071-23d27f566417",
   "metadata": {},
   "source": [
    "Build URL"
   ]
  },
  {
   "cell_type": "code",
   "execution_count": 17,
   "id": "af5f0801-cf06-491f-819e-dba5ccdf0e97",
   "metadata": {
    "ExecuteTime": {
     "end_time": "2023-09-06T01:20:27.684109453Z",
     "start_time": "2023-09-06T01:20:27.616728919Z"
    }
   },
   "outputs": [],
   "source": [
    "with open('url.yaml', 'r') as file:\n",
    "    url_dict = yaml.safe_load(file)"
   ]
  },
  {
   "cell_type": "code",
   "execution_count": 18,
   "id": "3b4738ba-1d32-4d6c-a2dd-5ac07ad055f6",
   "metadata": {
    "ExecuteTime": {
     "end_time": "2023-09-06T01:20:27.684206504Z",
     "start_time": "2023-09-06T01:20:27.616909260Z"
    }
   },
   "outputs": [],
   "source": [
    "# URL to our SYBIL AWS service\n",
    "protocol = url_dict[\"protocol\"]\n",
    "host = url_dict[\"host\"]\n",
    "port = url_dict[\"port\"]\n",
    "endpoint = \"train\"\n",
    "\n",
    "url = \"%s://%s:%s/%s\" % (protocol, host, str(port), endpoint)"
   ]
  },
  {
   "cell_type": "markdown",
   "id": "29d6d0a2-a726-4ae9-b6ef-ae91a6bb89e5",
   "metadata": {},
   "source": [
    "Call endpoint, receive response JSON, write to output file"
   ]
  },
  {
   "cell_type": "code",
   "execution_count": 19,
   "id": "bda53dfa-829f-4458-aff9-c1d24bdb6258",
   "metadata": {
    "ExecuteTime": {
     "end_time": "2023-09-06T01:20:40.882675922Z",
     "start_time": "2023-09-06T01:20:40.825311784Z"
    }
   },
   "outputs": [
    {
     "name": "stderr",
     "output_type": "stream",
     "text": [
      "/home/studio-lab-user/.conda/envs/dev/lib/python3.9/site-packages/urllib3/connectionpool.py:1043: InsecureRequestWarning: Unverified HTTPS request is being made to host 'sybil.tempor.ai'. Adding certificate verification is strongly advised. See: https://urllib3.readthedocs.io/en/1.26.x/advanced-usage.html#ssl-warnings\n",
      "  warnings.warn(\n"
     ]
    },
    {
     "name": "stdout",
     "output_type": "stream",
     "text": [
      "CPU times: user 17.3 ms, sys: 482 µs, total: 17.8 ms\n",
      "Wall time: 3.55 s\n"
     ]
    }
   ],
   "source": [
    "%%time\n",
    "# TODO: gain a accredited cert and remove verify=False\n",
    "response = requests.post(url, json=api_json, verify=False)"
   ]
  },
  {
   "cell_type": "code",
   "execution_count": 20,
   "id": "a9b0c75a-25ab-47c5-a1db-e7296a3f3a20",
   "metadata": {
    "ExecuteTime": {
     "end_time": "2023-09-06T01:20:31.266755656Z",
     "start_time": "2023-09-06T01:20:31.265422058Z"
    }
   },
   "outputs": [],
   "source": [
    "train_json_out = response.json()  # dict output\n",
    "# train_json_out = json.dumps(response.json())  # str output\n",
    "# train_json_out = json.dumps(response.json(), indent=4)  # str output w tabs"
   ]
  },
  {
   "cell_type": "code",
   "execution_count": 21,
   "id": "8f6ecd72-e91e-4c3b-b8cd-b26e75ed2386",
   "metadata": {
    "ExecuteTime": {
     "end_time": "2023-09-06T01:20:31.275453784Z",
     "start_time": "2023-09-06T01:20:31.269772326Z"
    }
   },
   "outputs": [
    {
     "data": {
      "text/plain": [
       "{'model': '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',\n",
       " 'type': 'meta_wa',\n",
       " 'evaluation': [{'type': 'smape', 'value': 3.2667065031455533},\n",
       "  {'type': 'mape', 'value': 3.245845180834847}]}"
      ]
     },
     "execution_count": 21,
     "metadata": {},
     "output_type": "execute_result"
    }
   ],
   "source": [
    "train_json_out"
   ]
  },
  {
   "cell_type": "markdown",
   "id": "a5f8d92a-2ec6-438b-a756-bd956030bb2a",
   "metadata": {},
   "source": [
    "### **Forecast API**"
   ]
  },
  {
   "cell_type": "markdown",
   "id": "2a2598a4-6c6a-40dc-bc45-82fa0cc662eb",
   "metadata": {},
   "source": [
    "Forecast Dates: predict the next 2 years of air passenger data (1961-1962)"
   ]
  },
  {
   "cell_type": "code",
   "execution_count": 22,
   "id": "138b6ede-3d9b-4d80-8d26-c3cabd21be66",
   "metadata": {
    "ExecuteTime": {
     "end_time": "2023-09-06T01:20:31.276337040Z",
     "start_time": "2023-09-06T01:20:31.273587001Z"
    }
   },
   "outputs": [],
   "source": [
    "dates = [\n",
    "    \"1961-01-01\", \"1961-02-01\", \"1961-03-01\", \"1961-04-01\", \"1961-05-01\", \"1961-06-01\",\n",
    "    \"1961-07-01\", \"1961-08-01\", \"1961-09-01\", \"1961-10-01\", \"1961-11-01\", \"1961-12-01\",\n",
    "    \"1962-01-01\", \"1962-02-01\", \"1962-03-01\", \"1962-04-01\", \"1962-05-01\", \"1962-06-01\",\n",
    "    \"1962-07-01\", \"1962-08-01\", \"1962-09-01\", \"1962-10-01\", \"1962-11-01\", \"1962-12-01\",\n",
    "]"
   ]
  },
  {
   "cell_type": "markdown",
   "id": "9c54f592-5262-46ec-b651-555edd2edb49",
   "metadata": {},
   "source": [
    "Model from Train API"
   ]
  },
  {
   "cell_type": "code",
   "execution_count": 23,
   "id": "44037535-5b07-40e2-b6a7-3e301d19deda",
   "metadata": {
    "ExecuteTime": {
     "end_time": "2023-09-06T01:20:31.330592508Z",
     "start_time": "2023-09-06T01:20:31.275953347Z"
    }
   },
   "outputs": [],
   "source": [
    "model = train_json_out[\"model\"]"
   ]
  },
  {
   "cell_type": "markdown",
   "id": "ab30f283-f727-4d4e-8a92-791318ede6b4",
   "metadata": {},
   "source": [
    "Forecast API JSON Payload"
   ]
  },
  {
   "cell_type": "code",
   "execution_count": 24,
   "id": "1fc68132-9353-4951-bed3-6b916eb52e44",
   "metadata": {
    "ExecuteTime": {
     "end_time": "2023-09-06T01:20:31.330793319Z",
     "start_time": "2023-09-06T01:20:31.324029373Z"
    }
   },
   "outputs": [],
   "source": [
    "api_json = {\n",
    "    'model': model,\n",
    "    'predicts': dates\n",
    "}"
   ]
  },
  {
   "cell_type": "markdown",
   "id": "72336096-face-429d-99e7-70e55f79449f",
   "metadata": {},
   "source": [
    "Build URL (same as train except for the endpoint)"
   ]
  },
  {
   "cell_type": "code",
   "execution_count": 25,
   "id": "98888d03-d90d-4694-a648-7ec375dd2c75",
   "metadata": {
    "ExecuteTime": {
     "end_time": "2023-09-06T01:20:31.330903090Z",
     "start_time": "2023-09-06T01:20:31.324183595Z"
    }
   },
   "outputs": [],
   "source": [
    "endpoint = \"forecast\"\n",
    "\n",
    "url = \"%s://%s:%s/%s\" % (protocol, host, str(port), endpoint)"
   ]
  },
  {
   "cell_type": "markdown",
   "id": "8bfd1167-c0ef-4404-a9d4-441dbcdb9864",
   "metadata": {},
   "source": [
    "Call endpoint, receive response JSON, write to output file"
   ]
  },
  {
   "cell_type": "code",
   "execution_count": 26,
   "id": "443ff168-22e0-42c4-8e93-742a3293cc81",
   "metadata": {
    "ExecuteTime": {
     "end_time": "2023-09-06T01:20:31.368883829Z",
     "start_time": "2023-09-06T01:20:31.324256165Z"
    }
   },
   "outputs": [
    {
     "name": "stdout",
     "output_type": "stream",
     "text": [
      "CPU times: user 17.8 ms, sys: 217 µs, total: 18 ms\n",
      "Wall time: 104 ms\n"
     ]
    },
    {
     "name": "stderr",
     "output_type": "stream",
     "text": [
      "/home/studio-lab-user/.conda/envs/dev/lib/python3.9/site-packages/urllib3/connectionpool.py:1043: InsecureRequestWarning: Unverified HTTPS request is being made to host 'sybil.tempor.ai'. Adding certificate verification is strongly advised. See: https://urllib3.readthedocs.io/en/1.26.x/advanced-usage.html#ssl-warnings\n",
      "  warnings.warn(\n"
     ]
    }
   ],
   "source": [
    "%%time\n",
    "# TODO: gain a accredited cert and remove verify=False\n",
    "response = requests.post(url, json=api_json, verify=False)"
   ]
  },
  {
   "cell_type": "code",
   "execution_count": 27,
   "id": "a8968a73-f03c-4e0c-bf6c-d1e67f3bb7b8",
   "metadata": {
    "ExecuteTime": {
     "end_time": "2023-09-06T01:20:31.369258292Z",
     "start_time": "2023-09-06T01:20:31.368060453Z"
    }
   },
   "outputs": [],
   "source": [
    "forecast_json_out = response.json()  # dict output\n",
    "# forecast_json_out = json.dumps(response.json())  # str output\n",
    "# forecast_json_out = json.dumps(response.json(), indent=4)  # str output w tabs"
   ]
  },
  {
   "cell_type": "code",
   "execution_count": 28,
   "id": "cf135123-5f75-4d74-9188-70e617f87b3b",
   "metadata": {
    "ExecuteTime": {
     "end_time": "2023-09-06T01:20:31.369504753Z",
     "start_time": "2023-09-06T01:20:31.368226154Z"
    }
   },
   "outputs": [
    {
     "data": {
      "text/plain": [
       "{'data': [410.25036415272007,\n",
       "  358.70750773438374,\n",
       "  398.27532688916705,\n",
       "  408.95007618100317,\n",
       "  398.93767855305697,\n",
       "  460.42979812910926,\n",
       "  445.7552302021017,\n",
       "  454.6255710815556,\n",
       "  513.5413394867066,\n",
       "  574.132549667377,\n",
       "  575.8489082225075,\n",
       "  497.9835596319101,\n",
       "  440.71801812389083,\n",
       "  387.6275700435737,\n",
       "  428.45262908905954,\n",
       "  439.26796304827616,\n",
       "  428.9674811777282,\n",
       "  492.1252588609085,\n",
       "  476.93737359139334,\n",
       "  485.8024220466014,\n",
       "  546.4257531150004,\n",
       "  608.4245599431467,\n",
       "  610.0320557447648,\n",
       "  530.2228332709298]}"
      ]
     },
     "execution_count": 28,
     "metadata": {},
     "output_type": "execute_result"
    }
   ],
   "source": [
    "forecast_json_out"
   ]
  },
  {
   "cell_type": "markdown",
   "id": "9d42cf65-1bd5-4ef3-a48d-52d44b702040",
   "metadata": {},
   "source": [
    "Combine forecast dates and output"
   ]
  },
  {
   "cell_type": "code",
   "execution_count": 29,
   "id": "e819b0a7-4c42-4fb3-8785-057f9898f927",
   "metadata": {
    "ExecuteTime": {
     "end_time": "2023-09-06T01:20:31.369603854Z",
     "start_time": "2023-09-06T01:20:31.368315675Z"
    }
   },
   "outputs": [],
   "source": [
    "forecast_data = list(zip(dates, forecast_json_out[\"data\"]))\n",
    "forecast_df = pd.DataFrame(forecast_data, columns = [\"ds\", \"y\"])"
   ]
  },
  {
   "cell_type": "code",
   "execution_count": 30,
   "id": "0a7c0974-5279-4186-8f37-3ae2a24c5837",
   "metadata": {
    "ExecuteTime": {
     "end_time": "2023-09-06T01:20:31.369804415Z",
     "start_time": "2023-09-06T01:20:31.368392416Z"
    }
   },
   "outputs": [
    {
     "data": {
      "text/plain": [
       "(24, 2)"
      ]
     },
     "execution_count": 30,
     "metadata": {},
     "output_type": "execute_result"
    }
   ],
   "source": [
    "forecast_df.shape"
   ]
  },
  {
   "cell_type": "code",
   "execution_count": 31,
   "id": "f2a9507d-3127-4bec-930e-5ccd2248802e",
   "metadata": {
    "ExecuteTime": {
     "end_time": "2023-09-06T01:20:31.370010977Z",
     "start_time": "2023-09-06T01:20:31.368479486Z"
    }
   },
   "outputs": [
    {
     "data": {
      "text/plain": [
       "Index(['ds', 'y'], dtype='object')"
      ]
     },
     "execution_count": 31,
     "metadata": {},
     "output_type": "execute_result"
    }
   ],
   "source": [
    "forecast_df.columns"
   ]
  },
  {
   "cell_type": "code",
   "execution_count": 32,
   "id": "de1a02db-f5a5-497e-aee3-08f962c664f5",
   "metadata": {
    "ExecuteTime": {
     "end_time": "2023-09-06T01:20:31.450185645Z",
     "start_time": "2023-09-06T01:20:31.369198221Z"
    }
   },
   "outputs": [
    {
     "data": {
      "text/html": [
       "<div>\n",
       "<style scoped>\n",
       "    .dataframe tbody tr th:only-of-type {\n",
       "        vertical-align: middle;\n",
       "    }\n",
       "\n",
       "    .dataframe tbody tr th {\n",
       "        vertical-align: top;\n",
       "    }\n",
       "\n",
       "    .dataframe thead th {\n",
       "        text-align: right;\n",
       "    }\n",
       "</style>\n",
       "<table border=\"1\" class=\"dataframe\">\n",
       "  <thead>\n",
       "    <tr style=\"text-align: right;\">\n",
       "      <th></th>\n",
       "      <th>ds</th>\n",
       "      <th>y</th>\n",
       "    </tr>\n",
       "  </thead>\n",
       "  <tbody>\n",
       "    <tr>\n",
       "      <th>0</th>\n",
       "      <td>1961-01-01</td>\n",
       "      <td>410.250364</td>\n",
       "    </tr>\n",
       "    <tr>\n",
       "      <th>1</th>\n",
       "      <td>1961-02-01</td>\n",
       "      <td>358.707508</td>\n",
       "    </tr>\n",
       "    <tr>\n",
       "      <th>2</th>\n",
       "      <td>1961-03-01</td>\n",
       "      <td>398.275327</td>\n",
       "    </tr>\n",
       "    <tr>\n",
       "      <th>3</th>\n",
       "      <td>1961-04-01</td>\n",
       "      <td>408.950076</td>\n",
       "    </tr>\n",
       "    <tr>\n",
       "      <th>4</th>\n",
       "      <td>1961-05-01</td>\n",
       "      <td>398.937679</td>\n",
       "    </tr>\n",
       "  </tbody>\n",
       "</table>\n",
       "</div>"
      ],
      "text/plain": [
       "           ds           y\n",
       "0  1961-01-01  410.250364\n",
       "1  1961-02-01  358.707508\n",
       "2  1961-03-01  398.275327\n",
       "3  1961-04-01  408.950076\n",
       "4  1961-05-01  398.937679"
      ]
     },
     "execution_count": 32,
     "metadata": {},
     "output_type": "execute_result"
    }
   ],
   "source": [
    "forecast_df.head()"
   ]
  },
  {
   "cell_type": "code",
   "execution_count": 33,
   "id": "508358d2-8319-49bc-bd94-c5da97b0b7a4",
   "metadata": {
    "ExecuteTime": {
     "end_time": "2023-09-06T01:20:31.450845380Z",
     "start_time": "2023-09-06T01:20:31.416200901Z"
    }
   },
   "outputs": [
    {
     "data": {
      "text/html": [
       "<div>\n",
       "<style scoped>\n",
       "    .dataframe tbody tr th:only-of-type {\n",
       "        vertical-align: middle;\n",
       "    }\n",
       "\n",
       "    .dataframe tbody tr th {\n",
       "        vertical-align: top;\n",
       "    }\n",
       "\n",
       "    .dataframe thead th {\n",
       "        text-align: right;\n",
       "    }\n",
       "</style>\n",
       "<table border=\"1\" class=\"dataframe\">\n",
       "  <thead>\n",
       "    <tr style=\"text-align: right;\">\n",
       "      <th></th>\n",
       "      <th>ds</th>\n",
       "      <th>y</th>\n",
       "    </tr>\n",
       "  </thead>\n",
       "  <tbody>\n",
       "    <tr>\n",
       "      <th>19</th>\n",
       "      <td>1962-08-01</td>\n",
       "      <td>485.802422</td>\n",
       "    </tr>\n",
       "    <tr>\n",
       "      <th>20</th>\n",
       "      <td>1962-09-01</td>\n",
       "      <td>546.425753</td>\n",
       "    </tr>\n",
       "    <tr>\n",
       "      <th>21</th>\n",
       "      <td>1962-10-01</td>\n",
       "      <td>608.424560</td>\n",
       "    </tr>\n",
       "    <tr>\n",
       "      <th>22</th>\n",
       "      <td>1962-11-01</td>\n",
       "      <td>610.032056</td>\n",
       "    </tr>\n",
       "    <tr>\n",
       "      <th>23</th>\n",
       "      <td>1962-12-01</td>\n",
       "      <td>530.222833</td>\n",
       "    </tr>\n",
       "  </tbody>\n",
       "</table>\n",
       "</div>"
      ],
      "text/plain": [
       "            ds           y\n",
       "19  1962-08-01  485.802422\n",
       "20  1962-09-01  546.425753\n",
       "21  1962-10-01  608.424560\n",
       "22  1962-11-01  610.032056\n",
       "23  1962-12-01  530.222833"
      ]
     },
     "execution_count": 33,
     "metadata": {},
     "output_type": "execute_result"
    }
   ],
   "source": [
    "forecast_df.tail()"
   ]
  },
  {
   "cell_type": "markdown",
   "id": "a86a090e-de22-4045-a055-45198f240e60",
   "metadata": {},
   "source": [
    "Plot train and forecast side-by-side"
   ]
  },
  {
   "cell_type": "code",
   "execution_count": 34,
   "id": "8bc95c77-c93a-422b-a7da-551c67f0418e",
   "metadata": {
    "ExecuteTime": {
     "end_time": "2023-09-06T01:20:31.537728002Z",
     "start_time": "2023-09-06T01:20:31.416382972Z"
    }
   },
   "outputs": [
    {
     "data": {
      "image/png": "[encoded data removed]",
      "text/plain": [
       "<Figure size 1152x576 with 1 Axes>"
      ]
     },
     "metadata": {
      "needs_background": "light"
     },
     "output_type": "display_data"
    }
   ],
   "source": [
    "train_df[\"color\"] = \"b\"\n",
    "train_df.set_index(\"ds\").plot(figsize=figsize, color=train_df[\"color\"]);"
   ]
  },
  {
   "cell_type": "code",
   "execution_count": 35,
   "id": "386d8c56-bf2a-4975-821e-ca4351146041",
   "metadata": {
    "ExecuteTime": {
     "end_time": "2023-09-06T01:20:31.690429588Z",
     "start_time": "2023-09-06T01:20:31.550266275Z"
    }
   },
   "outputs": [
    {
     "data": {
      "image/png": "[encoded data removed]",
      "text/plain": [
       "<Figure size 1152x576 with 1 Axes>"
      ]
     },
     "metadata": {
      "needs_background": "light"
     },
     "output_type": "display_data"
    }
   ],
   "source": [
    "forecast_df[\"color\"] = \"r\"\n",
    "forecast_df.set_index(\"ds\").plot(figsize=figsize, color=forecast_df[\"color\"]);"
   ]
  },
  {
   "cell_type": "markdown",
   "id": "5d09e17b-d4b1-4589-8756-d0b4e23cc532",
   "metadata": {},
   "source": [
    "Combine train and test sets"
   ]
  },
  {
   "cell_type": "code",
   "execution_count": 36,
   "id": "2372cd4f-9014-4c4f-ba2f-58718094cf09",
   "metadata": {
    "ExecuteTime": {
     "end_time": "2023-09-06T01:20:31.795875724Z",
     "start_time": "2023-09-06T01:20:31.691883808Z"
    }
   },
   "outputs": [],
   "source": [
    "df = pd.concat([train_df, forecast_df]).reset_index(drop=True)"
   ]
  },
  {
   "cell_type": "code",
   "execution_count": 37,
   "id": "46736586-4f20-4f55-a758-148e3338a202",
   "metadata": {
    "ExecuteTime": {
     "end_time": "2023-09-06T01:20:31.796309697Z",
     "start_time": "2023-09-06T01:20:31.736033368Z"
    }
   },
   "outputs": [
    {
     "data": {
      "text/plain": [
       "(168, 3)"
      ]
     },
     "execution_count": 37,
     "metadata": {},
     "output_type": "execute_result"
    }
   ],
   "source": [
    "df.shape"
   ]
  },
  {
   "cell_type": "code",
   "execution_count": 38,
   "id": "b7f69447-161c-4a8a-95b7-64e4f230a524",
   "metadata": {
    "ExecuteTime": {
     "end_time": "2023-09-06T01:20:31.796846850Z",
     "start_time": "2023-09-06T01:20:31.736188259Z"
    }
   },
   "outputs": [
    {
     "data": {
      "text/html": [
       "<div>\n",
       "<style scoped>\n",
       "    .dataframe tbody tr th:only-of-type {\n",
       "        vertical-align: middle;\n",
       "    }\n",
       "\n",
       "    .dataframe tbody tr th {\n",
       "        vertical-align: top;\n",
       "    }\n",
       "\n",
       "    .dataframe thead th {\n",
       "        text-align: right;\n",
       "    }\n",
       "</style>\n",
       "<table border=\"1\" class=\"dataframe\">\n",
       "  <thead>\n",
       "    <tr style=\"text-align: right;\">\n",
       "      <th></th>\n",
       "      <th>ds</th>\n",
       "      <th>y</th>\n",
       "      <th>color</th>\n",
       "    </tr>\n",
       "  </thead>\n",
       "  <tbody>\n",
       "    <tr>\n",
       "      <th>0</th>\n",
       "      <td>1949-01-01</td>\n",
       "      <td>112.0</td>\n",
       "      <td>b</td>\n",
       "    </tr>\n",
       "    <tr>\n",
       "      <th>1</th>\n",
       "      <td>1949-02-01</td>\n",
       "      <td>118.0</td>\n",
       "      <td>b</td>\n",
       "    </tr>\n",
       "    <tr>\n",
       "      <th>2</th>\n",
       "      <td>1949-03-01</td>\n",
       "      <td>132.0</td>\n",
       "      <td>b</td>\n",
       "    </tr>\n",
       "    <tr>\n",
       "      <th>3</th>\n",
       "      <td>1949-04-01</td>\n",
       "      <td>129.0</td>\n",
       "      <td>b</td>\n",
       "    </tr>\n",
       "    <tr>\n",
       "      <th>4</th>\n",
       "      <td>1949-05-01</td>\n",
       "      <td>121.0</td>\n",
       "      <td>b</td>\n",
       "    </tr>\n",
       "  </tbody>\n",
       "</table>\n",
       "</div>"
      ],
      "text/plain": [
       "           ds      y color\n",
       "0  1949-01-01  112.0     b\n",
       "1  1949-02-01  118.0     b\n",
       "2  1949-03-01  132.0     b\n",
       "3  1949-04-01  129.0     b\n",
       "4  1949-05-01  121.0     b"
      ]
     },
     "execution_count": 38,
     "metadata": {},
     "output_type": "execute_result"
    }
   ],
   "source": [
    "df.head()"
   ]
  },
  {
   "cell_type": "code",
   "execution_count": 39,
   "id": "26c6a481-6000-4912-9fb8-875ab6ab44cc",
   "metadata": {
    "ExecuteTime": {
     "end_time": "2023-09-06T01:20:31.797209732Z",
     "start_time": "2023-09-06T01:20:31.736276690Z"
    }
   },
   "outputs": [
    {
     "data": {
      "text/html": [
       "<div>\n",
       "<style scoped>\n",
       "    .dataframe tbody tr th:only-of-type {\n",
       "        vertical-align: middle;\n",
       "    }\n",
       "\n",
       "    .dataframe tbody tr th {\n",
       "        vertical-align: top;\n",
       "    }\n",
       "\n",
       "    .dataframe thead th {\n",
       "        text-align: right;\n",
       "    }\n",
       "</style>\n",
       "<table border=\"1\" class=\"dataframe\">\n",
       "  <thead>\n",
       "    <tr style=\"text-align: right;\">\n",
       "      <th></th>\n",
       "      <th>ds</th>\n",
       "      <th>y</th>\n",
       "      <th>color</th>\n",
       "    </tr>\n",
       "  </thead>\n",
       "  <tbody>\n",
       "    <tr>\n",
       "      <th>163</th>\n",
       "      <td>1962-08-01</td>\n",
       "      <td>485.802422</td>\n",
       "      <td>r</td>\n",
       "    </tr>\n",
       "    <tr>\n",
       "      <th>164</th>\n",
       "      <td>1962-09-01</td>\n",
       "      <td>546.425753</td>\n",
       "      <td>r</td>\n",
       "    </tr>\n",
       "    <tr>\n",
       "      <th>165</th>\n",
       "      <td>1962-10-01</td>\n",
       "      <td>608.424560</td>\n",
       "      <td>r</td>\n",
       "    </tr>\n",
       "    <tr>\n",
       "      <th>166</th>\n",
       "      <td>1962-11-01</td>\n",
       "      <td>610.032056</td>\n",
       "      <td>r</td>\n",
       "    </tr>\n",
       "    <tr>\n",
       "      <th>167</th>\n",
       "      <td>1962-12-01</td>\n",
       "      <td>530.222833</td>\n",
       "      <td>r</td>\n",
       "    </tr>\n",
       "  </tbody>\n",
       "</table>\n",
       "</div>"
      ],
      "text/plain": [
       "             ds           y color\n",
       "163  1962-08-01  485.802422     r\n",
       "164  1962-09-01  546.425753     r\n",
       "165  1962-10-01  608.424560     r\n",
       "166  1962-11-01  610.032056     r\n",
       "167  1962-12-01  530.222833     r"
      ]
     },
     "execution_count": 39,
     "metadata": {},
     "output_type": "execute_result"
    }
   ],
   "source": [
    "df.tail()"
   ]
  },
  {
   "cell_type": "markdown",
   "id": "50aa95fa-1317-4c96-af94-a3ded106e5cb",
   "metadata": {},
   "source": [
    "Plot combined train and test sets with the vertical black line as the cut-off"
   ]
  },
  {
   "cell_type": "code",
   "execution_count": 40,
   "id": "91386104-8366-42f8-9cd7-f524a108c5bb",
   "metadata": {
    "ExecuteTime": {
     "end_time": "2023-09-06T01:20:31.879286773Z",
     "start_time": "2023-09-06T01:20:31.736352851Z"
    }
   },
   "outputs": [
    {
     "data": {
      "image/png": "[encoded data removed]",
      "text/plain": [
       "<Figure size 1152x576 with 1 Axes>"
      ]
     },
     "metadata": {
      "needs_background": "light"
     },
     "output_type": "display_data"
    }
   ],
   "source": [
    "df.set_index(\"ds\").plot(figsize=figsize, color=df[\"color\"])\n",
    "plt.axvline(x=len(train_df), color='black', label ='Train/Test set cut-off')\n",
    "plt.show();"
   ]
  },
  {
   "cell_type": "code",
   "execution_count": null,
   "id": "5ea7f1d1-e6b8-4208-b9c7-8c104ca28d4c",
   "metadata": {
    "ExecuteTime": {
     "end_time": "2023-09-06T01:20:31.931435327Z",
     "start_time": "2023-09-06T01:20:31.836742853Z"
    }
   },
   "outputs": [],
   "source": []
  }
 ],
 "metadata": {
  "kernelspec": {
   "display_name": "dev:Python",
   "language": "python",
   "name": "conda-env-dev-py"
  },
  "language_info": {
   "codemirror_mode": {
    "name": "ipython",
    "version": 3
   },
   "file_extension": ".py",
   "mimetype": "text/x-python",
   "name": "python",
   "nbconvert_exporter": "python",
   "pygments_lexer": "ipython3",
   "version": "3.9.12"
  }
 },
 "nbformat": 4,
 "nbformat_minor": 5
}
