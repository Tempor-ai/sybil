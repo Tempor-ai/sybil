{
 "cells": [
  {
   "cell_type": "code",
   "execution_count": 4,
   "id": "a96bedcd-d559-4ade-a903-a792d8eb0f5e",
   "metadata": {
    "tags": []
   },
   "outputs": [
    {
     "name": "stdout",
     "output_type": "stream",
     "text": [
      "/home/studio-lab-user/sybil/src\n"
     ]
    }
   ],
   "source": [
    "import os\n",
    "\n",
    "print(os.getcwd())"
   ]
  },
  {
   "cell_type": "code",
   "execution_count": 5,
   "id": "beef60ec-1b77-431d-9c22-bbacb5d786c5",
   "metadata": {
    "tags": []
   },
   "outputs": [],
   "source": [
    "os.chdir(\"../src\")"
   ]
  },
  {
   "cell_type": "code",
   "execution_count": null,
   "id": "b3591607-2af4-42bb-9b27-5e45ae09d44a",
   "metadata": {
    "tags": []
   },
   "outputs": [
    {
     "name": "stdout",
     "output_type": "stream",
     "text": [
      "\u001b[32mINFO\u001b[0m:     Will watch for changes in these directories: ['/home/studio-lab-user/sybil/src']\n",
      "\u001b[32mINFO\u001b[0m:     Uvicorn running on \u001b[1mhttp://127.0.0.1:8000\u001b[0m (Press CTRL+C to quit)\n",
      "\u001b[32mINFO\u001b[0m:     Started reloader process [\u001b[36m\u001b[1m4247\u001b[0m] using \u001b[36m\u001b[1mStatReload\u001b[0m\n",
      "\u001b[32mINFO\u001b[0m:     Started server process [\u001b[36m4249\u001b[0m]\n",
      "\u001b[32mINFO\u001b[0m:     Waiting for application startup.\n",
      "\u001b[32mINFO\u001b[0m:     Application startup complete.\n",
      "\u001b[32mINFO\u001b[0m:     127.0.0.1:48344 - \"\u001b[1mPOST /train HTTP/1.1\u001b[0m\" \u001b[91m500 Internal Server Error\u001b[0m\n",
      "\u001b[31mERROR\u001b[0m:    Exception in ASGI application\n",
      "Traceback (most recent call last):\n",
      "  File \"/home/studio-lab-user/.conda/envs/darts1/lib/python3.9/site-packages/uvicorn/protocols/http/h11_impl.py\", line 404, in run_asgi\n",
      "    result = await app(  # type: ignore[func-returns-value]\n",
      "  File \"/home/studio-lab-user/.conda/envs/darts1/lib/python3.9/site-packages/uvicorn/middleware/proxy_headers.py\", line 84, in __call__\n",
      "    return await self.app(scope, receive, send)\n",
      "  File \"/home/studio-lab-user/.conda/envs/darts1/lib/python3.9/site-packages/fastapi/applications.py\", line 292, in __call__\n",
      "    await super().__call__(scope, receive, send)\n",
      "  File \"/home/studio-lab-user/.conda/envs/darts1/lib/python3.9/site-packages/starlette/applications.py\", line 122, in __call__\n",
      "    await self.middleware_stack(scope, receive, send)\n",
      "  File \"/home/studio-lab-user/.conda/envs/darts1/lib/python3.9/site-packages/starlette/middleware/errors.py\", line 184, in __call__\n",
      "    raise exc\n",
      "  File \"/home/studio-lab-user/.conda/envs/darts1/lib/python3.9/site-packages/starlette/middleware/errors.py\", line 162, in __call__\n",
      "    await self.app(scope, receive, _send)\n",
      "  File \"/home/studio-lab-user/.conda/envs/darts1/lib/python3.9/site-packages/starlette/middleware/exceptions.py\", line 79, in __call__\n",
      "    raise exc\n",
      "  File \"/home/studio-lab-user/.conda/envs/darts1/lib/python3.9/site-packages/starlette/middleware/exceptions.py\", line 68, in __call__\n",
      "    await self.app(scope, receive, sender)\n",
      "  File \"/home/studio-lab-user/.conda/envs/darts1/lib/python3.9/site-packages/fastapi/middleware/asyncexitstack.py\", line 20, in __call__\n",
      "    raise e\n",
      "  File \"/home/studio-lab-user/.conda/envs/darts1/lib/python3.9/site-packages/fastapi/middleware/asyncexitstack.py\", line 17, in __call__\n",
      "    await self.app(scope, receive, send)\n",
      "  File \"/home/studio-lab-user/.conda/envs/darts1/lib/python3.9/site-packages/starlette/routing.py\", line 718, in __call__\n",
      "    await route.handle(scope, receive, send)\n",
      "  File \"/home/studio-lab-user/.conda/envs/darts1/lib/python3.9/site-packages/starlette/routing.py\", line 276, in handle\n",
      "    await self.app(scope, receive, send)\n",
      "  File \"/home/studio-lab-user/.conda/envs/darts1/lib/python3.9/site-packages/starlette/routing.py\", line 66, in app\n",
      "    response = await func(request)\n",
      "  File \"/home/studio-lab-user/.conda/envs/darts1/lib/python3.9/site-packages/fastapi/routing.py\", line 273, in app\n",
      "    raw_response = await run_endpoint_function(\n",
      "  File \"/home/studio-lab-user/.conda/envs/darts1/lib/python3.9/site-packages/fastapi/routing.py\", line 190, in run_endpoint_function\n",
      "    return await dependant.call(**values)\n",
      "  File \"/home/studio-lab-user/sybil/src/appserver/routes.py\", line 67, in train\n",
      "    model = ModelFactory.create_model(dataset)\n",
      "  File \"/home/studio-lab-user/sybil/src/models/modelfactory.py\", line 100, in create_model\n",
      "    del params['preprocessors']\n",
      "KeyError: 'preprocessors'\n",
      "\u001b[32mINFO\u001b[0m:     127.0.0.1:48354 - \"\u001b[1mPOST /train HTTP/1.1\u001b[0m\" \u001b[91m500 Internal Server Error\u001b[0m\n",
      "\u001b[31mERROR\u001b[0m:    Exception in ASGI application\n",
      "Traceback (most recent call last):\n",
      "  File \"/home/studio-lab-user/.conda/envs/darts1/lib/python3.9/site-packages/uvicorn/protocols/http/h11_impl.py\", line 404, in run_asgi\n",
      "    result = await app(  # type: ignore[func-returns-value]\n",
      "  File \"/home/studio-lab-user/.conda/envs/darts1/lib/python3.9/site-packages/uvicorn/middleware/proxy_headers.py\", line 84, in __call__\n",
      "    return await self.app(scope, receive, send)\n",
      "  File \"/home/studio-lab-user/.conda/envs/darts1/lib/python3.9/site-packages/fastapi/applications.py\", line 292, in __call__\n",
      "    await super().__call__(scope, receive, send)\n",
      "  File \"/home/studio-lab-user/.conda/envs/darts1/lib/python3.9/site-packages/starlette/applications.py\", line 122, in __call__\n",
      "    await self.middleware_stack(scope, receive, send)\n",
      "  File \"/home/studio-lab-user/.conda/envs/darts1/lib/python3.9/site-packages/starlette/middleware/errors.py\", line 184, in __call__\n",
      "    raise exc\n",
      "  File \"/home/studio-lab-user/.conda/envs/darts1/lib/python3.9/site-packages/starlette/middleware/errors.py\", line 162, in __call__\n",
      "    await self.app(scope, receive, _send)\n",
      "  File \"/home/studio-lab-user/.conda/envs/darts1/lib/python3.9/site-packages/starlette/middleware/exceptions.py\", line 79, in __call__\n",
      "    raise exc\n",
      "  File \"/home/studio-lab-user/.conda/envs/darts1/lib/python3.9/site-packages/starlette/middleware/exceptions.py\", line 68, in __call__\n",
      "    await self.app(scope, receive, sender)\n",
      "  File \"/home/studio-lab-user/.conda/envs/darts1/lib/python3.9/site-packages/fastapi/middleware/asyncexitstack.py\", line 20, in __call__\n",
      "    raise e\n",
      "  File \"/home/studio-lab-user/.conda/envs/darts1/lib/python3.9/site-packages/fastapi/middleware/asyncexitstack.py\", line 17, in __call__\n",
      "    await self.app(scope, receive, send)\n",
      "  File \"/home/studio-lab-user/.conda/envs/darts1/lib/python3.9/site-packages/starlette/routing.py\", line 718, in __call__\n",
      "    await route.handle(scope, receive, send)\n",
      "  File \"/home/studio-lab-user/.conda/envs/darts1/lib/python3.9/site-packages/starlette/routing.py\", line 276, in handle\n",
      "    await self.app(scope, receive, send)\n",
      "  File \"/home/studio-lab-user/.conda/envs/darts1/lib/python3.9/site-packages/starlette/routing.py\", line 66, in app\n",
      "    response = await func(request)\n",
      "  File \"/home/studio-lab-user/.conda/envs/darts1/lib/python3.9/site-packages/fastapi/routing.py\", line 273, in app\n",
      "    raw_response = await run_endpoint_function(\n",
      "  File \"/home/studio-lab-user/.conda/envs/darts1/lib/python3.9/site-packages/fastapi/routing.py\", line 190, in run_endpoint_function\n",
      "    return await dependant.call(**values)\n",
      "  File \"/home/studio-lab-user/sybil/src/appserver/routes.py\", line 67, in train\n",
      "    model = ModelFactory.create_model(dataset)\n",
      "  File \"/home/studio-lab-user/sybil/src/models/modelfactory.py\", line 100, in create_model\n",
      "    del params['preprocessors']\n",
      "KeyError: 'preprocessors'\n",
      "Training model meta_lr on 129 samples. (TRAIN DATA)\n",
      "\n",
      "Fitting base model: darts_naive\n",
      "darts_naive smape test score: 20.331878477374662\n",
      "Training model meta_lr on 144 samples. (FULL DATA)\n",
      "\n",
      "Fitting base model: darts_naive\n",
      "darts_naive smape test score: 18.057443575330144\n",
      "\u001b[32mINFO\u001b[0m:     127.0.0.1:47608 - \"\u001b[1mPOST /train HTTP/1.1\u001b[0m\" \u001b[32m200 OK\u001b[0m\n",
      "Training model meta_lr on 39420 samples. (TRAIN DATA)\n",
      "\n",
      "Fitting base model: darts_naive\n",
      "darts_naive smape test score: 112.22013445643306\n",
      "Training model meta_lr on 43800 samples. (FULL DATA)\n",
      "\n",
      "Fitting base model: darts_naive\n",
      "darts_naive smape test score: 100.65727351580966\n",
      "\u001b[32mINFO\u001b[0m:     127.0.0.1:47616 - \"\u001b[1mPOST /train HTTP/1.1\u001b[0m\" \u001b[32m200 OK\u001b[0m\n",
      "Training model meta_lr on 129 samples. (TRAIN DATA)\n",
      "\n",
      "Fitting base model: darts_naive\n",
      "darts_naive smape test score: 20.331878477374662\n",
      "\n",
      "Fitting base model: darts_seasonalnaive\n",
      "darts_seasonalnaive smape test score: 12.117403269830614\n",
      "\n",
      "Fitting base model: darts_autotheta\n",
      "darts_autotheta smape test score: 6.521558075369835\n",
      "\n",
      "Fitting base model: darts_autoets\n",
      "darts_autoets smape test score: 7.2761466960832095\n",
      "\n",
      "Fitting base model: darts_autoarima\n",
      "darts_autoarima smape test score: 9.685153164847495\n",
      "Training model meta_lr on 144 samples. (FULL DATA)\n",
      "\n",
      "Fitting base model: darts_naive\n",
      "darts_naive smape test score: 18.057443575330144\n",
      "\n",
      "Fitting base model: darts_seasonalnaive\n",
      "darts_seasonalnaive smape test score: 15.43044131251834\n",
      "\n",
      "Fitting base model: darts_autotheta\n",
      "darts_autotheta smape test score: 4.682165767222862\n",
      "\n",
      "Fitting base model: darts_autoets\n",
      "darts_autoets smape test score: 12.788202268061427\n",
      "\n",
      "Fitting base model: darts_autoarima\n",
      "darts_autoarima smape test score: 6.341100664857624\n",
      "\u001b[32mINFO\u001b[0m:     127.0.0.1:37466 - \"\u001b[1mPOST /train HTTP/1.1\u001b[0m\" \u001b[32m200 OK\u001b[0m\n",
      "Training model meta_lr on 39420 samples. (TRAIN DATA)\n",
      "\n",
      "Fitting base model: darts_naive\n",
      "darts_naive smape test score: 112.22013445643306\n",
      "\n",
      "Fitting base model: darts_seasonalnaive\n",
      "darts_seasonalnaive smape test score: 112.22013445643306\n",
      "\n",
      "Fitting base model: darts_autotheta\n"
     ]
    }
   ],
   "source": [
    "!uvicorn appserver:app --reload"
   ]
  },
  {
   "cell_type": "code",
   "execution_count": null,
   "id": "32d08a6b-3ae5-46a7-96c6-443d9a38a494",
   "metadata": {},
   "outputs": [],
   "source": []
  },
  {
   "cell_type": "code",
   "execution_count": null,
   "id": "71b06fce-dfc2-462b-ab80-7c9b6e16490c",
   "metadata": {},
   "outputs": [],
   "source": []
  }
 ],
 "metadata": {
  "kernelspec": {
   "display_name": "darts1:Python",
   "language": "python",
   "name": "conda-env-darts1-py"
  },
  "language_info": {
   "codemirror_mode": {
    "name": "ipython",
    "version": 3
   },
   "file_extension": ".py",
   "mimetype": "text/x-python",
   "name": "python",
   "nbconvert_exporter": "python",
   "pygments_lexer": "ipython3",
   "version": "3.9.18"
  }
 },
 "nbformat": 4,
 "nbformat_minor": 5
}
