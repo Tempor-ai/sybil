{
 "cells": [
  {
   "cell_type": "markdown",
   "id": "48e57c5e-f2f9-448c-8901-e27610b878d5",
   "metadata": {},
   "source": [
    "Check Python version"
   ]
  },
  {
   "cell_type": "code",
   "execution_count": 583,
   "id": "c00c0a6f-c24c-4255-a430-6f89264a5a41",
   "metadata": {
    "ExecuteTime": {
     "end_time": "2023-10-19T19:33:49.911680100Z",
     "start_time": "2023-10-19T19:33:49.493924900Z"
    }
   },
   "outputs": [
    {
     "name": "stdout",
     "output_type": "stream",
     "text": [
      "Python 3.10.14\n"
     ]
    }
   ],
   "source": [
    "!python --version"
   ]
  },
  {
   "cell_type": "markdown",
   "id": "6173c739-e07c-46f5-9841-a6c7d7f1b4ff",
   "metadata": {},
   "source": [
    "Import libraries"
   ]
  },
  {
   "cell_type": "code",
   "execution_count": 584,
   "id": "4c7954a0-e6b4-4fa1-962b-83141e8b19cc",
   "metadata": {
    "ExecuteTime": {
     "end_time": "2023-10-19T19:33:49.931772Z",
     "start_time": "2023-10-19T19:33:49.571682600Z"
    }
   },
   "outputs": [],
   "source": [
    "import json\n",
    "import yaml\n",
    "import requests\n",
    "import pandas as pd\n",
    "import matplotlib.pyplot as plt\n",
    "import seaborn as sns\n",
    "sns.set()"
   ]
  },
  {
   "cell_type": "markdown",
   "id": "4b126246-b152-4de2-a39d-21feb5d6f6d2",
   "metadata": {},
   "source": [
    "### **Extract Data**"
   ]
  },
  {
   "cell_type": "code",
   "execution_count": 585,
   "id": "a1f7662e-1117-4a4b-9118-09faa296ccf9",
   "metadata": {
    "ExecuteTime": {
     "end_time": "2023-10-19T19:33:49.936776600Z",
     "start_time": "2023-10-19T19:33:49.586366300Z"
    }
   },
   "outputs": [],
   "source": [
    "# Through online GitHub\n",
    "file_name = 'https://github.com/ourownstory/neuralprophet-data/raw/main/datasets/air_passengers.csv'"
   ]
  },
  {
   "cell_type": "code",
   "execution_count": 586,
   "id": "437651ae-7fe0-4adb-b614-607e663b735c",
   "metadata": {
    "ExecuteTime": {
     "end_time": "2023-10-19T19:33:50.212062600Z",
     "start_time": "2023-10-19T19:33:49.610664Z"
    }
   },
   "outputs": [],
   "source": [
    "train_df = pd.read_csv(file_name)"
   ]
  },
  {
   "cell_type": "code",
   "execution_count": 587,
   "id": "53700774-809a-4cd9-a385-e155c2d99236",
   "metadata": {
    "ExecuteTime": {
     "end_time": "2023-10-19T19:33:50.221957100Z",
     "start_time": "2023-10-19T19:33:50.208528300Z"
    }
   },
   "outputs": [
    {
     "data": {
      "text/plain": [
       "(144, 2)"
      ]
     },
     "execution_count": 587,
     "metadata": {},
     "output_type": "execute_result"
    }
   ],
   "source": [
    "train_df.shape"
   ]
  },
  {
   "cell_type": "code",
   "execution_count": 588,
   "id": "114fc37e-da5d-4764-bb26-3fab6a761c54",
   "metadata": {
    "ExecuteTime": {
     "end_time": "2023-10-19T19:33:50.284181200Z",
     "start_time": "2023-10-19T19:33:50.221957100Z"
    }
   },
   "outputs": [
    {
     "data": {
      "text/plain": [
       "Index(['ds', 'y'], dtype='object')"
      ]
     },
     "execution_count": 588,
     "metadata": {},
     "output_type": "execute_result"
    }
   ],
   "source": [
    "train_df.columns"
   ]
  },
  {
   "cell_type": "code",
   "execution_count": 589,
   "id": "5d0d9da3-5d20-4c88-b821-b8066cfe4399",
   "metadata": {
    "ExecuteTime": {
     "end_time": "2023-10-19T19:33:50.284181200Z",
     "start_time": "2023-10-19T19:33:50.242090800Z"
    }
   },
   "outputs": [
    {
     "data": {
      "text/html": [
       "<div>\n",
       "<style scoped>\n",
       "    .dataframe tbody tr th:only-of-type {\n",
       "        vertical-align: middle;\n",
       "    }\n",
       "\n",
       "    .dataframe tbody tr th {\n",
       "        vertical-align: top;\n",
       "    }\n",
       "\n",
       "    .dataframe thead th {\n",
       "        text-align: right;\n",
       "    }\n",
       "</style>\n",
       "<table border=\"1\" class=\"dataframe\">\n",
       "  <thead>\n",
       "    <tr style=\"text-align: right;\">\n",
       "      <th></th>\n",
       "      <th>ds</th>\n",
       "      <th>y</th>\n",
       "    </tr>\n",
       "  </thead>\n",
       "  <tbody>\n",
       "    <tr>\n",
       "      <th>0</th>\n",
       "      <td>1949-01-01</td>\n",
       "      <td>112</td>\n",
       "    </tr>\n",
       "    <tr>\n",
       "      <th>1</th>\n",
       "      <td>1949-02-01</td>\n",
       "      <td>118</td>\n",
       "    </tr>\n",
       "    <tr>\n",
       "      <th>2</th>\n",
       "      <td>1949-03-01</td>\n",
       "      <td>132</td>\n",
       "    </tr>\n",
       "    <tr>\n",
       "      <th>3</th>\n",
       "      <td>1949-04-01</td>\n",
       "      <td>129</td>\n",
       "    </tr>\n",
       "    <tr>\n",
       "      <th>4</th>\n",
       "      <td>1949-05-01</td>\n",
       "      <td>121</td>\n",
       "    </tr>\n",
       "  </tbody>\n",
       "</table>\n",
       "</div>"
      ],
      "text/plain": [
       "           ds    y\n",
       "0  1949-01-01  112\n",
       "1  1949-02-01  118\n",
       "2  1949-03-01  132\n",
       "3  1949-04-01  129\n",
       "4  1949-05-01  121"
      ]
     },
     "execution_count": 589,
     "metadata": {},
     "output_type": "execute_result"
    }
   ],
   "source": [
    "train_df.head()"
   ]
  },
  {
   "cell_type": "code",
   "execution_count": 590,
   "id": "0a4ec852-b801-49fd-a130-075895b7db94",
   "metadata": {
    "ExecuteTime": {
     "end_time": "2023-10-19T19:33:50.291688300Z",
     "start_time": "2023-10-19T19:33:50.252169800Z"
    }
   },
   "outputs": [
    {
     "data": {
      "text/html": [
       "<div>\n",
       "<style scoped>\n",
       "    .dataframe tbody tr th:only-of-type {\n",
       "        vertical-align: middle;\n",
       "    }\n",
       "\n",
       "    .dataframe tbody tr th {\n",
       "        vertical-align: top;\n",
       "    }\n",
       "\n",
       "    .dataframe thead th {\n",
       "        text-align: right;\n",
       "    }\n",
       "</style>\n",
       "<table border=\"1\" class=\"dataframe\">\n",
       "  <thead>\n",
       "    <tr style=\"text-align: right;\">\n",
       "      <th></th>\n",
       "      <th>ds</th>\n",
       "      <th>y</th>\n",
       "    </tr>\n",
       "  </thead>\n",
       "  <tbody>\n",
       "    <tr>\n",
       "      <th>139</th>\n",
       "      <td>1960-08-01</td>\n",
       "      <td>606</td>\n",
       "    </tr>\n",
       "    <tr>\n",
       "      <th>140</th>\n",
       "      <td>1960-09-01</td>\n",
       "      <td>508</td>\n",
       "    </tr>\n",
       "    <tr>\n",
       "      <th>141</th>\n",
       "      <td>1960-10-01</td>\n",
       "      <td>461</td>\n",
       "    </tr>\n",
       "    <tr>\n",
       "      <th>142</th>\n",
       "      <td>1960-11-01</td>\n",
       "      <td>390</td>\n",
       "    </tr>\n",
       "    <tr>\n",
       "      <th>143</th>\n",
       "      <td>1960-12-01</td>\n",
       "      <td>432</td>\n",
       "    </tr>\n",
       "  </tbody>\n",
       "</table>\n",
       "</div>"
      ],
      "text/plain": [
       "             ds    y\n",
       "139  1960-08-01  606\n",
       "140  1960-09-01  508\n",
       "141  1960-10-01  461\n",
       "142  1960-11-01  390\n",
       "143  1960-12-01  432"
      ]
     },
     "execution_count": 590,
     "metadata": {},
     "output_type": "execute_result"
    }
   ],
   "source": [
    "train_df.tail()"
   ]
  },
  {
   "cell_type": "markdown",
   "id": "6c2154b8",
   "metadata": {},
   "source": [
    "Define the required time and target columns"
   ]
  },
  {
   "cell_type": "code",
   "execution_count": 591,
   "id": "93423cff",
   "metadata": {
    "ExecuteTime": {
     "end_time": "2023-10-19T19:33:50.291688300Z",
     "start_time": "2023-10-19T19:33:50.271744200Z"
    }
   },
   "outputs": [],
   "source": [
    "time_col = train_df.columns[0]\n",
    "target_col = train_df.columns[-1]\n",
    "train_df[time_col] = train_df[time_col].astype(str)"
   ]
  },
  {
   "cell_type": "markdown",
   "id": "92d1f999-8159-4f3e-9cd6-9b00bff324f9",
   "metadata": {},
   "source": [
    "Change target column to float"
   ]
  },
  {
   "cell_type": "code",
   "execution_count": 592,
   "id": "dba6f91b-6139-4664-87b1-7859b3b305a6",
   "metadata": {
    "ExecuteTime": {
     "end_time": "2023-10-19T19:33:50.302005900Z",
     "start_time": "2023-10-19T19:33:50.284181200Z"
    }
   },
   "outputs": [],
   "source": [
    "train_df[target_col] = train_df[target_col].astype(float)"
   ]
  },
  {
   "cell_type": "code",
   "execution_count": 593,
   "id": "7a2c4026-c7f0-4ba9-8481-adf16e88d9f2",
   "metadata": {
    "ExecuteTime": {
     "end_time": "2023-10-19T19:33:50.381684200Z",
     "start_time": "2023-10-19T19:33:50.346933500Z"
    }
   },
   "outputs": [
    {
     "data": {
      "text/html": [
       "<div>\n",
       "<style scoped>\n",
       "    .dataframe tbody tr th:only-of-type {\n",
       "        vertical-align: middle;\n",
       "    }\n",
       "\n",
       "    .dataframe tbody tr th {\n",
       "        vertical-align: top;\n",
       "    }\n",
       "\n",
       "    .dataframe thead th {\n",
       "        text-align: right;\n",
       "    }\n",
       "</style>\n",
       "<table border=\"1\" class=\"dataframe\">\n",
       "  <thead>\n",
       "    <tr style=\"text-align: right;\">\n",
       "      <th></th>\n",
       "      <th>ds</th>\n",
       "      <th>y</th>\n",
       "    </tr>\n",
       "  </thead>\n",
       "  <tbody>\n",
       "    <tr>\n",
       "      <th>0</th>\n",
       "      <td>1949-01-01</td>\n",
       "      <td>112.0</td>\n",
       "    </tr>\n",
       "    <tr>\n",
       "      <th>1</th>\n",
       "      <td>1949-02-01</td>\n",
       "      <td>118.0</td>\n",
       "    </tr>\n",
       "    <tr>\n",
       "      <th>2</th>\n",
       "      <td>1949-03-01</td>\n",
       "      <td>132.0</td>\n",
       "    </tr>\n",
       "    <tr>\n",
       "      <th>3</th>\n",
       "      <td>1949-04-01</td>\n",
       "      <td>129.0</td>\n",
       "    </tr>\n",
       "    <tr>\n",
       "      <th>4</th>\n",
       "      <td>1949-05-01</td>\n",
       "      <td>121.0</td>\n",
       "    </tr>\n",
       "  </tbody>\n",
       "</table>\n",
       "</div>"
      ],
      "text/plain": [
       "           ds      y\n",
       "0  1949-01-01  112.0\n",
       "1  1949-02-01  118.0\n",
       "2  1949-03-01  132.0\n",
       "3  1949-04-01  129.0\n",
       "4  1949-05-01  121.0"
      ]
     },
     "execution_count": 593,
     "metadata": {},
     "output_type": "execute_result"
    }
   ],
   "source": [
    "train_df.head()"
   ]
  },
  {
   "cell_type": "markdown",
   "id": "e56d7165-c252-4ea5-9981-7a22df96122e",
   "metadata": {},
   "source": [
    "Plot graph"
   ]
  },
  {
   "cell_type": "code",
   "execution_count": 594,
   "id": "30aac931-4d19-450a-ad79-fbaac30aa705",
   "metadata": {
    "ExecuteTime": {
     "end_time": "2023-10-19T19:33:50.621861300Z",
     "start_time": "2023-10-19T19:33:50.364679800Z"
    }
   },
   "outputs": [
    {
     "data": {
      "image/png": "[encoded data removed]",
      "text/plain": [
       "<Figure size 1600x800 with 1 Axes>"
      ]
     },
     "metadata": {},
     "output_type": "display_data"
    }
   ],
   "source": [
    "figsize = (16, 8)\n",
    "train_df.set_index(time_col).plot(figsize=figsize);"
   ]
  },
  {
   "cell_type": "markdown",
   "id": "7c3bd0f2-f6f4-49fd-b38a-9edd670a6fef",
   "metadata": {},
   "source": [
    "### **Train API**"
   ]
  },
  {
   "cell_type": "markdown",
   "id": "34362404-30a1-469f-914c-2baf85cc3be1",
   "metadata": {},
   "source": [
    "Train data: convert df to list-of-list"
   ]
  },
  {
   "cell_type": "code",
   "execution_count": 595,
   "id": "22347890-f3f5-48bf-b037-0f1d48458c2d",
   "metadata": {
    "ExecuteTime": {
     "end_time": "2023-10-19T19:33:50.621861300Z",
     "start_time": "2023-10-19T19:33:50.571957300Z"
    }
   },
   "outputs": [],
   "source": [
    "train_data = []"
   ]
  },
  {
   "cell_type": "code",
   "execution_count": 596,
   "id": "431b90c2-d4a8-4acd-969c-a357eea54db7",
   "metadata": {
    "ExecuteTime": {
     "end_time": "2023-10-19T19:33:50.691607Z",
     "start_time": "2023-10-19T19:33:50.592036200Z"
    }
   },
   "outputs": [],
   "source": [
    "for value in train_df.values:\n",
    "    train_data.append(list(value))"
   ]
  },
  {
   "cell_type": "code",
   "execution_count": 597,
   "id": "5c04373b-1857-42b2-8e5c-0e7a51cddf75",
   "metadata": {
    "ExecuteTime": {
     "end_time": "2023-10-19T19:33:50.691607Z",
     "start_time": "2023-10-19T19:33:50.602122700Z"
    }
   },
   "outputs": [
    {
     "data": {
      "text/plain": [
       "[['1949-01-01', 112.0],\n",
       " ['1949-02-01', 118.0],\n",
       " ['1949-03-01', 132.0],\n",
       " ['1949-04-01', 129.0],\n",
       " ['1949-05-01', 121.0],\n",
       " ['1949-06-01', 135.0],\n",
       " ['1949-07-01', 148.0],\n",
       " ['1949-08-01', 148.0],\n",
       " ['1949-09-01', 136.0],\n",
       " ['1949-10-01', 119.0]]"
      ]
     },
     "execution_count": 597,
     "metadata": {},
     "output_type": "execute_result"
    }
   ],
   "source": [
    "train_data[:10]"
   ]
  },
  {
   "cell_type": "markdown",
   "id": "622db7d3-3432-44b3-90ae-f08f34ca904e",
   "metadata": {},
   "source": [
    "Define Model Request (optional)"
   ]
  },
  {
   "cell_type": "code",
   "execution_count": 598,
   "id": "e0faaf9c-4330-4cfe-9c12-ac230a638a2a",
   "metadata": {
    "ExecuteTime": {
     "end_time": "2023-10-19T19:33:50.696629Z",
     "start_time": "2023-10-19T19:33:50.621861300Z"
    }
   },
   "outputs": [],
   "source": [
    "# Default model request\n",
    "model_request = {\n",
    "    'type': 'meta_wa',\n",
    "    'scorers': ['smape', 'mase'],\n",
    "    'params': {\n",
    "        'preprocessors': [\n",
    "            {'type': 'dartsimputer'},\n",
    "            {'type': 'minmaxscaler'},\n",
    "        ],\n",
    "        'base_models': [\n",
    "            # {'type': 'darts_naive'},\n",
    "            {'type': 'darts_seasonalnaive'},\n",
    "            # {'type': 'darts_autotheta'},\n",
    "            # {'type': 'darts_autoarima'},\n",
    "            # {'type': 'darts_autoets'},\n",
    "        ],\n",
    "    },\n",
    "}\n",
    "\n",
    "# # Onboard NeuralProphet customized model request\n",
    "# np_external_model_request = {\n",
    "#     'params': {\n",
    "#       'changepoints_range': 0.2,\n",
    "#       'epochs': 2,\n",
    "#       'growth': 'off'\n",
    "#     },\n",
    "#     'metrics': [],\n",
    "#     'type': 'neuralprophet',\n",
    "# }\n",
    "# # np_external_model_request = None\n",
    "\n",
    "user_value = 0.9\n",
    "output_type = 'estimate'  # 'data', 'estimate'\n",
    "mauq_external_params = {\n",
    "    'problem_type': 'regression',\n",
    "    'confidence_level': user_value,\n",
    "    'output_type': output_type\n",
    "\n",
    "}\n",
    "\n",
    "deepsybil_external_model_request = {\n",
    "    'type': 'meta_wa',  # 'meta_naive', 'meta_wa'\n",
    "    'scorers': ['mase', 'smape'],\n",
    "    'params': {\n",
    "        'preprocessors': [\n",
    "            # {'type': 'dartsimputer'},\n",
    "            # {'type': 'simpleimputer', 'params': {'strategy': 'mean'}},\n",
    "            {'type': 'minmaxscaler'},\n",
    "        ],\n",
    "        'base_models': [\n",
    "            # {'type': 'darts_rnn',\n",
    "            #  'params': {\n",
    "            #      'model': 'LSTM',\n",
    "            #      'hidden_dim': 10,\n",
    "            #      'n_rnn_layers': 3\n",
    "            # }},\n",
    "            # {'type': 'darts_tcn',\n",
    "            #  'params': {\n",
    "            #      'output_chunk_length': 52,\n",
    "            #      'input_chunk_length': 104,                 \n",
    "            #      'n_epochs': 20,\n",
    "            # }},\n",
    "            # {'type': 'darts_rnn',\n",
    "            #  'params': {\n",
    "            #      'model': 'LSTM',\n",
    "            #      'hidden_dim': 10,\n",
    "            #      'n_rnn_layers': 3\n",
    "            # }},\n",
    "            {'type': 'darts_nlinear'},\n",
    "            {'type': 'darts_dlinear'},\n",
    "            # {'type': 'darts_blockrnn'},\n",
    "            # {'type': 'darts_tsmixer',\n",
    "            #  'params': {\n",
    "            #      'output_chunk_length': 52,\n",
    "            #      'input_chunk_length': 104,                 \n",
    "            #      'n_epochs': 20,\n",
    "            # }},\n",
    "            #  {'type': 'darts_tide'}\n",
    "        ],\n",
    "    },\n",
    "}\n",
    "\n",
    "\n",
    "# # Customized model request\n",
    "model_request = {\n",
    "    'type': 'meta_wa',  # 'meta_naive', 'meta_wa'\n",
    "    'scorers': ['mase', 'smape'],\n",
    "    'params': {\n",
    "        'preprocessors': [\n",
    "            {'type': 'dartsimputer'},\n",
    "            {'type': 'simpleimputer', 'params': {'strategy': 'mean'}},\n",
    "            {'type': 'minmaxscaler'},\n",
    "        ],\n",
    "        'base_models': [\n",
    "            {'type': 'darts_naive'},\n",
    "            # {'type': 'darts_seasonalnaive'},\n",
    "            # {'type': 'darts_autotheta'},\n",
    "            # {'type': 'stats_autotheta'},\n",
    "            # {'type': 'darts_autoets'},\n",
    "            # {'type': 'stats_autoets'},\n",
    "            # {'type': 'darts_autoarima'},\n",
    "            # {'type': 'stats_autoarima'},\n",
    "            # {'type': 'darts_autoces'},\n",
    "            # {'type': 'darts_kalman'},\n",
    "            # {'type': 'darts_catboost'},            \n",
    "            # # {'type': 'darts_tbats'},\n",
    "            # # {'type': 'darts_linearregression'},\n",
    "            # {'type': 'darts_lightgbm',\n",
    "            #  'params': {\n",
    "            #      'lags': 12,\n",
    "            #      'output_chunk_length': 6,\n",
    "            #      'verbose': -1\n",
    "            # }}\n",
    "            # {'type': 'neuralprophet',\n",
    "            #  'external_params': np_external_model_request\n",
    "            # }  # Onboard NeuralProphet external service\n",
    "            # {'type': 'deepsybil',\n",
    "            #  'external_params': deepsybil_external_model_request\n",
    "            # }  # Onboard NeuralProphet external service\n",
    "        ],\n",
    "        \n",
    "    },\n",
    "    'mauq_params':mauq_external_params,\n",
    "}"
   ]
  },
  {
   "cell_type": "markdown",
   "id": "2c59611b",
   "metadata": {},
   "source": [
    "This is for JSON model_request"
   ]
  },
  {
   "cell_type": "code",
   "execution_count": 599,
   "id": "98d2d9d5",
   "metadata": {},
   "outputs": [],
   "source": [
    "# file_path = 'model_request.json'\n",
    "# # For writing the model request to a json file\n",
    "# with open(file_path, 'r') as file:\n",
    "#     model_request = json.load(file)"
   ]
  },
  {
   "cell_type": "markdown",
   "id": "51f3c5f5",
   "metadata": {},
   "source": [
    "This is for YAML model_request"
   ]
  },
  {
   "cell_type": "code",
   "execution_count": 600,
   "id": "5ff0d7a7",
   "metadata": {},
   "outputs": [],
   "source": [
    "# file_path = 'model_request.yaml'\n",
    "# # For reading the model request from a yaml file\n",
    "# with open(file_path, 'r') as file:\n",
    "#     model_request = yaml.safe_load(file)"
   ]
  },
  {
   "cell_type": "markdown",
   "id": "5791ee3c-4e12-4240-996a-68ef15dd86f9",
   "metadata": {},
   "source": [
    "Train API JSON Payload"
   ]
  },
  {
   "cell_type": "code",
   "execution_count": 601,
   "id": "01012159-6fc7-43ee-ae3b-6eb5307e9e04",
   "metadata": {
    "ExecuteTime": {
     "end_time": "2023-10-19T19:33:50.841980500Z",
     "start_time": "2023-10-19T19:33:50.633566200Z"
    }
   },
   "outputs": [],
   "source": [
    "api_json = {\n",
    "    'data': train_data,\n",
    "    'model': model_request  # (optional) can be commented out\n",
    "}"
   ]
  },
  {
   "cell_type": "code",
   "execution_count": 602,
   "id": "327ec3aa",
   "metadata": {},
   "outputs": [
    {
     "data": {
      "text/plain": [
       "{'type': 'meta_wa',\n",
       " 'scorers': ['mase', 'smape'],\n",
       " 'params': {'preprocessors': [{'type': 'dartsimputer'},\n",
       "   {'type': 'simpleimputer', 'params': {'strategy': 'mean'}},\n",
       "   {'type': 'minmaxscaler'}],\n",
       "  'base_models': [{'type': 'darts_naive'}]},\n",
       " 'mauq_params': {'problem_type': 'regression',\n",
       "  'confidence_level': 0.9,\n",
       "  'output_type': 'estimate'}}"
      ]
     },
     "execution_count": 602,
     "metadata": {},
     "output_type": "execute_result"
    }
   ],
   "source": [
    "api_json['model']"
   ]
  },
  {
   "cell_type": "markdown",
   "id": "754a97b7-b291-4263-a071-23d27f566417",
   "metadata": {},
   "source": [
    "Build URL"
   ]
  },
  {
   "cell_type": "code",
   "execution_count": 603,
   "id": "af5f0801-cf06-491f-819e-dba5ccdf0e97",
   "metadata": {
    "ExecuteTime": {
     "end_time": "2023-10-19T19:33:50.841980500Z",
     "start_time": "2023-10-19T19:33:50.651820200Z"
    }
   },
   "outputs": [],
   "source": [
    "with open('url.yaml', 'r') as file:\n",
    "    url_dict = yaml.safe_load(file)"
   ]
  },
  {
   "cell_type": "code",
   "execution_count": 604,
   "id": "3b4738ba-1d32-4d6c-a2dd-5ac07ad055f6",
   "metadata": {
    "ExecuteTime": {
     "end_time": "2023-10-19T19:33:50.841980500Z",
     "start_time": "2023-10-19T19:33:50.669446800Z"
    }
   },
   "outputs": [],
   "source": [
    "# URL to our SYBIL AWS service\n",
    "protocol = url_dict['protocol']\n",
    "host = url_dict['host']\n",
    "port = url_dict['port']\n",
    "endpoint = 'train'\n",
    "\n",
    "url = '%s://%s:%s/%s' % (protocol, host, str(port), endpoint)"
   ]
  },
  {
   "cell_type": "code",
   "execution_count": 605,
   "id": "d124a339-e643-4a32-bfe5-3d92014fa998",
   "metadata": {
    "ExecuteTime": {
     "end_time": "2023-10-19T19:33:50.841980500Z",
     "start_time": "2023-10-19T19:33:50.682073200Z"
    }
   },
   "outputs": [],
   "source": [
    "# protocol, host, port"
   ]
  },
  {
   "cell_type": "markdown",
   "id": "29d6d0a2-a726-4ae9-b6ef-ae91a6bb89e5",
   "metadata": {},
   "source": [
    "Call endpoint, receive response JSON, write to output file"
   ]
  },
  {
   "cell_type": "code",
   "execution_count": 606,
   "id": "bda53dfa-829f-4458-aff9-c1d24bdb6258",
   "metadata": {
    "ExecuteTime": {
     "end_time": "2023-10-19T19:34:26.086632200Z",
     "start_time": "2023-10-19T19:33:50.696629Z"
    }
   },
   "outputs": [],
   "source": [
    "# %%time\n",
    "# print(\"Hello\")\n",
    "response = requests.post(url, json=api_json)\n",
    "# print(response)\n",
    "# print()"
   ]
  },
  {
   "cell_type": "code",
   "execution_count": 607,
   "id": "a9b0c75a-25ab-47c5-a1db-e7296a3f3a20",
   "metadata": {
    "ExecuteTime": {
     "end_time": "2023-10-19T19:34:26.101891600Z",
     "start_time": "2023-10-19T19:34:26.089111900Z"
    }
   },
   "outputs": [
    {
     "data": {
      "text/plain": [
       "{'model': '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',\n",
       " 'type': 'meta_wa',\n",
       " 'metrics': [{'type': 'mase', 'value': 2.587490313284694},\n",
       "  {'type': 'smape', 'value': 12.97406116316589}],\n",
       " 'estimate': 126.19999999999999}"
      ]
     },
     "execution_count": 607,
     "metadata": {},
     "output_type": "execute_result"
    }
   ],
   "source": [
    "train_json_out = response.json()  # dict output\n",
    "train_json_out\n",
    "# response.json()\n"
   ]
  },
  {
   "cell_type": "code",
   "execution_count": 608,
   "id": "76fd2730",
   "metadata": {},
   "outputs": [],
   "source": [
    "estimate=train_json_out['estimate']"
   ]
  },
  {
   "cell_type": "markdown",
   "id": "a5f8d92a-2ec6-438b-a756-bd956030bb2a",
   "metadata": {},
   "source": [
    "### **Forecast API**"
   ]
  },
  {
   "cell_type": "markdown",
   "id": "2a2598a4-6c6a-40dc-bc45-82fa0cc662eb",
   "metadata": {},
   "source": [
    "Forecast Dates: predict the next 2 years of air passenger data (1961-1962)"
   ]
  },
  {
   "cell_type": "code",
   "execution_count": 609,
   "id": "138b6ede-3d9b-4d80-8d26-c3cabd21be66",
   "metadata": {
    "ExecuteTime": {
     "end_time": "2023-10-19T19:34:26.181962900Z",
     "start_time": "2023-10-19T19:34:26.115183800Z"
    }
   },
   "outputs": [],
   "source": [
    "dates = [\n",
    "    '1961-01-01', '1961-02-01', '1961-03-01', '1961-04-01', '1961-05-01', '1961-06-01',\n",
    "    '1961-07-01', '1961-08-01', '1961-09-01', '1961-10-01', '1961-11-01', '1961-12-01',\n",
    "    '1962-01-01', '1962-02-01', '1962-03-01', '1962-04-01', '1962-05-01', '1962-06-01',\n",
    "    '1962-07-01', '1962-08-01', '1962-09-01', '1962-10-01', '1962-11-01', '1962-12-01',\n",
    "]"
   ]
  },
  {
   "cell_type": "markdown",
   "id": "9c54f592-5262-46ec-b651-555edd2edb49",
   "metadata": {},
   "source": [
    "Model from Train API"
   ]
  },
  {
   "cell_type": "code",
   "execution_count": 610,
   "id": "44037535-5b07-40e2-b6a7-3e301d19deda",
   "metadata": {
    "ExecuteTime": {
     "end_time": "2023-10-19T19:34:26.181962900Z",
     "start_time": "2023-10-19T19:34:26.131921900Z"
    }
   },
   "outputs": [],
   "source": [
    "model = train_json_out['model']"
   ]
  },
  {
   "cell_type": "markdown",
   "id": "ab30f283-f727-4d4e-8a92-791318ede6b4",
   "metadata": {},
   "source": [
    "Forecast API JSON Payload"
   ]
  },
  {
   "cell_type": "code",
   "execution_count": 611,
   "id": "1fc68132-9353-4951-bed3-6b916eb52e44",
   "metadata": {
    "ExecuteTime": {
     "end_time": "2023-10-19T19:34:26.181962900Z",
     "start_time": "2023-10-19T19:34:26.146543600Z"
    }
   },
   "outputs": [],
   "source": [
    "api_json = {\n",
    "    'model': model,\n",
    "    'data': dates,\n",
    "    'estimate' : estimate\n",
    "}"
   ]
  },
  {
   "cell_type": "markdown",
   "id": "72336096-face-429d-99e7-70e55f79449f",
   "metadata": {},
   "source": [
    "Build URL (same as train except for the endpoint)"
   ]
  },
  {
   "cell_type": "code",
   "execution_count": 612,
   "id": "98888d03-d90d-4694-a648-7ec375dd2c75",
   "metadata": {
    "ExecuteTime": {
     "end_time": "2023-10-19T19:34:26.181962900Z",
     "start_time": "2023-10-19T19:34:26.162027200Z"
    }
   },
   "outputs": [],
   "source": [
    "endpoint = 'forecast'\n",
    "\n",
    "url = '%s://%s:%s/%s' % (protocol, host, str(port), endpoint)"
   ]
  },
  {
   "cell_type": "markdown",
   "id": "8bfd1167-c0ef-4404-a9d4-441dbcdb9864",
   "metadata": {},
   "source": [
    "Call endpoint, receive response JSON, write to output file"
   ]
  },
  {
   "cell_type": "code",
   "execution_count": 613,
   "id": "443ff168-22e0-42c4-8e93-742a3293cc81",
   "metadata": {
    "ExecuteTime": {
     "end_time": "2023-10-19T19:34:26.275362800Z",
     "start_time": "2023-10-19T19:34:26.181962900Z"
    }
   },
   "outputs": [
    {
     "name": "stdout",
     "output_type": "stream",
     "text": [
      "<Response [200]>\n",
      "\n",
      "CPU times: total: 0 ns\n",
      "Wall time: 4.05 s\n"
     ]
    }
   ],
   "source": [
    "%%time\n",
    "response = requests.post(url, json=api_json,verify=False)\n",
    "print(response)\n",
    "print()"
   ]
  },
  {
   "cell_type": "code",
   "execution_count": 614,
   "id": "a8968a73-f03c-4e0c-bf6c-d1e67f3bb7b8",
   "metadata": {
    "ExecuteTime": {
     "end_time": "2023-10-19T19:34:26.321005300Z",
     "start_time": "2023-10-19T19:34:26.275890200Z"
    }
   },
   "outputs": [
    {
     "data": {
      "text/plain": [
       "{'data': [['1961-01-01', 432.0, 305.8, 558.2],\n",
       "  ['1961-02-01', 432.0, 305.8, 558.2],\n",
       "  ['1961-03-01', 432.0, 305.8, 558.2],\n",
       "  ['1961-04-01', 432.0, 305.8, 558.2],\n",
       "  ['1961-05-01', 432.0, 305.8, 558.2],\n",
       "  ['1961-06-01', 432.0, 305.8, 558.2],\n",
       "  ['1961-07-01', 432.0, 305.8, 558.2],\n",
       "  ['1961-08-01', 432.0, 305.8, 558.2],\n",
       "  ['1961-09-01', 432.0, 305.8, 558.2],\n",
       "  ['1961-10-01', 432.0, 305.8, 558.2],\n",
       "  ['1961-11-01', 432.0, 305.8, 558.2],\n",
       "  ['1961-12-01', 432.0, 305.8, 558.2],\n",
       "  ['1962-01-01', 432.0, 305.8, 558.2],\n",
       "  ['1962-02-01', 432.0, 305.8, 558.2],\n",
       "  ['1962-03-01', 432.0, 305.8, 558.2],\n",
       "  ['1962-04-01', 432.0, 305.8, 558.2],\n",
       "  ['1962-05-01', 432.0, 305.8, 558.2],\n",
       "  ['1962-06-01', 432.0, 305.8, 558.2],\n",
       "  ['1962-07-01', 432.0, 305.8, 558.2],\n",
       "  ['1962-08-01', 432.0, 305.8, 558.2],\n",
       "  ['1962-09-01', 432.0, 305.8, 558.2],\n",
       "  ['1962-10-01', 432.0, 305.8, 558.2],\n",
       "  ['1962-11-01', 432.0, 305.8, 558.2],\n",
       "  ['1962-12-01', 432.0, 305.8, 558.2]]}"
      ]
     },
     "execution_count": 614,
     "metadata": {},
     "output_type": "execute_result"
    }
   ],
   "source": [
    "forecast_json_out = response.json()  # dict output\n",
    "forecast_json_out"
   ]
  },
  {
   "cell_type": "markdown",
   "id": "9d42cf65-1bd5-4ef3-a48d-52d44b702040",
   "metadata": {},
   "source": [
    "Combine forecast dates and output"
   ]
  },
  {
   "cell_type": "code",
   "execution_count": 615,
   "id": "e819b0a7-4c42-4fb3-8785-057f9898f927",
   "metadata": {
    "ExecuteTime": {
     "end_time": "2023-10-19T19:34:26.321634Z",
     "start_time": "2023-10-19T19:34:26.306260600Z"
    }
   },
   "outputs": [],
   "source": [
    "forecast_df = pd.DataFrame(\n",
    "    data=forecast_json_out['data'],\n",
    "    columns=[time_col, target_col,\"lower_interval\",\"upper_interval\"],\n",
    ")"
   ]
  },
  {
   "cell_type": "code",
   "execution_count": 616,
   "id": "0a7c0974-5279-4186-8f37-3ae2a24c5837",
   "metadata": {
    "ExecuteTime": {
     "end_time": "2023-10-19T19:34:26.336828100Z",
     "start_time": "2023-10-19T19:34:26.321634Z"
    }
   },
   "outputs": [
    {
     "data": {
      "text/plain": [
       "(24, 4)"
      ]
     },
     "execution_count": 616,
     "metadata": {},
     "output_type": "execute_result"
    }
   ],
   "source": [
    "forecast_df.shape"
   ]
  },
  {
   "cell_type": "code",
   "execution_count": 617,
   "id": "f2a9507d-3127-4bec-930e-5ccd2248802e",
   "metadata": {
    "ExecuteTime": {
     "end_time": "2023-10-19T19:34:26.401193500Z",
     "start_time": "2023-10-19T19:34:26.341898300Z"
    }
   },
   "outputs": [
    {
     "data": {
      "text/plain": [
       "Index(['ds', 'y', 'lower_interval', 'upper_interval'], dtype='object')"
      ]
     },
     "execution_count": 617,
     "metadata": {},
     "output_type": "execute_result"
    }
   ],
   "source": [
    "forecast_df.columns"
   ]
  },
  {
   "cell_type": "code",
   "execution_count": 618,
   "id": "de1a02db-f5a5-497e-aee3-08f962c664f5",
   "metadata": {
    "ExecuteTime": {
     "end_time": "2023-10-19T19:34:26.411788600Z",
     "start_time": "2023-10-19T19:34:26.352788900Z"
    }
   },
   "outputs": [
    {
     "data": {
      "text/html": [
       "<div>\n",
       "<style scoped>\n",
       "    .dataframe tbody tr th:only-of-type {\n",
       "        vertical-align: middle;\n",
       "    }\n",
       "\n",
       "    .dataframe tbody tr th {\n",
       "        vertical-align: top;\n",
       "    }\n",
       "\n",
       "    .dataframe thead th {\n",
       "        text-align: right;\n",
       "    }\n",
       "</style>\n",
       "<table border=\"1\" class=\"dataframe\">\n",
       "  <thead>\n",
       "    <tr style=\"text-align: right;\">\n",
       "      <th></th>\n",
       "      <th>ds</th>\n",
       "      <th>y</th>\n",
       "      <th>lower_interval</th>\n",
       "      <th>upper_interval</th>\n",
       "    </tr>\n",
       "  </thead>\n",
       "  <tbody>\n",
       "    <tr>\n",
       "      <th>0</th>\n",
       "      <td>1961-01-01</td>\n",
       "      <td>432.0</td>\n",
       "      <td>305.8</td>\n",
       "      <td>558.2</td>\n",
       "    </tr>\n",
       "    <tr>\n",
       "      <th>1</th>\n",
       "      <td>1961-02-01</td>\n",
       "      <td>432.0</td>\n",
       "      <td>305.8</td>\n",
       "      <td>558.2</td>\n",
       "    </tr>\n",
       "    <tr>\n",
       "      <th>2</th>\n",
       "      <td>1961-03-01</td>\n",
       "      <td>432.0</td>\n",
       "      <td>305.8</td>\n",
       "      <td>558.2</td>\n",
       "    </tr>\n",
       "    <tr>\n",
       "      <th>3</th>\n",
       "      <td>1961-04-01</td>\n",
       "      <td>432.0</td>\n",
       "      <td>305.8</td>\n",
       "      <td>558.2</td>\n",
       "    </tr>\n",
       "    <tr>\n",
       "      <th>4</th>\n",
       "      <td>1961-05-01</td>\n",
       "      <td>432.0</td>\n",
       "      <td>305.8</td>\n",
       "      <td>558.2</td>\n",
       "    </tr>\n",
       "  </tbody>\n",
       "</table>\n",
       "</div>"
      ],
      "text/plain": [
       "           ds      y  lower_interval  upper_interval\n",
       "0  1961-01-01  432.0           305.8           558.2\n",
       "1  1961-02-01  432.0           305.8           558.2\n",
       "2  1961-03-01  432.0           305.8           558.2\n",
       "3  1961-04-01  432.0           305.8           558.2\n",
       "4  1961-05-01  432.0           305.8           558.2"
      ]
     },
     "execution_count": 618,
     "metadata": {},
     "output_type": "execute_result"
    }
   ],
   "source": [
    "forecast_df.head()"
   ]
  },
  {
   "cell_type": "code",
   "execution_count": 619,
   "id": "508358d2-8319-49bc-bd94-c5da97b0b7a4",
   "metadata": {
    "ExecuteTime": {
     "end_time": "2023-10-19T19:34:26.421700400Z",
     "start_time": "2023-10-19T19:34:26.371909200Z"
    }
   },
   "outputs": [
    {
     "data": {
      "text/html": [
       "<div>\n",
       "<style scoped>\n",
       "    .dataframe tbody tr th:only-of-type {\n",
       "        vertical-align: middle;\n",
       "    }\n",
       "\n",
       "    .dataframe tbody tr th {\n",
       "        vertical-align: top;\n",
       "    }\n",
       "\n",
       "    .dataframe thead th {\n",
       "        text-align: right;\n",
       "    }\n",
       "</style>\n",
       "<table border=\"1\" class=\"dataframe\">\n",
       "  <thead>\n",
       "    <tr style=\"text-align: right;\">\n",
       "      <th></th>\n",
       "      <th>ds</th>\n",
       "      <th>y</th>\n",
       "      <th>lower_interval</th>\n",
       "      <th>upper_interval</th>\n",
       "    </tr>\n",
       "  </thead>\n",
       "  <tbody>\n",
       "    <tr>\n",
       "      <th>19</th>\n",
       "      <td>1962-08-01</td>\n",
       "      <td>432.0</td>\n",
       "      <td>305.8</td>\n",
       "      <td>558.2</td>\n",
       "    </tr>\n",
       "    <tr>\n",
       "      <th>20</th>\n",
       "      <td>1962-09-01</td>\n",
       "      <td>432.0</td>\n",
       "      <td>305.8</td>\n",
       "      <td>558.2</td>\n",
       "    </tr>\n",
       "    <tr>\n",
       "      <th>21</th>\n",
       "      <td>1962-10-01</td>\n",
       "      <td>432.0</td>\n",
       "      <td>305.8</td>\n",
       "      <td>558.2</td>\n",
       "    </tr>\n",
       "    <tr>\n",
       "      <th>22</th>\n",
       "      <td>1962-11-01</td>\n",
       "      <td>432.0</td>\n",
       "      <td>305.8</td>\n",
       "      <td>558.2</td>\n",
       "    </tr>\n",
       "    <tr>\n",
       "      <th>23</th>\n",
       "      <td>1962-12-01</td>\n",
       "      <td>432.0</td>\n",
       "      <td>305.8</td>\n",
       "      <td>558.2</td>\n",
       "    </tr>\n",
       "  </tbody>\n",
       "</table>\n",
       "</div>"
      ],
      "text/plain": [
       "            ds      y  lower_interval  upper_interval\n",
       "19  1962-08-01  432.0           305.8           558.2\n",
       "20  1962-09-01  432.0           305.8           558.2\n",
       "21  1962-10-01  432.0           305.8           558.2\n",
       "22  1962-11-01  432.0           305.8           558.2\n",
       "23  1962-12-01  432.0           305.8           558.2"
      ]
     },
     "execution_count": 619,
     "metadata": {},
     "output_type": "execute_result"
    }
   ],
   "source": [
    "forecast_df.tail()"
   ]
  },
  {
   "cell_type": "markdown",
   "id": "a86a090e-de22-4045-a055-45198f240e60",
   "metadata": {},
   "source": [
    "Plot train and forecast side-by-side"
   ]
  },
  {
   "cell_type": "code",
   "execution_count": 620,
   "id": "8bc95c77-c93a-422b-a7da-551c67f0418e",
   "metadata": {
    "ExecuteTime": {
     "end_time": "2023-10-19T19:34:26.611930600Z",
     "start_time": "2023-10-19T19:34:26.391570900Z"
    }
   },
   "outputs": [
    {
     "data": {
      "image/png": "[encoded data removed]",
      "text/plain": [
       "<Figure size 1600x800 with 1 Axes>"
      ]
     },
     "metadata": {},
     "output_type": "display_data"
    }
   ],
   "source": [
    "train_df['color'] = 'b'\n",
    "train_df.set_index(time_col).plot(figsize=figsize, color=train_df['color']);"
   ]
  },
  {
   "cell_type": "markdown",
   "id": "5d09e17b-d4b1-4589-8756-d0b4e23cc532",
   "metadata": {},
   "source": [
    "Combine train and forecast sets"
   ]
  },
  {
   "cell_type": "code",
   "execution_count": 621,
   "id": "2372cd4f-9014-4c4f-ba2f-58718094cf09",
   "metadata": {
    "ExecuteTime": {
     "end_time": "2023-10-19T19:34:27.021614800Z",
     "start_time": "2023-10-19T19:34:26.821649900Z"
    }
   },
   "outputs": [],
   "source": [
    "df = pd.concat([train_df, forecast_df]).reset_index(drop=True)"
   ]
  },
  {
   "cell_type": "code",
   "execution_count": 622,
   "id": "46736586-4f20-4f55-a758-148e3338a202",
   "metadata": {
    "ExecuteTime": {
     "end_time": "2023-10-19T19:34:27.021614800Z",
     "start_time": "2023-10-19T19:34:26.835257700Z"
    }
   },
   "outputs": [
    {
     "data": {
      "text/plain": [
       "(168, 5)"
      ]
     },
     "execution_count": 622,
     "metadata": {},
     "output_type": "execute_result"
    }
   ],
   "source": [
    "df.shape"
   ]
  },
  {
   "cell_type": "code",
   "execution_count": 623,
   "id": "b7f69447-161c-4a8a-95b7-64e4f230a524",
   "metadata": {
    "ExecuteTime": {
     "end_time": "2023-10-19T19:34:27.021614800Z",
     "start_time": "2023-10-19T19:34:26.851796400Z"
    }
   },
   "outputs": [
    {
     "data": {
      "text/html": [
       "<div>\n",
       "<style scoped>\n",
       "    .dataframe tbody tr th:only-of-type {\n",
       "        vertical-align: middle;\n",
       "    }\n",
       "\n",
       "    .dataframe tbody tr th {\n",
       "        vertical-align: top;\n",
       "    }\n",
       "\n",
       "    .dataframe thead th {\n",
       "        text-align: right;\n",
       "    }\n",
       "</style>\n",
       "<table border=\"1\" class=\"dataframe\">\n",
       "  <thead>\n",
       "    <tr style=\"text-align: right;\">\n",
       "      <th></th>\n",
       "      <th>ds</th>\n",
       "      <th>y</th>\n",
       "      <th>color</th>\n",
       "      <th>lower_interval</th>\n",
       "      <th>upper_interval</th>\n",
       "    </tr>\n",
       "  </thead>\n",
       "  <tbody>\n",
       "    <tr>\n",
       "      <th>0</th>\n",
       "      <td>1949-01-01</td>\n",
       "      <td>112.0</td>\n",
       "      <td>b</td>\n",
       "      <td>NaN</td>\n",
       "      <td>NaN</td>\n",
       "    </tr>\n",
       "    <tr>\n",
       "      <th>1</th>\n",
       "      <td>1949-02-01</td>\n",
       "      <td>118.0</td>\n",
       "      <td>b</td>\n",
       "      <td>NaN</td>\n",
       "      <td>NaN</td>\n",
       "    </tr>\n",
       "    <tr>\n",
       "      <th>2</th>\n",
       "      <td>1949-03-01</td>\n",
       "      <td>132.0</td>\n",
       "      <td>b</td>\n",
       "      <td>NaN</td>\n",
       "      <td>NaN</td>\n",
       "    </tr>\n",
       "    <tr>\n",
       "      <th>3</th>\n",
       "      <td>1949-04-01</td>\n",
       "      <td>129.0</td>\n",
       "      <td>b</td>\n",
       "      <td>NaN</td>\n",
       "      <td>NaN</td>\n",
       "    </tr>\n",
       "    <tr>\n",
       "      <th>4</th>\n",
       "      <td>1949-05-01</td>\n",
       "      <td>121.0</td>\n",
       "      <td>b</td>\n",
       "      <td>NaN</td>\n",
       "      <td>NaN</td>\n",
       "    </tr>\n",
       "  </tbody>\n",
       "</table>\n",
       "</div>"
      ],
      "text/plain": [
       "           ds      y color  lower_interval  upper_interval\n",
       "0  1949-01-01  112.0     b             NaN             NaN\n",
       "1  1949-02-01  118.0     b             NaN             NaN\n",
       "2  1949-03-01  132.0     b             NaN             NaN\n",
       "3  1949-04-01  129.0     b             NaN             NaN\n",
       "4  1949-05-01  121.0     b             NaN             NaN"
      ]
     },
     "execution_count": 623,
     "metadata": {},
     "output_type": "execute_result"
    }
   ],
   "source": [
    "df.head()"
   ]
  },
  {
   "cell_type": "code",
   "execution_count": 624,
   "id": "26c6a481-6000-4912-9fb8-875ab6ab44cc",
   "metadata": {
    "ExecuteTime": {
     "end_time": "2023-10-19T19:34:27.026653800Z",
     "start_time": "2023-10-19T19:34:26.866932600Z"
    }
   },
   "outputs": [
    {
     "data": {
      "text/html": [
       "<div>\n",
       "<style scoped>\n",
       "    .dataframe tbody tr th:only-of-type {\n",
       "        vertical-align: middle;\n",
       "    }\n",
       "\n",
       "    .dataframe tbody tr th {\n",
       "        vertical-align: top;\n",
       "    }\n",
       "\n",
       "    .dataframe thead th {\n",
       "        text-align: right;\n",
       "    }\n",
       "</style>\n",
       "<table border=\"1\" class=\"dataframe\">\n",
       "  <thead>\n",
       "    <tr style=\"text-align: right;\">\n",
       "      <th></th>\n",
       "      <th>ds</th>\n",
       "      <th>y</th>\n",
       "      <th>color</th>\n",
       "      <th>lower_interval</th>\n",
       "      <th>upper_interval</th>\n",
       "    </tr>\n",
       "  </thead>\n",
       "  <tbody>\n",
       "    <tr>\n",
       "      <th>163</th>\n",
       "      <td>1962-08-01</td>\n",
       "      <td>432.0</td>\n",
       "      <td>NaN</td>\n",
       "      <td>305.8</td>\n",
       "      <td>558.2</td>\n",
       "    </tr>\n",
       "    <tr>\n",
       "      <th>164</th>\n",
       "      <td>1962-09-01</td>\n",
       "      <td>432.0</td>\n",
       "      <td>NaN</td>\n",
       "      <td>305.8</td>\n",
       "      <td>558.2</td>\n",
       "    </tr>\n",
       "    <tr>\n",
       "      <th>165</th>\n",
       "      <td>1962-10-01</td>\n",
       "      <td>432.0</td>\n",
       "      <td>NaN</td>\n",
       "      <td>305.8</td>\n",
       "      <td>558.2</td>\n",
       "    </tr>\n",
       "    <tr>\n",
       "      <th>166</th>\n",
       "      <td>1962-11-01</td>\n",
       "      <td>432.0</td>\n",
       "      <td>NaN</td>\n",
       "      <td>305.8</td>\n",
       "      <td>558.2</td>\n",
       "    </tr>\n",
       "    <tr>\n",
       "      <th>167</th>\n",
       "      <td>1962-12-01</td>\n",
       "      <td>432.0</td>\n",
       "      <td>NaN</td>\n",
       "      <td>305.8</td>\n",
       "      <td>558.2</td>\n",
       "    </tr>\n",
       "  </tbody>\n",
       "</table>\n",
       "</div>"
      ],
      "text/plain": [
       "             ds      y color  lower_interval  upper_interval\n",
       "163  1962-08-01  432.0   NaN           305.8           558.2\n",
       "164  1962-09-01  432.0   NaN           305.8           558.2\n",
       "165  1962-10-01  432.0   NaN           305.8           558.2\n",
       "166  1962-11-01  432.0   NaN           305.8           558.2\n",
       "167  1962-12-01  432.0   NaN           305.8           558.2"
      ]
     },
     "execution_count": 624,
     "metadata": {},
     "output_type": "execute_result"
    }
   ],
   "source": [
    "df.tail()"
   ]
  },
  {
   "cell_type": "markdown",
   "id": "50aa95fa-1317-4c96-af94-a3ded106e5cb",
   "metadata": {},
   "source": [
    "Plot combined train and forecast sets with the vertical black line as the cut-off"
   ]
  },
  {
   "cell_type": "code",
   "execution_count": 625,
   "id": "91386104-8366-42f8-9cd7-f524a108c5bb",
   "metadata": {
    "ExecuteTime": {
     "end_time": "2023-10-19T19:34:27.321887100Z",
     "start_time": "2023-10-19T19:34:26.883015400Z"
    }
   },
   "outputs": [
    {
     "data": {
      "image/png": "[encoded data removed]",
      "text/plain": [
       "<Figure size 1600x800 with 1 Axes>"
      ]
     },
     "metadata": {},
     "output_type": "display_data"
    }
   ],
   "source": [
    "plt.figure(figsize=figsize)\n",
    "\n",
    "plt.plot(df[time_col], df[target_col], color='blue', label='y')\n",
    "\n",
    "plt.plot(forecast_df[time_col], forecast_df[target_col], color='blue', linestyle='dashed', label='Forecast')\n",
    "\n",
    "plt.fill_between(forecast_df[time_col], forecast_df['lower_interval'], forecast_df['upper_interval'], \n",
    "                 color='blue', alpha=0.3, label='Prediction Interval')\n",
    "\n",
    "plt.axvline(x=df[time_col].iloc[len(train_df)-1], color='black', label='Train/Forecast set cut-off')\n",
    "\n",
    "plt.text(df[time_col].iloc[len(train_df)-15], df[target_col].max(), 'Train', fontweight='bold', fontsize=14)\n",
    "plt.text(df[time_col].iloc[len(train_df)+2], df[target_col].max(), 'Forecast', fontweight='bold', fontsize=14)\n",
    "\n",
    "plt.title('Monthly Number of Air Passengers (Train: 1949-1960) (Forecast: 1961-1962)', fontweight='bold', fontsize=20)\n",
    "plt.legend()\n",
    "plt.show()\n",
    "\n"
   ]
  },
  {
   "cell_type": "code",
   "execution_count": null,
   "id": "197dac47",
   "metadata": {},
   "outputs": [],
   "source": []
  }
 ],
 "metadata": {
  "kernelspec": {
   "display_name": "Sybil_3",
   "language": "python",
   "name": "python3"
  },
  "language_info": {
   "codemirror_mode": {
    "name": "ipython",
    "version": 3
   },
   "file_extension": ".py",
   "mimetype": "text/x-python",
   "name": "python",
   "nbconvert_exporter": "python",
   "pygments_lexer": "ipython3",
   "version": "3.10.14"
  }
 },
 "nbformat": 4,
 "nbformat_minor": 5
}
