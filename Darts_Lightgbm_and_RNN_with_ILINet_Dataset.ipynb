{
 "cells": [
  {
   "cell_type": "code",
   "execution_count": 10,
   "metadata": {
    "collapsed": true,
    "id": "weckk5DOunNK",
    "jupyter": {
     "outputs_hidden": true
    },
    "tags": []
   },
   "outputs": [
    {
     "name": "stdout",
     "output_type": "stream",
     "text": [
      "Collecting u8darts[all]==0.25.0\n",
      "  Downloading u8darts-0.25.0-py3-none-any.whl (760 kB)\n",
      "\u001b[K     |████████████████████████████████| 760 kB 1.5 MB/s eta 0:00:01    |▉                               | 20 kB 1.2 MB/s eta 0:00:01\n",
      "\u001b[?25hRequirement already satisfied: scipy>=1.3.2 in /home/studio-lab-user/.conda/envs/default/lib/python3.9/site-packages (from u8darts[all]==0.25.0) (1.10.1)\n",
      "Requirement already satisfied: pyod>=0.9.5 in /home/studio-lab-user/.conda/envs/default/lib/python3.9/site-packages (from u8darts[all]==0.25.0) (1.1.2)\n",
      "Requirement already satisfied: numpy>=1.19.0 in /home/studio-lab-user/.conda/envs/default/lib/python3.9/site-packages (from u8darts[all]==0.25.0) (1.24.3)\n",
      "Requirement already satisfied: xgboost>=1.6.0 in /home/studio-lab-user/.conda/envs/default/lib/python3.9/site-packages (from u8darts[all]==0.25.0) (2.0.2)\n",
      "Requirement already satisfied: scikit-learn>=1.0.1 in /home/studio-lab-user/.conda/envs/default/lib/python3.9/site-packages (from u8darts[all]==0.25.0) (1.3.0)\n",
      "Requirement already satisfied: tqdm>=4.60.0 in /home/studio-lab-user/.conda/envs/default/lib/python3.9/site-packages (from u8darts[all]==0.25.0) (4.65.0)\n",
      "Requirement already satisfied: matplotlib>=3.3.0 in /home/studio-lab-user/.conda/envs/default/lib/python3.9/site-packages (from u8darts[all]==0.25.0) (3.7.1)\n",
      "Requirement already satisfied: statsforecast>=1.4 in /home/studio-lab-user/.conda/envs/default/lib/python3.9/site-packages (from u8darts[all]==0.25.0) (1.6.0)\n",
      "Requirement already satisfied: pandas>=1.0.5 in /home/studio-lab-user/.conda/envs/default/lib/python3.9/site-packages (from u8darts[all]==0.25.0) (2.0.1)\n",
      "Requirement already satisfied: holidays>=0.11.1 in /home/studio-lab-user/.conda/envs/default/lib/python3.9/site-packages (from u8darts[all]==0.25.0) (0.38)\n",
      "Requirement already satisfied: tbats>=1.1.0 in /home/studio-lab-user/.conda/envs/default/lib/python3.9/site-packages (from u8darts[all]==0.25.0) (1.1.3)\n",
      "Requirement already satisfied: shap>=0.40.0 in /home/studio-lab-user/.conda/envs/default/lib/python3.9/site-packages (from u8darts[all]==0.25.0) (0.43.0)\n",
      "Requirement already satisfied: typing-extensions in /home/studio-lab-user/.conda/envs/default/lib/python3.9/site-packages (from u8darts[all]==0.25.0) (4.7.1)\n",
      "Requirement already satisfied: nfoursid>=1.0.0 in /home/studio-lab-user/.conda/envs/default/lib/python3.9/site-packages (from u8darts[all]==0.25.0) (1.0.1)\n",
      "Requirement already satisfied: joblib>=0.16.0 in /home/studio-lab-user/.conda/envs/default/lib/python3.9/site-packages (from u8darts[all]==0.25.0) (1.2.0)\n",
      "Requirement already satisfied: requests>=2.22.0 in /home/studio-lab-user/.conda/envs/default/lib/python3.9/site-packages (from u8darts[all]==0.25.0) (2.30.0)\n",
      "Requirement already satisfied: statsmodels>=0.14.0 in /home/studio-lab-user/.conda/envs/default/lib/python3.9/site-packages (from u8darts[all]==0.25.0) (0.14.0)\n",
      "Requirement already satisfied: xarray>=0.17.0 in /home/studio-lab-user/.conda/envs/default/lib/python3.9/site-packages (from u8darts[all]==0.25.0) (2023.11.0)\n",
      "Requirement already satisfied: pmdarima>=1.8.0 in /home/studio-lab-user/.conda/envs/default/lib/python3.9/site-packages (from u8darts[all]==0.25.0) (2.0.4)\n",
      "Requirement already satisfied: tensorboardX>=2.1 in /home/studio-lab-user/.conda/envs/default/lib/python3.9/site-packages (from u8darts[all]==0.25.0) (2.6.2.2)\n",
      "Requirement already satisfied: lightgbm>=3.2.0 in /home/studio-lab-user/.conda/envs/default/lib/python3.9/site-packages (from u8darts[all]==0.25.0) (4.1.0)\n",
      "Requirement already satisfied: torch>=1.8.0 in /home/studio-lab-user/.conda/envs/default/lib/python3.9/site-packages (from u8darts[all]==0.25.0) (2.0.1)\n",
      "Requirement already satisfied: prophet>=1.1.1 in /home/studio-lab-user/.conda/envs/default/lib/python3.9/site-packages (from u8darts[all]==0.25.0) (1.1.5)\n",
      "Requirement already satisfied: catboost>=1.0.6 in /home/studio-lab-user/.conda/envs/default/lib/python3.9/site-packages (from u8darts[all]==0.25.0) (1.2.2)\n",
      "Requirement already satisfied: pytorch-lightning>=1.5.0 in /home/studio-lab-user/.conda/envs/default/lib/python3.9/site-packages (from u8darts[all]==0.25.0) (2.1.2)\n",
      "Requirement already satisfied: graphviz in /home/studio-lab-user/.conda/envs/default/lib/python3.9/site-packages (from catboost>=1.0.6->u8darts[all]==0.25.0) (0.20.1)\n",
      "Requirement already satisfied: plotly in /home/studio-lab-user/.conda/envs/default/lib/python3.9/site-packages (from catboost>=1.0.6->u8darts[all]==0.25.0) (5.18.0)\n",
      "Requirement already satisfied: six in /home/studio-lab-user/.conda/envs/default/lib/python3.9/site-packages (from catboost>=1.0.6->u8darts[all]==0.25.0) (1.16.0)\n",
      "Requirement already satisfied: python-dateutil in /home/studio-lab-user/.conda/envs/default/lib/python3.9/site-packages (from holidays>=0.11.1->u8darts[all]==0.25.0) (2.8.2)\n",
      "Requirement already satisfied: fonttools>=4.22.0 in /home/studio-lab-user/.conda/envs/default/lib/python3.9/site-packages (from matplotlib>=3.3.0->u8darts[all]==0.25.0) (4.39.3)\n",
      "Requirement already satisfied: pillow>=6.2.0 in /home/studio-lab-user/.conda/envs/default/lib/python3.9/site-packages (from matplotlib>=3.3.0->u8darts[all]==0.25.0) (9.5.0)\n",
      "Requirement already satisfied: cycler>=0.10 in /home/studio-lab-user/.conda/envs/default/lib/python3.9/site-packages (from matplotlib>=3.3.0->u8darts[all]==0.25.0) (0.11.0)\n",
      "Requirement already satisfied: contourpy>=1.0.1 in /home/studio-lab-user/.conda/envs/default/lib/python3.9/site-packages (from matplotlib>=3.3.0->u8darts[all]==0.25.0) (1.0.7)\n",
      "Requirement already satisfied: importlib-resources>=3.2.0 in /home/studio-lab-user/.conda/envs/default/lib/python3.9/site-packages (from matplotlib>=3.3.0->u8darts[all]==0.25.0) (5.12.0)\n",
      "Requirement already satisfied: kiwisolver>=1.0.1 in /home/studio-lab-user/.conda/envs/default/lib/python3.9/site-packages (from matplotlib>=3.3.0->u8darts[all]==0.25.0) (1.4.4)\n",
      "Requirement already satisfied: pyparsing>=2.3.1 in /home/studio-lab-user/.conda/envs/default/lib/python3.9/site-packages (from matplotlib>=3.3.0->u8darts[all]==0.25.0) (3.0.9)\n",
      "Requirement already satisfied: packaging>=20.0 in /home/studio-lab-user/.conda/envs/default/lib/python3.9/site-packages (from matplotlib>=3.3.0->u8darts[all]==0.25.0) (23.0)\n",
      "Requirement already satisfied: zipp>=3.1.0 in /home/studio-lab-user/.conda/envs/default/lib/python3.9/site-packages (from importlib-resources>=3.2.0->matplotlib>=3.3.0->u8darts[all]==0.25.0) (3.15.0)\n",
      "Requirement already satisfied: pytz>=2020.1 in /home/studio-lab-user/.conda/envs/default/lib/python3.9/site-packages (from pandas>=1.0.5->u8darts[all]==0.25.0) (2023.3)\n",
      "Requirement already satisfied: tzdata>=2022.1 in /home/studio-lab-user/.conda/envs/default/lib/python3.9/site-packages (from pandas>=1.0.5->u8darts[all]==0.25.0) (2023.3)\n",
      "Requirement already satisfied: Cython!=0.29.18,!=0.29.31,>=0.29 in /home/studio-lab-user/.conda/envs/default/lib/python3.9/site-packages (from pmdarima>=1.8.0->u8darts[all]==0.25.0) (3.0.6)\n",
      "Requirement already satisfied: setuptools!=50.0.0,>=38.6.0 in /home/studio-lab-user/.conda/envs/default/lib/python3.9/site-packages (from pmdarima>=1.8.0->u8darts[all]==0.25.0) (67.6.1)\n",
      "Requirement already satisfied: urllib3 in /home/studio-lab-user/.conda/envs/default/lib/python3.9/site-packages (from pmdarima>=1.8.0->u8darts[all]==0.25.0) (2.0.1)\n",
      "Requirement already satisfied: cmdstanpy>=1.0.4 in /home/studio-lab-user/.conda/envs/default/lib/python3.9/site-packages (from prophet>=1.1.1->u8darts[all]==0.25.0) (1.2.0)\n",
      "Requirement already satisfied: stanio~=0.3.0 in /home/studio-lab-user/.conda/envs/default/lib/python3.9/site-packages (from cmdstanpy>=1.0.4->prophet>=1.1.1->u8darts[all]==0.25.0) (0.3.0)\n",
      "Requirement already satisfied: numba>=0.51 in /home/studio-lab-user/.conda/envs/default/lib/python3.9/site-packages (from pyod>=0.9.5->u8darts[all]==0.25.0) (0.58.1)\n",
      "Requirement already satisfied: llvmlite<0.42,>=0.41.0dev0 in /home/studio-lab-user/.conda/envs/default/lib/python3.9/site-packages (from numba>=0.51->pyod>=0.9.5->u8darts[all]==0.25.0) (0.41.1)\n",
      "Requirement already satisfied: fsspec[http]>2021.06.0 in /home/studio-lab-user/.conda/envs/default/lib/python3.9/site-packages (from pytorch-lightning>=1.5.0->u8darts[all]==0.25.0) (2023.9.0)\n",
      "Requirement already satisfied: PyYAML>=5.4 in /home/studio-lab-user/.conda/envs/default/lib/python3.9/site-packages (from pytorch-lightning>=1.5.0->u8darts[all]==0.25.0) (6.0)\n",
      "Requirement already satisfied: lightning-utilities>=0.8.0 in /home/studio-lab-user/.conda/envs/default/lib/python3.9/site-packages (from pytorch-lightning>=1.5.0->u8darts[all]==0.25.0) (0.10.0)\n",
      "Requirement already satisfied: torchmetrics>=0.7.0 in /home/studio-lab-user/.conda/envs/default/lib/python3.9/site-packages (from pytorch-lightning>=1.5.0->u8darts[all]==0.25.0) (1.2.1)\n",
      "Requirement already satisfied: aiohttp!=4.0.0a0,!=4.0.0a1 in /home/studio-lab-user/.conda/envs/default/lib/python3.9/site-packages (from fsspec[http]>2021.06.0->pytorch-lightning>=1.5.0->u8darts[all]==0.25.0) (3.8.5)\n",
      "Requirement already satisfied: yarl<2.0,>=1.0 in /home/studio-lab-user/.conda/envs/default/lib/python3.9/site-packages (from aiohttp!=4.0.0a0,!=4.0.0a1->fsspec[http]>2021.06.0->pytorch-lightning>=1.5.0->u8darts[all]==0.25.0) (1.9.2)\n",
      "Requirement already satisfied: async-timeout<5.0,>=4.0.0a3 in /home/studio-lab-user/.conda/envs/default/lib/python3.9/site-packages (from aiohttp!=4.0.0a0,!=4.0.0a1->fsspec[http]>2021.06.0->pytorch-lightning>=1.5.0->u8darts[all]==0.25.0) (4.0.3)\n",
      "Requirement already satisfied: attrs>=17.3.0 in /home/studio-lab-user/.conda/envs/default/lib/python3.9/site-packages (from aiohttp!=4.0.0a0,!=4.0.0a1->fsspec[http]>2021.06.0->pytorch-lightning>=1.5.0->u8darts[all]==0.25.0) (22.2.0)\n",
      "Requirement already satisfied: aiosignal>=1.1.2 in /home/studio-lab-user/.conda/envs/default/lib/python3.9/site-packages (from aiohttp!=4.0.0a0,!=4.0.0a1->fsspec[http]>2021.06.0->pytorch-lightning>=1.5.0->u8darts[all]==0.25.0) (1.3.1)\n",
      "Requirement already satisfied: charset-normalizer<4.0,>=2.0 in /home/studio-lab-user/.conda/envs/default/lib/python3.9/site-packages (from aiohttp!=4.0.0a0,!=4.0.0a1->fsspec[http]>2021.06.0->pytorch-lightning>=1.5.0->u8darts[all]==0.25.0) (3.1.0)\n",
      "Requirement already satisfied: frozenlist>=1.1.1 in /home/studio-lab-user/.conda/envs/default/lib/python3.9/site-packages (from aiohttp!=4.0.0a0,!=4.0.0a1->fsspec[http]>2021.06.0->pytorch-lightning>=1.5.0->u8darts[all]==0.25.0) (1.4.0)\n",
      "Requirement already satisfied: multidict<7.0,>=4.5 in /home/studio-lab-user/.conda/envs/default/lib/python3.9/site-packages (from aiohttp!=4.0.0a0,!=4.0.0a1->fsspec[http]>2021.06.0->pytorch-lightning>=1.5.0->u8darts[all]==0.25.0) (6.0.4)\n",
      "Requirement already satisfied: idna<4,>=2.5 in /home/studio-lab-user/.conda/envs/default/lib/python3.9/site-packages (from requests>=2.22.0->u8darts[all]==0.25.0) (3.4)\n",
      "Requirement already satisfied: certifi>=2017.4.17 in /home/studio-lab-user/.conda/envs/default/lib/python3.9/site-packages (from requests>=2.22.0->u8darts[all]==0.25.0) (2022.12.7)\n",
      "Requirement already satisfied: threadpoolctl>=2.0.0 in /home/studio-lab-user/.conda/envs/default/lib/python3.9/site-packages (from scikit-learn>=1.0.1->u8darts[all]==0.25.0) (3.2.0)\n",
      "Requirement already satisfied: slicer==0.0.7 in /home/studio-lab-user/.conda/envs/default/lib/python3.9/site-packages (from shap>=0.40.0->u8darts[all]==0.25.0) (0.0.7)\n",
      "Requirement already satisfied: cloudpickle in /home/studio-lab-user/.conda/envs/default/lib/python3.9/site-packages (from shap>=0.40.0->u8darts[all]==0.25.0) (3.0.0)\n",
      "Requirement already satisfied: polars in /home/studio-lab-user/.conda/envs/default/lib/python3.9/site-packages (from statsforecast>=1.4->u8darts[all]==0.25.0) (0.19.19)\n",
      "Requirement already satisfied: fugue>=0.8.1 in /home/studio-lab-user/.conda/envs/default/lib/python3.9/site-packages (from statsforecast>=1.4->u8darts[all]==0.25.0) (0.8.7)\n",
      "Requirement already satisfied: jinja2 in /home/studio-lab-user/.conda/envs/default/lib/python3.9/site-packages (from fugue>=0.8.1->statsforecast>=1.4->u8darts[all]==0.25.0) (3.1.2)\n",
      "Requirement already satisfied: triad>=0.9.3 in /home/studio-lab-user/.conda/envs/default/lib/python3.9/site-packages (from fugue>=0.8.1->statsforecast>=1.4->u8darts[all]==0.25.0) (0.9.3)\n",
      "Requirement already satisfied: adagio>=0.2.4 in /home/studio-lab-user/.conda/envs/default/lib/python3.9/site-packages (from fugue>=0.8.1->statsforecast>=1.4->u8darts[all]==0.25.0) (0.2.4)\n",
      "Requirement already satisfied: qpd>=0.4.4 in /home/studio-lab-user/.conda/envs/default/lib/python3.9/site-packages (from fugue>=0.8.1->statsforecast>=1.4->u8darts[all]==0.25.0) (0.4.4)\n",
      "Requirement already satisfied: fugue-sql-antlr>=0.1.6 in /home/studio-lab-user/.conda/envs/default/lib/python3.9/site-packages (from fugue>=0.8.1->statsforecast>=1.4->u8darts[all]==0.25.0) (0.2.0)\n",
      "Requirement already satisfied: sqlglot in /home/studio-lab-user/.conda/envs/default/lib/python3.9/site-packages (from fugue>=0.8.1->statsforecast>=1.4->u8darts[all]==0.25.0) (19.8.3)\n",
      "Requirement already satisfied: antlr4-python3-runtime<4.12 in /home/studio-lab-user/.conda/envs/default/lib/python3.9/site-packages (from fugue-sql-antlr>=0.1.6->fugue>=0.8.1->statsforecast>=1.4->u8darts[all]==0.25.0) (4.11.1)\n",
      "Requirement already satisfied: patsy>=0.5.2 in /home/studio-lab-user/.conda/envs/default/lib/python3.9/site-packages (from statsmodels>=0.14.0->u8darts[all]==0.25.0) (0.5.3)\n",
      "Requirement already satisfied: protobuf>=3.20 in /home/studio-lab-user/.conda/envs/default/lib/python3.9/site-packages (from tensorboardX>=2.1->u8darts[all]==0.25.0) (4.22.4)\n",
      "Requirement already satisfied: nvidia-curand-cu11==10.2.10.91 in /home/studio-lab-user/.conda/envs/default/lib/python3.9/site-packages (from torch>=1.8.0->u8darts[all]==0.25.0) (10.2.10.91)\n",
      "Requirement already satisfied: nvidia-cublas-cu11==11.10.3.66 in /home/studio-lab-user/.conda/envs/default/lib/python3.9/site-packages (from torch>=1.8.0->u8darts[all]==0.25.0) (11.10.3.66)\n",
      "Requirement already satisfied: nvidia-cudnn-cu11==8.5.0.96 in /home/studio-lab-user/.conda/envs/default/lib/python3.9/site-packages (from torch>=1.8.0->u8darts[all]==0.25.0) (8.5.0.96)\n",
      "Requirement already satisfied: nvidia-cuda-cupti-cu11==11.7.101 in /home/studio-lab-user/.conda/envs/default/lib/python3.9/site-packages (from torch>=1.8.0->u8darts[all]==0.25.0) (11.7.101)\n",
      "Requirement already satisfied: nvidia-nccl-cu11==2.14.3 in /home/studio-lab-user/.conda/envs/default/lib/python3.9/site-packages (from torch>=1.8.0->u8darts[all]==0.25.0) (2.14.3)\n",
      "Requirement already satisfied: nvidia-nvtx-cu11==11.7.91 in /home/studio-lab-user/.conda/envs/default/lib/python3.9/site-packages (from torch>=1.8.0->u8darts[all]==0.25.0) (11.7.91)\n",
      "Requirement already satisfied: nvidia-cusparse-cu11==11.7.4.91 in /home/studio-lab-user/.conda/envs/default/lib/python3.9/site-packages (from torch>=1.8.0->u8darts[all]==0.25.0) (11.7.4.91)\n",
      "Requirement already satisfied: nvidia-cufft-cu11==10.9.0.58 in /home/studio-lab-user/.conda/envs/default/lib/python3.9/site-packages (from torch>=1.8.0->u8darts[all]==0.25.0) (10.9.0.58)\n",
      "Requirement already satisfied: nvidia-cusolver-cu11==11.4.0.1 in /home/studio-lab-user/.conda/envs/default/lib/python3.9/site-packages (from torch>=1.8.0->u8darts[all]==0.25.0) (11.4.0.1)\n",
      "Requirement already satisfied: sympy in /home/studio-lab-user/.conda/envs/default/lib/python3.9/site-packages (from torch>=1.8.0->u8darts[all]==0.25.0) (1.12)\n",
      "Requirement already satisfied: filelock in /home/studio-lab-user/.conda/envs/default/lib/python3.9/site-packages (from torch>=1.8.0->u8darts[all]==0.25.0) (3.12.3)\n",
      "Requirement already satisfied: nvidia-cuda-nvrtc-cu11==11.7.99 in /home/studio-lab-user/.conda/envs/default/lib/python3.9/site-packages (from torch>=1.8.0->u8darts[all]==0.25.0) (11.7.99)\n",
      "Requirement already satisfied: nvidia-cuda-runtime-cu11==11.7.99 in /home/studio-lab-user/.conda/envs/default/lib/python3.9/site-packages (from torch>=1.8.0->u8darts[all]==0.25.0) (11.7.99)\n",
      "Requirement already satisfied: networkx in /home/studio-lab-user/.conda/envs/default/lib/python3.9/site-packages (from torch>=1.8.0->u8darts[all]==0.25.0) (3.1)\n",
      "Requirement already satisfied: triton==2.0.0 in /home/studio-lab-user/.conda/envs/default/lib/python3.9/site-packages (from torch>=1.8.0->u8darts[all]==0.25.0) (2.0.0)\n",
      "Requirement already satisfied: wheel in /home/studio-lab-user/.conda/envs/default/lib/python3.9/site-packages (from nvidia-cublas-cu11==11.10.3.66->torch>=1.8.0->u8darts[all]==0.25.0) (0.40.0)\n",
      "Requirement already satisfied: lit in /home/studio-lab-user/.conda/envs/default/lib/python3.9/site-packages (from triton==2.0.0->torch>=1.8.0->u8darts[all]==0.25.0) (16.0.6)\n",
      "Requirement already satisfied: cmake in /home/studio-lab-user/.conda/envs/default/lib/python3.9/site-packages (from triton==2.0.0->torch>=1.8.0->u8darts[all]==0.25.0) (3.27.4.1)\n",
      "Requirement already satisfied: pyarrow>=6.0.1 in /home/studio-lab-user/.conda/envs/default/lib/python3.9/site-packages (from triad>=0.9.3->fugue>=0.8.1->statsforecast>=1.4->u8darts[all]==0.25.0) (13.0.0)\n",
      "Requirement already satisfied: fs in /home/studio-lab-user/.conda/envs/default/lib/python3.9/site-packages (from triad>=0.9.3->fugue>=0.8.1->statsforecast>=1.4->u8darts[all]==0.25.0) (2.4.16)\n",
      "Requirement already satisfied: appdirs~=1.4.3 in /home/studio-lab-user/.conda/envs/default/lib/python3.9/site-packages (from fs->triad>=0.9.3->fugue>=0.8.1->statsforecast>=1.4->u8darts[all]==0.25.0) (1.4.4)\n",
      "Requirement already satisfied: MarkupSafe>=2.0 in /home/studio-lab-user/.conda/envs/default/lib/python3.9/site-packages (from jinja2->fugue>=0.8.1->statsforecast>=1.4->u8darts[all]==0.25.0) (2.1.2)\n",
      "Requirement already satisfied: tenacity>=6.2.0 in /home/studio-lab-user/.conda/envs/default/lib/python3.9/site-packages (from plotly->catboost>=1.0.6->u8darts[all]==0.25.0) (8.2.3)\n",
      "Requirement already satisfied: mpmath>=0.19 in /home/studio-lab-user/.conda/envs/default/lib/python3.9/site-packages (from sympy->torch>=1.8.0->u8darts[all]==0.25.0) (1.3.0)\n",
      "Installing collected packages: u8darts\n",
      "  Attempting uninstall: u8darts\n",
      "    Found existing installation: u8darts 0.27.0\n",
      "    Uninstalling u8darts-0.27.0:\n",
      "      Successfully uninstalled u8darts-0.27.0\n",
      "Successfully installed u8darts-0.25.0\n"
     ]
    }
   ],
   "source": [
    "!pip install u8darts[all]==0.25.0"
   ]
  },
  {
   "cell_type": "code",
   "execution_count": 1,
   "metadata": {
    "id": "Pa69QwVauuuc",
    "tags": []
   },
   "outputs": [],
   "source": [
    "from darts.datasets import WeatherDataset, ILINetDataset\n",
    "from darts.models import LightGBMModel\n",
    "from darts.utils.missing_values import missing_values_ratio, fill_missing_values\n",
    "from darts import TimeSeries"
   ]
  },
  {
   "cell_type": "code",
   "execution_count": 9,
   "metadata": {
    "tags": []
   },
   "outputs": [],
   "source": [
    "# ILINetDataset"
   ]
  },
  {
   "cell_type": "code",
   "execution_count": null,
   "metadata": {},
   "outputs": [],
   "source": [
    "series = ILINetDataset().load()"
   ]
  },
  {
   "cell_type": "code",
   "execution_count": 10,
   "metadata": {
    "tags": []
   },
   "outputs": [],
   "source": [
    "import pandas as pd"
   ]
  },
  {
   "cell_type": "code",
   "execution_count": 11,
   "metadata": {
    "id": "WVb2KUoyu8Ih",
    "tags": []
   },
   "outputs": [],
   "source": [
    "#df = pd.read_csv('ILINet.csv')"
   ]
  },
  {
   "cell_type": "code",
   "execution_count": 12,
   "metadata": {
    "tags": []
   },
   "outputs": [],
   "source": [
    "#df_filled = pd.read_csv('Weather_filled.csv')"
   ]
  },
  {
   "cell_type": "code",
   "execution_count": null,
   "metadata": {},
   "outputs": [],
   "source": [
    "df = series.pd_dataframe()"
   ]
  },
  {
   "cell_type": "code",
   "execution_count": 13,
   "metadata": {
    "tags": []
   },
   "outputs": [
    {
     "data": {
      "text/html": [
       "<div>\n",
       "<style scoped>\n",
       "    .dataframe tbody tr th:only-of-type {\n",
       "        vertical-align: middle;\n",
       "    }\n",
       "\n",
       "    .dataframe tbody tr th {\n",
       "        vertical-align: top;\n",
       "    }\n",
       "\n",
       "    .dataframe thead th {\n",
       "        text-align: right;\n",
       "    }\n",
       "</style>\n",
       "<table border=\"1\" class=\"dataframe\">\n",
       "  <thead>\n",
       "    <tr style=\"text-align: right;\">\n",
       "      <th></th>\n",
       "      <th>DATE</th>\n",
       "      <th>% WEIGHTED ILI</th>\n",
       "      <th>%UNWEIGHTED ILI</th>\n",
       "      <th>AGE 0-4</th>\n",
       "      <th>AGE 25-49</th>\n",
       "      <th>AGE 25-64</th>\n",
       "      <th>AGE 5-24</th>\n",
       "      <th>AGE 50-64</th>\n",
       "      <th>AGE 65</th>\n",
       "      <th>ILITOTAL</th>\n",
       "      <th>NUM. OF PROVIDERS</th>\n",
       "      <th>TOTAL PATIENTS</th>\n",
       "    </tr>\n",
       "  </thead>\n",
       "  <tbody>\n",
       "    <tr>\n",
       "      <th>0</th>\n",
       "      <td>1997-10-12</td>\n",
       "      <td>1.10148</td>\n",
       "      <td>1.21686</td>\n",
       "      <td>179.0</td>\n",
       "      <td>NaN</td>\n",
       "      <td>157.0</td>\n",
       "      <td>205.0</td>\n",
       "      <td>NaN</td>\n",
       "      <td>29.0</td>\n",
       "      <td>570.0</td>\n",
       "      <td>192.0</td>\n",
       "      <td>46842.0</td>\n",
       "    </tr>\n",
       "    <tr>\n",
       "      <th>1</th>\n",
       "      <td>1997-10-19</td>\n",
       "      <td>1.20007</td>\n",
       "      <td>1.28064</td>\n",
       "      <td>199.0</td>\n",
       "      <td>NaN</td>\n",
       "      <td>151.0</td>\n",
       "      <td>242.0</td>\n",
       "      <td>NaN</td>\n",
       "      <td>23.0</td>\n",
       "      <td>615.0</td>\n",
       "      <td>191.0</td>\n",
       "      <td>48023.0</td>\n",
       "    </tr>\n",
       "    <tr>\n",
       "      <th>2</th>\n",
       "      <td>1997-10-26</td>\n",
       "      <td>1.37876</td>\n",
       "      <td>1.23906</td>\n",
       "      <td>228.0</td>\n",
       "      <td>NaN</td>\n",
       "      <td>153.0</td>\n",
       "      <td>266.0</td>\n",
       "      <td>NaN</td>\n",
       "      <td>34.0</td>\n",
       "      <td>681.0</td>\n",
       "      <td>219.0</td>\n",
       "      <td>54961.0</td>\n",
       "    </tr>\n",
       "    <tr>\n",
       "      <th>3</th>\n",
       "      <td>1997-11-02</td>\n",
       "      <td>1.19920</td>\n",
       "      <td>1.14473</td>\n",
       "      <td>188.0</td>\n",
       "      <td>NaN</td>\n",
       "      <td>193.0</td>\n",
       "      <td>236.0</td>\n",
       "      <td>NaN</td>\n",
       "      <td>36.0</td>\n",
       "      <td>653.0</td>\n",
       "      <td>213.0</td>\n",
       "      <td>57044.0</td>\n",
       "    </tr>\n",
       "    <tr>\n",
       "      <th>4</th>\n",
       "      <td>1997-11-09</td>\n",
       "      <td>1.65618</td>\n",
       "      <td>1.26112</td>\n",
       "      <td>217.0</td>\n",
       "      <td>NaN</td>\n",
       "      <td>162.0</td>\n",
       "      <td>280.0</td>\n",
       "      <td>NaN</td>\n",
       "      <td>41.0</td>\n",
       "      <td>700.0</td>\n",
       "      <td>213.0</td>\n",
       "      <td>55506.0</td>\n",
       "    </tr>\n",
       "    <tr>\n",
       "      <th>...</th>\n",
       "      <td>...</td>\n",
       "      <td>...</td>\n",
       "      <td>...</td>\n",
       "      <td>...</td>\n",
       "      <td>...</td>\n",
       "      <td>...</td>\n",
       "      <td>...</td>\n",
       "      <td>...</td>\n",
       "      <td>...</td>\n",
       "      <td>...</td>\n",
       "      <td>...</td>\n",
       "      <td>...</td>\n",
       "    </tr>\n",
       "    <tr>\n",
       "      <th>1300</th>\n",
       "      <td>2022-09-11</td>\n",
       "      <td>2.02422</td>\n",
       "      <td>1.94821</td>\n",
       "      <td>12548.0</td>\n",
       "      <td>6978.0</td>\n",
       "      <td>NaN</td>\n",
       "      <td>13475.0</td>\n",
       "      <td>2701.0</td>\n",
       "      <td>2632.0</td>\n",
       "      <td>38334.0</td>\n",
       "      <td>3324.0</td>\n",
       "      <td>1967653.0</td>\n",
       "    </tr>\n",
       "    <tr>\n",
       "      <th>1301</th>\n",
       "      <td>2022-09-18</td>\n",
       "      <td>2.03228</td>\n",
       "      <td>1.97359</td>\n",
       "      <td>13386.0</td>\n",
       "      <td>6709.0</td>\n",
       "      <td>NaN</td>\n",
       "      <td>14467.0</td>\n",
       "      <td>2599.0</td>\n",
       "      <td>2435.0</td>\n",
       "      <td>39596.0</td>\n",
       "      <td>3316.0</td>\n",
       "      <td>2006289.0</td>\n",
       "    </tr>\n",
       "    <tr>\n",
       "      <th>1302</th>\n",
       "      <td>2022-09-25</td>\n",
       "      <td>2.28328</td>\n",
       "      <td>2.20031</td>\n",
       "      <td>15904.0</td>\n",
       "      <td>6877.0</td>\n",
       "      <td>NaN</td>\n",
       "      <td>16571.0</td>\n",
       "      <td>2633.0</td>\n",
       "      <td>2473.0</td>\n",
       "      <td>44458.0</td>\n",
       "      <td>3329.0</td>\n",
       "      <td>2020531.0</td>\n",
       "    </tr>\n",
       "    <tr>\n",
       "      <th>1303</th>\n",
       "      <td>2022-10-02</td>\n",
       "      <td>2.36912</td>\n",
       "      <td>2.30242</td>\n",
       "      <td>16977.0</td>\n",
       "      <td>6869.0</td>\n",
       "      <td>NaN</td>\n",
       "      <td>16622.0</td>\n",
       "      <td>2764.0</td>\n",
       "      <td>2633.0</td>\n",
       "      <td>45865.0</td>\n",
       "      <td>3335.0</td>\n",
       "      <td>1992031.0</td>\n",
       "    </tr>\n",
       "    <tr>\n",
       "      <th>1304</th>\n",
       "      <td>2022-10-09</td>\n",
       "      <td>2.56561</td>\n",
       "      <td>2.56080</td>\n",
       "      <td>17521.0</td>\n",
       "      <td>10009.0</td>\n",
       "      <td>NaN</td>\n",
       "      <td>18196.0</td>\n",
       "      <td>3716.0</td>\n",
       "      <td>3458.0</td>\n",
       "      <td>52900.0</td>\n",
       "      <td>3356.0</td>\n",
       "      <td>2065759.0</td>\n",
       "    </tr>\n",
       "  </tbody>\n",
       "</table>\n",
       "<p>1305 rows × 12 columns</p>\n",
       "</div>"
      ],
      "text/plain": [
       "            DATE  % WEIGHTED ILI  %UNWEIGHTED ILI  AGE 0-4  AGE 25-49   \n",
       "0     1997-10-12         1.10148          1.21686    179.0        NaN  \\\n",
       "1     1997-10-19         1.20007          1.28064    199.0        NaN   \n",
       "2     1997-10-26         1.37876          1.23906    228.0        NaN   \n",
       "3     1997-11-02         1.19920          1.14473    188.0        NaN   \n",
       "4     1997-11-09         1.65618          1.26112    217.0        NaN   \n",
       "...          ...             ...              ...      ...        ...   \n",
       "1300  2022-09-11         2.02422          1.94821  12548.0     6978.0   \n",
       "1301  2022-09-18         2.03228          1.97359  13386.0     6709.0   \n",
       "1302  2022-09-25         2.28328          2.20031  15904.0     6877.0   \n",
       "1303  2022-10-02         2.36912          2.30242  16977.0     6869.0   \n",
       "1304  2022-10-09         2.56561          2.56080  17521.0    10009.0   \n",
       "\n",
       "      AGE 25-64  AGE 5-24  AGE 50-64  AGE 65  ILITOTAL  NUM. OF PROVIDERS   \n",
       "0         157.0     205.0        NaN    29.0     570.0              192.0  \\\n",
       "1         151.0     242.0        NaN    23.0     615.0              191.0   \n",
       "2         153.0     266.0        NaN    34.0     681.0              219.0   \n",
       "3         193.0     236.0        NaN    36.0     653.0              213.0   \n",
       "4         162.0     280.0        NaN    41.0     700.0              213.0   \n",
       "...         ...       ...        ...     ...       ...                ...   \n",
       "1300        NaN   13475.0     2701.0  2632.0   38334.0             3324.0   \n",
       "1301        NaN   14467.0     2599.0  2435.0   39596.0             3316.0   \n",
       "1302        NaN   16571.0     2633.0  2473.0   44458.0             3329.0   \n",
       "1303        NaN   16622.0     2764.0  2633.0   45865.0             3335.0   \n",
       "1304        NaN   18196.0     3716.0  3458.0   52900.0             3356.0   \n",
       "\n",
       "      TOTAL PATIENTS  \n",
       "0            46842.0  \n",
       "1            48023.0  \n",
       "2            54961.0  \n",
       "3            57044.0  \n",
       "4            55506.0  \n",
       "...              ...  \n",
       "1300       1967653.0  \n",
       "1301       2006289.0  \n",
       "1302       2020531.0  \n",
       "1303       1992031.0  \n",
       "1304       2065759.0  \n",
       "\n",
       "[1305 rows x 12 columns]"
      ]
     },
     "execution_count": 13,
     "metadata": {},
     "output_type": "execute_result"
    }
   ],
   "source": [
    "df"
   ]
  },
  {
   "cell_type": "markdown",
   "metadata": {},
   "source": [
    "Components Descriptions:\n",
    "\n",
    "% WEIGHTED ILI: Combined state-specific data of patients visit to healthcare providers for ILI reported each week weighted by state population\n",
    "\n",
    "% UNWEIGHTED ILI: Combined state-specific data of patients visit to healthcare providers for ILI reported each week unweighted by state population\n",
    "\n",
    "AGE 0-4: Number of patients between 0 and 4 years of age\n",
    "\n",
    "AGE 25-49: Number of patients between 25 and 49 years of age\n",
    "\n",
    "AGE 25-64: Number of patients between 25 and 64 years of age\n",
    "\n",
    "AGE 5-24: Number of patients between 5 and 24 years of age\n",
    "\n",
    "AGE 50-64: Number of patients between 50 and 64 years of age\n",
    "\n",
    "AGE 65: Number of patients above (>=65) 65 years of age\n",
    "\n",
    "ILITOTAL: Total number of ILI patients. For this system, ILI is defined as fever (temperature of 100°F [37.8°C] or greater) and a cough and/or a sore throat\n",
    "\n",
    "NUM. OF PROVIDERS: Number of outpatient healthcare providers\n",
    "\n",
    "TOTAL PATIENTS: Total number of patients"
   ]
  },
  {
   "cell_type": "code",
   "execution_count": 16,
   "metadata": {
    "tags": []
   },
   "outputs": [
    {
     "data": {
      "text/plain": [
       "Index(['DATE', '% WEIGHTED ILI', '%UNWEIGHTED ILI', 'AGE 0-4', 'AGE 25-49',\n",
       "       'AGE 25-64', 'AGE 5-24', 'AGE 50-64', 'AGE 65', 'ILITOTAL',\n",
       "       'NUM. OF PROVIDERS', 'TOTAL PATIENTS'],\n",
       "      dtype='object')"
      ]
     },
     "execution_count": 16,
     "metadata": {},
     "output_type": "execute_result"
    }
   ],
   "source": [
    "df.columns"
   ]
  },
  {
   "cell_type": "code",
   "execution_count": 14,
   "metadata": {
    "tags": []
   },
   "outputs": [],
   "source": [
    "df['DATE'] = pd.to_datetime(df['DATE'])"
   ]
  },
  {
   "cell_type": "code",
   "execution_count": 18,
   "metadata": {
    "tags": []
   },
   "outputs": [
    {
     "data": {
      "text/html": [
       "<div>\n",
       "<style scoped>\n",
       "    .dataframe tbody tr th:only-of-type {\n",
       "        vertical-align: middle;\n",
       "    }\n",
       "\n",
       "    .dataframe tbody tr th {\n",
       "        vertical-align: top;\n",
       "    }\n",
       "\n",
       "    .dataframe thead th {\n",
       "        text-align: right;\n",
       "    }\n",
       "</style>\n",
       "<table border=\"1\" class=\"dataframe\">\n",
       "  <thead>\n",
       "    <tr style=\"text-align: right;\">\n",
       "      <th></th>\n",
       "      <th>DATE</th>\n",
       "      <th>% WEIGHTED ILI</th>\n",
       "      <th>%UNWEIGHTED ILI</th>\n",
       "      <th>AGE 0-4</th>\n",
       "      <th>AGE 25-49</th>\n",
       "      <th>AGE 25-64</th>\n",
       "      <th>AGE 5-24</th>\n",
       "      <th>AGE 50-64</th>\n",
       "      <th>AGE 65</th>\n",
       "      <th>ILITOTAL</th>\n",
       "      <th>NUM. OF PROVIDERS</th>\n",
       "      <th>TOTAL PATIENTS</th>\n",
       "    </tr>\n",
       "  </thead>\n",
       "  <tbody>\n",
       "    <tr>\n",
       "      <th>0</th>\n",
       "      <td>1997-10-12</td>\n",
       "      <td>1.10148</td>\n",
       "      <td>1.21686</td>\n",
       "      <td>179.0</td>\n",
       "      <td>NaN</td>\n",
       "      <td>157.0</td>\n",
       "      <td>205.0</td>\n",
       "      <td>NaN</td>\n",
       "      <td>29.0</td>\n",
       "      <td>570.0</td>\n",
       "      <td>192.0</td>\n",
       "      <td>46842.0</td>\n",
       "    </tr>\n",
       "    <tr>\n",
       "      <th>1</th>\n",
       "      <td>1997-10-19</td>\n",
       "      <td>1.20007</td>\n",
       "      <td>1.28064</td>\n",
       "      <td>199.0</td>\n",
       "      <td>NaN</td>\n",
       "      <td>151.0</td>\n",
       "      <td>242.0</td>\n",
       "      <td>NaN</td>\n",
       "      <td>23.0</td>\n",
       "      <td>615.0</td>\n",
       "      <td>191.0</td>\n",
       "      <td>48023.0</td>\n",
       "    </tr>\n",
       "    <tr>\n",
       "      <th>2</th>\n",
       "      <td>1997-10-26</td>\n",
       "      <td>1.37876</td>\n",
       "      <td>1.23906</td>\n",
       "      <td>228.0</td>\n",
       "      <td>NaN</td>\n",
       "      <td>153.0</td>\n",
       "      <td>266.0</td>\n",
       "      <td>NaN</td>\n",
       "      <td>34.0</td>\n",
       "      <td>681.0</td>\n",
       "      <td>219.0</td>\n",
       "      <td>54961.0</td>\n",
       "    </tr>\n",
       "    <tr>\n",
       "      <th>3</th>\n",
       "      <td>1997-11-02</td>\n",
       "      <td>1.19920</td>\n",
       "      <td>1.14473</td>\n",
       "      <td>188.0</td>\n",
       "      <td>NaN</td>\n",
       "      <td>193.0</td>\n",
       "      <td>236.0</td>\n",
       "      <td>NaN</td>\n",
       "      <td>36.0</td>\n",
       "      <td>653.0</td>\n",
       "      <td>213.0</td>\n",
       "      <td>57044.0</td>\n",
       "    </tr>\n",
       "    <tr>\n",
       "      <th>4</th>\n",
       "      <td>1997-11-09</td>\n",
       "      <td>1.65618</td>\n",
       "      <td>1.26112</td>\n",
       "      <td>217.0</td>\n",
       "      <td>NaN</td>\n",
       "      <td>162.0</td>\n",
       "      <td>280.0</td>\n",
       "      <td>NaN</td>\n",
       "      <td>41.0</td>\n",
       "      <td>700.0</td>\n",
       "      <td>213.0</td>\n",
       "      <td>55506.0</td>\n",
       "    </tr>\n",
       "    <tr>\n",
       "      <th>...</th>\n",
       "      <td>...</td>\n",
       "      <td>...</td>\n",
       "      <td>...</td>\n",
       "      <td>...</td>\n",
       "      <td>...</td>\n",
       "      <td>...</td>\n",
       "      <td>...</td>\n",
       "      <td>...</td>\n",
       "      <td>...</td>\n",
       "      <td>...</td>\n",
       "      <td>...</td>\n",
       "      <td>...</td>\n",
       "    </tr>\n",
       "    <tr>\n",
       "      <th>1300</th>\n",
       "      <td>2022-09-11</td>\n",
       "      <td>2.02422</td>\n",
       "      <td>1.94821</td>\n",
       "      <td>12548.0</td>\n",
       "      <td>6978.0</td>\n",
       "      <td>NaN</td>\n",
       "      <td>13475.0</td>\n",
       "      <td>2701.0</td>\n",
       "      <td>2632.0</td>\n",
       "      <td>38334.0</td>\n",
       "      <td>3324.0</td>\n",
       "      <td>1967653.0</td>\n",
       "    </tr>\n",
       "    <tr>\n",
       "      <th>1301</th>\n",
       "      <td>2022-09-18</td>\n",
       "      <td>2.03228</td>\n",
       "      <td>1.97359</td>\n",
       "      <td>13386.0</td>\n",
       "      <td>6709.0</td>\n",
       "      <td>NaN</td>\n",
       "      <td>14467.0</td>\n",
       "      <td>2599.0</td>\n",
       "      <td>2435.0</td>\n",
       "      <td>39596.0</td>\n",
       "      <td>3316.0</td>\n",
       "      <td>2006289.0</td>\n",
       "    </tr>\n",
       "    <tr>\n",
       "      <th>1302</th>\n",
       "      <td>2022-09-25</td>\n",
       "      <td>2.28328</td>\n",
       "      <td>2.20031</td>\n",
       "      <td>15904.0</td>\n",
       "      <td>6877.0</td>\n",
       "      <td>NaN</td>\n",
       "      <td>16571.0</td>\n",
       "      <td>2633.0</td>\n",
       "      <td>2473.0</td>\n",
       "      <td>44458.0</td>\n",
       "      <td>3329.0</td>\n",
       "      <td>2020531.0</td>\n",
       "    </tr>\n",
       "    <tr>\n",
       "      <th>1303</th>\n",
       "      <td>2022-10-02</td>\n",
       "      <td>2.36912</td>\n",
       "      <td>2.30242</td>\n",
       "      <td>16977.0</td>\n",
       "      <td>6869.0</td>\n",
       "      <td>NaN</td>\n",
       "      <td>16622.0</td>\n",
       "      <td>2764.0</td>\n",
       "      <td>2633.0</td>\n",
       "      <td>45865.0</td>\n",
       "      <td>3335.0</td>\n",
       "      <td>1992031.0</td>\n",
       "    </tr>\n",
       "    <tr>\n",
       "      <th>1304</th>\n",
       "      <td>2022-10-09</td>\n",
       "      <td>2.56561</td>\n",
       "      <td>2.56080</td>\n",
       "      <td>17521.0</td>\n",
       "      <td>10009.0</td>\n",
       "      <td>NaN</td>\n",
       "      <td>18196.0</td>\n",
       "      <td>3716.0</td>\n",
       "      <td>3458.0</td>\n",
       "      <td>52900.0</td>\n",
       "      <td>3356.0</td>\n",
       "      <td>2065759.0</td>\n",
       "    </tr>\n",
       "  </tbody>\n",
       "</table>\n",
       "<p>1305 rows × 12 columns</p>\n",
       "</div>"
      ],
      "text/plain": [
       "           DATE  % WEIGHTED ILI  %UNWEIGHTED ILI  AGE 0-4  AGE 25-49   \n",
       "0    1997-10-12         1.10148          1.21686    179.0        NaN  \\\n",
       "1    1997-10-19         1.20007          1.28064    199.0        NaN   \n",
       "2    1997-10-26         1.37876          1.23906    228.0        NaN   \n",
       "3    1997-11-02         1.19920          1.14473    188.0        NaN   \n",
       "4    1997-11-09         1.65618          1.26112    217.0        NaN   \n",
       "...         ...             ...              ...      ...        ...   \n",
       "1300 2022-09-11         2.02422          1.94821  12548.0     6978.0   \n",
       "1301 2022-09-18         2.03228          1.97359  13386.0     6709.0   \n",
       "1302 2022-09-25         2.28328          2.20031  15904.0     6877.0   \n",
       "1303 2022-10-02         2.36912          2.30242  16977.0     6869.0   \n",
       "1304 2022-10-09         2.56561          2.56080  17521.0    10009.0   \n",
       "\n",
       "      AGE 25-64  AGE 5-24  AGE 50-64  AGE 65  ILITOTAL  NUM. OF PROVIDERS   \n",
       "0         157.0     205.0        NaN    29.0     570.0              192.0  \\\n",
       "1         151.0     242.0        NaN    23.0     615.0              191.0   \n",
       "2         153.0     266.0        NaN    34.0     681.0              219.0   \n",
       "3         193.0     236.0        NaN    36.0     653.0              213.0   \n",
       "4         162.0     280.0        NaN    41.0     700.0              213.0   \n",
       "...         ...       ...        ...     ...       ...                ...   \n",
       "1300        NaN   13475.0     2701.0  2632.0   38334.0             3324.0   \n",
       "1301        NaN   14467.0     2599.0  2435.0   39596.0             3316.0   \n",
       "1302        NaN   16571.0     2633.0  2473.0   44458.0             3329.0   \n",
       "1303        NaN   16622.0     2764.0  2633.0   45865.0             3335.0   \n",
       "1304        NaN   18196.0     3716.0  3458.0   52900.0             3356.0   \n",
       "\n",
       "      TOTAL PATIENTS  \n",
       "0            46842.0  \n",
       "1            48023.0  \n",
       "2            54961.0  \n",
       "3            57044.0  \n",
       "4            55506.0  \n",
       "...              ...  \n",
       "1300       1967653.0  \n",
       "1301       2006289.0  \n",
       "1302       2020531.0  \n",
       "1303       1992031.0  \n",
       "1304       2065759.0  \n",
       "\n",
       "[1305 rows x 12 columns]"
      ]
     },
     "execution_count": 18,
     "metadata": {},
     "output_type": "execute_result"
    }
   ],
   "source": [
    "df"
   ]
  },
  {
   "cell_type": "code",
   "execution_count": 15,
   "metadata": {
    "colab": {
     "base_uri": "https://localhost:8080/"
    },
    "id": "VlPKqdGtvHX6",
    "outputId": "1c294e72-fa7d-48f1-c021-529abfdcbf4f",
    "tags": []
   },
   "outputs": [
    {
     "data": {
      "text/plain": [
       "% WEIGHTED ILI       0.271054\n",
       "%UNWEIGHTED ILI      0.341655\n",
       "AGE 25-49            0.628773\n",
       "AGE 50-64            0.634444\n",
       "AGE 5-24             0.651349\n",
       "ILITOTAL             0.730209\n",
       "AGE 65               0.734013\n",
       "AGE 25-64            0.744417\n",
       "AGE 0-4              0.801081\n",
       "DATE                 0.888860\n",
       "NUM. OF PROVIDERS    0.973413\n",
       "TOTAL PATIENTS       1.000000\n",
       "Name: TOTAL PATIENTS, dtype: float64"
      ]
     },
     "execution_count": 15,
     "metadata": {},
     "output_type": "execute_result"
    }
   ],
   "source": [
    "corr_matrix = df.corr()\n",
    "corr_matrix['TOTAL PATIENTS'].sort_values()"
   ]
  },
  {
   "cell_type": "code",
   "execution_count": 20,
   "metadata": {
    "tags": []
   },
   "outputs": [
    {
     "data": {
      "text/plain": [
       "Index(['DATE', '% WEIGHTED ILI', '%UNWEIGHTED ILI', 'AGE 0-4', 'AGE 25-49',\n",
       "       'AGE 25-64', 'AGE 5-24', 'AGE 50-64', 'AGE 65', 'ILITOTAL',\n",
       "       'NUM. OF PROVIDERS', 'TOTAL PATIENTS'],\n",
       "      dtype='object')"
      ]
     },
     "execution_count": 20,
     "metadata": {},
     "output_type": "execute_result"
    }
   ],
   "source": [
    "df.columns"
   ]
  },
  {
   "cell_type": "code",
   "execution_count": 21,
   "metadata": {
    "tags": []
   },
   "outputs": [],
   "source": [
    "col_list = ['% WEIGHTED ILI', '%UNWEIGHTED ILI', 'AGE 0-4', 'AGE 25-49',\n",
    "       'AGE 25-64', 'AGE 5-24', 'AGE 50-64', 'AGE 65', 'ILITOTAL',\n",
    "       'NUM. OF PROVIDERS', 'TOTAL PATIENTS']"
   ]
  },
  {
   "cell_type": "code",
   "execution_count": 23,
   "metadata": {
    "tags": []
   },
   "outputs": [],
   "source": [
    "#series = TimeSeries.from_dataframe(df, 'DATE', col_list)"
   ]
  },
  {
   "cell_type": "code",
   "execution_count": 59,
   "metadata": {
    "tags": []
   },
   "outputs": [],
   "source": [
    "series_filled = fill_missing_values(series)\n",
    "df_filled = series_filled.pd_dataframe()"
   ]
  },
  {
   "cell_type": "code",
   "execution_count": 25,
   "metadata": {
    "tags": []
   },
   "outputs": [
    {
     "data": {
      "text/plain": [
       "<Axes: xlabel='DATE'>"
      ]
     },
     "execution_count": 25,
     "metadata": {},
     "output_type": "execute_result"
    },
    {
     "data": {
      "image/png": "[encoded data removed]",
      "text/plain": [
       "<Figure size 640x480 with 1 Axes>"
      ]
     },
     "metadata": {},
     "output_type": "display_data"
    }
   ],
   "source": [
    "series['TOTAL PATIENTS'].plot()"
   ]
  },
  {
   "cell_type": "code",
   "execution_count": 48,
   "metadata": {
    "tags": []
   },
   "outputs": [
    {
     "data": {
      "text/plain": [
       "<Axes: xlabel='DATE'>"
      ]
     },
     "execution_count": 48,
     "metadata": {},
     "output_type": "execute_result"
    },
    {
     "data": {
      "image/png": "[encoded data removed]",
      "text/plain": [
       "<Figure size 640x480 with 1 Axes>"
      ]
     },
     "metadata": {},
     "output_type": "display_data"
    }
   ],
   "source": [
    "series['ILITOTAL'][-8:].plot()"
   ]
  },
  {
   "cell_type": "code",
   "execution_count": 66,
   "metadata": {
    "id": "j9Cr76QyvesY",
    "tags": []
   },
   "outputs": [],
   "source": [
    "num_test = 8 #weeks\n",
    "output_chunk_len = 1\n",
    "\n",
    "if output_chunk_len == num_test:\n",
    "    num_forecast_rolls = 1\n",
    "else:\n",
    "    num_forecast_rolls = int(num_test/output_chunk_len)\n"
   ]
  },
  {
   "cell_type": "code",
   "execution_count": 60,
   "metadata": {
    "id": "3J1lt0auwVZg",
    "tags": []
   },
   "outputs": [],
   "source": [
    "target_series = series_filled['ILITOTAL']\n",
    "past_covariates = series_filled[['NUM. OF PROVIDERS', 'TOTAL PATIENTS']]\n",
    "#future_cov = series_filled_selected['T (degC)']\n",
    "\n",
    "target_series_train, target_series_test = target_series[:-num_test], target_series[-num_test:]\n",
    "#past_covariates_train, past_covariates_test = past_covariates[:-num_test], past_covariates[-num_test:]\n",
    "#future_cov_train, future_cov_test = future_cov[:-num_test], future_cov[-num_test:]\n",
    "\n",
    "# lags_past_covariates=output_chunk_len, lags_future_covariates=[0,1,2,3,4,5],\n",
    "\n"
   ]
  },
  {
   "cell_type": "code",
   "execution_count": 61,
   "metadata": {
    "id": "PoLXOLaYJk0z",
    "tags": []
   },
   "outputs": [],
   "source": [
    "from darts import TimeSeries\n",
    "import numpy as np\n"
   ]
  },
  {
   "cell_type": "code",
   "execution_count": 62,
   "metadata": {
    "colab": {
     "base_uri": "https://localhost:8080/"
    },
    "id": "kzMyzL6lK766",
    "outputId": "20089ad8-422b-4926-baa4-5980bf91d408",
    "tags": []
   },
   "outputs": [
    {
     "data": {
      "text/plain": [
       "1"
      ]
     },
     "execution_count": 62,
     "metadata": {},
     "output_type": "execute_result"
    }
   ],
   "source": [
    "num_forecast_rolls"
   ]
  },
  {
   "cell_type": "code",
   "execution_count": 67,
   "metadata": {
    "colab": {
     "base_uri": "https://localhost:8080/"
    },
    "id": "szhPE0xgvs5B",
    "outputId": "cee2ed85-e425-4c0d-ebb1-f867fc5769a5",
    "tags": []
   },
   "outputs": [
    {
     "name": "stdout",
     "output_type": "stream",
     "text": [
      "curr_roll= 0\n",
      "curr_roll= 1\n",
      "curr_roll= 2\n",
      "curr_roll= 3\n",
      "curr_roll= 4\n",
      "curr_roll= 5\n",
      "curr_roll= 6\n",
      "curr_roll= 7\n"
     ]
    }
   ],
   "source": [
    "#all_preds = TimeSeries.from_values(np.array([])) # Did not work!\n",
    "all_preds = [] # TODO: this has to be replaced with a TimeSeries as opposed to a raw list\n",
    "\n",
    "for curr_roll in range(num_forecast_rolls):\n",
    "    print('curr_roll=', curr_roll)\n",
    "\n",
    "    curr_roll_model = LightGBMModel(\n",
    "    lags=output_chunk_len,\n",
    "    output_chunk_length=output_chunk_len,\n",
    "    verbose=-1,\n",
    "     n_jobs=-1\n",
    "    )\n",
    "\n",
    "    if curr_roll == 0:\n",
    "        target_series_train_for_this_roll = target_series_train\n",
    "    else:\n",
    "        try:\n",
    "\n",
    "            target_series_to_be_appended = target_series_test[\n",
    "              (curr_roll-1)*output_chunk_len:(curr_roll-1)*output_chunk_len+output_chunk_len\n",
    "              ]\n",
    "\n",
    "            # TODO: Why do i keep getting error when using append instead of append values?\n",
    "            # append would be much safer (making sure indicies are not messed up!) than current append_values.\n",
    "            target_series_train_for_this_roll = target_series_train_for_this_roll.append_values(\n",
    "              target_series_to_be_appended.values()\n",
    "              )\n",
    "        except:\n",
    "            print('curr_roll=', curr_roll)\n",
    "            print('target_series_to_be_appended', target_series_to_be_appended.time_index)\n",
    "            print('target_series_train_for_this_roll', target_series_train_for_this_roll.time_index)\n",
    "            assert(False)\n",
    "\n",
    "\n",
    "    curr_roll_model.fit(target_series_train_for_this_roll)\n",
    "    curr_roll_preds = curr_roll_model.predict(output_chunk_len)\n",
    "    all_preds.append(list(curr_roll_preds.values().flatten()))"
   ]
  },
  {
   "cell_type": "code",
   "execution_count": null,
   "metadata": {
    "id": "C7-pH2SOOH_v"
   },
   "outputs": [],
   "source": []
  },
  {
   "cell_type": "code",
   "execution_count": 68,
   "metadata": {
    "colab": {
     "base_uri": "https://localhost:8080/",
     "height": 499
    },
    "id": "f7CU0H0yvv7J",
    "outputId": "5754e41c-fe99-4670-bb93-b51708950cc9",
    "tags": []
   },
   "outputs": [
    {
     "data": {
      "text/plain": [
       "<Axes: xlabel='DATE'>"
      ]
     },
     "execution_count": 68,
     "metadata": {},
     "output_type": "execute_result"
    },
    {
     "data": {
      "image/png": "[encoded data removed]",
      "text/plain": [
       "<Figure size 640x480 with 1 Axes>"
      ]
     },
     "metadata": {},
     "output_type": "display_data"
    }
   ],
   "source": [
    "#pred.plot(label='preds')\n",
    "target_series_train.plot(label='actuals')\n",
    "target_series_test.plot(label='actuals')\n",
    "\n"
   ]
  },
  {
   "cell_type": "code",
   "execution_count": 69,
   "metadata": {
    "colab": {
     "base_uri": "https://localhost:8080/",
     "height": 447
    },
    "id": "ix7X567n5zFJ",
    "outputId": "5a8be34d-9101-4f87-d525-57d5c786f1c1",
    "tags": []
   },
   "outputs": [
    {
     "data": {
      "text/plain": [
       "<matplotlib.legend.Legend at 0x7f08f90f5d00>"
      ]
     },
     "execution_count": 69,
     "metadata": {},
     "output_type": "execute_result"
    },
    {
     "data": {
      "image/png": "[encoded data removed]",
      "text/plain": [
       "<Figure size 640x480 with 1 Axes>"
      ]
     },
     "metadata": {},
     "output_type": "display_data"
    }
   ],
   "source": [
    "import matplotlib.pyplot as plt\n",
    "plt.plot(target_series_test.values().flatten(), label='actual test values')\n",
    "plt.plot(np.array(all_preds).flatten(), label='forecasted test values')\n",
    "plt.legend()"
   ]
  },
  {
   "cell_type": "markdown",
   "metadata": {
    "id": "MRRtNotuYn3l"
   },
   "source": [
    "### RNN"
   ]
  },
  {
   "cell_type": "code",
   "execution_count": 40,
   "metadata": {
    "tags": []
   },
   "outputs": [
    {
     "data": {
      "text/plain": [
       "4320"
      ]
     },
     "execution_count": 40,
     "metadata": {},
     "output_type": "execute_result"
    }
   ],
   "source": [
    "len(target_series_train)"
   ]
  },
  {
   "cell_type": "code",
   "execution_count": 51,
   "metadata": {
    "id": "F0Ich-Ym7Jkj",
    "tags": []
   },
   "outputs": [],
   "source": [
    "from darts.models import RNNModel"
   ]
  },
  {
   "cell_type": "code",
   "execution_count": 52,
   "metadata": {
    "colab": {
     "base_uri": "https://localhost:8080/",
     "height": 54
    },
    "id": "OVwt6l1Tq2kg",
    "outputId": "0ec0f109-9da7-4a07-d603-5a8e3a365917",
    "tags": []
   },
   "outputs": [
    {
     "data": {
      "text/plain": [
       "'\\nmodel = SomeTorchForecastingModel(\\n    ...,\\n    nr_epochs_val_period=1,  # perform validation after every epoch\\n    pl_trainer_kwargs={\"callbacks\": [loss_logger]}\\n)\\n\\n# fit must include validation set for \"val_loss\"\\nmodel.fit(...)\\n'"
      ]
     },
     "execution_count": 52,
     "metadata": {},
     "output_type": "execute_result"
    }
   ],
   "source": [
    "from pytorch_lightning.callbacks import Callback\n",
    "\n",
    "class LossLogger(Callback):\n",
    "    def __init__(self):\n",
    "        self.train_loss = []\n",
    "        self.val_loss = []\n",
    "\n",
    "    # will automatically be called at the end of each epoch\n",
    "    def on_train_epoch_end(self, trainer: \"pl.Trainer\", pl_module: \"pl.LightningModule\") -> None:\n",
    "        self.train_loss.append(float(trainer.callback_metrics[\"train_loss\"]))\n",
    "\n",
    "    '''\n",
    "    def on_validation_epoch_end(self, trainer: \"pl.Trainer\", pl_module: \"pl.LightningModule\") -> None:\n",
    "        self.val_loss.append(float(trainer.callback_metrics[\"val_loss\"]))\n",
    "    '''\n",
    "\n",
    "\n",
    "loss_logger = LossLogger()\n",
    "'''\n",
    "model = SomeTorchForecastingModel(\n",
    "    ...,\n",
    "    nr_epochs_val_period=1,  # perform validation after every epoch\n",
    "    pl_trainer_kwargs={\"callbacks\": [loss_logger]}\n",
    ")\n",
    "\n",
    "# fit must include validation set for \"val_loss\"\n",
    "model.fit(...)\n",
    "'''\n"
   ]
  },
  {
   "cell_type": "code",
   "execution_count": 70,
   "metadata": {
    "id": "yTAf6B5txTXG",
    "tags": []
   },
   "outputs": [],
   "source": [
    "try:\n",
    "    del rnn_model\n",
    "    del fitted_model\n",
    "except:\n",
    "    pass"
   ]
  },
  {
   "cell_type": "code",
   "execution_count": 71,
   "metadata": {
    "colab": {
     "base_uri": "https://localhost:8080/",
     "height": 181
    },
    "id": "-I_YSeK9xU63",
    "outputId": "084c3cf0-8c33-4899-a4fe-5b3af73cdafc",
    "tags": []
   },
   "outputs": [
    {
     "ename": "NameError",
     "evalue": "name 'rnn_model' is not defined",
     "output_type": "error",
     "traceback": [
      "\u001b[0;31m---------------------------------------------------------------------------\u001b[0m",
      "\u001b[0;31mNameError\u001b[0m                                 Traceback (most recent call last)",
      "\u001b[0;32m/tmp/ipykernel_202/2217728819.py\u001b[0m in \u001b[0;36m<cell line: 1>\u001b[0;34m()\u001b[0m\n\u001b[0;32m----> 1\u001b[0;31m \u001b[0mrnn_model\u001b[0m\u001b[0;34m\u001b[0m\u001b[0;34m\u001b[0m\u001b[0m\n\u001b[0m",
      "\u001b[0;31mNameError\u001b[0m: name 'rnn_model' is not defined"
     ]
    }
   ],
   "source": [
    "rnn_model"
   ]
  },
  {
   "cell_type": "code",
   "execution_count": 72,
   "metadata": {
    "id": "qRAVOFfgX-6x",
    "tags": []
   },
   "outputs": [],
   "source": [
    "\n",
    "\n",
    "import torch\n",
    "\n",
    "rnn_model = RNNModel(\n",
    "    model=\"LSTM\",\n",
    "    dropout=0,\n",
    "    optimizer_kwargs={\"lr\": 1e-2},\n",
    "    model_name=\"RNN\",\n",
    "    log_tensorboard=True,\n",
    "    random_state=42,\n",
    "    training_length=2*output_chunk_len, #TODO\n",
    "    input_chunk_length=output_chunk_len,\n",
    "    force_reset=True,\n",
    "    save_checkpoints=False,\n",
    "    pl_trainer_kwargs={\"callbacks\": [loss_logger]},\n",
    "    lr_scheduler_cls=torch.optim.lr_scheduler.ExponentialLR,\n",
    "    lr_scheduler_kwargs={\"gamma\": 0.09}\n",
    ")\n"
   ]
  },
  {
   "cell_type": "code",
   "execution_count": 73,
   "metadata": {
    "colab": {
     "base_uri": "https://localhost:8080/",
     "height": 72
    },
    "id": "FEEGpg7EZpLz",
    "outputId": "59089a51-c564-441d-f82f-e25cc8d42c86",
    "tags": []
   },
   "outputs": [
    {
     "data": {
      "text/plain": [
       "'\\nTODO:\\nSetting training_length? Darts say: The length of both input (target and covariates)\\nand output (target) time series used during training. Generally speaking, `training_length`\\nshould have a higher value than `input_chunk_length` because otherwise during training the RNN\\nis never run for as many iterations as it will during inference.\\nFor more information on this parameter, please see `darts.utils.data.ShiftedDataset`\\n'"
      ]
     },
     "execution_count": 73,
     "metadata": {},
     "output_type": "execute_result"
    }
   ],
   "source": [
    "'''\n",
    "TODO:\n",
    "Setting training_length? Darts say: The length of both input (target and covariates)\n",
    "and output (target) time series used during training. Generally speaking, `training_length`\n",
    "should have a higher value than `input_chunk_length` because otherwise during training the RNN\n",
    "is never run for as many iterations as it will during inference.\n",
    "For more information on this parameter, please see `darts.utils.data.ShiftedDataset`\n",
    "'''"
   ]
  },
  {
   "cell_type": "code",
   "execution_count": 74,
   "metadata": {
    "tags": []
   },
   "outputs": [
    {
     "data": {
      "text/plain": [
       "<Axes: xlabel='DATE'>"
      ]
     },
     "execution_count": 74,
     "metadata": {},
     "output_type": "execute_result"
    },
    {
     "data": {
      "image/png": "[encoded data removed]",
      "text/plain": [
       "<Figure size 640x480 with 1 Axes>"
      ]
     },
     "metadata": {},
     "output_type": "display_data"
    }
   ],
   "source": [
    "target_series_train.plot()"
   ]
  },
  {
   "cell_type": "code",
   "execution_count": 75,
   "metadata": {
    "colab": {
     "base_uri": "https://localhost:8080/",
     "height": 396,
     "referenced_widgets": [
      "664bf7a05dcf4c03b9614345377a10b1",
      "ad22e50ee000426f84173fcc04c39472",
      "d2346100fc2448f18ce00fd8cd5edb0d",
      "cad060f9235e49d1a12b5d46e5659a09",
      "9b841ff7f9504572be328cae6cb50f15",
      "5880cc0670174f3ea7da1b76724082fe",
      "4d197bdeae6e4361bc3434226ba58de7",
      "b881fed6c44e4bdeb2de4281cfc437b8",
      "a148960a2fd84283970115820ef28140",
      "c991e94a52624d398e025dd561935e0d",
      "b2200b4bb20f49f782b7dfa774fb1811"
     ]
    },
    "id": "e5lnc45GanqV",
    "outputId": "e5cdeb30-74e0-4e93-a095-6f84179852c7",
    "tags": []
   },
   "outputs": [
    {
     "name": "stderr",
     "output_type": "stream",
     "text": [
      "GPU available: False, used: False\n",
      "TPU available: False, using: 0 TPU cores\n",
      "IPU available: False, using: 0 IPUs\n",
      "HPU available: False, using: 0 HPUs\n",
      "\n",
      "  | Name          | Type             | Params\n",
      "---------------------------------------------------\n",
      "0 | criterion     | MSELoss          | 0     \n",
      "1 | train_metrics | MetricCollection | 0     \n",
      "2 | val_metrics   | MetricCollection | 0     \n",
      "3 | rnn           | LSTM             | 2.8 K \n",
      "4 | V             | Linear           | 26    \n",
      "---------------------------------------------------\n",
      "2.8 K     Trainable params\n",
      "0         Non-trainable params\n",
      "2.8 K     Total params\n",
      "0.011     Total estimated model params size (MB)\n",
      "/home/studio-lab-user/.conda/envs/default/lib/python3.9/site-packages/pytorch_lightning/loops/fit_loop.py:293: The number of training batches (41) is smaller than the logging interval Trainer(log_every_n_steps=50). Set a lower value for log_every_n_steps if you want to see logs for the training epoch.\n"
     ]
    },
    {
     "data": {
      "application/vnd.jupyter.widget-view+json": {
       "model_id": "f66bc53195b6489bab3ea300b785473a",
       "version_major": 2,
       "version_minor": 0
      },
      "text/plain": [
       "Training: |          | 0/? [00:00<?, ?it/s]"
      ]
     },
     "metadata": {},
     "output_type": "display_data"
    },
    {
     "name": "stderr",
     "output_type": "stream",
     "text": [
      "`Trainer.fit` stopped: `max_epochs=100` reached.\n"
     ]
    },
    {
     "name": "stdout",
     "output_type": "stream",
     "text": [
      "CPU times: user 1min 35s, sys: 4.62 s, total: 1min 39s\n",
      "Wall time: 1min 56s\n"
     ]
    }
   ],
   "source": [
    "%%time\n",
    "fitted_model = rnn_model.fit(target_series_train)"
   ]
  },
  {
   "cell_type": "code",
   "execution_count": 76,
   "metadata": {
    "colab": {
     "base_uri": "https://localhost:8080/"
    },
    "id": "qTkhXrpvrnNT",
    "outputId": "ed984289-b137-40aa-e9e8-a7d4c9c0ad80",
    "tags": []
   },
   "outputs": [
    {
     "data": {
      "text/plain": [
       "RNNModel(model=LSTM, hidden_dim=25, n_rnn_layers=1, dropout=0, training_length=2, optimizer_kwargs={'lr': 0.01}, model_name=RNN, log_tensorboard=True, random_state=42, input_chunk_length=1, force_reset=True, save_checkpoints=False, pl_trainer_kwargs={'callbacks': [<__main__.LossLogger object at 0x7f08f91e0340>]}, lr_scheduler_cls=<class 'torch.optim.lr_scheduler.ExponentialLR'>, lr_scheduler_kwargs={'gamma': 0.09})"
      ]
     },
     "execution_count": 76,
     "metadata": {},
     "output_type": "execute_result"
    }
   ],
   "source": [
    "fitted_model"
   ]
  },
  {
   "cell_type": "code",
   "execution_count": 77,
   "metadata": {
    "colab": {
     "base_uri": "https://localhost:8080/",
     "height": 451
    },
    "id": "8zl1QagdsTii",
    "outputId": "0613e8e1-9d97-44f9-ae21-af1be608240a",
    "tags": []
   },
   "outputs": [
    {
     "data": {
      "text/plain": [
       "[<matplotlib.lines.Line2D at 0x7f08f8579520>]"
      ]
     },
     "execution_count": 77,
     "metadata": {},
     "output_type": "execute_result"
    },
    {
     "data": {
      "image/png": "[encoded data removed]",
      "text/plain": [
       "<Figure size 640x480 with 1 Axes>"
      ]
     },
     "metadata": {},
     "output_type": "display_data"
    }
   ],
   "source": [
    "plt.plot(loss_logger.train_loss[:])"
   ]
  },
  {
   "cell_type": "code",
   "execution_count": 78,
   "metadata": {
    "colab": {
     "base_uri": "https://localhost:8080/",
     "height": 140,
     "referenced_widgets": [
      "67f7fbe99f6d4771b5eea880a8e6580d",
      "fb73ac75cfed4aa2aaa3ed72e85188dd",
      "b905a5cdf9e046d0be99ea8c30a5a226",
      "eaf33542b5404e1794bc2aa73b26b462",
      "bd1434e539064ce9a728815eab2b9373",
      "431ba1c8060847a6b0167d79e233496c",
      "fe96c653bba54bd59d3a9a5f18f0f506",
      "94609869f4e8445fad097f886ddc9b2c",
      "606645febbbd45aa9d53bbdbf7843931",
      "fc416fff0d0d4308a2599d5897a83849",
      "0a091e0503a043b3851c74cc7790c57f"
     ]
    },
    "id": "oAVH58UEYd85",
    "outputId": "2b4d17b1-b97e-4651-98c5-8aac9052311e",
    "tags": []
   },
   "outputs": [
    {
     "name": "stderr",
     "output_type": "stream",
     "text": [
      "GPU available: False, used: False\n",
      "TPU available: False, using: 0 TPU cores\n",
      "IPU available: False, using: 0 IPUs\n",
      "HPU available: False, using: 0 HPUs\n"
     ]
    },
    {
     "data": {
      "application/vnd.jupyter.widget-view+json": {
       "model_id": "3db30df3db2e4d26b02e9bb5d5202ca9",
       "version_major": 2,
       "version_minor": 0
      },
      "text/plain": [
       "Predicting: |          | 0/? [00:00<?, ?it/s]"
      ]
     },
     "metadata": {},
     "output_type": "display_data"
    }
   ],
   "source": [
    "rnn_preds = rnn_model.predict(num_test)"
   ]
  },
  {
   "cell_type": "code",
   "execution_count": 81,
   "metadata": {
    "colab": {
     "base_uri": "https://localhost:8080/",
     "height": 505
    },
    "id": "uqgoetb7d3wk",
    "outputId": "7366b428-f84a-4187-e064-78328ec43537",
    "tags": []
   },
   "outputs": [
    {
     "data": {
      "text/plain": [
       "<Axes: xlabel='DATE'>"
      ]
     },
     "execution_count": 81,
     "metadata": {},
     "output_type": "execute_result"
    },
    {
     "data": {
      "image/png": "[encoded data removed]",
      "text/plain": [
       "<Figure size 640x480 with 1 Axes>"
      ]
     },
     "metadata": {},
     "output_type": "display_data"
    }
   ],
   "source": [
    "rnn_preds.plot()\n",
    "target_series_test.plot(label='actuals_test')"
   ]
  },
  {
   "cell_type": "code",
   "execution_count": 82,
   "metadata": {
    "tags": []
   },
   "outputs": [
    {
     "data": {
      "text/plain": [
       "<Axes: xlabel='DATE'>"
      ]
     },
     "execution_count": 82,
     "metadata": {},
     "output_type": "execute_result"
    },
    {
     "data": {
      "image/png": "[encoded data removed]",
      "text/plain": [
       "<Figure size 640x480 with 1 Axes>"
      ]
     },
     "metadata": {},
     "output_type": "display_data"
    }
   ],
   "source": [
    "rnn_preds.plot()"
   ]
  },
  {
   "cell_type": "code",
   "execution_count": 80,
   "metadata": {
    "colab": {
     "base_uri": "https://localhost:8080/",
     "height": 499
    },
    "id": "cVDUmihvcE4E",
    "outputId": "069ce0d5-3ce9-410c-b7bc-138220a88125",
    "tags": []
   },
   "outputs": [
    {
     "data": {
      "text/plain": [
       "<Axes: xlabel='DATE'>"
      ]
     },
     "execution_count": 80,
     "metadata": {},
     "output_type": "execute_result"
    },
    {
     "data": {
      "image/png": "[encoded data removed]",
      "text/plain": [
       "<Figure size 640x480 with 1 Axes>"
      ]
     },
     "metadata": {},
     "output_type": "display_data"
    }
   ],
   "source": [
    "rnn_preds.plot(label='RNN')\n",
    "target_series_train.plot(label='actuals_train')\n",
    "target_series_test.plot(label='actuals_test')\n"
   ]
  },
  {
   "cell_type": "code",
   "execution_count": null,
   "metadata": {},
   "outputs": [],
   "source": []
  },
  {
   "cell_type": "code",
   "execution_count": 84,
   "metadata": {
    "id": "1E7XDTl-clBN"
   },
   "outputs": [],
   "source": [
    "rnn_model2 = RNNModel(\n",
    "    model=\"LSTM\",\n",
    "    dropout=0,\n",
    "    model_name=\"RNN\",\n",
    "    log_tensorboard=True,\n",
    "    random_state=42,\n",
    "    training_length=2*output_chunk_len, #TODO\n",
    "    input_chunk_length=output_chunk_len,\n",
    "    force_reset=True,\n",
    "    save_checkpoints=False,\n",
    "    pl_trainer_kwargs={\"callbacks\": [loss_logger]},\n",
    ")\n"
   ]
  },
  {
   "cell_type": "code",
   "execution_count": 85,
   "metadata": {
    "tags": []
   },
   "outputs": [
    {
     "name": "stderr",
     "output_type": "stream",
     "text": [
      "GPU available: False, used: False\n",
      "TPU available: False, using: 0 TPU cores\n",
      "IPU available: False, using: 0 IPUs\n",
      "HPU available: False, using: 0 HPUs\n",
      "\n",
      "  | Name          | Type             | Params\n",
      "---------------------------------------------------\n",
      "0 | criterion     | MSELoss          | 0     \n",
      "1 | train_metrics | MetricCollection | 0     \n",
      "2 | val_metrics   | MetricCollection | 0     \n",
      "3 | rnn           | LSTM             | 2.8 K \n",
      "4 | V             | Linear           | 26    \n",
      "---------------------------------------------------\n",
      "2.8 K     Trainable params\n",
      "0         Non-trainable params\n",
      "2.8 K     Total params\n",
      "0.011     Total estimated model params size (MB)\n",
      "/home/studio-lab-user/.conda/envs/default/lib/python3.9/site-packages/pytorch_lightning/loops/fit_loop.py:293: The number of training batches (41) is smaller than the logging interval Trainer(log_every_n_steps=50). Set a lower value for log_every_n_steps if you want to see logs for the training epoch.\n"
     ]
    },
    {
     "data": {
      "application/vnd.jupyter.widget-view+json": {
       "model_id": "9cd9f547a36a4524afa09863fe2e817c",
       "version_major": 2,
       "version_minor": 0
      },
      "text/plain": [
       "Training: |          | 0/? [00:00<?, ?it/s]"
      ]
     },
     "metadata": {},
     "output_type": "display_data"
    },
    {
     "name": "stderr",
     "output_type": "stream",
     "text": [
      "`Trainer.fit` stopped: `max_epochs=100` reached.\n"
     ]
    },
    {
     "name": "stdout",
     "output_type": "stream",
     "text": [
      "CPU times: user 1min 33s, sys: 4.81 s, total: 1min 38s\n",
      "Wall time: 1min 57s\n"
     ]
    }
   ],
   "source": [
    "%%time\n",
    "fitted_model = rnn_model2.fit(target_series_train)"
   ]
  },
  {
   "cell_type": "code",
   "execution_count": 87,
   "metadata": {
    "tags": []
   },
   "outputs": [
    {
     "name": "stderr",
     "output_type": "stream",
     "text": [
      "GPU available: False, used: False\n",
      "TPU available: False, using: 0 TPU cores\n",
      "IPU available: False, using: 0 IPUs\n",
      "HPU available: False, using: 0 HPUs\n"
     ]
    },
    {
     "data": {
      "application/vnd.jupyter.widget-view+json": {
       "model_id": "f735fb79bed946b9b58564ba240e36e2",
       "version_major": 2,
       "version_minor": 0
      },
      "text/plain": [
       "Predicting: |          | 0/? [00:00<?, ?it/s]"
      ]
     },
     "metadata": {},
     "output_type": "display_data"
    }
   ],
   "source": [
    "rnn_preds2 = rnn_model2.predict(num_test)"
   ]
  },
  {
   "cell_type": "code",
   "execution_count": 88,
   "metadata": {
    "tags": []
   },
   "outputs": [
    {
     "data": {
      "text/plain": [
       "<Axes: xlabel='DATE'>"
      ]
     },
     "execution_count": 88,
     "metadata": {},
     "output_type": "execute_result"
    },
    {
     "data": {
      "image/png": "[encoded data removed]",
      "text/plain": [
       "<Figure size 640x480 with 1 Axes>"
      ]
     },
     "metadata": {},
     "output_type": "display_data"
    }
   ],
   "source": [
    "rnn_preds2.plot()\n",
    "target_series_test.plot(label='actuals_test')"
   ]
  },
  {
   "cell_type": "code",
   "execution_count": 89,
   "metadata": {
    "tags": []
   },
   "outputs": [
    {
     "data": {
      "text/plain": [
       "<Axes: xlabel='DATE'>"
      ]
     },
     "execution_count": 89,
     "metadata": {},
     "output_type": "execute_result"
    },
    {
     "data": {
      "image/png": "[encoded data removed]",
      "text/plain": [
       "<Figure size 640x480 with 1 Axes>"
      ]
     },
     "metadata": {},
     "output_type": "display_data"
    }
   ],
   "source": [
    "rnn_preds2.plot()"
   ]
  },
  {
   "cell_type": "code",
   "execution_count": 91,
   "metadata": {
    "tags": []
   },
   "outputs": [],
   "source": [
    "from darts.models import BlockRNNModel"
   ]
  },
  {
   "cell_type": "code",
   "execution_count": 93,
   "metadata": {
    "tags": []
   },
   "outputs": [],
   "source": [
    "model_name = \"BlockRNN_test\"\n",
    "model_pastcov = BlockRNNModel(\n",
    "    model=\"LSTM\",\n",
    "    input_chunk_length=24,\n",
    "    output_chunk_length=12,\n",
    "    n_epochs=100,\n",
    "    random_state=0,\n",
    "    model_name=model_name,\n",
    "    save_checkpoints=True,  # store model states: latest and best performing of validation set\n",
    "    force_reset=True,\n",
    ")"
   ]
  },
  {
   "cell_type": "code",
   "execution_count": 94,
   "metadata": {
    "tags": []
   },
   "outputs": [
    {
     "name": "stderr",
     "output_type": "stream",
     "text": [
      "GPU available: False, used: False\n",
      "TPU available: False, using: 0 TPU cores\n",
      "IPU available: False, using: 0 IPUs\n",
      "HPU available: False, using: 0 HPUs\n",
      "\n",
      "  | Name          | Type             | Params\n",
      "---------------------------------------------------\n",
      "0 | criterion     | MSELoss          | 0     \n",
      "1 | train_metrics | MetricCollection | 0     \n",
      "2 | val_metrics   | MetricCollection | 0     \n",
      "3 | rnn           | LSTM             | 2.8 K \n",
      "4 | fc            | Sequential       | 312   \n",
      "---------------------------------------------------\n",
      "3.1 K     Trainable params\n",
      "0         Non-trainable params\n",
      "3.1 K     Total params\n",
      "0.012     Total estimated model params size (MB)\n"
     ]
    },
    {
     "data": {
      "application/vnd.jupyter.widget-view+json": {
       "model_id": "70b62c9619db4054a8085fc704c275b2",
       "version_major": 2,
       "version_minor": 0
      },
      "text/plain": [
       "Training: |          | 0/? [00:00<?, ?it/s]"
      ]
     },
     "metadata": {},
     "output_type": "display_data"
    },
    {
     "name": "stderr",
     "output_type": "stream",
     "text": [
      "/home/studio-lab-user/.conda/envs/default/lib/python3.9/site-packages/pytorch_lightning/callbacks/model_checkpoint.py:369: `ModelCheckpoint(monitor='val_loss')` could not find the monitored key in the returned metrics: ['train_loss', 'epoch', 'step']. HINT: Did you call `log('val_loss', value)` in the `LightningModule`?\n",
      "`Trainer.fit` stopped: `max_epochs=100` reached.\n"
     ]
    },
    {
     "name": "stdout",
     "output_type": "stream",
     "text": [
      "CPU times: user 3min 6s, sys: 10.4 s, total: 3min 16s\n",
      "Wall time: 3min 17s\n"
     ]
    }
   ],
   "source": [
    "%%time\n",
    "f = model_pastcov.fit(target_series_train)"
   ]
  },
  {
   "cell_type": "code",
   "execution_count": 95,
   "metadata": {
    "tags": []
   },
   "outputs": [
    {
     "name": "stderr",
     "output_type": "stream",
     "text": [
      "GPU available: False, used: False\n",
      "TPU available: False, using: 0 TPU cores\n",
      "IPU available: False, using: 0 IPUs\n",
      "HPU available: False, using: 0 HPUs\n"
     ]
    },
    {
     "data": {
      "application/vnd.jupyter.widget-view+json": {
       "model_id": "d6cfff7da17e480a90f8b0c1a88ca155",
       "version_major": 2,
       "version_minor": 0
      },
      "text/plain": [
       "Predicting: |          | 0/? [00:00<?, ?it/s]"
      ]
     },
     "metadata": {},
     "output_type": "display_data"
    }
   ],
   "source": [
    "rnn_preds3 = model_pastcov.predict(num_test)"
   ]
  },
  {
   "cell_type": "code",
   "execution_count": 96,
   "metadata": {
    "tags": []
   },
   "outputs": [
    {
     "data": {
      "text/plain": [
       "<Axes: xlabel='DATE'>"
      ]
     },
     "execution_count": 96,
     "metadata": {},
     "output_type": "execute_result"
    },
    {
     "data": {
      "image/png": "[encoded data removed]",
      "text/plain": [
       "<Figure size 640x480 with 1 Axes>"
      ]
     },
     "metadata": {},
     "output_type": "display_data"
    }
   ],
   "source": [
    "rnn_preds3.plot()\n",
    "target_series_test.plot(label='actuals_test')"
   ]
  },
  {
   "cell_type": "code",
   "execution_count": null,
   "metadata": {},
   "outputs": [],
   "source": []
  }
 ],
 "metadata": {
  "accelerator": "GPU",
  "colab": {
   "gpuType": "T4",
   "provenance": []
  },
  "kernelspec": {
   "display_name": "default:Python",
   "language": "python",
   "name": "conda-env-default-py"
  },
  "language_info": {
   "codemirror_mode": {
    "name": "ipython",
    "version": 3
   },
   "file_extension": ".py",
   "mimetype": "text/x-python",
   "name": "python",
   "nbconvert_exporter": "python",
   "pygments_lexer": "ipython3",
   "version": "3.9.16"
  },
  "widgets": {
   "application/vnd.jupyter.widget-state+json": {
    "0a091e0503a043b3851c74cc7790c57f": {
     "model_module": "@jupyter-widgets/controls",
     "model_module_version": "1.5.0",
     "model_name": "DescriptionStyleModel",
     "state": {
      "_model_module": "@jupyter-widgets/controls",
      "_model_module_version": "1.5.0",
      "_model_name": "DescriptionStyleModel",
      "_view_count": null,
      "_view_module": "@jupyter-widgets/base",
      "_view_module_version": "1.2.0",
      "_view_name": "StyleView",
      "description_width": ""
     }
    },
    "431ba1c8060847a6b0167d79e233496c": {
     "model_module": "@jupyter-widgets/base",
     "model_module_version": "1.2.0",
     "model_name": "LayoutModel",
     "state": {
      "_model_module": "@jupyter-widgets/base",
      "_model_module_version": "1.2.0",
      "_model_name": "LayoutModel",
      "_view_count": null,
      "_view_module": "@jupyter-widgets/base",
      "_view_module_version": "1.2.0",
      "_view_name": "LayoutView",
      "align_content": null,
      "align_items": null,
      "align_self": null,
      "border": null,
      "bottom": null,
      "display": null,
      "flex": null,
      "flex_flow": null,
      "grid_area": null,
      "grid_auto_columns": null,
      "grid_auto_flow": null,
      "grid_auto_rows": null,
      "grid_column": null,
      "grid_gap": null,
      "grid_row": null,
      "grid_template_areas": null,
      "grid_template_columns": null,
      "grid_template_rows": null,
      "height": null,
      "justify_content": null,
      "justify_items": null,
      "left": null,
      "margin": null,
      "max_height": null,
      "max_width": null,
      "min_height": null,
      "min_width": null,
      "object_fit": null,
      "object_position": null,
      "order": null,
      "overflow": null,
      "overflow_x": null,
      "overflow_y": null,
      "padding": null,
      "right": null,
      "top": null,
      "visibility": null,
      "width": null
     }
    },
    "4d197bdeae6e4361bc3434226ba58de7": {
     "model_module": "@jupyter-widgets/controls",
     "model_module_version": "1.5.0",
     "model_name": "DescriptionStyleModel",
     "state": {
      "_model_module": "@jupyter-widgets/controls",
      "_model_module_version": "1.5.0",
      "_model_name": "DescriptionStyleModel",
      "_view_count": null,
      "_view_module": "@jupyter-widgets/base",
      "_view_module_version": "1.2.0",
      "_view_name": "StyleView",
      "description_width": ""
     }
    },
    "5880cc0670174f3ea7da1b76724082fe": {
     "model_module": "@jupyter-widgets/base",
     "model_module_version": "1.2.0",
     "model_name": "LayoutModel",
     "state": {
      "_model_module": "@jupyter-widgets/base",
      "_model_module_version": "1.2.0",
      "_model_name": "LayoutModel",
      "_view_count": null,
      "_view_module": "@jupyter-widgets/base",
      "_view_module_version": "1.2.0",
      "_view_name": "LayoutView",
      "align_content": null,
      "align_items": null,
      "align_self": null,
      "border": null,
      "bottom": null,
      "display": null,
      "flex": null,
      "flex_flow": null,
      "grid_area": null,
      "grid_auto_columns": null,
      "grid_auto_flow": null,
      "grid_auto_rows": null,
      "grid_column": null,
      "grid_gap": null,
      "grid_row": null,
      "grid_template_areas": null,
      "grid_template_columns": null,
      "grid_template_rows": null,
      "height": null,
      "justify_content": null,
      "justify_items": null,
      "left": null,
      "margin": null,
      "max_height": null,
      "max_width": null,
      "min_height": null,
      "min_width": null,
      "object_fit": null,
      "object_position": null,
      "order": null,
      "overflow": null,
      "overflow_x": null,
      "overflow_y": null,
      "padding": null,
      "right": null,
      "top": null,
      "visibility": null,
      "width": null
     }
    },
    "606645febbbd45aa9d53bbdbf7843931": {
     "model_module": "@jupyter-widgets/controls",
     "model_module_version": "1.5.0",
     "model_name": "ProgressStyleModel",
     "state": {
      "_model_module": "@jupyter-widgets/controls",
      "_model_module_version": "1.5.0",
      "_model_name": "ProgressStyleModel",
      "_view_count": null,
      "_view_module": "@jupyter-widgets/base",
      "_view_module_version": "1.2.0",
      "_view_name": "StyleView",
      "bar_color": null,
      "description_width": ""
     }
    },
    "664bf7a05dcf4c03b9614345377a10b1": {
     "model_module": "@jupyter-widgets/controls",
     "model_module_version": "1.5.0",
     "model_name": "HBoxModel",
     "state": {
      "_dom_classes": [],
      "_model_module": "@jupyter-widgets/controls",
      "_model_module_version": "1.5.0",
      "_model_name": "HBoxModel",
      "_view_count": null,
      "_view_module": "@jupyter-widgets/controls",
      "_view_module_version": "1.5.0",
      "_view_name": "HBoxView",
      "box_style": "",
      "children": [
       "IPY_MODEL_ad22e50ee000426f84173fcc04c39472",
       "IPY_MODEL_d2346100fc2448f18ce00fd8cd5edb0d",
       "IPY_MODEL_cad060f9235e49d1a12b5d46e5659a09"
      ],
      "layout": "IPY_MODEL_9b841ff7f9504572be328cae6cb50f15"
     }
    },
    "67f7fbe99f6d4771b5eea880a8e6580d": {
     "model_module": "@jupyter-widgets/controls",
     "model_module_version": "1.5.0",
     "model_name": "HBoxModel",
     "state": {
      "_dom_classes": [],
      "_model_module": "@jupyter-widgets/controls",
      "_model_module_version": "1.5.0",
      "_model_name": "HBoxModel",
      "_view_count": null,
      "_view_module": "@jupyter-widgets/controls",
      "_view_module_version": "1.5.0",
      "_view_name": "HBoxView",
      "box_style": "",
      "children": [
       "IPY_MODEL_fb73ac75cfed4aa2aaa3ed72e85188dd",
       "IPY_MODEL_b905a5cdf9e046d0be99ea8c30a5a226",
       "IPY_MODEL_eaf33542b5404e1794bc2aa73b26b462"
      ],
      "layout": "IPY_MODEL_bd1434e539064ce9a728815eab2b9373"
     }
    },
    "94609869f4e8445fad097f886ddc9b2c": {
     "model_module": "@jupyter-widgets/base",
     "model_module_version": "1.2.0",
     "model_name": "LayoutModel",
     "state": {
      "_model_module": "@jupyter-widgets/base",
      "_model_module_version": "1.2.0",
      "_model_name": "LayoutModel",
      "_view_count": null,
      "_view_module": "@jupyter-widgets/base",
      "_view_module_version": "1.2.0",
      "_view_name": "LayoutView",
      "align_content": null,
      "align_items": null,
      "align_self": null,
      "border": null,
      "bottom": null,
      "display": null,
      "flex": "2",
      "flex_flow": null,
      "grid_area": null,
      "grid_auto_columns": null,
      "grid_auto_flow": null,
      "grid_auto_rows": null,
      "grid_column": null,
      "grid_gap": null,
      "grid_row": null,
      "grid_template_areas": null,
      "grid_template_columns": null,
      "grid_template_rows": null,
      "height": null,
      "justify_content": null,
      "justify_items": null,
      "left": null,
      "margin": null,
      "max_height": null,
      "max_width": null,
      "min_height": null,
      "min_width": null,
      "object_fit": null,
      "object_position": null,
      "order": null,
      "overflow": null,
      "overflow_x": null,
      "overflow_y": null,
      "padding": null,
      "right": null,
      "top": null,
      "visibility": null,
      "width": null
     }
    },
    "9b841ff7f9504572be328cae6cb50f15": {
     "model_module": "@jupyter-widgets/base",
     "model_module_version": "1.2.0",
     "model_name": "LayoutModel",
     "state": {
      "_model_module": "@jupyter-widgets/base",
      "_model_module_version": "1.2.0",
      "_model_name": "LayoutModel",
      "_view_count": null,
      "_view_module": "@jupyter-widgets/base",
      "_view_module_version": "1.2.0",
      "_view_name": "LayoutView",
      "align_content": null,
      "align_items": null,
      "align_self": null,
      "border": null,
      "bottom": null,
      "display": "inline-flex",
      "flex": null,
      "flex_flow": "row wrap",
      "grid_area": null,
      "grid_auto_columns": null,
      "grid_auto_flow": null,
      "grid_auto_rows": null,
      "grid_column": null,
      "grid_gap": null,
      "grid_row": null,
      "grid_template_areas": null,
      "grid_template_columns": null,
      "grid_template_rows": null,
      "height": null,
      "justify_content": null,
      "justify_items": null,
      "left": null,
      "margin": null,
      "max_height": null,
      "max_width": null,
      "min_height": null,
      "min_width": null,
      "object_fit": null,
      "object_position": null,
      "order": null,
      "overflow": null,
      "overflow_x": null,
      "overflow_y": null,
      "padding": null,
      "right": null,
      "top": null,
      "visibility": null,
      "width": "100%"
     }
    },
    "a148960a2fd84283970115820ef28140": {
     "model_module": "@jupyter-widgets/controls",
     "model_module_version": "1.5.0",
     "model_name": "ProgressStyleModel",
     "state": {
      "_model_module": "@jupyter-widgets/controls",
      "_model_module_version": "1.5.0",
      "_model_name": "ProgressStyleModel",
      "_view_count": null,
      "_view_module": "@jupyter-widgets/base",
      "_view_module_version": "1.2.0",
      "_view_name": "StyleView",
      "bar_color": null,
      "description_width": ""
     }
    },
    "ad22e50ee000426f84173fcc04c39472": {
     "model_module": "@jupyter-widgets/controls",
     "model_module_version": "1.5.0",
     "model_name": "HTMLModel",
     "state": {
      "_dom_classes": [],
      "_model_module": "@jupyter-widgets/controls",
      "_model_module_version": "1.5.0",
      "_model_name": "HTMLModel",
      "_view_count": null,
      "_view_module": "@jupyter-widgets/controls",
      "_view_module_version": "1.5.0",
      "_view_name": "HTMLView",
      "description": "",
      "description_tooltip": null,
      "layout": "IPY_MODEL_5880cc0670174f3ea7da1b76724082fe",
      "placeholder": "​",
      "style": "IPY_MODEL_4d197bdeae6e4361bc3434226ba58de7",
      "value": "Epoch 199: 100%"
     }
    },
    "b2200b4bb20f49f782b7dfa774fb1811": {
     "model_module": "@jupyter-widgets/controls",
     "model_module_version": "1.5.0",
     "model_name": "DescriptionStyleModel",
     "state": {
      "_model_module": "@jupyter-widgets/controls",
      "_model_module_version": "1.5.0",
      "_model_name": "DescriptionStyleModel",
      "_view_count": null,
      "_view_module": "@jupyter-widgets/base",
      "_view_module_version": "1.2.0",
      "_view_name": "StyleView",
      "description_width": ""
     }
    },
    "b881fed6c44e4bdeb2de4281cfc437b8": {
     "model_module": "@jupyter-widgets/base",
     "model_module_version": "1.2.0",
     "model_name": "LayoutModel",
     "state": {
      "_model_module": "@jupyter-widgets/base",
      "_model_module_version": "1.2.0",
      "_model_name": "LayoutModel",
      "_view_count": null,
      "_view_module": "@jupyter-widgets/base",
      "_view_module_version": "1.2.0",
      "_view_name": "LayoutView",
      "align_content": null,
      "align_items": null,
      "align_self": null,
      "border": null,
      "bottom": null,
      "display": null,
      "flex": "2",
      "flex_flow": null,
      "grid_area": null,
      "grid_auto_columns": null,
      "grid_auto_flow": null,
      "grid_auto_rows": null,
      "grid_column": null,
      "grid_gap": null,
      "grid_row": null,
      "grid_template_areas": null,
      "grid_template_columns": null,
      "grid_template_rows": null,
      "height": null,
      "justify_content": null,
      "justify_items": null,
      "left": null,
      "margin": null,
      "max_height": null,
      "max_width": null,
      "min_height": null,
      "min_width": null,
      "object_fit": null,
      "object_position": null,
      "order": null,
      "overflow": null,
      "overflow_x": null,
      "overflow_y": null,
      "padding": null,
      "right": null,
      "top": null,
      "visibility": null,
      "width": null
     }
    },
    "b905a5cdf9e046d0be99ea8c30a5a226": {
     "model_module": "@jupyter-widgets/controls",
     "model_module_version": "1.5.0",
     "model_name": "FloatProgressModel",
     "state": {
      "_dom_classes": [],
      "_model_module": "@jupyter-widgets/controls",
      "_model_module_version": "1.5.0",
      "_model_name": "FloatProgressModel",
      "_view_count": null,
      "_view_module": "@jupyter-widgets/controls",
      "_view_module_version": "1.5.0",
      "_view_name": "ProgressView",
      "bar_style": "success",
      "description": "",
      "description_tooltip": null,
      "layout": "IPY_MODEL_94609869f4e8445fad097f886ddc9b2c",
      "max": 1,
      "min": 0,
      "orientation": "horizontal",
      "style": "IPY_MODEL_606645febbbd45aa9d53bbdbf7843931",
      "value": 1
     }
    },
    "bd1434e539064ce9a728815eab2b9373": {
     "model_module": "@jupyter-widgets/base",
     "model_module_version": "1.2.0",
     "model_name": "LayoutModel",
     "state": {
      "_model_module": "@jupyter-widgets/base",
      "_model_module_version": "1.2.0",
      "_model_name": "LayoutModel",
      "_view_count": null,
      "_view_module": "@jupyter-widgets/base",
      "_view_module_version": "1.2.0",
      "_view_name": "LayoutView",
      "align_content": null,
      "align_items": null,
      "align_self": null,
      "border": null,
      "bottom": null,
      "display": "inline-flex",
      "flex": null,
      "flex_flow": "row wrap",
      "grid_area": null,
      "grid_auto_columns": null,
      "grid_auto_flow": null,
      "grid_auto_rows": null,
      "grid_column": null,
      "grid_gap": null,
      "grid_row": null,
      "grid_template_areas": null,
      "grid_template_columns": null,
      "grid_template_rows": null,
      "height": null,
      "justify_content": null,
      "justify_items": null,
      "left": null,
      "margin": null,
      "max_height": null,
      "max_width": null,
      "min_height": null,
      "min_width": null,
      "object_fit": null,
      "object_position": null,
      "order": null,
      "overflow": null,
      "overflow_x": null,
      "overflow_y": null,
      "padding": null,
      "right": null,
      "top": null,
      "visibility": null,
      "width": "100%"
     }
    },
    "c991e94a52624d398e025dd561935e0d": {
     "model_module": "@jupyter-widgets/base",
     "model_module_version": "1.2.0",
     "model_name": "LayoutModel",
     "state": {
      "_model_module": "@jupyter-widgets/base",
      "_model_module_version": "1.2.0",
      "_model_name": "LayoutModel",
      "_view_count": null,
      "_view_module": "@jupyter-widgets/base",
      "_view_module_version": "1.2.0",
      "_view_name": "LayoutView",
      "align_content": null,
      "align_items": null,
      "align_self": null,
      "border": null,
      "bottom": null,
      "display": null,
      "flex": null,
      "flex_flow": null,
      "grid_area": null,
      "grid_auto_columns": null,
      "grid_auto_flow": null,
      "grid_auto_rows": null,
      "grid_column": null,
      "grid_gap": null,
      "grid_row": null,
      "grid_template_areas": null,
      "grid_template_columns": null,
      "grid_template_rows": null,
      "height": null,
      "justify_content": null,
      "justify_items": null,
      "left": null,
      "margin": null,
      "max_height": null,
      "max_width": null,
      "min_height": null,
      "min_width": null,
      "object_fit": null,
      "object_position": null,
      "order": null,
      "overflow": null,
      "overflow_x": null,
      "overflow_y": null,
      "padding": null,
      "right": null,
      "top": null,
      "visibility": null,
      "width": null
     }
    },
    "cad060f9235e49d1a12b5d46e5659a09": {
     "model_module": "@jupyter-widgets/controls",
     "model_module_version": "1.5.0",
     "model_name": "HTMLModel",
     "state": {
      "_dom_classes": [],
      "_model_module": "@jupyter-widgets/controls",
      "_model_module_version": "1.5.0",
      "_model_name": "HTMLModel",
      "_view_count": null,
      "_view_module": "@jupyter-widgets/controls",
      "_view_module_version": "1.5.0",
      "_view_name": "HTMLView",
      "description": "",
      "description_tooltip": null,
      "layout": "IPY_MODEL_c991e94a52624d398e025dd561935e0d",
      "placeholder": "​",
      "style": "IPY_MODEL_b2200b4bb20f49f782b7dfa774fb1811",
      "value": " 68/68 [00:01&lt;00:00, 49.73it/s, v_num=logs, train_loss=9.55e+5]"
     }
    },
    "d2346100fc2448f18ce00fd8cd5edb0d": {
     "model_module": "@jupyter-widgets/controls",
     "model_module_version": "1.5.0",
     "model_name": "FloatProgressModel",
     "state": {
      "_dom_classes": [],
      "_model_module": "@jupyter-widgets/controls",
      "_model_module_version": "1.5.0",
      "_model_name": "FloatProgressModel",
      "_view_count": null,
      "_view_module": "@jupyter-widgets/controls",
      "_view_module_version": "1.5.0",
      "_view_name": "ProgressView",
      "bar_style": "success",
      "description": "",
      "description_tooltip": null,
      "layout": "IPY_MODEL_b881fed6c44e4bdeb2de4281cfc437b8",
      "max": 68,
      "min": 0,
      "orientation": "horizontal",
      "style": "IPY_MODEL_a148960a2fd84283970115820ef28140",
      "value": 68
     }
    },
    "eaf33542b5404e1794bc2aa73b26b462": {
     "model_module": "@jupyter-widgets/controls",
     "model_module_version": "1.5.0",
     "model_name": "HTMLModel",
     "state": {
      "_dom_classes": [],
      "_model_module": "@jupyter-widgets/controls",
      "_model_module_version": "1.5.0",
      "_model_name": "HTMLModel",
      "_view_count": null,
      "_view_module": "@jupyter-widgets/controls",
      "_view_module_version": "1.5.0",
      "_view_name": "HTMLView",
      "description": "",
      "description_tooltip": null,
      "layout": "IPY_MODEL_fc416fff0d0d4308a2599d5897a83849",
      "placeholder": "​",
      "style": "IPY_MODEL_0a091e0503a043b3851c74cc7790c57f",
      "value": " 1/1 [00:00&lt;00:00, 12.49it/s]"
     }
    },
    "fb73ac75cfed4aa2aaa3ed72e85188dd": {
     "model_module": "@jupyter-widgets/controls",
     "model_module_version": "1.5.0",
     "model_name": "HTMLModel",
     "state": {
      "_dom_classes": [],
      "_model_module": "@jupyter-widgets/controls",
      "_model_module_version": "1.5.0",
      "_model_name": "HTMLModel",
      "_view_count": null,
      "_view_module": "@jupyter-widgets/controls",
      "_view_module_version": "1.5.0",
      "_view_name": "HTMLView",
      "description": "",
      "description_tooltip": null,
      "layout": "IPY_MODEL_431ba1c8060847a6b0167d79e233496c",
      "placeholder": "​",
      "style": "IPY_MODEL_fe96c653bba54bd59d3a9a5f18f0f506",
      "value": "Predicting DataLoader 0: 100%"
     }
    },
    "fc416fff0d0d4308a2599d5897a83849": {
     "model_module": "@jupyter-widgets/base",
     "model_module_version": "1.2.0",
     "model_name": "LayoutModel",
     "state": {
      "_model_module": "@jupyter-widgets/base",
      "_model_module_version": "1.2.0",
      "_model_name": "LayoutModel",
      "_view_count": null,
      "_view_module": "@jupyter-widgets/base",
      "_view_module_version": "1.2.0",
      "_view_name": "LayoutView",
      "align_content": null,
      "align_items": null,
      "align_self": null,
      "border": null,
      "bottom": null,
      "display": null,
      "flex": null,
      "flex_flow": null,
      "grid_area": null,
      "grid_auto_columns": null,
      "grid_auto_flow": null,
      "grid_auto_rows": null,
      "grid_column": null,
      "grid_gap": null,
      "grid_row": null,
      "grid_template_areas": null,
      "grid_template_columns": null,
      "grid_template_rows": null,
      "height": null,
      "justify_content": null,
      "justify_items": null,
      "left": null,
      "margin": null,
      "max_height": null,
      "max_width": null,
      "min_height": null,
      "min_width": null,
      "object_fit": null,
      "object_position": null,
      "order": null,
      "overflow": null,
      "overflow_x": null,
      "overflow_y": null,
      "padding": null,
      "right": null,
      "top": null,
      "visibility": null,
      "width": null
     }
    },
    "fe96c653bba54bd59d3a9a5f18f0f506": {
     "model_module": "@jupyter-widgets/controls",
     "model_module_version": "1.5.0",
     "model_name": "DescriptionStyleModel",
     "state": {
      "_model_module": "@jupyter-widgets/controls",
      "_model_module_version": "1.5.0",
      "_model_name": "DescriptionStyleModel",
      "_view_count": null,
      "_view_module": "@jupyter-widgets/base",
      "_view_module_version": "1.2.0",
      "_view_name": "StyleView",
      "description_width": ""
     }
    }
   }
  }
 },
 "nbformat": 4,
 "nbformat_minor": 4
}
