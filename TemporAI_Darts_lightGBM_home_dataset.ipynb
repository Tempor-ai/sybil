{
  "nbformat": 4,
  "nbformat_minor": 0,
  "metadata": {
    "colab": {
      "provenance": []
    },
    "kernelspec": {
      "name": "python3",
      "display_name": "Python 3"
    },
    "language_info": {
      "name": "python"
    }
  },
  "cells": [
    {
      "cell_type": "code",
      "execution_count": 1,
      "metadata": {
        "id": "BXk08qiY_-s3",
        "colab": {
          "base_uri": "https://localhost:8080/"
        },
        "outputId": "4513edc1-f93d-49e2-e34d-23981de2dcbf"
      },
      "outputs": [
        {
          "output_type": "stream",
          "name": "stdout",
          "text": [
            "Drive already mounted at /content/drive; to attempt to forcibly remount, call drive.mount(\"/content/drive\", force_remount=True).\n"
          ]
        }
      ],
      "source": [
        "from google.colab import drive\n",
        "drive.mount('/content/drive')"
      ]
    },
    {
      "cell_type": "code",
      "source": [
        "%cd /content/drive/MyDrive/TemporAi"
      ],
      "metadata": {
        "id": "FWOOMEp_AL8Q",
        "colab": {
          "base_uri": "https://localhost:8080/"
        },
        "outputId": "c297ac71-fb7d-49e2-fb59-1ed4c66888b9"
      },
      "execution_count": 2,
      "outputs": [
        {
          "output_type": "stream",
          "name": "stdout",
          "text": [
            "/content/drive/MyDrive/TemporAi\n"
          ]
        }
      ]
    },
    {
      "cell_type": "code",
      "source": [
        "#!pip install darts --quiet"
      ],
      "metadata": {
        "id": "7ee8XWYYAfn0"
      },
      "execution_count": 3,
      "outputs": []
    },
    {
      "cell_type": "code",
      "source": [
        "import numpy as np\n",
        "import matplotlib.pyplot as plt\n",
        "import pandas as pd\n",
        "from darts.models.forecasting.lgbm import LightGBMModel"
      ],
      "metadata": {
        "id": "F0u_LX1RBIss",
        "colab": {
          "base_uri": "https://localhost:8080/"
        },
        "outputId": "96831276-8e07-4be4-ac72-44401283f1bd"
      },
      "execution_count": 4,
      "outputs": [
        {
          "output_type": "stream",
          "name": "stderr",
          "text": [
            "WARNING:darts.models.utils:The `CatBoost` module could not be imported. To enable CatBoost support in Darts, follow the detailed instructions in the installation guide: https://github.com/unit8co/darts/blob/master/INSTALL.md\n"
          ]
        }
      ]
    },
    {
      "cell_type": "code",
      "source": [
        "#!pip install darts --quiet"
      ],
      "metadata": {
        "id": "noc8StdK56LY"
      },
      "execution_count": 5,
      "outputs": []
    },
    {
      "cell_type": "code",
      "source": [
        "from darts import TimeSeries"
      ],
      "metadata": {
        "id": "Ux2g3cpdAuXn"
      },
      "execution_count": 6,
      "outputs": []
    },
    {
      "cell_type": "code",
      "source": [
        "!ls"
      ],
      "metadata": {
        "id": "fHCzlgXa6OMz",
        "colab": {
          "base_uri": "https://localhost:8080/"
        },
        "outputId": "2588af03-4d22-40a7-d881-feb555a0bf7c"
      },
      "execution_count": 7,
      "outputs": [
        {
          "output_type": "stream",
          "name": "stdout",
          "text": [
            "air_passengers.csv  HomeC.csv\n"
          ]
        }
      ]
    },
    {
      "cell_type": "code",
      "source": [
        "n_days_to_consider = 349\n",
        "df = pd.read_csv('HomeC.csv', nrows=60*24*n_days_to_consider)"
      ],
      "metadata": {
        "id": "tED3jSocSVKA",
        "colab": {
          "base_uri": "https://localhost:8080/"
        },
        "outputId": "5f21768a-1047-4fdf-f4de-489cc948a90e"
      },
      "execution_count": 8,
      "outputs": [
        {
          "output_type": "stream",
          "name": "stderr",
          "text": [
            "<ipython-input-8-4faa8cc1b8a9>:2: DtypeWarning: Columns (27) have mixed types. Specify dtype option on import or set low_memory=False.\n",
            "  df = pd.read_csv('HomeC.csv', nrows=60*24*n_days_to_consider)\n"
          ]
        }
      ]
    },
    {
      "cell_type": "code",
      "source": [
        "len(df), n_days_to_consider*24*60"
      ],
      "metadata": {
        "colab": {
          "base_uri": "https://localhost:8080/"
        },
        "id": "Bt2FEuWnSY79",
        "outputId": "6aa59a4a-2e92-4062-c2c5-04c84539481c"
      },
      "execution_count": 9,
      "outputs": [
        {
          "output_type": "execute_result",
          "data": {
            "text/plain": [
              "(502560, 502560)"
            ]
          },
          "metadata": {},
          "execution_count": 9
        }
      ]
    },
    {
      "cell_type": "code",
      "source": [
        "df.head(5)"
      ],
      "metadata": {
        "id": "VQAu-WlJ_aeB",
        "colab": {
          "base_uri": "https://localhost:8080/",
          "height": 290
        },
        "outputId": "91d68d75-4282-44d7-ac43-e76ea606c4bc"
      },
      "execution_count": 10,
      "outputs": [
        {
          "output_type": "execute_result",
          "data": {
            "text/plain": [
              "         time  use [kW]  gen [kW]  House overall [kW]  Dishwasher [kW]  \\\n",
              "0  1451624400  0.932833  0.003483            0.932833         0.000033   \n",
              "1  1451624401  0.934333  0.003467            0.934333         0.000000   \n",
              "2  1451624402  0.931817  0.003467            0.931817         0.000017   \n",
              "3  1451624403  1.022050  0.003483            1.022050         0.000017   \n",
              "4  1451624404  1.139400  0.003467            1.139400         0.000133   \n",
              "\n",
              "   Furnace 1 [kW]  Furnace 2 [kW]  Home office [kW]  Fridge [kW]  \\\n",
              "0        0.020700        0.061917          0.442633     0.124150   \n",
              "1        0.020717        0.063817          0.444067     0.124000   \n",
              "2        0.020700        0.062317          0.446067     0.123533   \n",
              "3        0.106900        0.068517          0.446583     0.123133   \n",
              "4        0.236933        0.063983          0.446533     0.122850   \n",
              "\n",
              "   Wine cellar [kW]  ...  visibility  summary  apparentTemperature  pressure  \\\n",
              "0          0.006983  ...        10.0    Clear                29.26   1016.91   \n",
              "1          0.006983  ...        10.0    Clear                29.26   1016.91   \n",
              "2          0.006983  ...        10.0    Clear                29.26   1016.91   \n",
              "3          0.006983  ...        10.0    Clear                29.26   1016.91   \n",
              "4          0.006850  ...        10.0    Clear                29.26   1016.91   \n",
              "\n",
              "   windSpeed  cloudCover  windBearing  precipIntensity  dewPoint  \\\n",
              "0       9.18  cloudCover          282              0.0      24.4   \n",
              "1       9.18  cloudCover          282              0.0      24.4   \n",
              "2       9.18  cloudCover          282              0.0      24.4   \n",
              "3       9.18  cloudCover          282              0.0      24.4   \n",
              "4       9.18  cloudCover          282              0.0      24.4   \n",
              "\n",
              "   precipProbability  \n",
              "0                0.0  \n",
              "1                0.0  \n",
              "2                0.0  \n",
              "3                0.0  \n",
              "4                0.0  \n",
              "\n",
              "[5 rows x 32 columns]"
            ],
            "text/html": [
              "\n",
              "  <div id=\"df-c975d259-acee-4bbe-88c2-3dd113838421\" class=\"colab-df-container\">\n",
              "    <div>\n",
              "<style scoped>\n",
              "    .dataframe tbody tr th:only-of-type {\n",
              "        vertical-align: middle;\n",
              "    }\n",
              "\n",
              "    .dataframe tbody tr th {\n",
              "        vertical-align: top;\n",
              "    }\n",
              "\n",
              "    .dataframe thead th {\n",
              "        text-align: right;\n",
              "    }\n",
              "</style>\n",
              "<table border=\"1\" class=\"dataframe\">\n",
              "  <thead>\n",
              "    <tr style=\"text-align: right;\">\n",
              "      <th></th>\n",
              "      <th>time</th>\n",
              "      <th>use [kW]</th>\n",
              "      <th>gen [kW]</th>\n",
              "      <th>House overall [kW]</th>\n",
              "      <th>Dishwasher [kW]</th>\n",
              "      <th>Furnace 1 [kW]</th>\n",
              "      <th>Furnace 2 [kW]</th>\n",
              "      <th>Home office [kW]</th>\n",
              "      <th>Fridge [kW]</th>\n",
              "      <th>Wine cellar [kW]</th>\n",
              "      <th>...</th>\n",
              "      <th>visibility</th>\n",
              "      <th>summary</th>\n",
              "      <th>apparentTemperature</th>\n",
              "      <th>pressure</th>\n",
              "      <th>windSpeed</th>\n",
              "      <th>cloudCover</th>\n",
              "      <th>windBearing</th>\n",
              "      <th>precipIntensity</th>\n",
              "      <th>dewPoint</th>\n",
              "      <th>precipProbability</th>\n",
              "    </tr>\n",
              "  </thead>\n",
              "  <tbody>\n",
              "    <tr>\n",
              "      <th>0</th>\n",
              "      <td>1451624400</td>\n",
              "      <td>0.932833</td>\n",
              "      <td>0.003483</td>\n",
              "      <td>0.932833</td>\n",
              "      <td>0.000033</td>\n",
              "      <td>0.020700</td>\n",
              "      <td>0.061917</td>\n",
              "      <td>0.442633</td>\n",
              "      <td>0.124150</td>\n",
              "      <td>0.006983</td>\n",
              "      <td>...</td>\n",
              "      <td>10.0</td>\n",
              "      <td>Clear</td>\n",
              "      <td>29.26</td>\n",
              "      <td>1016.91</td>\n",
              "      <td>9.18</td>\n",
              "      <td>cloudCover</td>\n",
              "      <td>282</td>\n",
              "      <td>0.0</td>\n",
              "      <td>24.4</td>\n",
              "      <td>0.0</td>\n",
              "    </tr>\n",
              "    <tr>\n",
              "      <th>1</th>\n",
              "      <td>1451624401</td>\n",
              "      <td>0.934333</td>\n",
              "      <td>0.003467</td>\n",
              "      <td>0.934333</td>\n",
              "      <td>0.000000</td>\n",
              "      <td>0.020717</td>\n",
              "      <td>0.063817</td>\n",
              "      <td>0.444067</td>\n",
              "      <td>0.124000</td>\n",
              "      <td>0.006983</td>\n",
              "      <td>...</td>\n",
              "      <td>10.0</td>\n",
              "      <td>Clear</td>\n",
              "      <td>29.26</td>\n",
              "      <td>1016.91</td>\n",
              "      <td>9.18</td>\n",
              "      <td>cloudCover</td>\n",
              "      <td>282</td>\n",
              "      <td>0.0</td>\n",
              "      <td>24.4</td>\n",
              "      <td>0.0</td>\n",
              "    </tr>\n",
              "    <tr>\n",
              "      <th>2</th>\n",
              "      <td>1451624402</td>\n",
              "      <td>0.931817</td>\n",
              "      <td>0.003467</td>\n",
              "      <td>0.931817</td>\n",
              "      <td>0.000017</td>\n",
              "      <td>0.020700</td>\n",
              "      <td>0.062317</td>\n",
              "      <td>0.446067</td>\n",
              "      <td>0.123533</td>\n",
              "      <td>0.006983</td>\n",
              "      <td>...</td>\n",
              "      <td>10.0</td>\n",
              "      <td>Clear</td>\n",
              "      <td>29.26</td>\n",
              "      <td>1016.91</td>\n",
              "      <td>9.18</td>\n",
              "      <td>cloudCover</td>\n",
              "      <td>282</td>\n",
              "      <td>0.0</td>\n",
              "      <td>24.4</td>\n",
              "      <td>0.0</td>\n",
              "    </tr>\n",
              "    <tr>\n",
              "      <th>3</th>\n",
              "      <td>1451624403</td>\n",
              "      <td>1.022050</td>\n",
              "      <td>0.003483</td>\n",
              "      <td>1.022050</td>\n",
              "      <td>0.000017</td>\n",
              "      <td>0.106900</td>\n",
              "      <td>0.068517</td>\n",
              "      <td>0.446583</td>\n",
              "      <td>0.123133</td>\n",
              "      <td>0.006983</td>\n",
              "      <td>...</td>\n",
              "      <td>10.0</td>\n",
              "      <td>Clear</td>\n",
              "      <td>29.26</td>\n",
              "      <td>1016.91</td>\n",
              "      <td>9.18</td>\n",
              "      <td>cloudCover</td>\n",
              "      <td>282</td>\n",
              "      <td>0.0</td>\n",
              "      <td>24.4</td>\n",
              "      <td>0.0</td>\n",
              "    </tr>\n",
              "    <tr>\n",
              "      <th>4</th>\n",
              "      <td>1451624404</td>\n",
              "      <td>1.139400</td>\n",
              "      <td>0.003467</td>\n",
              "      <td>1.139400</td>\n",
              "      <td>0.000133</td>\n",
              "      <td>0.236933</td>\n",
              "      <td>0.063983</td>\n",
              "      <td>0.446533</td>\n",
              "      <td>0.122850</td>\n",
              "      <td>0.006850</td>\n",
              "      <td>...</td>\n",
              "      <td>10.0</td>\n",
              "      <td>Clear</td>\n",
              "      <td>29.26</td>\n",
              "      <td>1016.91</td>\n",
              "      <td>9.18</td>\n",
              "      <td>cloudCover</td>\n",
              "      <td>282</td>\n",
              "      <td>0.0</td>\n",
              "      <td>24.4</td>\n",
              "      <td>0.0</td>\n",
              "    </tr>\n",
              "  </tbody>\n",
              "</table>\n",
              "<p>5 rows × 32 columns</p>\n",
              "</div>\n",
              "    <div class=\"colab-df-buttons\">\n",
              "\n",
              "  <div class=\"colab-df-container\">\n",
              "    <button class=\"colab-df-convert\" onclick=\"convertToInteractive('df-c975d259-acee-4bbe-88c2-3dd113838421')\"\n",
              "            title=\"Convert this dataframe to an interactive table.\"\n",
              "            style=\"display:none;\">\n",
              "\n",
              "  <svg xmlns=\"http://www.w3.org/2000/svg\" height=\"24px\" viewBox=\"0 -960 960 960\">\n",
              "    <path d=\"M120-120v-720h720v720H120Zm60-500h600v-160H180v160Zm220 220h160v-160H400v160Zm0 220h160v-160H400v160ZM180-400h160v-160H180v160Zm440 0h160v-160H620v160ZM180-180h160v-160H180v160Zm440 0h160v-160H620v160Z\"/>\n",
              "  </svg>\n",
              "    </button>\n",
              "\n",
              "  <style>\n",
              "    .colab-df-container {\n",
              "      display:flex;\n",
              "      gap: 12px;\n",
              "    }\n",
              "\n",
              "    .colab-df-convert {\n",
              "      background-color: #E8F0FE;\n",
              "      border: none;\n",
              "      border-radius: 50%;\n",
              "      cursor: pointer;\n",
              "      display: none;\n",
              "      fill: #1967D2;\n",
              "      height: 32px;\n",
              "      padding: 0 0 0 0;\n",
              "      width: 32px;\n",
              "    }\n",
              "\n",
              "    .colab-df-convert:hover {\n",
              "      background-color: #E2EBFA;\n",
              "      box-shadow: 0px 1px 2px rgba(60, 64, 67, 0.3), 0px 1px 3px 1px rgba(60, 64, 67, 0.15);\n",
              "      fill: #174EA6;\n",
              "    }\n",
              "\n",
              "    .colab-df-buttons div {\n",
              "      margin-bottom: 4px;\n",
              "    }\n",
              "\n",
              "    [theme=dark] .colab-df-convert {\n",
              "      background-color: #3B4455;\n",
              "      fill: #D2E3FC;\n",
              "    }\n",
              "\n",
              "    [theme=dark] .colab-df-convert:hover {\n",
              "      background-color: #434B5C;\n",
              "      box-shadow: 0px 1px 3px 1px rgba(0, 0, 0, 0.15);\n",
              "      filter: drop-shadow(0px 1px 2px rgba(0, 0, 0, 0.3));\n",
              "      fill: #FFFFFF;\n",
              "    }\n",
              "  </style>\n",
              "\n",
              "    <script>\n",
              "      const buttonEl =\n",
              "        document.querySelector('#df-c975d259-acee-4bbe-88c2-3dd113838421 button.colab-df-convert');\n",
              "      buttonEl.style.display =\n",
              "        google.colab.kernel.accessAllowed ? 'block' : 'none';\n",
              "\n",
              "      async function convertToInteractive(key) {\n",
              "        const element = document.querySelector('#df-c975d259-acee-4bbe-88c2-3dd113838421');\n",
              "        const dataTable =\n",
              "          await google.colab.kernel.invokeFunction('convertToInteractive',\n",
              "                                                    [key], {});\n",
              "        if (!dataTable) return;\n",
              "\n",
              "        const docLinkHtml = 'Like what you see? Visit the ' +\n",
              "          '<a target=\"_blank\" href=https://colab.research.google.com/notebooks/data_table.ipynb>data table notebook</a>'\n",
              "          + ' to learn more about interactive tables.';\n",
              "        element.innerHTML = '';\n",
              "        dataTable['output_type'] = 'display_data';\n",
              "        await google.colab.output.renderOutput(dataTable, element);\n",
              "        const docLink = document.createElement('div');\n",
              "        docLink.innerHTML = docLinkHtml;\n",
              "        element.appendChild(docLink);\n",
              "      }\n",
              "    </script>\n",
              "  </div>\n",
              "\n",
              "\n",
              "<div id=\"df-fb10ffa0-fe5d-447f-a49f-e134ecfc0848\">\n",
              "  <button class=\"colab-df-quickchart\" onclick=\"quickchart('df-fb10ffa0-fe5d-447f-a49f-e134ecfc0848')\"\n",
              "            title=\"Suggest charts.\"\n",
              "            style=\"display:none;\">\n",
              "\n",
              "<svg xmlns=\"http://www.w3.org/2000/svg\" height=\"24px\"viewBox=\"0 0 24 24\"\n",
              "     width=\"24px\">\n",
              "    <g>\n",
              "        <path d=\"M19 3H5c-1.1 0-2 .9-2 2v14c0 1.1.9 2 2 2h14c1.1 0 2-.9 2-2V5c0-1.1-.9-2-2-2zM9 17H7v-7h2v7zm4 0h-2V7h2v10zm4 0h-2v-4h2v4z\"/>\n",
              "    </g>\n",
              "</svg>\n",
              "  </button>\n",
              "\n",
              "<style>\n",
              "  .colab-df-quickchart {\n",
              "    background-color: #E8F0FE;\n",
              "    border: none;\n",
              "    border-radius: 50%;\n",
              "    cursor: pointer;\n",
              "    display: none;\n",
              "    fill: #1967D2;\n",
              "    height: 32px;\n",
              "    padding: 0 0 0 0;\n",
              "    width: 32px;\n",
              "  }\n",
              "\n",
              "  .colab-df-quickchart:hover {\n",
              "    background-color: #E2EBFA;\n",
              "    box-shadow: 0px 1px 2px rgba(60, 64, 67, 0.3), 0px 1px 3px 1px rgba(60, 64, 67, 0.15);\n",
              "    fill: #174EA6;\n",
              "  }\n",
              "\n",
              "  [theme=dark] .colab-df-quickchart {\n",
              "    background-color: #3B4455;\n",
              "    fill: #D2E3FC;\n",
              "  }\n",
              "\n",
              "  [theme=dark] .colab-df-quickchart:hover {\n",
              "    background-color: #434B5C;\n",
              "    box-shadow: 0px 1px 3px 1px rgba(0, 0, 0, 0.15);\n",
              "    filter: drop-shadow(0px 1px 2px rgba(0, 0, 0, 0.3));\n",
              "    fill: #FFFFFF;\n",
              "  }\n",
              "</style>\n",
              "\n",
              "  <script>\n",
              "    async function quickchart(key) {\n",
              "      const charts = await google.colab.kernel.invokeFunction(\n",
              "          'suggestCharts', [key], {});\n",
              "    }\n",
              "    (() => {\n",
              "      let quickchartButtonEl =\n",
              "        document.querySelector('#df-fb10ffa0-fe5d-447f-a49f-e134ecfc0848 button');\n",
              "      quickchartButtonEl.style.display =\n",
              "        google.colab.kernel.accessAllowed ? 'block' : 'none';\n",
              "    })();\n",
              "  </script>\n",
              "</div>\n",
              "    </div>\n",
              "  </div>\n"
            ]
          },
          "metadata": {},
          "execution_count": 10
        }
      ]
    },
    {
      "cell_type": "code",
      "source": [
        "import datetime\n",
        "\n",
        "base_date = datetime.date(2022, 1, 1)  # Replace with your desired base date\n",
        "time_deltas = pd.to_timedelta((df['time'] - df['time'][0]) * 1, unit='minutes')"
      ],
      "metadata": {
        "id": "HOPawjcW_2Vh"
      },
      "execution_count": 11,
      "outputs": []
    },
    {
      "cell_type": "code",
      "source": [
        "time_deltas"
      ],
      "metadata": {
        "colab": {
          "base_uri": "https://localhost:8080/"
        },
        "id": "o_HSLjlwTQF4",
        "outputId": "447062af-5851-4306-a21e-8c9ca8260588"
      },
      "execution_count": 12,
      "outputs": [
        {
          "output_type": "execute_result",
          "data": {
            "text/plain": [
              "0          0 days 00:00:00\n",
              "1          0 days 00:01:00\n",
              "2          0 days 00:02:00\n",
              "3          0 days 00:03:00\n",
              "4          0 days 00:04:00\n",
              "                ...       \n",
              "502555   348 days 23:55:00\n",
              "502556   348 days 23:56:00\n",
              "502557   348 days 23:57:00\n",
              "502558   348 days 23:58:00\n",
              "502559   348 days 23:59:00\n",
              "Name: time, Length: 502560, dtype: timedelta64[ns]"
            ]
          },
          "metadata": {},
          "execution_count": 12
        }
      ]
    },
    {
      "cell_type": "code",
      "source": [
        "df['datetime_column'] = pd.to_datetime(base_date) + time_deltas\n"
      ],
      "metadata": {
        "id": "ksYI_nxvAYG0"
      },
      "execution_count": 13,
      "outputs": []
    },
    {
      "cell_type": "code",
      "source": [
        "df['datetime_column']"
      ],
      "metadata": {
        "colab": {
          "base_uri": "https://localhost:8080/"
        },
        "id": "xaPGYhDsSMgM",
        "outputId": "30d3d825-87aa-4cd9-e949-095d3cf45e6f"
      },
      "execution_count": 14,
      "outputs": [
        {
          "output_type": "execute_result",
          "data": {
            "text/plain": [
              "0        2022-01-01 00:00:00\n",
              "1        2022-01-01 00:01:00\n",
              "2        2022-01-01 00:02:00\n",
              "3        2022-01-01 00:03:00\n",
              "4        2022-01-01 00:04:00\n",
              "                 ...        \n",
              "502555   2022-12-15 23:55:00\n",
              "502556   2022-12-15 23:56:00\n",
              "502557   2022-12-15 23:57:00\n",
              "502558   2022-12-15 23:58:00\n",
              "502559   2022-12-15 23:59:00\n",
              "Name: datetime_column, Length: 502560, dtype: datetime64[ns]"
            ]
          },
          "metadata": {},
          "execution_count": 14
        }
      ]
    },
    {
      "cell_type": "code",
      "source": [
        "df.columns"
      ],
      "metadata": {
        "id": "XMGppE5qKZYM",
        "colab": {
          "base_uri": "https://localhost:8080/"
        },
        "outputId": "eec914f7-93bd-48f7-f87f-b98620814294"
      },
      "execution_count": 15,
      "outputs": [
        {
          "output_type": "execute_result",
          "data": {
            "text/plain": [
              "Index(['time', 'use [kW]', 'gen [kW]', 'House overall [kW]', 'Dishwasher [kW]',\n",
              "       'Furnace 1 [kW]', 'Furnace 2 [kW]', 'Home office [kW]', 'Fridge [kW]',\n",
              "       'Wine cellar [kW]', 'Garage door [kW]', 'Kitchen 12 [kW]',\n",
              "       'Kitchen 14 [kW]', 'Kitchen 38 [kW]', 'Barn [kW]', 'Well [kW]',\n",
              "       'Microwave [kW]', 'Living room [kW]', 'Solar [kW]', 'temperature',\n",
              "       'icon', 'humidity', 'visibility', 'summary', 'apparentTemperature',\n",
              "       'pressure', 'windSpeed', 'cloudCover', 'windBearing', 'precipIntensity',\n",
              "       'dewPoint', 'precipProbability', 'datetime_column'],\n",
              "      dtype='object')"
            ]
          },
          "metadata": {},
          "execution_count": 15
        }
      ]
    },
    {
      "cell_type": "code",
      "source": [
        "df_resampled = df.resample('h', on='datetime_column').mean()"
      ],
      "metadata": {
        "id": "O5nA9Rt9K0N6",
        "colab": {
          "base_uri": "https://localhost:8080/"
        },
        "outputId": "10d406d3-4bf6-4fe2-8585-fa9441c143e1"
      },
      "execution_count": 16,
      "outputs": [
        {
          "output_type": "stream",
          "name": "stderr",
          "text": [
            "<ipython-input-16-a0aaeb4085eb>:1: FutureWarning: The default value of numeric_only in DataFrameGroupBy.mean is deprecated. In a future version, numeric_only will default to False. Either specify numeric_only or select only columns which should be valid for the function.\n",
            "  df_resampled = df.resample('h', on='datetime_column').mean()\n"
          ]
        }
      ]
    },
    {
      "cell_type": "code",
      "source": [
        "len(df_resampled)"
      ],
      "metadata": {
        "colab": {
          "base_uri": "https://localhost:8080/"
        },
        "id": "TXIaZuQzSf7F",
        "outputId": "f8a80ab6-444c-4523-b69e-3d6986b3780f"
      },
      "execution_count": 17,
      "outputs": [
        {
          "output_type": "execute_result",
          "data": {
            "text/plain": [
              "8376"
            ]
          },
          "metadata": {},
          "execution_count": 17
        }
      ]
    },
    {
      "cell_type": "code",
      "source": [
        "df_resampled['time'] = df_resampled.index"
      ],
      "metadata": {
        "id": "aGDTRk-HP3ch"
      },
      "execution_count": 18,
      "outputs": []
    },
    {
      "cell_type": "code",
      "source": [
        "#del df"
      ],
      "metadata": {
        "id": "XYbBH93PPPhQ"
      },
      "execution_count": 19,
      "outputs": []
    },
    {
      "cell_type": "code",
      "source": [
        "df_resampled"
      ],
      "metadata": {
        "id": "rajw_XaNLMfW",
        "colab": {
          "base_uri": "https://localhost:8080/",
          "height": 856
        },
        "outputId": "dfe1fb31-57c1-4282-ef55-a656474bce15"
      },
      "execution_count": 20,
      "outputs": [
        {
          "output_type": "execute_result",
          "data": {
            "text/plain": [
              "                                   time  use [kW]  gen [kW]  \\\n",
              "datetime_column                                               \n",
              "2022-01-01 00:00:00 2022-01-01 00:00:00  1.044130  0.003307   \n",
              "2022-01-01 01:00:00 2022-01-01 01:00:00  0.918167  0.003422   \n",
              "2022-01-01 02:00:00 2022-01-01 02:00:00  0.714736  0.003448   \n",
              "2022-01-01 03:00:00 2022-01-01 03:00:00  0.960013  0.003447   \n",
              "2022-01-01 04:00:00 2022-01-01 04:00:00  0.639836  0.003439   \n",
              "...                                 ...       ...       ...   \n",
              "2022-12-15 19:00:00 2022-12-15 19:00:00  2.328423  0.003345   \n",
              "2022-12-15 20:00:00 2022-12-15 20:00:00  1.603260  0.003531   \n",
              "2022-12-15 21:00:00 2022-12-15 21:00:00  1.633612  0.003512   \n",
              "2022-12-15 22:00:00 2022-12-15 22:00:00  0.921310  0.003563   \n",
              "2022-12-15 23:00:00 2022-12-15 23:00:00  1.099021  0.003434   \n",
              "\n",
              "                     House overall [kW]  Dishwasher [kW]  Furnace 1 [kW]  \\\n",
              "datetime_column                                                            \n",
              "2022-01-01 00:00:00            1.044130         0.000064        0.134631   \n",
              "2022-01-01 01:00:00            0.918167         0.000099        0.236570   \n",
              "2022-01-01 02:00:00            0.714736         0.000043        0.099424   \n",
              "2022-01-01 03:00:00            0.960013         0.000138        0.375153   \n",
              "2022-01-01 04:00:00            0.639836         0.000060        0.153000   \n",
              "...                                 ...              ...             ...   \n",
              "2022-12-15 19:00:00            2.328423         0.000054        0.154861   \n",
              "2022-12-15 20:00:00            1.603260         0.000087        0.188044   \n",
              "2022-12-15 21:00:00            1.633612         0.000066        0.223546   \n",
              "2022-12-15 22:00:00            0.921310         0.000074        0.174236   \n",
              "2022-12-15 23:00:00            1.099021         0.009896        0.218134   \n",
              "\n",
              "                     Furnace 2 [kW]  Home office [kW]  Fridge [kW]  \\\n",
              "datetime_column                                                      \n",
              "2022-01-01 00:00:00        0.258557          0.241814     0.037861   \n",
              "2022-01-01 01:00:00        0.220138          0.043294     0.075522   \n",
              "2022-01-01 02:00:00        0.272746          0.043416     0.059486   \n",
              "2022-01-01 03:00:00        0.241217          0.065014     0.060412   \n",
              "2022-01-01 04:00:00        0.190842          0.043392     0.035106   \n",
              "...                             ...               ...          ...   \n",
              "2022-12-15 19:00:00        0.369565          0.042408     0.058668   \n",
              "2022-12-15 20:00:00        0.334410          0.042002     0.061198   \n",
              "2022-12-15 21:00:00        0.317481          0.056687     0.052599   \n",
              "2022-12-15 22:00:00        0.063983          0.042604     0.038621   \n",
              "2022-12-15 23:00:00        0.063963          0.042643     0.035483   \n",
              "\n",
              "                     Wine cellar [kW]  ...  temperature  humidity  visibility  \\\n",
              "datetime_column                        ...                                      \n",
              "2022-01-01 00:00:00          0.063351  ...    36.131000  0.619667   10.000000   \n",
              "2022-01-01 01:00:00          0.112942  ...    35.838667  0.610000   10.000000   \n",
              "2022-01-01 02:00:00          0.007184  ...    35.385000  0.613000   10.000000   \n",
              "2022-01-01 03:00:00          0.007045  ...    35.282000  0.640000   10.000000   \n",
              "2022-01-01 04:00:00          0.007143  ...    35.451667  0.641667   10.000000   \n",
              "...                               ...  ...          ...       ...         ...   \n",
              "2022-12-15 19:00:00          0.123125  ...    32.840000  0.940667    5.665333   \n",
              "2022-12-15 20:00:00          0.061699  ...    32.383833  0.948833    7.074667   \n",
              "2022-12-15 21:00:00          0.040550  ...    31.966667  0.938333    6.861667   \n",
              "2022-12-15 22:00:00          0.025224  ...    31.416833  0.919167    8.558167   \n",
              "2022-12-15 23:00:00          0.021389  ...    32.182667  0.861333    9.485333   \n",
              "\n",
              "                     apparentTemperature     pressure  windSpeed  windBearing  \\\n",
              "datetime_column                                                                 \n",
              "2022-01-01 00:00:00            29.264667  1016.888000   9.150333   282.100000   \n",
              "2022-01-01 01:00:00            29.364667  1016.232000   8.284000   284.733333   \n",
              "2022-01-01 02:00:00            29.034000  1015.989000   7.927000   279.400000   \n",
              "2022-01-01 03:00:00            30.395333  1016.042000   5.684667   265.000000   \n",
              "2022-01-01 04:00:00            29.673333  1015.815000   6.975000   265.500000   \n",
              "...                                  ...          ...        ...          ...   \n",
              "2022-12-15 19:00:00            29.986667   999.162000   3.236667   355.600000   \n",
              "2022-12-15 20:00:00            27.593833   998.108500   4.930667   305.900000   \n",
              "2022-12-15 21:00:00            27.426667   997.248333   4.613333   285.500000   \n",
              "2022-12-15 22:00:00            25.255833   996.709833   6.389667   265.600000   \n",
              "2022-12-15 23:00:00            24.990667   996.281333   8.156667   276.066667   \n",
              "\n",
              "                     precipIntensity   dewPoint  precipProbability  \n",
              "datetime_column                                                     \n",
              "2022-01-01 00:00:00         0.000000  24.383333           0.000000  \n",
              "2022-01-01 01:00:00         0.000000  23.866000           0.000000  \n",
              "2022-01-01 02:00:00         0.000000  23.469000           0.000000  \n",
              "2022-01-01 03:00:00         0.000000  24.202667           0.000000  \n",
              "2022-01-01 04:00:00         0.000000  24.423333           0.000000  \n",
              "...                              ...        ...                ...  \n",
              "2022-12-15 19:00:00         0.008640  31.320667           0.458667  \n",
              "2022-12-15 20:00:00         0.005968  30.994000           0.274333  \n",
              "2022-12-15 21:00:00         0.002250  30.378333           0.066667  \n",
              "2022-12-15 22:00:00         0.000000  29.290000           0.000000  \n",
              "2022-12-15 23:00:00         0.000000  28.457333           0.000000  \n",
              "\n",
              "[8376 rows x 29 columns]"
            ],
            "text/html": [
              "\n",
              "  <div id=\"df-6a13b384-985d-46a9-b939-0f811b402d9d\" class=\"colab-df-container\">\n",
              "    <div>\n",
              "<style scoped>\n",
              "    .dataframe tbody tr th:only-of-type {\n",
              "        vertical-align: middle;\n",
              "    }\n",
              "\n",
              "    .dataframe tbody tr th {\n",
              "        vertical-align: top;\n",
              "    }\n",
              "\n",
              "    .dataframe thead th {\n",
              "        text-align: right;\n",
              "    }\n",
              "</style>\n",
              "<table border=\"1\" class=\"dataframe\">\n",
              "  <thead>\n",
              "    <tr style=\"text-align: right;\">\n",
              "      <th></th>\n",
              "      <th>time</th>\n",
              "      <th>use [kW]</th>\n",
              "      <th>gen [kW]</th>\n",
              "      <th>House overall [kW]</th>\n",
              "      <th>Dishwasher [kW]</th>\n",
              "      <th>Furnace 1 [kW]</th>\n",
              "      <th>Furnace 2 [kW]</th>\n",
              "      <th>Home office [kW]</th>\n",
              "      <th>Fridge [kW]</th>\n",
              "      <th>Wine cellar [kW]</th>\n",
              "      <th>...</th>\n",
              "      <th>temperature</th>\n",
              "      <th>humidity</th>\n",
              "      <th>visibility</th>\n",
              "      <th>apparentTemperature</th>\n",
              "      <th>pressure</th>\n",
              "      <th>windSpeed</th>\n",
              "      <th>windBearing</th>\n",
              "      <th>precipIntensity</th>\n",
              "      <th>dewPoint</th>\n",
              "      <th>precipProbability</th>\n",
              "    </tr>\n",
              "    <tr>\n",
              "      <th>datetime_column</th>\n",
              "      <th></th>\n",
              "      <th></th>\n",
              "      <th></th>\n",
              "      <th></th>\n",
              "      <th></th>\n",
              "      <th></th>\n",
              "      <th></th>\n",
              "      <th></th>\n",
              "      <th></th>\n",
              "      <th></th>\n",
              "      <th></th>\n",
              "      <th></th>\n",
              "      <th></th>\n",
              "      <th></th>\n",
              "      <th></th>\n",
              "      <th></th>\n",
              "      <th></th>\n",
              "      <th></th>\n",
              "      <th></th>\n",
              "      <th></th>\n",
              "      <th></th>\n",
              "    </tr>\n",
              "  </thead>\n",
              "  <tbody>\n",
              "    <tr>\n",
              "      <th>2022-01-01 00:00:00</th>\n",
              "      <td>2022-01-01 00:00:00</td>\n",
              "      <td>1.044130</td>\n",
              "      <td>0.003307</td>\n",
              "      <td>1.044130</td>\n",
              "      <td>0.000064</td>\n",
              "      <td>0.134631</td>\n",
              "      <td>0.258557</td>\n",
              "      <td>0.241814</td>\n",
              "      <td>0.037861</td>\n",
              "      <td>0.063351</td>\n",
              "      <td>...</td>\n",
              "      <td>36.131000</td>\n",
              "      <td>0.619667</td>\n",
              "      <td>10.000000</td>\n",
              "      <td>29.264667</td>\n",
              "      <td>1016.888000</td>\n",
              "      <td>9.150333</td>\n",
              "      <td>282.100000</td>\n",
              "      <td>0.000000</td>\n",
              "      <td>24.383333</td>\n",
              "      <td>0.000000</td>\n",
              "    </tr>\n",
              "    <tr>\n",
              "      <th>2022-01-01 01:00:00</th>\n",
              "      <td>2022-01-01 01:00:00</td>\n",
              "      <td>0.918167</td>\n",
              "      <td>0.003422</td>\n",
              "      <td>0.918167</td>\n",
              "      <td>0.000099</td>\n",
              "      <td>0.236570</td>\n",
              "      <td>0.220138</td>\n",
              "      <td>0.043294</td>\n",
              "      <td>0.075522</td>\n",
              "      <td>0.112942</td>\n",
              "      <td>...</td>\n",
              "      <td>35.838667</td>\n",
              "      <td>0.610000</td>\n",
              "      <td>10.000000</td>\n",
              "      <td>29.364667</td>\n",
              "      <td>1016.232000</td>\n",
              "      <td>8.284000</td>\n",
              "      <td>284.733333</td>\n",
              "      <td>0.000000</td>\n",
              "      <td>23.866000</td>\n",
              "      <td>0.000000</td>\n",
              "    </tr>\n",
              "    <tr>\n",
              "      <th>2022-01-01 02:00:00</th>\n",
              "      <td>2022-01-01 02:00:00</td>\n",
              "      <td>0.714736</td>\n",
              "      <td>0.003448</td>\n",
              "      <td>0.714736</td>\n",
              "      <td>0.000043</td>\n",
              "      <td>0.099424</td>\n",
              "      <td>0.272746</td>\n",
              "      <td>0.043416</td>\n",
              "      <td>0.059486</td>\n",
              "      <td>0.007184</td>\n",
              "      <td>...</td>\n",
              "      <td>35.385000</td>\n",
              "      <td>0.613000</td>\n",
              "      <td>10.000000</td>\n",
              "      <td>29.034000</td>\n",
              "      <td>1015.989000</td>\n",
              "      <td>7.927000</td>\n",
              "      <td>279.400000</td>\n",
              "      <td>0.000000</td>\n",
              "      <td>23.469000</td>\n",
              "      <td>0.000000</td>\n",
              "    </tr>\n",
              "    <tr>\n",
              "      <th>2022-01-01 03:00:00</th>\n",
              "      <td>2022-01-01 03:00:00</td>\n",
              "      <td>0.960013</td>\n",
              "      <td>0.003447</td>\n",
              "      <td>0.960013</td>\n",
              "      <td>0.000138</td>\n",
              "      <td>0.375153</td>\n",
              "      <td>0.241217</td>\n",
              "      <td>0.065014</td>\n",
              "      <td>0.060412</td>\n",
              "      <td>0.007045</td>\n",
              "      <td>...</td>\n",
              "      <td>35.282000</td>\n",
              "      <td>0.640000</td>\n",
              "      <td>10.000000</td>\n",
              "      <td>30.395333</td>\n",
              "      <td>1016.042000</td>\n",
              "      <td>5.684667</td>\n",
              "      <td>265.000000</td>\n",
              "      <td>0.000000</td>\n",
              "      <td>24.202667</td>\n",
              "      <td>0.000000</td>\n",
              "    </tr>\n",
              "    <tr>\n",
              "      <th>2022-01-01 04:00:00</th>\n",
              "      <td>2022-01-01 04:00:00</td>\n",
              "      <td>0.639836</td>\n",
              "      <td>0.003439</td>\n",
              "      <td>0.639836</td>\n",
              "      <td>0.000060</td>\n",
              "      <td>0.153000</td>\n",
              "      <td>0.190842</td>\n",
              "      <td>0.043392</td>\n",
              "      <td>0.035106</td>\n",
              "      <td>0.007143</td>\n",
              "      <td>...</td>\n",
              "      <td>35.451667</td>\n",
              "      <td>0.641667</td>\n",
              "      <td>10.000000</td>\n",
              "      <td>29.673333</td>\n",
              "      <td>1015.815000</td>\n",
              "      <td>6.975000</td>\n",
              "      <td>265.500000</td>\n",
              "      <td>0.000000</td>\n",
              "      <td>24.423333</td>\n",
              "      <td>0.000000</td>\n",
              "    </tr>\n",
              "    <tr>\n",
              "      <th>...</th>\n",
              "      <td>...</td>\n",
              "      <td>...</td>\n",
              "      <td>...</td>\n",
              "      <td>...</td>\n",
              "      <td>...</td>\n",
              "      <td>...</td>\n",
              "      <td>...</td>\n",
              "      <td>...</td>\n",
              "      <td>...</td>\n",
              "      <td>...</td>\n",
              "      <td>...</td>\n",
              "      <td>...</td>\n",
              "      <td>...</td>\n",
              "      <td>...</td>\n",
              "      <td>...</td>\n",
              "      <td>...</td>\n",
              "      <td>...</td>\n",
              "      <td>...</td>\n",
              "      <td>...</td>\n",
              "      <td>...</td>\n",
              "      <td>...</td>\n",
              "    </tr>\n",
              "    <tr>\n",
              "      <th>2022-12-15 19:00:00</th>\n",
              "      <td>2022-12-15 19:00:00</td>\n",
              "      <td>2.328423</td>\n",
              "      <td>0.003345</td>\n",
              "      <td>2.328423</td>\n",
              "      <td>0.000054</td>\n",
              "      <td>0.154861</td>\n",
              "      <td>0.369565</td>\n",
              "      <td>0.042408</td>\n",
              "      <td>0.058668</td>\n",
              "      <td>0.123125</td>\n",
              "      <td>...</td>\n",
              "      <td>32.840000</td>\n",
              "      <td>0.940667</td>\n",
              "      <td>5.665333</td>\n",
              "      <td>29.986667</td>\n",
              "      <td>999.162000</td>\n",
              "      <td>3.236667</td>\n",
              "      <td>355.600000</td>\n",
              "      <td>0.008640</td>\n",
              "      <td>31.320667</td>\n",
              "      <td>0.458667</td>\n",
              "    </tr>\n",
              "    <tr>\n",
              "      <th>2022-12-15 20:00:00</th>\n",
              "      <td>2022-12-15 20:00:00</td>\n",
              "      <td>1.603260</td>\n",
              "      <td>0.003531</td>\n",
              "      <td>1.603260</td>\n",
              "      <td>0.000087</td>\n",
              "      <td>0.188044</td>\n",
              "      <td>0.334410</td>\n",
              "      <td>0.042002</td>\n",
              "      <td>0.061198</td>\n",
              "      <td>0.061699</td>\n",
              "      <td>...</td>\n",
              "      <td>32.383833</td>\n",
              "      <td>0.948833</td>\n",
              "      <td>7.074667</td>\n",
              "      <td>27.593833</td>\n",
              "      <td>998.108500</td>\n",
              "      <td>4.930667</td>\n",
              "      <td>305.900000</td>\n",
              "      <td>0.005968</td>\n",
              "      <td>30.994000</td>\n",
              "      <td>0.274333</td>\n",
              "    </tr>\n",
              "    <tr>\n",
              "      <th>2022-12-15 21:00:00</th>\n",
              "      <td>2022-12-15 21:00:00</td>\n",
              "      <td>1.633612</td>\n",
              "      <td>0.003512</td>\n",
              "      <td>1.633612</td>\n",
              "      <td>0.000066</td>\n",
              "      <td>0.223546</td>\n",
              "      <td>0.317481</td>\n",
              "      <td>0.056687</td>\n",
              "      <td>0.052599</td>\n",
              "      <td>0.040550</td>\n",
              "      <td>...</td>\n",
              "      <td>31.966667</td>\n",
              "      <td>0.938333</td>\n",
              "      <td>6.861667</td>\n",
              "      <td>27.426667</td>\n",
              "      <td>997.248333</td>\n",
              "      <td>4.613333</td>\n",
              "      <td>285.500000</td>\n",
              "      <td>0.002250</td>\n",
              "      <td>30.378333</td>\n",
              "      <td>0.066667</td>\n",
              "    </tr>\n",
              "    <tr>\n",
              "      <th>2022-12-15 22:00:00</th>\n",
              "      <td>2022-12-15 22:00:00</td>\n",
              "      <td>0.921310</td>\n",
              "      <td>0.003563</td>\n",
              "      <td>0.921310</td>\n",
              "      <td>0.000074</td>\n",
              "      <td>0.174236</td>\n",
              "      <td>0.063983</td>\n",
              "      <td>0.042604</td>\n",
              "      <td>0.038621</td>\n",
              "      <td>0.025224</td>\n",
              "      <td>...</td>\n",
              "      <td>31.416833</td>\n",
              "      <td>0.919167</td>\n",
              "      <td>8.558167</td>\n",
              "      <td>25.255833</td>\n",
              "      <td>996.709833</td>\n",
              "      <td>6.389667</td>\n",
              "      <td>265.600000</td>\n",
              "      <td>0.000000</td>\n",
              "      <td>29.290000</td>\n",
              "      <td>0.000000</td>\n",
              "    </tr>\n",
              "    <tr>\n",
              "      <th>2022-12-15 23:00:00</th>\n",
              "      <td>2022-12-15 23:00:00</td>\n",
              "      <td>1.099021</td>\n",
              "      <td>0.003434</td>\n",
              "      <td>1.099021</td>\n",
              "      <td>0.009896</td>\n",
              "      <td>0.218134</td>\n",
              "      <td>0.063963</td>\n",
              "      <td>0.042643</td>\n",
              "      <td>0.035483</td>\n",
              "      <td>0.021389</td>\n",
              "      <td>...</td>\n",
              "      <td>32.182667</td>\n",
              "      <td>0.861333</td>\n",
              "      <td>9.485333</td>\n",
              "      <td>24.990667</td>\n",
              "      <td>996.281333</td>\n",
              "      <td>8.156667</td>\n",
              "      <td>276.066667</td>\n",
              "      <td>0.000000</td>\n",
              "      <td>28.457333</td>\n",
              "      <td>0.000000</td>\n",
              "    </tr>\n",
              "  </tbody>\n",
              "</table>\n",
              "<p>8376 rows × 29 columns</p>\n",
              "</div>\n",
              "    <div class=\"colab-df-buttons\">\n",
              "\n",
              "  <div class=\"colab-df-container\">\n",
              "    <button class=\"colab-df-convert\" onclick=\"convertToInteractive('df-6a13b384-985d-46a9-b939-0f811b402d9d')\"\n",
              "            title=\"Convert this dataframe to an interactive table.\"\n",
              "            style=\"display:none;\">\n",
              "\n",
              "  <svg xmlns=\"http://www.w3.org/2000/svg\" height=\"24px\" viewBox=\"0 -960 960 960\">\n",
              "    <path d=\"M120-120v-720h720v720H120Zm60-500h600v-160H180v160Zm220 220h160v-160H400v160Zm0 220h160v-160H400v160ZM180-400h160v-160H180v160Zm440 0h160v-160H620v160ZM180-180h160v-160H180v160Zm440 0h160v-160H620v160Z\"/>\n",
              "  </svg>\n",
              "    </button>\n",
              "\n",
              "  <style>\n",
              "    .colab-df-container {\n",
              "      display:flex;\n",
              "      gap: 12px;\n",
              "    }\n",
              "\n",
              "    .colab-df-convert {\n",
              "      background-color: #E8F0FE;\n",
              "      border: none;\n",
              "      border-radius: 50%;\n",
              "      cursor: pointer;\n",
              "      display: none;\n",
              "      fill: #1967D2;\n",
              "      height: 32px;\n",
              "      padding: 0 0 0 0;\n",
              "      width: 32px;\n",
              "    }\n",
              "\n",
              "    .colab-df-convert:hover {\n",
              "      background-color: #E2EBFA;\n",
              "      box-shadow: 0px 1px 2px rgba(60, 64, 67, 0.3), 0px 1px 3px 1px rgba(60, 64, 67, 0.15);\n",
              "      fill: #174EA6;\n",
              "    }\n",
              "\n",
              "    .colab-df-buttons div {\n",
              "      margin-bottom: 4px;\n",
              "    }\n",
              "\n",
              "    [theme=dark] .colab-df-convert {\n",
              "      background-color: #3B4455;\n",
              "      fill: #D2E3FC;\n",
              "    }\n",
              "\n",
              "    [theme=dark] .colab-df-convert:hover {\n",
              "      background-color: #434B5C;\n",
              "      box-shadow: 0px 1px 3px 1px rgba(0, 0, 0, 0.15);\n",
              "      filter: drop-shadow(0px 1px 2px rgba(0, 0, 0, 0.3));\n",
              "      fill: #FFFFFF;\n",
              "    }\n",
              "  </style>\n",
              "\n",
              "    <script>\n",
              "      const buttonEl =\n",
              "        document.querySelector('#df-6a13b384-985d-46a9-b939-0f811b402d9d button.colab-df-convert');\n",
              "      buttonEl.style.display =\n",
              "        google.colab.kernel.accessAllowed ? 'block' : 'none';\n",
              "\n",
              "      async function convertToInteractive(key) {\n",
              "        const element = document.querySelector('#df-6a13b384-985d-46a9-b939-0f811b402d9d');\n",
              "        const dataTable =\n",
              "          await google.colab.kernel.invokeFunction('convertToInteractive',\n",
              "                                                    [key], {});\n",
              "        if (!dataTable) return;\n",
              "\n",
              "        const docLinkHtml = 'Like what you see? Visit the ' +\n",
              "          '<a target=\"_blank\" href=https://colab.research.google.com/notebooks/data_table.ipynb>data table notebook</a>'\n",
              "          + ' to learn more about interactive tables.';\n",
              "        element.innerHTML = '';\n",
              "        dataTable['output_type'] = 'display_data';\n",
              "        await google.colab.output.renderOutput(dataTable, element);\n",
              "        const docLink = document.createElement('div');\n",
              "        docLink.innerHTML = docLinkHtml;\n",
              "        element.appendChild(docLink);\n",
              "      }\n",
              "    </script>\n",
              "  </div>\n",
              "\n",
              "\n",
              "<div id=\"df-98e5f05d-7c3f-477c-9fcc-ea5fdbf17182\">\n",
              "  <button class=\"colab-df-quickchart\" onclick=\"quickchart('df-98e5f05d-7c3f-477c-9fcc-ea5fdbf17182')\"\n",
              "            title=\"Suggest charts.\"\n",
              "            style=\"display:none;\">\n",
              "\n",
              "<svg xmlns=\"http://www.w3.org/2000/svg\" height=\"24px\"viewBox=\"0 0 24 24\"\n",
              "     width=\"24px\">\n",
              "    <g>\n",
              "        <path d=\"M19 3H5c-1.1 0-2 .9-2 2v14c0 1.1.9 2 2 2h14c1.1 0 2-.9 2-2V5c0-1.1-.9-2-2-2zM9 17H7v-7h2v7zm4 0h-2V7h2v10zm4 0h-2v-4h2v4z\"/>\n",
              "    </g>\n",
              "</svg>\n",
              "  </button>\n",
              "\n",
              "<style>\n",
              "  .colab-df-quickchart {\n",
              "    background-color: #E8F0FE;\n",
              "    border: none;\n",
              "    border-radius: 50%;\n",
              "    cursor: pointer;\n",
              "    display: none;\n",
              "    fill: #1967D2;\n",
              "    height: 32px;\n",
              "    padding: 0 0 0 0;\n",
              "    width: 32px;\n",
              "  }\n",
              "\n",
              "  .colab-df-quickchart:hover {\n",
              "    background-color: #E2EBFA;\n",
              "    box-shadow: 0px 1px 2px rgba(60, 64, 67, 0.3), 0px 1px 3px 1px rgba(60, 64, 67, 0.15);\n",
              "    fill: #174EA6;\n",
              "  }\n",
              "\n",
              "  [theme=dark] .colab-df-quickchart {\n",
              "    background-color: #3B4455;\n",
              "    fill: #D2E3FC;\n",
              "  }\n",
              "\n",
              "  [theme=dark] .colab-df-quickchart:hover {\n",
              "    background-color: #434B5C;\n",
              "    box-shadow: 0px 1px 3px 1px rgba(0, 0, 0, 0.15);\n",
              "    filter: drop-shadow(0px 1px 2px rgba(0, 0, 0, 0.3));\n",
              "    fill: #FFFFFF;\n",
              "  }\n",
              "</style>\n",
              "\n",
              "  <script>\n",
              "    async function quickchart(key) {\n",
              "      const charts = await google.colab.kernel.invokeFunction(\n",
              "          'suggestCharts', [key], {});\n",
              "    }\n",
              "    (() => {\n",
              "      let quickchartButtonEl =\n",
              "        document.querySelector('#df-98e5f05d-7c3f-477c-9fcc-ea5fdbf17182 button');\n",
              "      quickchartButtonEl.style.display =\n",
              "        google.colab.kernel.accessAllowed ? 'block' : 'none';\n",
              "    })();\n",
              "  </script>\n",
              "</div>\n",
              "    </div>\n",
              "  </div>\n"
            ]
          },
          "metadata": {},
          "execution_count": 20
        }
      ]
    },
    {
      "cell_type": "code",
      "source": [
        "df_resampled['use [kW]'].plot(figsize=(20,10))"
      ],
      "metadata": {
        "id": "hEAH-Qcx5-iS",
        "colab": {
          "base_uri": "https://localhost:8080/",
          "height": 706
        },
        "outputId": "31c71cd7-3158-466d-bd2a-3f9ec57fa668"
      },
      "execution_count": 21,
      "outputs": [
        {
          "output_type": "execute_result",
          "data": {
            "text/plain": [
              "<Axes: xlabel='datetime_column'>"
            ]
          },
          "metadata": {},
          "execution_count": 21
        },
        {
          "output_type": "display_data",
          "data": {
            "text/plain": [
              "<Figure size 2000x1000 with 1 Axes>"
            ],
            "image/png": "[encoded data removed]"
          },
          "metadata": {}
        }
      ]
    },
    {
      "cell_type": "code",
      "source": [
        "len(df), n_days_to_consider*24*60, len(df_resampled), len(df_resampled)*60\n"
      ],
      "metadata": {
        "colab": {
          "base_uri": "https://localhost:8080/"
        },
        "id": "SQ60Q6qDRqNh",
        "outputId": "3aff5525-3a7f-490b-f22c-38452312834f"
      },
      "execution_count": 22,
      "outputs": [
        {
          "output_type": "execute_result",
          "data": {
            "text/plain": [
              "(502560, 502560, 8376, 502560)"
            ]
          },
          "metadata": {},
          "execution_count": 22
        }
      ]
    },
    {
      "cell_type": "code",
      "source": [
        "df_resampled.columns"
      ],
      "metadata": {
        "colab": {
          "base_uri": "https://localhost:8080/"
        },
        "id": "j68ujtWmPNTb",
        "outputId": "8e0595d8-8165-40b3-934a-c2574daee058"
      },
      "execution_count": 23,
      "outputs": [
        {
          "output_type": "execute_result",
          "data": {
            "text/plain": [
              "Index(['time', 'use [kW]', 'gen [kW]', 'House overall [kW]', 'Dishwasher [kW]',\n",
              "       'Furnace 1 [kW]', 'Furnace 2 [kW]', 'Home office [kW]', 'Fridge [kW]',\n",
              "       'Wine cellar [kW]', 'Garage door [kW]', 'Kitchen 12 [kW]',\n",
              "       'Kitchen 14 [kW]', 'Kitchen 38 [kW]', 'Barn [kW]', 'Well [kW]',\n",
              "       'Microwave [kW]', 'Living room [kW]', 'Solar [kW]', 'temperature',\n",
              "       'humidity', 'visibility', 'apparentTemperature', 'pressure',\n",
              "       'windSpeed', 'windBearing', 'precipIntensity', 'dewPoint',\n",
              "       'precipProbability'],\n",
              "      dtype='object')"
            ]
          },
          "metadata": {},
          "execution_count": 23
        }
      ]
    },
    {
      "cell_type": "code",
      "source": [
        "# Measure amount of correlation with the target columns\n",
        "# Specify the target column name\n",
        "target_column = 'use [kW]'\n",
        "\n",
        "# Get list of columns except the target column\n",
        "other_columns = [col for col in df_resampled.columns if col != target_column]\n",
        "\n",
        "\n",
        "correlations = df_resampled[other_columns].corrwith(df_resampled[target_column])\n",
        "sorted_columns = correlations.sort_values(ascending=False).index\n",
        "\n",
        "print(\"Sorted columns based on correlation:\")\n",
        "print(sorted_columns)\n"
      ],
      "metadata": {
        "colab": {
          "base_uri": "https://localhost:8080/"
        },
        "id": "nRhyrwzfXExQ",
        "outputId": "4d3f1edf-68a8-45e5-ce3e-2d18055456df"
      },
      "execution_count": 24,
      "outputs": [
        {
          "output_type": "stream",
          "name": "stdout",
          "text": [
            "Sorted columns based on correlation:\n",
            "Index(['House overall [kW]', 'Furnace 2 [kW]', 'Furnace 1 [kW]',\n",
            "       'Living room [kW]', 'Home office [kW]', 'Fridge [kW]',\n",
            "       'Dishwasher [kW]', 'Well [kW]', 'Wine cellar [kW]', 'Microwave [kW]',\n",
            "       'Barn [kW]', 'Kitchen 38 [kW]', 'Kitchen 14 [kW]', 'Kitchen 12 [kW]',\n",
            "       'Garage door [kW]', 'precipIntensity', 'dewPoint', 'windBearing',\n",
            "       'pressure', 'humidity', 'temperature', 'apparentTemperature',\n",
            "       'visibility', 'windSpeed', 'precipProbability', 'Solar [kW]',\n",
            "       'gen [kW]'],\n",
            "      dtype='object')\n"
          ]
        },
        {
          "output_type": "stream",
          "name": "stderr",
          "text": [
            "<ipython-input-24-cf0c2269d766>:9: FutureWarning: The default value of numeric_only in DataFrame.corrwith is deprecated. In a future version, it will default to False. Select only valid columns or specify the value of numeric_only to silence this warning.\n",
            "  correlations = df_resampled[other_columns].corrwith(df_resampled[target_column])\n"
          ]
        }
      ]
    },
    {
      "cell_type": "code",
      "source": [
        "target_series = TimeSeries.from_dataframe(df_resampled, 'time', 'use [kW]')\n",
        "\n",
        "list_of_past_covariates = ['Furnace 2 [kW]', 'Furnace 1 [kW]', 'Living room [kW]', 'Home office [kW]', 'Fridge [kW]']\n",
        "list_of_future_covariates = ['temperature', 'humidity', 'apparentTemperature', 'dewPoint']\n",
        "\n",
        "past_covariates = TimeSeries.from_dataframe(df_resampled, 'time', list_of_past_covariates)\n",
        "future_covariates = TimeSeries.from_dataframe(df_resampled, 'time', list_of_future_covariates)\n"
      ],
      "metadata": {
        "id": "j4TDZz9bLHDi"
      },
      "execution_count": 25,
      "outputs": []
    },
    {
      "cell_type": "code",
      "source": [
        "num_test = 24*1\n",
        "target_series_train, target_series_test = target_series[:-num_test], target_series[-num_test:]"
      ],
      "metadata": {
        "id": "jQZZ2ATH6CVO"
      },
      "execution_count": 26,
      "outputs": []
    },
    {
      "cell_type": "code",
      "source": [
        "n_lags = num_test*7\n",
        "model = LightGBMModel(lags=n_lags, \\\n",
        "                      output_chunk_length=num_test, \\\n",
        "                      lags_past_covariates=[-n_lags]*past_covariates.n_components,\\\n",
        "                      lags_future_covariates=[-n_lags]*future_covariates.n_components)"
      ],
      "metadata": {
        "id": "bb3kAdAp6Fev"
      },
      "execution_count": 27,
      "outputs": []
    },
    {
      "cell_type": "code",
      "source": [
        "model.fit(series=target_series_train, \\\n",
        "          past_covariates=past_covariates,\\\n",
        "          future_covariates=future_covariates)"
      ],
      "metadata": {
        "id": "x35hGkEs6Iff",
        "colab": {
          "base_uri": "https://localhost:8080/"
        },
        "outputId": "0bbd6567-d607-4b15-89b9-2e301a61d7c3"
      },
      "execution_count": 28,
      "outputs": [
        {
          "output_type": "stream",
          "name": "stdout",
          "text": [
            "[LightGBM] [Warning] Auto-choosing col-wise multi-threading, the overhead of testing was 0.037490 seconds.\n",
            "You can set `force_col_wise=true` to remove the overhead.\n",
            "[LightGBM] [Info] Total Bins 53295\n",
            "[LightGBM] [Info] Number of data points in the train set: 8161, number of used features: 209\n",
            "[LightGBM] [Info] Start training from score 0.854336\n",
            "[LightGBM] [Warning] Auto-choosing col-wise multi-threading, the overhead of testing was 0.021544 seconds.\n",
            "You can set `force_col_wise=true` to remove the overhead.\n",
            "[LightGBM] [Info] Total Bins 53295\n",
            "[LightGBM] [Info] Number of data points in the train set: 8161, number of used features: 209\n",
            "[LightGBM] [Info] Start training from score 0.854288\n",
            "[LightGBM] [Warning] Auto-choosing col-wise multi-threading, the overhead of testing was 0.020928 seconds.\n",
            "You can set `force_col_wise=true` to remove the overhead.\n",
            "[LightGBM] [Info] Total Bins 53295\n",
            "[LightGBM] [Info] Number of data points in the train set: 8161, number of used features: 209\n",
            "[LightGBM] [Info] Start training from score 0.854276\n",
            "[LightGBM] [Warning] Auto-choosing col-wise multi-threading, the overhead of testing was 0.039765 seconds.\n",
            "You can set `force_col_wise=true` to remove the overhead.\n",
            "[LightGBM] [Info] Total Bins 53295\n",
            "[LightGBM] [Info] Number of data points in the train set: 8161, number of used features: 209\n",
            "[LightGBM] [Info] Start training from score 0.854234\n",
            "[LightGBM] [Warning] Auto-choosing col-wise multi-threading, the overhead of testing was 0.021798 seconds.\n",
            "You can set `force_col_wise=true` to remove the overhead.\n",
            "[LightGBM] [Info] Total Bins 53295\n",
            "[LightGBM] [Info] Number of data points in the train set: 8161, number of used features: 209\n",
            "[LightGBM] [Info] Start training from score 0.854234\n",
            "[LightGBM] [Warning] Auto-choosing col-wise multi-threading, the overhead of testing was 0.022310 seconds.\n",
            "You can set `force_col_wise=true` to remove the overhead.\n",
            "[LightGBM] [Info] Total Bins 53295\n",
            "[LightGBM] [Info] Number of data points in the train set: 8161, number of used features: 209\n",
            "[LightGBM] [Info] Start training from score 0.854197\n",
            "[LightGBM] [Warning] Auto-choosing col-wise multi-threading, the overhead of testing was 0.022785 seconds.\n",
            "You can set `force_col_wise=true` to remove the overhead.\n",
            "[LightGBM] [Info] Total Bins 53295\n",
            "[LightGBM] [Info] Number of data points in the train set: 8161, number of used features: 209\n",
            "[LightGBM] [Info] Start training from score 0.854155\n",
            "[LightGBM] [Warning] Auto-choosing col-wise multi-threading, the overhead of testing was 0.037075 seconds.\n",
            "You can set `force_col_wise=true` to remove the overhead.\n",
            "[LightGBM] [Info] Total Bins 53295\n",
            "[LightGBM] [Info] Number of data points in the train set: 8161, number of used features: 209\n",
            "[LightGBM] [Info] Start training from score 0.854205\n",
            "[LightGBM] [Warning] Auto-choosing col-wise multi-threading, the overhead of testing was 0.021916 seconds.\n",
            "You can set `force_col_wise=true` to remove the overhead.\n",
            "[LightGBM] [Info] Total Bins 53295\n",
            "[LightGBM] [Info] Number of data points in the train set: 8161, number of used features: 209\n",
            "[LightGBM] [Info] Start training from score 0.854110\n",
            "[LightGBM] [Warning] Auto-choosing col-wise multi-threading, the overhead of testing was 0.022181 seconds.\n",
            "You can set `force_col_wise=true` to remove the overhead.\n",
            "[LightGBM] [Info] Total Bins 53295\n",
            "[LightGBM] [Info] Number of data points in the train set: 8161, number of used features: 209\n",
            "[LightGBM] [Info] Start training from score 0.854059\n",
            "[LightGBM] [Warning] Auto-choosing col-wise multi-threading, the overhead of testing was 0.023753 seconds.\n",
            "You can set `force_col_wise=true` to remove the overhead.\n",
            "[LightGBM] [Info] Total Bins 53295\n",
            "[LightGBM] [Info] Number of data points in the train set: 8161, number of used features: 209\n",
            "[LightGBM] [Info] Start training from score 0.853953\n",
            "[LightGBM] [Warning] Auto-choosing col-wise multi-threading, the overhead of testing was 0.039656 seconds.\n",
            "You can set `force_col_wise=true` to remove the overhead.\n",
            "[LightGBM] [Info] Total Bins 53295\n",
            "[LightGBM] [Info] Number of data points in the train set: 8161, number of used features: 209\n",
            "[LightGBM] [Info] Start training from score 0.853866\n",
            "[LightGBM] [Warning] Auto-choosing col-wise multi-threading, the overhead of testing was 0.022350 seconds.\n",
            "You can set `force_col_wise=true` to remove the overhead.\n",
            "[LightGBM] [Info] Total Bins 53295\n",
            "[LightGBM] [Info] Number of data points in the train set: 8161, number of used features: 209\n",
            "[LightGBM] [Info] Start training from score 0.853811\n",
            "[LightGBM] [Warning] Auto-choosing col-wise multi-threading, the overhead of testing was 0.036449 seconds.\n",
            "You can set `force_col_wise=true` to remove the overhead.\n",
            "[LightGBM] [Info] Total Bins 53295\n",
            "[LightGBM] [Info] Number of data points in the train set: 8161, number of used features: 209\n",
            "[LightGBM] [Info] Start training from score 0.853772\n",
            "[LightGBM] [Warning] Auto-choosing col-wise multi-threading, the overhead of testing was 0.022298 seconds.\n",
            "You can set `force_col_wise=true` to remove the overhead.\n",
            "[LightGBM] [Info] Total Bins 53295\n",
            "[LightGBM] [Info] Number of data points in the train set: 8161, number of used features: 209\n",
            "[LightGBM] [Info] Start training from score 0.853733\n",
            "[LightGBM] [Warning] Auto-choosing col-wise multi-threading, the overhead of testing was 0.040205 seconds.\n",
            "You can set `force_col_wise=true` to remove the overhead.\n",
            "[LightGBM] [Info] Total Bins 53295\n",
            "[LightGBM] [Info] Number of data points in the train set: 8161, number of used features: 209\n",
            "[LightGBM] [Info] Start training from score 0.853648\n",
            "[LightGBM] [Warning] Auto-choosing col-wise multi-threading, the overhead of testing was 0.030411 seconds.\n",
            "You can set `force_col_wise=true` to remove the overhead.\n",
            "[LightGBM] [Info] Total Bins 53295\n",
            "[LightGBM] [Info] Number of data points in the train set: 8161, number of used features: 209\n",
            "[LightGBM] [Info] Start training from score 0.853552\n",
            "[LightGBM] [Warning] Auto-choosing col-wise multi-threading, the overhead of testing was 0.022245 seconds.\n",
            "You can set `force_col_wise=true` to remove the overhead.\n",
            "[LightGBM] [Info] Total Bins 53295\n",
            "[LightGBM] [Info] Number of data points in the train set: 8161, number of used features: 209\n",
            "[LightGBM] [Info] Start training from score 0.853489\n",
            "[LightGBM] [Warning] Auto-choosing col-wise multi-threading, the overhead of testing was 0.024185 seconds.\n",
            "You can set `force_col_wise=true` to remove the overhead.\n",
            "[LightGBM] [Info] Total Bins 53295\n",
            "[LightGBM] [Info] Number of data points in the train set: 8161, number of used features: 209\n",
            "[LightGBM] [Info] Start training from score 0.853417\n",
            "[LightGBM] [Warning] Auto-choosing col-wise multi-threading, the overhead of testing was 0.039253 seconds.\n",
            "You can set `force_col_wise=true` to remove the overhead.\n",
            "[LightGBM] [Info] Total Bins 53295\n",
            "[LightGBM] [Info] Number of data points in the train set: 8161, number of used features: 209\n",
            "[LightGBM] [Info] Start training from score 0.853386\n",
            "[LightGBM] [Warning] Auto-choosing col-wise multi-threading, the overhead of testing was 0.046558 seconds.\n",
            "You can set `force_col_wise=true` to remove the overhead.\n",
            "[LightGBM] [Info] Total Bins 53295\n",
            "[LightGBM] [Info] Number of data points in the train set: 8161, number of used features: 209\n",
            "[LightGBM] [Info] Start training from score 0.853382\n",
            "[LightGBM] [Warning] Auto-choosing col-wise multi-threading, the overhead of testing was 0.022715 seconds.\n",
            "You can set `force_col_wise=true` to remove the overhead.\n",
            "[LightGBM] [Info] Total Bins 53295\n",
            "[LightGBM] [Info] Number of data points in the train set: 8161, number of used features: 209\n",
            "[LightGBM] [Info] Start training from score 0.853400\n",
            "[LightGBM] [Warning] Auto-choosing col-wise multi-threading, the overhead of testing was 0.022463 seconds.\n",
            "You can set `force_col_wise=true` to remove the overhead.\n",
            "[LightGBM] [Info] Total Bins 53295\n",
            "[LightGBM] [Info] Number of data points in the train set: 8161, number of used features: 209\n",
            "[LightGBM] [Info] Start training from score 0.853402\n",
            "[LightGBM] [Warning] Auto-choosing col-wise multi-threading, the overhead of testing was 0.023950 seconds.\n",
            "You can set `force_col_wise=true` to remove the overhead.\n",
            "[LightGBM] [Info] Total Bins 53295\n",
            "[LightGBM] [Info] Number of data points in the train set: 8161, number of used features: 209\n",
            "[LightGBM] [Info] Start training from score 0.853413\n"
          ]
        },
        {
          "output_type": "execute_result",
          "data": {
            "text/plain": [
              "LightGBMModel(lags=168, lags_past_covariates=[-168, -168, -168, -168, -168], lags_future_covariates=[-168, -168, -168, -168], output_chunk_length=24, add_encoders=None, likelihood=None, quantiles=None, random_state=None, multi_models=True, use_static_covariates=True, categorical_past_covariates=None, categorical_future_covariates=None, categorical_static_covariates=None)"
            ]
          },
          "metadata": {},
          "execution_count": 28
        }
      ]
    },
    {
      "cell_type": "code",
      "source": [
        "target_series_test_pred = model.predict(num_test, \\\n",
        "                                        past_covariates=past_covariates,\\\n",
        "                                        future_covariates=future_covariates)"
      ],
      "metadata": {
        "id": "-hGwRSY0MvQe"
      },
      "execution_count": 35,
      "outputs": []
    },
    {
      "cell_type": "code",
      "source": [
        "from darts.models import NaiveSeasonal\n",
        "naive_model = NaiveSeasonal(K=1)\n",
        "naive_model.fit(target_series_train)\n",
        "naive_forecast = naive_model.predict(num_test)"
      ],
      "metadata": {
        "id": "j0aeiAZ-Mlbk"
      },
      "execution_count": 36,
      "outputs": []
    },
    {
      "cell_type": "code",
      "source": [
        "#target_series_train.plot(label='training')\n",
        "target_series_test.plot(label='test', lw=3)\n",
        "target_series_test_pred.plot(label='LGBM', lw=3)\n",
        "naive_forecast.plot(label='naive', lw=3)"
      ],
      "metadata": {
        "colab": {
          "base_uri": "https://localhost:8080/",
          "height": 491
        },
        "id": "4GWBcG6aMZW-",
        "outputId": "7bb6aef7-c960-4420-816f-5989a1260649"
      },
      "execution_count": 37,
      "outputs": [
        {
          "output_type": "execute_result",
          "data": {
            "text/plain": [
              "<Axes: xlabel='time'>"
            ]
          },
          "metadata": {},
          "execution_count": 37
        },
        {
          "output_type": "display_data",
          "data": {
            "text/plain": [
              "<Figure size 640x480 with 1 Axes>"
            ],
            "image/png": "[encoded data removed]"
          },
          "metadata": {}
        }
      ]
    },
    {
      "cell_type": "code",
      "source": [
        "from darts.metrics.metrics import mape"
      ],
      "metadata": {
        "id": "ARrZ3cltMyBx"
      },
      "execution_count": 38,
      "outputs": []
    },
    {
      "cell_type": "code",
      "source": [
        "mape(target_series_test, target_series_test_pred)"
      ],
      "metadata": {
        "colab": {
          "base_uri": "https://localhost:8080/"
        },
        "id": "-GNYRpZMOgUE",
        "outputId": "492bbc77-d6d5-4a57-a8da-2adfb2fd5555"
      },
      "execution_count": 39,
      "outputs": [
        {
          "output_type": "execute_result",
          "data": {
            "text/plain": [
              "36.63561350413098"
            ]
          },
          "metadata": {},
          "execution_count": 39
        }
      ]
    },
    {
      "cell_type": "code",
      "source": [
        "mape(target_series_test, naive_forecast)"
      ],
      "metadata": {
        "colab": {
          "base_uri": "https://localhost:8080/"
        },
        "id": "0ZAYKJ4kOibD",
        "outputId": "99a7a9e0-b7ff-45b7-aafd-4e1259ad1b2b"
      },
      "execution_count": 40,
      "outputs": [
        {
          "output_type": "execute_result",
          "data": {
            "text/plain": [
              "72.65457486870126"
            ]
          },
          "metadata": {},
          "execution_count": 40
        }
      ]
    },
    {
      "cell_type": "code",
      "source": [],
      "metadata": {
        "id": "AgSCpx7nOjMt"
      },
      "execution_count": 34,
      "outputs": []
    }
  ]
}