{
 "cells": [
  {
   "cell_type": "code",
   "execution_count": 10,
   "metadata": {
    "collapsed": true,
    "id": "weckk5DOunNK",
    "jupyter": {
     "outputs_hidden": true
    },
    "tags": []
   },
   "outputs": [
    {
     "name": "stdout",
     "output_type": "stream",
     "text": [
      "Collecting u8darts[all]==0.25.0\n",
      "  Downloading u8darts-0.25.0-py3-none-any.whl (760 kB)\n",
      "\u001b[K     |████████████████████████████████| 760 kB 1.5 MB/s eta 0:00:01    |▉                               | 20 kB 1.2 MB/s eta 0:00:01\n",
      "\u001b[?25hRequirement already satisfied: scipy>=1.3.2 in /home/studio-lab-user/.conda/envs/default/lib/python3.9/site-packages (from u8darts[all]==0.25.0) (1.10.1)\n",
      "Requirement already satisfied: pyod>=0.9.5 in /home/studio-lab-user/.conda/envs/default/lib/python3.9/site-packages (from u8darts[all]==0.25.0) (1.1.2)\n",
      "Requirement already satisfied: numpy>=1.19.0 in /home/studio-lab-user/.conda/envs/default/lib/python3.9/site-packages (from u8darts[all]==0.25.0) (1.24.3)\n",
      "Requirement already satisfied: xgboost>=1.6.0 in /home/studio-lab-user/.conda/envs/default/lib/python3.9/site-packages (from u8darts[all]==0.25.0) (2.0.2)\n",
      "Requirement already satisfied: scikit-learn>=1.0.1 in /home/studio-lab-user/.conda/envs/default/lib/python3.9/site-packages (from u8darts[all]==0.25.0) (1.3.0)\n",
      "Requirement already satisfied: tqdm>=4.60.0 in /home/studio-lab-user/.conda/envs/default/lib/python3.9/site-packages (from u8darts[all]==0.25.0) (4.65.0)\n",
      "Requirement already satisfied: matplotlib>=3.3.0 in /home/studio-lab-user/.conda/envs/default/lib/python3.9/site-packages (from u8darts[all]==0.25.0) (3.7.1)\n",
      "Requirement already satisfied: statsforecast>=1.4 in /home/studio-lab-user/.conda/envs/default/lib/python3.9/site-packages (from u8darts[all]==0.25.0) (1.6.0)\n",
      "Requirement already satisfied: pandas>=1.0.5 in /home/studio-lab-user/.conda/envs/default/lib/python3.9/site-packages (from u8darts[all]==0.25.0) (2.0.1)\n",
      "Requirement already satisfied: holidays>=0.11.1 in /home/studio-lab-user/.conda/envs/default/lib/python3.9/site-packages (from u8darts[all]==0.25.0) (0.38)\n",
      "Requirement already satisfied: tbats>=1.1.0 in /home/studio-lab-user/.conda/envs/default/lib/python3.9/site-packages (from u8darts[all]==0.25.0) (1.1.3)\n",
      "Requirement already satisfied: shap>=0.40.0 in /home/studio-lab-user/.conda/envs/default/lib/python3.9/site-packages (from u8darts[all]==0.25.0) (0.43.0)\n",
      "Requirement already satisfied: typing-extensions in /home/studio-lab-user/.conda/envs/default/lib/python3.9/site-packages (from u8darts[all]==0.25.0) (4.7.1)\n",
      "Requirement already satisfied: nfoursid>=1.0.0 in /home/studio-lab-user/.conda/envs/default/lib/python3.9/site-packages (from u8darts[all]==0.25.0) (1.0.1)\n",
      "Requirement already satisfied: joblib>=0.16.0 in /home/studio-lab-user/.conda/envs/default/lib/python3.9/site-packages (from u8darts[all]==0.25.0) (1.2.0)\n",
      "Requirement already satisfied: requests>=2.22.0 in /home/studio-lab-user/.conda/envs/default/lib/python3.9/site-packages (from u8darts[all]==0.25.0) (2.30.0)\n",
      "Requirement already satisfied: statsmodels>=0.14.0 in /home/studio-lab-user/.conda/envs/default/lib/python3.9/site-packages (from u8darts[all]==0.25.0) (0.14.0)\n",
      "Requirement already satisfied: xarray>=0.17.0 in /home/studio-lab-user/.conda/envs/default/lib/python3.9/site-packages (from u8darts[all]==0.25.0) (2023.11.0)\n",
      "Requirement already satisfied: pmdarima>=1.8.0 in /home/studio-lab-user/.conda/envs/default/lib/python3.9/site-packages (from u8darts[all]==0.25.0) (2.0.4)\n",
      "Requirement already satisfied: tensorboardX>=2.1 in /home/studio-lab-user/.conda/envs/default/lib/python3.9/site-packages (from u8darts[all]==0.25.0) (2.6.2.2)\n",
      "Requirement already satisfied: lightgbm>=3.2.0 in /home/studio-lab-user/.conda/envs/default/lib/python3.9/site-packages (from u8darts[all]==0.25.0) (4.1.0)\n",
      "Requirement already satisfied: torch>=1.8.0 in /home/studio-lab-user/.conda/envs/default/lib/python3.9/site-packages (from u8darts[all]==0.25.0) (2.0.1)\n",
      "Requirement already satisfied: prophet>=1.1.1 in /home/studio-lab-user/.conda/envs/default/lib/python3.9/site-packages (from u8darts[all]==0.25.0) (1.1.5)\n",
      "Requirement already satisfied: catboost>=1.0.6 in /home/studio-lab-user/.conda/envs/default/lib/python3.9/site-packages (from u8darts[all]==0.25.0) (1.2.2)\n",
      "Requirement already satisfied: pytorch-lightning>=1.5.0 in /home/studio-lab-user/.conda/envs/default/lib/python3.9/site-packages (from u8darts[all]==0.25.0) (2.1.2)\n",
      "Requirement already satisfied: graphviz in /home/studio-lab-user/.conda/envs/default/lib/python3.9/site-packages (from catboost>=1.0.6->u8darts[all]==0.25.0) (0.20.1)\n",
      "Requirement already satisfied: plotly in /home/studio-lab-user/.conda/envs/default/lib/python3.9/site-packages (from catboost>=1.0.6->u8darts[all]==0.25.0) (5.18.0)\n",
      "Requirement already satisfied: six in /home/studio-lab-user/.conda/envs/default/lib/python3.9/site-packages (from catboost>=1.0.6->u8darts[all]==0.25.0) (1.16.0)\n",
      "Requirement already satisfied: python-dateutil in /home/studio-lab-user/.conda/envs/default/lib/python3.9/site-packages (from holidays>=0.11.1->u8darts[all]==0.25.0) (2.8.2)\n",
      "Requirement already satisfied: fonttools>=4.22.0 in /home/studio-lab-user/.conda/envs/default/lib/python3.9/site-packages (from matplotlib>=3.3.0->u8darts[all]==0.25.0) (4.39.3)\n",
      "Requirement already satisfied: pillow>=6.2.0 in /home/studio-lab-user/.conda/envs/default/lib/python3.9/site-packages (from matplotlib>=3.3.0->u8darts[all]==0.25.0) (9.5.0)\n",
      "Requirement already satisfied: cycler>=0.10 in /home/studio-lab-user/.conda/envs/default/lib/python3.9/site-packages (from matplotlib>=3.3.0->u8darts[all]==0.25.0) (0.11.0)\n",
      "Requirement already satisfied: contourpy>=1.0.1 in /home/studio-lab-user/.conda/envs/default/lib/python3.9/site-packages (from matplotlib>=3.3.0->u8darts[all]==0.25.0) (1.0.7)\n",
      "Requirement already satisfied: importlib-resources>=3.2.0 in /home/studio-lab-user/.conda/envs/default/lib/python3.9/site-packages (from matplotlib>=3.3.0->u8darts[all]==0.25.0) (5.12.0)\n",
      "Requirement already satisfied: kiwisolver>=1.0.1 in /home/studio-lab-user/.conda/envs/default/lib/python3.9/site-packages (from matplotlib>=3.3.0->u8darts[all]==0.25.0) (1.4.4)\n",
      "Requirement already satisfied: pyparsing>=2.3.1 in /home/studio-lab-user/.conda/envs/default/lib/python3.9/site-packages (from matplotlib>=3.3.0->u8darts[all]==0.25.0) (3.0.9)\n",
      "Requirement already satisfied: packaging>=20.0 in /home/studio-lab-user/.conda/envs/default/lib/python3.9/site-packages (from matplotlib>=3.3.0->u8darts[all]==0.25.0) (23.0)\n",
      "Requirement already satisfied: zipp>=3.1.0 in /home/studio-lab-user/.conda/envs/default/lib/python3.9/site-packages (from importlib-resources>=3.2.0->matplotlib>=3.3.0->u8darts[all]==0.25.0) (3.15.0)\n",
      "Requirement already satisfied: pytz>=2020.1 in /home/studio-lab-user/.conda/envs/default/lib/python3.9/site-packages (from pandas>=1.0.5->u8darts[all]==0.25.0) (2023.3)\n",
      "Requirement already satisfied: tzdata>=2022.1 in /home/studio-lab-user/.conda/envs/default/lib/python3.9/site-packages (from pandas>=1.0.5->u8darts[all]==0.25.0) (2023.3)\n",
      "Requirement already satisfied: Cython!=0.29.18,!=0.29.31,>=0.29 in /home/studio-lab-user/.conda/envs/default/lib/python3.9/site-packages (from pmdarima>=1.8.0->u8darts[all]==0.25.0) (3.0.6)\n",
      "Requirement already satisfied: setuptools!=50.0.0,>=38.6.0 in /home/studio-lab-user/.conda/envs/default/lib/python3.9/site-packages (from pmdarima>=1.8.0->u8darts[all]==0.25.0) (67.6.1)\n",
      "Requirement already satisfied: urllib3 in /home/studio-lab-user/.conda/envs/default/lib/python3.9/site-packages (from pmdarima>=1.8.0->u8darts[all]==0.25.0) (2.0.1)\n",
      "Requirement already satisfied: cmdstanpy>=1.0.4 in /home/studio-lab-user/.conda/envs/default/lib/python3.9/site-packages (from prophet>=1.1.1->u8darts[all]==0.25.0) (1.2.0)\n",
      "Requirement already satisfied: stanio~=0.3.0 in /home/studio-lab-user/.conda/envs/default/lib/python3.9/site-packages (from cmdstanpy>=1.0.4->prophet>=1.1.1->u8darts[all]==0.25.0) (0.3.0)\n",
      "Requirement already satisfied: numba>=0.51 in /home/studio-lab-user/.conda/envs/default/lib/python3.9/site-packages (from pyod>=0.9.5->u8darts[all]==0.25.0) (0.58.1)\n",
      "Requirement already satisfied: llvmlite<0.42,>=0.41.0dev0 in /home/studio-lab-user/.conda/envs/default/lib/python3.9/site-packages (from numba>=0.51->pyod>=0.9.5->u8darts[all]==0.25.0) (0.41.1)\n",
      "Requirement already satisfied: fsspec[http]>2021.06.0 in /home/studio-lab-user/.conda/envs/default/lib/python3.9/site-packages (from pytorch-lightning>=1.5.0->u8darts[all]==0.25.0) (2023.9.0)\n",
      "Requirement already satisfied: PyYAML>=5.4 in /home/studio-lab-user/.conda/envs/default/lib/python3.9/site-packages (from pytorch-lightning>=1.5.0->u8darts[all]==0.25.0) (6.0)\n",
      "Requirement already satisfied: lightning-utilities>=0.8.0 in /home/studio-lab-user/.conda/envs/default/lib/python3.9/site-packages (from pytorch-lightning>=1.5.0->u8darts[all]==0.25.0) (0.10.0)\n",
      "Requirement already satisfied: torchmetrics>=0.7.0 in /home/studio-lab-user/.conda/envs/default/lib/python3.9/site-packages (from pytorch-lightning>=1.5.0->u8darts[all]==0.25.0) (1.2.1)\n",
      "Requirement already satisfied: aiohttp!=4.0.0a0,!=4.0.0a1 in /home/studio-lab-user/.conda/envs/default/lib/python3.9/site-packages (from fsspec[http]>2021.06.0->pytorch-lightning>=1.5.0->u8darts[all]==0.25.0) (3.8.5)\n",
      "Requirement already satisfied: yarl<2.0,>=1.0 in /home/studio-lab-user/.conda/envs/default/lib/python3.9/site-packages (from aiohttp!=4.0.0a0,!=4.0.0a1->fsspec[http]>2021.06.0->pytorch-lightning>=1.5.0->u8darts[all]==0.25.0) (1.9.2)\n",
      "Requirement already satisfied: async-timeout<5.0,>=4.0.0a3 in /home/studio-lab-user/.conda/envs/default/lib/python3.9/site-packages (from aiohttp!=4.0.0a0,!=4.0.0a1->fsspec[http]>2021.06.0->pytorch-lightning>=1.5.0->u8darts[all]==0.25.0) (4.0.3)\n",
      "Requirement already satisfied: attrs>=17.3.0 in /home/studio-lab-user/.conda/envs/default/lib/python3.9/site-packages (from aiohttp!=4.0.0a0,!=4.0.0a1->fsspec[http]>2021.06.0->pytorch-lightning>=1.5.0->u8darts[all]==0.25.0) (22.2.0)\n",
      "Requirement already satisfied: aiosignal>=1.1.2 in /home/studio-lab-user/.conda/envs/default/lib/python3.9/site-packages (from aiohttp!=4.0.0a0,!=4.0.0a1->fsspec[http]>2021.06.0->pytorch-lightning>=1.5.0->u8darts[all]==0.25.0) (1.3.1)\n",
      "Requirement already satisfied: charset-normalizer<4.0,>=2.0 in /home/studio-lab-user/.conda/envs/default/lib/python3.9/site-packages (from aiohttp!=4.0.0a0,!=4.0.0a1->fsspec[http]>2021.06.0->pytorch-lightning>=1.5.0->u8darts[all]==0.25.0) (3.1.0)\n",
      "Requirement already satisfied: frozenlist>=1.1.1 in /home/studio-lab-user/.conda/envs/default/lib/python3.9/site-packages (from aiohttp!=4.0.0a0,!=4.0.0a1->fsspec[http]>2021.06.0->pytorch-lightning>=1.5.0->u8darts[all]==0.25.0) (1.4.0)\n",
      "Requirement already satisfied: multidict<7.0,>=4.5 in /home/studio-lab-user/.conda/envs/default/lib/python3.9/site-packages (from aiohttp!=4.0.0a0,!=4.0.0a1->fsspec[http]>2021.06.0->pytorch-lightning>=1.5.0->u8darts[all]==0.25.0) (6.0.4)\n",
      "Requirement already satisfied: idna<4,>=2.5 in /home/studio-lab-user/.conda/envs/default/lib/python3.9/site-packages (from requests>=2.22.0->u8darts[all]==0.25.0) (3.4)\n",
      "Requirement already satisfied: certifi>=2017.4.17 in /home/studio-lab-user/.conda/envs/default/lib/python3.9/site-packages (from requests>=2.22.0->u8darts[all]==0.25.0) (2022.12.7)\n",
      "Requirement already satisfied: threadpoolctl>=2.0.0 in /home/studio-lab-user/.conda/envs/default/lib/python3.9/site-packages (from scikit-learn>=1.0.1->u8darts[all]==0.25.0) (3.2.0)\n",
      "Requirement already satisfied: slicer==0.0.7 in /home/studio-lab-user/.conda/envs/default/lib/python3.9/site-packages (from shap>=0.40.0->u8darts[all]==0.25.0) (0.0.7)\n",
      "Requirement already satisfied: cloudpickle in /home/studio-lab-user/.conda/envs/default/lib/python3.9/site-packages (from shap>=0.40.0->u8darts[all]==0.25.0) (3.0.0)\n",
      "Requirement already satisfied: polars in /home/studio-lab-user/.conda/envs/default/lib/python3.9/site-packages (from statsforecast>=1.4->u8darts[all]==0.25.0) (0.19.19)\n",
      "Requirement already satisfied: fugue>=0.8.1 in /home/studio-lab-user/.conda/envs/default/lib/python3.9/site-packages (from statsforecast>=1.4->u8darts[all]==0.25.0) (0.8.7)\n",
      "Requirement already satisfied: jinja2 in /home/studio-lab-user/.conda/envs/default/lib/python3.9/site-packages (from fugue>=0.8.1->statsforecast>=1.4->u8darts[all]==0.25.0) (3.1.2)\n",
      "Requirement already satisfied: triad>=0.9.3 in /home/studio-lab-user/.conda/envs/default/lib/python3.9/site-packages (from fugue>=0.8.1->statsforecast>=1.4->u8darts[all]==0.25.0) (0.9.3)\n",
      "Requirement already satisfied: adagio>=0.2.4 in /home/studio-lab-user/.conda/envs/default/lib/python3.9/site-packages (from fugue>=0.8.1->statsforecast>=1.4->u8darts[all]==0.25.0) (0.2.4)\n",
      "Requirement already satisfied: qpd>=0.4.4 in /home/studio-lab-user/.conda/envs/default/lib/python3.9/site-packages (from fugue>=0.8.1->statsforecast>=1.4->u8darts[all]==0.25.0) (0.4.4)\n",
      "Requirement already satisfied: fugue-sql-antlr>=0.1.6 in /home/studio-lab-user/.conda/envs/default/lib/python3.9/site-packages (from fugue>=0.8.1->statsforecast>=1.4->u8darts[all]==0.25.0) (0.2.0)\n",
      "Requirement already satisfied: sqlglot in /home/studio-lab-user/.conda/envs/default/lib/python3.9/site-packages (from fugue>=0.8.1->statsforecast>=1.4->u8darts[all]==0.25.0) (19.8.3)\n",
      "Requirement already satisfied: antlr4-python3-runtime<4.12 in /home/studio-lab-user/.conda/envs/default/lib/python3.9/site-packages (from fugue-sql-antlr>=0.1.6->fugue>=0.8.1->statsforecast>=1.4->u8darts[all]==0.25.0) (4.11.1)\n",
      "Requirement already satisfied: patsy>=0.5.2 in /home/studio-lab-user/.conda/envs/default/lib/python3.9/site-packages (from statsmodels>=0.14.0->u8darts[all]==0.25.0) (0.5.3)\n",
      "Requirement already satisfied: protobuf>=3.20 in /home/studio-lab-user/.conda/envs/default/lib/python3.9/site-packages (from tensorboardX>=2.1->u8darts[all]==0.25.0) (4.22.4)\n",
      "Requirement already satisfied: nvidia-curand-cu11==10.2.10.91 in /home/studio-lab-user/.conda/envs/default/lib/python3.9/site-packages (from torch>=1.8.0->u8darts[all]==0.25.0) (10.2.10.91)\n",
      "Requirement already satisfied: nvidia-cublas-cu11==11.10.3.66 in /home/studio-lab-user/.conda/envs/default/lib/python3.9/site-packages (from torch>=1.8.0->u8darts[all]==0.25.0) (11.10.3.66)\n",
      "Requirement already satisfied: nvidia-cudnn-cu11==8.5.0.96 in /home/studio-lab-user/.conda/envs/default/lib/python3.9/site-packages (from torch>=1.8.0->u8darts[all]==0.25.0) (8.5.0.96)\n",
      "Requirement already satisfied: nvidia-cuda-cupti-cu11==11.7.101 in /home/studio-lab-user/.conda/envs/default/lib/python3.9/site-packages (from torch>=1.8.0->u8darts[all]==0.25.0) (11.7.101)\n",
      "Requirement already satisfied: nvidia-nccl-cu11==2.14.3 in /home/studio-lab-user/.conda/envs/default/lib/python3.9/site-packages (from torch>=1.8.0->u8darts[all]==0.25.0) (2.14.3)\n",
      "Requirement already satisfied: nvidia-nvtx-cu11==11.7.91 in /home/studio-lab-user/.conda/envs/default/lib/python3.9/site-packages (from torch>=1.8.0->u8darts[all]==0.25.0) (11.7.91)\n",
      "Requirement already satisfied: nvidia-cusparse-cu11==11.7.4.91 in /home/studio-lab-user/.conda/envs/default/lib/python3.9/site-packages (from torch>=1.8.0->u8darts[all]==0.25.0) (11.7.4.91)\n",
      "Requirement already satisfied: nvidia-cufft-cu11==10.9.0.58 in /home/studio-lab-user/.conda/envs/default/lib/python3.9/site-packages (from torch>=1.8.0->u8darts[all]==0.25.0) (10.9.0.58)\n",
      "Requirement already satisfied: nvidia-cusolver-cu11==11.4.0.1 in /home/studio-lab-user/.conda/envs/default/lib/python3.9/site-packages (from torch>=1.8.0->u8darts[all]==0.25.0) (11.4.0.1)\n",
      "Requirement already satisfied: sympy in /home/studio-lab-user/.conda/envs/default/lib/python3.9/site-packages (from torch>=1.8.0->u8darts[all]==0.25.0) (1.12)\n",
      "Requirement already satisfied: filelock in /home/studio-lab-user/.conda/envs/default/lib/python3.9/site-packages (from torch>=1.8.0->u8darts[all]==0.25.0) (3.12.3)\n",
      "Requirement already satisfied: nvidia-cuda-nvrtc-cu11==11.7.99 in /home/studio-lab-user/.conda/envs/default/lib/python3.9/site-packages (from torch>=1.8.0->u8darts[all]==0.25.0) (11.7.99)\n",
      "Requirement already satisfied: nvidia-cuda-runtime-cu11==11.7.99 in /home/studio-lab-user/.conda/envs/default/lib/python3.9/site-packages (from torch>=1.8.0->u8darts[all]==0.25.0) (11.7.99)\n",
      "Requirement already satisfied: networkx in /home/studio-lab-user/.conda/envs/default/lib/python3.9/site-packages (from torch>=1.8.0->u8darts[all]==0.25.0) (3.1)\n",
      "Requirement already satisfied: triton==2.0.0 in /home/studio-lab-user/.conda/envs/default/lib/python3.9/site-packages (from torch>=1.8.0->u8darts[all]==0.25.0) (2.0.0)\n",
      "Requirement already satisfied: wheel in /home/studio-lab-user/.conda/envs/default/lib/python3.9/site-packages (from nvidia-cublas-cu11==11.10.3.66->torch>=1.8.0->u8darts[all]==0.25.0) (0.40.0)\n",
      "Requirement already satisfied: lit in /home/studio-lab-user/.conda/envs/default/lib/python3.9/site-packages (from triton==2.0.0->torch>=1.8.0->u8darts[all]==0.25.0) (16.0.6)\n",
      "Requirement already satisfied: cmake in /home/studio-lab-user/.conda/envs/default/lib/python3.9/site-packages (from triton==2.0.0->torch>=1.8.0->u8darts[all]==0.25.0) (3.27.4.1)\n",
      "Requirement already satisfied: pyarrow>=6.0.1 in /home/studio-lab-user/.conda/envs/default/lib/python3.9/site-packages (from triad>=0.9.3->fugue>=0.8.1->statsforecast>=1.4->u8darts[all]==0.25.0) (13.0.0)\n",
      "Requirement already satisfied: fs in /home/studio-lab-user/.conda/envs/default/lib/python3.9/site-packages (from triad>=0.9.3->fugue>=0.8.1->statsforecast>=1.4->u8darts[all]==0.25.0) (2.4.16)\n",
      "Requirement already satisfied: appdirs~=1.4.3 in /home/studio-lab-user/.conda/envs/default/lib/python3.9/site-packages (from fs->triad>=0.9.3->fugue>=0.8.1->statsforecast>=1.4->u8darts[all]==0.25.0) (1.4.4)\n",
      "Requirement already satisfied: MarkupSafe>=2.0 in /home/studio-lab-user/.conda/envs/default/lib/python3.9/site-packages (from jinja2->fugue>=0.8.1->statsforecast>=1.4->u8darts[all]==0.25.0) (2.1.2)\n",
      "Requirement already satisfied: tenacity>=6.2.0 in /home/studio-lab-user/.conda/envs/default/lib/python3.9/site-packages (from plotly->catboost>=1.0.6->u8darts[all]==0.25.0) (8.2.3)\n",
      "Requirement already satisfied: mpmath>=0.19 in /home/studio-lab-user/.conda/envs/default/lib/python3.9/site-packages (from sympy->torch>=1.8.0->u8darts[all]==0.25.0) (1.3.0)\n",
      "Installing collected packages: u8darts\n",
      "  Attempting uninstall: u8darts\n",
      "    Found existing installation: u8darts 0.27.0\n",
      "    Uninstalling u8darts-0.27.0:\n",
      "      Successfully uninstalled u8darts-0.27.0\n",
      "Successfully installed u8darts-0.25.0\n"
     ]
    }
   ],
   "source": [
    "!pip install u8darts[all]==0.25.0"
   ]
  },
  {
   "cell_type": "code",
   "execution_count": 1,
   "metadata": {
    "id": "Pa69QwVauuuc",
    "tags": []
   },
   "outputs": [],
   "source": [
    "from darts.datasets import WeatherDataset\n",
    "from darts.models import LightGBMModel\n",
    "from darts.utils.missing_values import missing_values_ratio, fill_missing_values\n",
    "from darts import TimeSeries"
   ]
  },
  {
   "cell_type": "code",
   "execution_count": 2,
   "metadata": {
    "tags": []
   },
   "outputs": [],
   "source": [
    "import pandas as pd"
   ]
  },
  {
   "cell_type": "code",
   "execution_count": null,
   "metadata": {},
   "outputs": [],
   "source": [
    "series = WeatherDataset().load()"
   ]
  },
  {
   "cell_type": "code",
   "execution_count": null,
   "metadata": {},
   "outputs": [],
   "source": [
    "df = series.pd_dataframe()"
   ]
  },
  {
   "cell_type": "code",
   "execution_count": null,
   "metadata": {},
   "outputs": [],
   "source": [
    "series_filled = fill_missing_values(series)\n",
    "df_filled = series_filled.pd_dataframe()"
   ]
  },
  {
   "cell_type": "code",
   "execution_count": 3,
   "metadata": {
    "id": "WVb2KUoyu8Ih",
    "tags": []
   },
   "outputs": [],
   "source": [
    "#df = pd.read_csv('Weather.csv')"
   ]
  },
  {
   "cell_type": "code",
   "execution_count": 4,
   "metadata": {
    "tags": []
   },
   "outputs": [],
   "source": [
    "#df_filled = pd.read_csv('Weather_filled.csv')"
   ]
  },
  {
   "cell_type": "code",
   "execution_count": 5,
   "metadata": {
    "tags": []
   },
   "outputs": [],
   "source": [
    "df_filled['Date Time'] = pd.to_datetime(df_filled['Date Time'])"
   ]
  },
  {
   "cell_type": "code",
   "execution_count": 6,
   "metadata": {
    "colab": {
     "base_uri": "https://localhost:8080/"
    },
    "id": "VlPKqdGtvHX6",
    "outputId": "1c294e72-fa7d-48f1-c021-529abfdcbf4f",
    "tags": []
   },
   "outputs": [
    {
     "data": {
      "text/plain": [
       "max. wv (m/s)          -0.229423\n",
       "Tpot (K)               -0.223278\n",
       "Tdew (degC)            -0.207212\n",
       "H2OC (mmol/mol)        -0.201153\n",
       "sh (g/kg)              -0.200934\n",
       "VPact (mbar)           -0.183739\n",
       "Date Time              -0.151027\n",
       "raining (s)            -0.135064\n",
       "wd (deg)               -0.129401\n",
       "T (degC)               -0.127112\n",
       "VPmax (mbar)           -0.098765\n",
       "Tlog (degC)            -0.082469\n",
       "rain (mm)              -0.071901\n",
       "rh (%)                 -0.068620\n",
       "wv (m/s)               -0.010161\n",
       "CO2 (ppm)              -0.003539\n",
       "VPdef (mbar)           -0.002633\n",
       "max. PAR (µmol/m²/s)    0.049507\n",
       "PAR (µmol/m²/s)         0.068492\n",
       "SWDR (W/m²)             0.074399\n",
       "rho (g/m**3)            0.437317\n",
       "p (mbar)                1.000000\n",
       "Name: p (mbar), dtype: float64"
      ]
     },
     "execution_count": 6,
     "metadata": {},
     "output_type": "execute_result"
    }
   ],
   "source": [
    "corr_matrix = df_filled.corr()\n",
    "corr_matrix['p (mbar)'].sort_values()"
   ]
  },
  {
   "cell_type": "code",
   "execution_count": 7,
   "metadata": {
    "tags": []
   },
   "outputs": [],
   "source": [
    "col_list = ['p (mbar)', 'T (degC)', 'Tpot (K)', 'Tdew (degC)',\n",
    "       'rh (%)', 'VPmax (mbar)', 'VPact (mbar)', 'VPdef (mbar)', 'sh (g/kg)',\n",
    "       'H2OC (mmol/mol)', 'rho (g/m**3)', 'wv (m/s)', 'max. wv (m/s)',\n",
    "       'wd (deg)', 'rain (mm)', 'raining (s)', 'SWDR (W/m²)',\n",
    "       'PAR (µmol/m²/s)', 'max. PAR (µmol/m²/s)', 'Tlog (degC)', 'CO2 (ppm)']"
   ]
  },
  {
   "cell_type": "code",
   "execution_count": 8,
   "metadata": {
    "tags": []
   },
   "outputs": [],
   "source": [
    "series_filled = TimeSeries.from_dataframe(df_filled, 'Date Time', col_list)"
   ]
  },
  {
   "cell_type": "code",
   "execution_count": 9,
   "metadata": {
    "id": "snyc0YUKvK5x",
    "tags": []
   },
   "outputs": [],
   "source": [
    "rho_normalized = (series_filled['rho (g/m**3)'] - series_filled['rho (g/m**3)'].values().min())/(series_filled['rho (g/m**3)'].values().max() - series_filled['rho (g/m**3)'].values().min())\n",
    "\n",
    "target_normalized = (series_filled['p (mbar)'] - series_filled['p (mbar)'].values().min())/(series_filled['p (mbar)'].values().max() - series_filled['p (mbar)'].values().min())\n"
   ]
  },
  {
   "cell_type": "code",
   "execution_count": 10,
   "metadata": {
    "colab": {
     "base_uri": "https://localhost:8080/",
     "height": 489
    },
    "id": "zvqpyvgxvVtX",
    "outputId": "740511ed-e6bd-40cf-a985-bea69b96328e",
    "tags": []
   },
   "outputs": [
    {
     "data": {
      "text/plain": [
       "<Axes: xlabel='Date Time'>"
      ]
     },
     "execution_count": 10,
     "metadata": {},
     "output_type": "execute_result"
    },
    {
     "data": {
      "image/png": "[encoded data removed]",
      "text/plain": [
       "<Figure size 640x480 with 1 Axes>"
      ]
     },
     "metadata": {},
     "output_type": "display_data"
    }
   ],
   "source": [
    "rho_normalized.plot() # MTR\n",
    "target_normalized.plot()"
   ]
  },
  {
   "cell_type": "code",
   "execution_count": 11,
   "metadata": {
    "id": "j9Cr76QyvesY",
    "tags": []
   },
   "outputs": [],
   "source": [
    "num_test = 6*24 # granularity is 10 mins so 6*24 is one day.\n",
    "output_chunk_len = 6*1 # one hour: how many samples to predcit with each .predict()\n",
    "\n",
    "if output_chunk_len == num_test:\n",
    "    num_forecast_rolls = 1\n",
    "else:\n",
    "    num_forecast_rolls = int(num_test/output_chunk_len)\n"
   ]
  },
  {
   "cell_type": "code",
   "execution_count": 12,
   "metadata": {
    "id": "8aUm-w0E6UA6",
    "tags": []
   },
   "outputs": [],
   "source": [
    "num_samples_selected_for_train_and_test = 6*24*31\n",
    "series_filled_selected = series_filled[:num_samples_selected_for_train_and_test]"
   ]
  },
  {
   "cell_type": "code",
   "execution_count": 13,
   "metadata": {
    "id": "3J1lt0auwVZg",
    "tags": []
   },
   "outputs": [],
   "source": [
    "target_series = series_filled_selected['p (mbar)']\n",
    "past_covariates = series_filled_selected['rain (mm)']\n",
    "future_cov = series_filled_selected['T (degC)']\n",
    "\n",
    "target_series_train, target_series_test = target_series[:-num_test], target_series[-num_test:]\n",
    "#past_covariates_train, past_covariates_test = past_covariates[:-num_test], past_covariates[-num_test:]\n",
    "#future_cov_train, future_cov_test = future_cov[:-num_test], future_cov[-num_test:]\n",
    "\n",
    "# lags_past_covariates=output_chunk_len, lags_future_covariates=[0,1,2,3,4,5],\n",
    "\n"
   ]
  },
  {
   "cell_type": "code",
   "execution_count": 14,
   "metadata": {
    "id": "PoLXOLaYJk0z",
    "tags": []
   },
   "outputs": [],
   "source": [
    "from darts import TimeSeries\n",
    "import numpy as np\n"
   ]
  },
  {
   "cell_type": "code",
   "execution_count": 15,
   "metadata": {
    "colab": {
     "base_uri": "https://localhost:8080/"
    },
    "id": "kzMyzL6lK766",
    "outputId": "20089ad8-422b-4926-baa4-5980bf91d408",
    "tags": []
   },
   "outputs": [
    {
     "data": {
      "text/plain": [
       "24"
      ]
     },
     "execution_count": 15,
     "metadata": {},
     "output_type": "execute_result"
    }
   ],
   "source": [
    "num_forecast_rolls"
   ]
  },
  {
   "cell_type": "code",
   "execution_count": 16,
   "metadata": {
    "colab": {
     "base_uri": "https://localhost:8080/"
    },
    "id": "prO3bARRaiVh",
    "outputId": "901b18cf-3f64-4150-bc04-f9c4eb7cc34e",
    "tags": []
   },
   "outputs": [
    {
     "data": {
      "text/plain": [
       "30.0"
      ]
     },
     "execution_count": 16,
     "metadata": {},
     "output_type": "execute_result"
    }
   ],
   "source": [
    "len(target_series_train)/24/6"
   ]
  },
  {
   "cell_type": "code",
   "execution_count": 17,
   "metadata": {
    "colab": {
     "base_uri": "https://localhost:8080/"
    },
    "id": "szhPE0xgvs5B",
    "outputId": "cee2ed85-e425-4c0d-ebb1-f867fc5769a5",
    "tags": []
   },
   "outputs": [
    {
     "name": "stdout",
     "output_type": "stream",
     "text": [
      "curr_roll= 0\n",
      "curr_roll= 1\n",
      "curr_roll= 2\n",
      "curr_roll= 3\n",
      "curr_roll= 4\n",
      "curr_roll= 5\n",
      "curr_roll= 6\n",
      "curr_roll= 7\n",
      "curr_roll= 8\n",
      "curr_roll= 9\n",
      "curr_roll= 10\n",
      "curr_roll= 11\n",
      "curr_roll= 12\n",
      "curr_roll= 13\n",
      "curr_roll= 14\n",
      "curr_roll= 15\n",
      "curr_roll= 16\n",
      "curr_roll= 17\n",
      "curr_roll= 18\n",
      "curr_roll= 19\n",
      "curr_roll= 20\n",
      "curr_roll= 21\n",
      "curr_roll= 22\n",
      "curr_roll= 23\n"
     ]
    }
   ],
   "source": [
    "#all_preds = TimeSeries.from_values(np.array([])) # Did not work!\n",
    "all_preds = [] # TODO: this has to be replaced with a TimeSeries as opposed to a raw list\n",
    "\n",
    "for curr_roll in range(num_forecast_rolls):\n",
    "    print('curr_roll=', curr_roll)\n",
    "\n",
    "    curr_roll_model = LightGBMModel(\n",
    "    lags=output_chunk_len,\n",
    "    output_chunk_length=output_chunk_len,\n",
    "    verbose=-1,\n",
    "     n_jobs=-1\n",
    "    )\n",
    "\n",
    "    if curr_roll == 0:\n",
    "        target_series_train_for_this_roll = target_series_train\n",
    "    else:\n",
    "        try:\n",
    "\n",
    "            target_series_to_be_appended = target_series_test[\n",
    "              (curr_roll-1)*output_chunk_len:(curr_roll-1)*output_chunk_len+output_chunk_len\n",
    "              ]\n",
    "\n",
    "            # TODO: Why do i keep getting error when using append instead of append values?\n",
    "            # append would be much safer (making sure indicies are not messed up!) than current append_values.\n",
    "            target_series_train_for_this_roll = target_series_train_for_this_roll.append_values(\n",
    "              target_series_to_be_appended.values()\n",
    "              )\n",
    "        except:\n",
    "            print('curr_roll=', curr_roll)\n",
    "            print('target_series_to_be_appended', target_series_to_be_appended.time_index)\n",
    "            print('target_series_train_for_this_roll', target_series_train_for_this_roll.time_index)\n",
    "            assert(False)\n",
    "\n",
    "\n",
    "    curr_roll_model.fit(target_series_train_for_this_roll)\n",
    "    curr_roll_preds = curr_roll_model.predict(output_chunk_len)\n",
    "    all_preds.append(list(curr_roll_preds.values().flatten()))"
   ]
  },
  {
   "cell_type": "code",
   "execution_count": null,
   "metadata": {
    "id": "C7-pH2SOOH_v"
   },
   "outputs": [],
   "source": []
  },
  {
   "cell_type": "code",
   "execution_count": 37,
   "metadata": {
    "colab": {
     "base_uri": "https://localhost:8080/",
     "height": 499
    },
    "id": "f7CU0H0yvv7J",
    "outputId": "5754e41c-fe99-4670-bb93-b51708950cc9",
    "tags": []
   },
   "outputs": [
    {
     "data": {
      "text/plain": [
       "<Axes: xlabel='Date Time'>"
      ]
     },
     "execution_count": 37,
     "metadata": {},
     "output_type": "execute_result"
    },
    {
     "data": {
      "image/png": "[encoded data removed]",
      "text/plain": [
       "<Figure size 640x480 with 1 Axes>"
      ]
     },
     "metadata": {},
     "output_type": "display_data"
    }
   ],
   "source": [
    "#pred.plot(label='preds')\n",
    "target_series_train.plot(label='actuals')\n",
    "target_series_test.plot(label='actuals')\n",
    "\n"
   ]
  },
  {
   "cell_type": "code",
   "execution_count": 19,
   "metadata": {
    "colab": {
     "base_uri": "https://localhost:8080/",
     "height": 447
    },
    "id": "ix7X567n5zFJ",
    "outputId": "5a8be34d-9101-4f87-d525-57d5c786f1c1",
    "tags": []
   },
   "outputs": [
    {
     "data": {
      "text/plain": [
       "<matplotlib.legend.Legend at 0x7f872f4ccb20>"
      ]
     },
     "execution_count": 19,
     "metadata": {},
     "output_type": "execute_result"
    },
    {
     "data": {
      "image/png": "[encoded data removed]",
      "text/plain": [
       "<Figure size 640x480 with 1 Axes>"
      ]
     },
     "metadata": {},
     "output_type": "display_data"
    }
   ],
   "source": [
    "import matplotlib.pyplot as plt\n",
    "plt.plot(target_series_test.values().flatten(), label='actual test values')\n",
    "plt.plot(np.array(all_preds).flatten(), label='forecasted test values')\n",
    "plt.legend()"
   ]
  },
  {
   "cell_type": "markdown",
   "metadata": {
    "id": "MRRtNotuYn3l"
   },
   "source": [
    "### RNN"
   ]
  },
  {
   "cell_type": "code",
   "execution_count": 40,
   "metadata": {
    "tags": []
   },
   "outputs": [
    {
     "data": {
      "text/plain": [
       "4320"
      ]
     },
     "execution_count": 40,
     "metadata": {},
     "output_type": "execute_result"
    }
   ],
   "source": [
    "len(target_series_train)"
   ]
  },
  {
   "cell_type": "code",
   "execution_count": 20,
   "metadata": {
    "id": "F0Ich-Ym7Jkj",
    "tags": []
   },
   "outputs": [],
   "source": [
    "from darts.models import RNNModel"
   ]
  },
  {
   "cell_type": "code",
   "execution_count": 21,
   "metadata": {
    "colab": {
     "base_uri": "https://localhost:8080/",
     "height": 54
    },
    "id": "OVwt6l1Tq2kg",
    "outputId": "0ec0f109-9da7-4a07-d603-5a8e3a365917",
    "tags": []
   },
   "outputs": [
    {
     "data": {
      "text/plain": [
       "'\\nmodel = SomeTorchForecastingModel(\\n    ...,\\n    nr_epochs_val_period=1,  # perform validation after every epoch\\n    pl_trainer_kwargs={\"callbacks\": [loss_logger]}\\n)\\n\\n# fit must include validation set for \"val_loss\"\\nmodel.fit(...)\\n'"
      ]
     },
     "execution_count": 21,
     "metadata": {},
     "output_type": "execute_result"
    }
   ],
   "source": [
    "from pytorch_lightning.callbacks import Callback\n",
    "\n",
    "class LossLogger(Callback):\n",
    "    def __init__(self):\n",
    "        self.train_loss = []\n",
    "        self.val_loss = []\n",
    "\n",
    "    # will automatically be called at the end of each epoch\n",
    "    def on_train_epoch_end(self, trainer: \"pl.Trainer\", pl_module: \"pl.LightningModule\") -> None:\n",
    "        self.train_loss.append(float(trainer.callback_metrics[\"train_loss\"]))\n",
    "\n",
    "    '''\n",
    "    def on_validation_epoch_end(self, trainer: \"pl.Trainer\", pl_module: \"pl.LightningModule\") -> None:\n",
    "        self.val_loss.append(float(trainer.callback_metrics[\"val_loss\"]))\n",
    "    '''\n",
    "\n",
    "\n",
    "loss_logger = LossLogger()\n",
    "'''\n",
    "model = SomeTorchForecastingModel(\n",
    "    ...,\n",
    "    nr_epochs_val_period=1,  # perform validation after every epoch\n",
    "    pl_trainer_kwargs={\"callbacks\": [loss_logger]}\n",
    ")\n",
    "\n",
    "# fit must include validation set for \"val_loss\"\n",
    "model.fit(...)\n",
    "'''\n"
   ]
  },
  {
   "cell_type": "code",
   "execution_count": 22,
   "metadata": {
    "id": "yTAf6B5txTXG",
    "tags": []
   },
   "outputs": [],
   "source": [
    "try:\n",
    "    del rnn_model\n",
    "    del fitted_model\n",
    "except:\n",
    "    pass"
   ]
  },
  {
   "cell_type": "code",
   "execution_count": 23,
   "metadata": {
    "colab": {
     "base_uri": "https://localhost:8080/",
     "height": 181
    },
    "id": "-I_YSeK9xU63",
    "outputId": "084c3cf0-8c33-4899-a4fe-5b3af73cdafc",
    "tags": []
   },
   "outputs": [
    {
     "ename": "NameError",
     "evalue": "name 'rnn_model' is not defined",
     "output_type": "error",
     "traceback": [
      "\u001b[0;31m---------------------------------------------------------------------------\u001b[0m",
      "\u001b[0;31mNameError\u001b[0m                                 Traceback (most recent call last)",
      "\u001b[0;32m/tmp/ipykernel_91/2217728819.py\u001b[0m in \u001b[0;36m<cell line: 1>\u001b[0;34m()\u001b[0m\n\u001b[0;32m----> 1\u001b[0;31m \u001b[0mrnn_model\u001b[0m\u001b[0;34m\u001b[0m\u001b[0;34m\u001b[0m\u001b[0m\n\u001b[0m",
      "\u001b[0;31mNameError\u001b[0m: name 'rnn_model' is not defined"
     ]
    }
   ],
   "source": [
    "rnn_model"
   ]
  },
  {
   "cell_type": "code",
   "execution_count": 41,
   "metadata": {
    "id": "qRAVOFfgX-6x",
    "tags": []
   },
   "outputs": [],
   "source": [
    "\n",
    "\n",
    "import torch\n",
    "\n",
    "rnn_model = RNNModel(\n",
    "    model=\"LSTM\",\n",
    "    dropout=0,\n",
    "    optimizer_kwargs={\"lr\": 1e-2},\n",
    "    model_name=\"Weather_RNN\",\n",
    "    log_tensorboard=True,\n",
    "    random_state=42,\n",
    "    training_length=2*output_chunk_len, #TODO\n",
    "    input_chunk_length=output_chunk_len,\n",
    "    force_reset=True,\n",
    "    save_checkpoints=False,\n",
    "    pl_trainer_kwargs={\"callbacks\": [loss_logger]},\n",
    "    lr_scheduler_cls=torch.optim.lr_scheduler.ExponentialLR,\n",
    "    lr_scheduler_kwargs={\"gamma\": 0.09}\n",
    ")\n"
   ]
  },
  {
   "cell_type": "code",
   "execution_count": 42,
   "metadata": {
    "colab": {
     "base_uri": "https://localhost:8080/",
     "height": 72
    },
    "id": "FEEGpg7EZpLz",
    "outputId": "59089a51-c564-441d-f82f-e25cc8d42c86",
    "tags": []
   },
   "outputs": [
    {
     "data": {
      "text/plain": [
       "'\\nTODO:\\nSetting training_length? Darts say: The length of both input (target and covariates)\\nand output (target) time series used during training. Generally speaking, `training_length`\\nshould have a higher value than `input_chunk_length` because otherwise during training the RNN\\nis never run for as many iterations as it will during inference.\\nFor more information on this parameter, please see `darts.utils.data.ShiftedDataset`\\n'"
      ]
     },
     "execution_count": 42,
     "metadata": {},
     "output_type": "execute_result"
    }
   ],
   "source": [
    "'''\n",
    "TODO:\n",
    "Setting training_length? Darts say: The length of both input (target and covariates)\n",
    "and output (target) time series used during training. Generally speaking, `training_length`\n",
    "should have a higher value than `input_chunk_length` because otherwise during training the RNN\n",
    "is never run for as many iterations as it will during inference.\n",
    "For more information on this parameter, please see `darts.utils.data.ShiftedDataset`\n",
    "'''"
   ]
  },
  {
   "cell_type": "code",
   "execution_count": 43,
   "metadata": {
    "colab": {
     "base_uri": "https://localhost:8080/",
     "height": 396,
     "referenced_widgets": [
      "664bf7a05dcf4c03b9614345377a10b1",
      "ad22e50ee000426f84173fcc04c39472",
      "d2346100fc2448f18ce00fd8cd5edb0d",
      "cad060f9235e49d1a12b5d46e5659a09",
      "9b841ff7f9504572be328cae6cb50f15",
      "5880cc0670174f3ea7da1b76724082fe",
      "4d197bdeae6e4361bc3434226ba58de7",
      "b881fed6c44e4bdeb2de4281cfc437b8",
      "a148960a2fd84283970115820ef28140",
      "c991e94a52624d398e025dd561935e0d",
      "b2200b4bb20f49f782b7dfa774fb1811"
     ]
    },
    "id": "e5lnc45GanqV",
    "outputId": "e5cdeb30-74e0-4e93-a095-6f84179852c7",
    "tags": []
   },
   "outputs": [
    {
     "name": "stderr",
     "output_type": "stream",
     "text": [
      "GPU available: False, used: False\n",
      "TPU available: False, using: 0 TPU cores\n",
      "IPU available: False, using: 0 IPUs\n",
      "HPU available: False, using: 0 HPUs\n",
      "\n",
      "  | Name          | Type             | Params\n",
      "---------------------------------------------------\n",
      "0 | criterion     | MSELoss          | 0     \n",
      "1 | train_metrics | MetricCollection | 0     \n",
      "2 | val_metrics   | MetricCollection | 0     \n",
      "3 | rnn           | LSTM             | 2.8 K \n",
      "4 | V             | Linear           | 26    \n",
      "---------------------------------------------------\n",
      "2.8 K     Trainable params\n",
      "0         Non-trainable params\n",
      "2.8 K     Total params\n",
      "0.011     Total estimated model params size (MB)\n"
     ]
    },
    {
     "data": {
      "application/vnd.jupyter.widget-view+json": {
       "model_id": "030bfb0e9fdb447cb4985d9a89d5a24e",
       "version_major": 2,
       "version_minor": 0
      },
      "text/plain": [
       "Training: |          | 0/? [00:00<?, ?it/s]"
      ]
     },
     "metadata": {},
     "output_type": "display_data"
    },
    {
     "name": "stderr",
     "output_type": "stream",
     "text": [
      "`Trainer.fit` stopped: `max_epochs=100` reached.\n"
     ]
    },
    {
     "name": "stdout",
     "output_type": "stream",
     "text": [
      "CPU times: user 5min 29s, sys: 10.4 s, total: 5min 39s\n",
      "Wall time: 3min 50s\n"
     ]
    }
   ],
   "source": [
    "%%time\n",
    "fitted_model = rnn_model.fit(target_series_train)"
   ]
  },
  {
   "cell_type": "code",
   "execution_count": 44,
   "metadata": {
    "colab": {
     "base_uri": "https://localhost:8080/"
    },
    "id": "qTkhXrpvrnNT",
    "outputId": "ed984289-b137-40aa-e9e8-a7d4c9c0ad80",
    "tags": []
   },
   "outputs": [
    {
     "data": {
      "text/plain": [
       "RNNModel(model=LSTM, hidden_dim=25, n_rnn_layers=1, dropout=0, training_length=12, optimizer_kwargs={'lr': 0.01}, model_name=Weather_RNN, log_tensorboard=True, random_state=42, input_chunk_length=6, force_reset=True, save_checkpoints=False, pl_trainer_kwargs={'callbacks': [<__main__.LossLogger object at 0x7f8728539dc0>]}, lr_scheduler_cls=<class 'torch.optim.lr_scheduler.ExponentialLR'>, lr_scheduler_kwargs={'gamma': 0.09})"
      ]
     },
     "execution_count": 44,
     "metadata": {},
     "output_type": "execute_result"
    }
   ],
   "source": [
    "fitted_model"
   ]
  },
  {
   "cell_type": "code",
   "execution_count": 45,
   "metadata": {
    "colab": {
     "base_uri": "https://localhost:8080/",
     "height": 451
    },
    "id": "8zl1QagdsTii",
    "outputId": "0613e8e1-9d97-44f9-ae21-af1be608240a",
    "tags": []
   },
   "outputs": [
    {
     "data": {
      "text/plain": [
       "[<matplotlib.lines.Line2D at 0x7f87284ba730>]"
      ]
     },
     "execution_count": 45,
     "metadata": {},
     "output_type": "execute_result"
    },
    {
     "data": {
      "image/png": "[encoded data removed]",
      "text/plain": [
       "<Figure size 640x480 with 1 Axes>"
      ]
     },
     "metadata": {},
     "output_type": "display_data"
    }
   ],
   "source": [
    "plt.plot(loss_logger.train_loss[:])"
   ]
  },
  {
   "cell_type": "code",
   "execution_count": 46,
   "metadata": {
    "colab": {
     "base_uri": "https://localhost:8080/",
     "height": 140,
     "referenced_widgets": [
      "67f7fbe99f6d4771b5eea880a8e6580d",
      "fb73ac75cfed4aa2aaa3ed72e85188dd",
      "b905a5cdf9e046d0be99ea8c30a5a226",
      "eaf33542b5404e1794bc2aa73b26b462",
      "bd1434e539064ce9a728815eab2b9373",
      "431ba1c8060847a6b0167d79e233496c",
      "fe96c653bba54bd59d3a9a5f18f0f506",
      "94609869f4e8445fad097f886ddc9b2c",
      "606645febbbd45aa9d53bbdbf7843931",
      "fc416fff0d0d4308a2599d5897a83849",
      "0a091e0503a043b3851c74cc7790c57f"
     ]
    },
    "id": "oAVH58UEYd85",
    "outputId": "2b4d17b1-b97e-4651-98c5-8aac9052311e",
    "tags": []
   },
   "outputs": [
    {
     "name": "stderr",
     "output_type": "stream",
     "text": [
      "GPU available: False, used: False\n",
      "TPU available: False, using: 0 TPU cores\n",
      "IPU available: False, using: 0 IPUs\n",
      "HPU available: False, using: 0 HPUs\n"
     ]
    },
    {
     "data": {
      "application/vnd.jupyter.widget-view+json": {
       "model_id": "140458d2a8e5474dbc7aba07bb809672",
       "version_major": 2,
       "version_minor": 0
      },
      "text/plain": [
       "Predicting: |          | 0/? [00:00<?, ?it/s]"
      ]
     },
     "metadata": {},
     "output_type": "display_data"
    }
   ],
   "source": [
    "rnn_preds = rnn_model.predict(num_test)"
   ]
  },
  {
   "cell_type": "code",
   "execution_count": 1,
   "metadata": {
    "tags": []
   },
   "outputs": [
    {
     "ename": "NameError",
     "evalue": "name 'rnn_preds' is not defined",
     "output_type": "error",
     "traceback": [
      "\u001b[0;31m---------------------------------------------------------------------------\u001b[0m",
      "\u001b[0;31mNameError\u001b[0m                                 Traceback (most recent call last)",
      "\u001b[0;32m/tmp/ipykernel_102/1981415280.py\u001b[0m in \u001b[0;36m<cell line: 1>\u001b[0;34m()\u001b[0m\n\u001b[0;32m----> 1\u001b[0;31m \u001b[0mrnn_preds\u001b[0m\u001b[0;34m.\u001b[0m\u001b[0mplot\u001b[0m\u001b[0;34m(\u001b[0m\u001b[0;34m)\u001b[0m\u001b[0;34m\u001b[0m\u001b[0;34m\u001b[0m\u001b[0m\n\u001b[0m\u001b[1;32m      2\u001b[0m \u001b[0mtarget_series_test\u001b[0m\u001b[0;34m.\u001b[0m\u001b[0mplot\u001b[0m\u001b[0;34m(\u001b[0m\u001b[0mlabel\u001b[0m\u001b[0;34m=\u001b[0m\u001b[0;34m'actuals_test'\u001b[0m\u001b[0;34m)\u001b[0m\u001b[0;34m\u001b[0m\u001b[0;34m\u001b[0m\u001b[0m\n",
      "\u001b[0;31mNameError\u001b[0m: name 'rnn_preds' is not defined"
     ]
    }
   ],
   "source": [
    "rnn_preds.plot()\n",
    "target_series_test.plot(label='actuals_test')"
   ]
  },
  {
   "cell_type": "code",
   "execution_count": 47,
   "metadata": {
    "colab": {
     "base_uri": "https://localhost:8080/",
     "height": 505
    },
    "id": "uqgoetb7d3wk",
    "outputId": "7366b428-f84a-4187-e064-78328ec43537",
    "tags": []
   },
   "outputs": [
    {
     "data": {
      "text/plain": [
       "<Axes: xlabel='Date Time'>"
      ]
     },
     "execution_count": 47,
     "metadata": {},
     "output_type": "execute_result"
    },
    {
     "data": {
      "image/png": "[encoded data removed]",
      "text/plain": [
       "<Figure size 640x480 with 1 Axes>"
      ]
     },
     "metadata": {},
     "output_type": "display_data"
    }
   ],
   "source": [
    "rnn_preds.plot()"
   ]
  },
  {
   "cell_type": "code",
   "execution_count": 48,
   "metadata": {
    "colab": {
     "base_uri": "https://localhost:8080/",
     "height": 499
    },
    "id": "cVDUmihvcE4E",
    "outputId": "069ce0d5-3ce9-410c-b7bc-138220a88125",
    "tags": []
   },
   "outputs": [
    {
     "data": {
      "text/plain": [
       "<Axes: xlabel='Date Time'>"
      ]
     },
     "execution_count": 48,
     "metadata": {},
     "output_type": "execute_result"
    },
    {
     "data": {
      "image/png": "[encoded data removed]",
      "text/plain": [
       "<Figure size 640x480 with 1 Axes>"
      ]
     },
     "metadata": {},
     "output_type": "display_data"
    }
   ],
   "source": [
    "rnn_preds.plot(label='RNN')\n",
    "target_series_train.plot(label='actuals_train')\n",
    "target_series_test.plot(label='actuals_test')\n"
   ]
  },
  {
   "cell_type": "code",
   "execution_count": null,
   "metadata": {},
   "outputs": [],
   "source": []
  },
  {
   "cell_type": "code",
   "execution_count": 27,
   "metadata": {
    "id": "1E7XDTl-clBN"
   },
   "outputs": [],
   "source": []
  }
 ],
 "metadata": {
  "accelerator": "GPU",
  "colab": {
   "gpuType": "T4",
   "provenance": []
  },
  "kernelspec": {
   "display_name": "default:Python",
   "language": "python",
   "name": "conda-env-default-py"
  },
  "language_info": {
   "codemirror_mode": {
    "name": "ipython",
    "version": 3
   },
   "file_extension": ".py",
   "mimetype": "text/x-python",
   "name": "python",
   "nbconvert_exporter": "python",
   "pygments_lexer": "ipython3",
   "version": "3.9.16"
  },
  "widgets": {
   "application/vnd.jupyter.widget-state+json": {
    "0a091e0503a043b3851c74cc7790c57f": {
     "model_module": "@jupyter-widgets/controls",
     "model_module_version": "1.5.0",
     "model_name": "DescriptionStyleModel",
     "state": {
      "_model_module": "@jupyter-widgets/controls",
      "_model_module_version": "1.5.0",
      "_model_name": "DescriptionStyleModel",
      "_view_count": null,
      "_view_module": "@jupyter-widgets/base",
      "_view_module_version": "1.2.0",
      "_view_name": "StyleView",
      "description_width": ""
     }
    },
    "431ba1c8060847a6b0167d79e233496c": {
     "model_module": "@jupyter-widgets/base",
     "model_module_version": "1.2.0",
     "model_name": "LayoutModel",
     "state": {
      "_model_module": "@jupyter-widgets/base",
      "_model_module_version": "1.2.0",
      "_model_name": "LayoutModel",
      "_view_count": null,
      "_view_module": "@jupyter-widgets/base",
      "_view_module_version": "1.2.0",
      "_view_name": "LayoutView",
      "align_content": null,
      "align_items": null,
      "align_self": null,
      "border": null,
      "bottom": null,
      "display": null,
      "flex": null,
      "flex_flow": null,
      "grid_area": null,
      "grid_auto_columns": null,
      "grid_auto_flow": null,
      "grid_auto_rows": null,
      "grid_column": null,
      "grid_gap": null,
      "grid_row": null,
      "grid_template_areas": null,
      "grid_template_columns": null,
      "grid_template_rows": null,
      "height": null,
      "justify_content": null,
      "justify_items": null,
      "left": null,
      "margin": null,
      "max_height": null,
      "max_width": null,
      "min_height": null,
      "min_width": null,
      "object_fit": null,
      "object_position": null,
      "order": null,
      "overflow": null,
      "overflow_x": null,
      "overflow_y": null,
      "padding": null,
      "right": null,
      "top": null,
      "visibility": null,
      "width": null
     }
    },
    "4d197bdeae6e4361bc3434226ba58de7": {
     "model_module": "@jupyter-widgets/controls",
     "model_module_version": "1.5.0",
     "model_name": "DescriptionStyleModel",
     "state": {
      "_model_module": "@jupyter-widgets/controls",
      "_model_module_version": "1.5.0",
      "_model_name": "DescriptionStyleModel",
      "_view_count": null,
      "_view_module": "@jupyter-widgets/base",
      "_view_module_version": "1.2.0",
      "_view_name": "StyleView",
      "description_width": ""
     }
    },
    "5880cc0670174f3ea7da1b76724082fe": {
     "model_module": "@jupyter-widgets/base",
     "model_module_version": "1.2.0",
     "model_name": "LayoutModel",
     "state": {
      "_model_module": "@jupyter-widgets/base",
      "_model_module_version": "1.2.0",
      "_model_name": "LayoutModel",
      "_view_count": null,
      "_view_module": "@jupyter-widgets/base",
      "_view_module_version": "1.2.0",
      "_view_name": "LayoutView",
      "align_content": null,
      "align_items": null,
      "align_self": null,
      "border": null,
      "bottom": null,
      "display": null,
      "flex": null,
      "flex_flow": null,
      "grid_area": null,
      "grid_auto_columns": null,
      "grid_auto_flow": null,
      "grid_auto_rows": null,
      "grid_column": null,
      "grid_gap": null,
      "grid_row": null,
      "grid_template_areas": null,
      "grid_template_columns": null,
      "grid_template_rows": null,
      "height": null,
      "justify_content": null,
      "justify_items": null,
      "left": null,
      "margin": null,
      "max_height": null,
      "max_width": null,
      "min_height": null,
      "min_width": null,
      "object_fit": null,
      "object_position": null,
      "order": null,
      "overflow": null,
      "overflow_x": null,
      "overflow_y": null,
      "padding": null,
      "right": null,
      "top": null,
      "visibility": null,
      "width": null
     }
    },
    "606645febbbd45aa9d53bbdbf7843931": {
     "model_module": "@jupyter-widgets/controls",
     "model_module_version": "1.5.0",
     "model_name": "ProgressStyleModel",
     "state": {
      "_model_module": "@jupyter-widgets/controls",
      "_model_module_version": "1.5.0",
      "_model_name": "ProgressStyleModel",
      "_view_count": null,
      "_view_module": "@jupyter-widgets/base",
      "_view_module_version": "1.2.0",
      "_view_name": "StyleView",
      "bar_color": null,
      "description_width": ""
     }
    },
    "664bf7a05dcf4c03b9614345377a10b1": {
     "model_module": "@jupyter-widgets/controls",
     "model_module_version": "1.5.0",
     "model_name": "HBoxModel",
     "state": {
      "_dom_classes": [],
      "_model_module": "@jupyter-widgets/controls",
      "_model_module_version": "1.5.0",
      "_model_name": "HBoxModel",
      "_view_count": null,
      "_view_module": "@jupyter-widgets/controls",
      "_view_module_version": "1.5.0",
      "_view_name": "HBoxView",
      "box_style": "",
      "children": [
       "IPY_MODEL_ad22e50ee000426f84173fcc04c39472",
       "IPY_MODEL_d2346100fc2448f18ce00fd8cd5edb0d",
       "IPY_MODEL_cad060f9235e49d1a12b5d46e5659a09"
      ],
      "layout": "IPY_MODEL_9b841ff7f9504572be328cae6cb50f15"
     }
    },
    "67f7fbe99f6d4771b5eea880a8e6580d": {
     "model_module": "@jupyter-widgets/controls",
     "model_module_version": "1.5.0",
     "model_name": "HBoxModel",
     "state": {
      "_dom_classes": [],
      "_model_module": "@jupyter-widgets/controls",
      "_model_module_version": "1.5.0",
      "_model_name": "HBoxModel",
      "_view_count": null,
      "_view_module": "@jupyter-widgets/controls",
      "_view_module_version": "1.5.0",
      "_view_name": "HBoxView",
      "box_style": "",
      "children": [
       "IPY_MODEL_fb73ac75cfed4aa2aaa3ed72e85188dd",
       "IPY_MODEL_b905a5cdf9e046d0be99ea8c30a5a226",
       "IPY_MODEL_eaf33542b5404e1794bc2aa73b26b462"
      ],
      "layout": "IPY_MODEL_bd1434e539064ce9a728815eab2b9373"
     }
    },
    "94609869f4e8445fad097f886ddc9b2c": {
     "model_module": "@jupyter-widgets/base",
     "model_module_version": "1.2.0",
     "model_name": "LayoutModel",
     "state": {
      "_model_module": "@jupyter-widgets/base",
      "_model_module_version": "1.2.0",
      "_model_name": "LayoutModel",
      "_view_count": null,
      "_view_module": "@jupyter-widgets/base",
      "_view_module_version": "1.2.0",
      "_view_name": "LayoutView",
      "align_content": null,
      "align_items": null,
      "align_self": null,
      "border": null,
      "bottom": null,
      "display": null,
      "flex": "2",
      "flex_flow": null,
      "grid_area": null,
      "grid_auto_columns": null,
      "grid_auto_flow": null,
      "grid_auto_rows": null,
      "grid_column": null,
      "grid_gap": null,
      "grid_row": null,
      "grid_template_areas": null,
      "grid_template_columns": null,
      "grid_template_rows": null,
      "height": null,
      "justify_content": null,
      "justify_items": null,
      "left": null,
      "margin": null,
      "max_height": null,
      "max_width": null,
      "min_height": null,
      "min_width": null,
      "object_fit": null,
      "object_position": null,
      "order": null,
      "overflow": null,
      "overflow_x": null,
      "overflow_y": null,
      "padding": null,
      "right": null,
      "top": null,
      "visibility": null,
      "width": null
     }
    },
    "9b841ff7f9504572be328cae6cb50f15": {
     "model_module": "@jupyter-widgets/base",
     "model_module_version": "1.2.0",
     "model_name": "LayoutModel",
     "state": {
      "_model_module": "@jupyter-widgets/base",
      "_model_module_version": "1.2.0",
      "_model_name": "LayoutModel",
      "_view_count": null,
      "_view_module": "@jupyter-widgets/base",
      "_view_module_version": "1.2.0",
      "_view_name": "LayoutView",
      "align_content": null,
      "align_items": null,
      "align_self": null,
      "border": null,
      "bottom": null,
      "display": "inline-flex",
      "flex": null,
      "flex_flow": "row wrap",
      "grid_area": null,
      "grid_auto_columns": null,
      "grid_auto_flow": null,
      "grid_auto_rows": null,
      "grid_column": null,
      "grid_gap": null,
      "grid_row": null,
      "grid_template_areas": null,
      "grid_template_columns": null,
      "grid_template_rows": null,
      "height": null,
      "justify_content": null,
      "justify_items": null,
      "left": null,
      "margin": null,
      "max_height": null,
      "max_width": null,
      "min_height": null,
      "min_width": null,
      "object_fit": null,
      "object_position": null,
      "order": null,
      "overflow": null,
      "overflow_x": null,
      "overflow_y": null,
      "padding": null,
      "right": null,
      "top": null,
      "visibility": null,
      "width": "100%"
     }
    },
    "a148960a2fd84283970115820ef28140": {
     "model_module": "@jupyter-widgets/controls",
     "model_module_version": "1.5.0",
     "model_name": "ProgressStyleModel",
     "state": {
      "_model_module": "@jupyter-widgets/controls",
      "_model_module_version": "1.5.0",
      "_model_name": "ProgressStyleModel",
      "_view_count": null,
      "_view_module": "@jupyter-widgets/base",
      "_view_module_version": "1.2.0",
      "_view_name": "StyleView",
      "bar_color": null,
      "description_width": ""
     }
    },
    "ad22e50ee000426f84173fcc04c39472": {
     "model_module": "@jupyter-widgets/controls",
     "model_module_version": "1.5.0",
     "model_name": "HTMLModel",
     "state": {
      "_dom_classes": [],
      "_model_module": "@jupyter-widgets/controls",
      "_model_module_version": "1.5.0",
      "_model_name": "HTMLModel",
      "_view_count": null,
      "_view_module": "@jupyter-widgets/controls",
      "_view_module_version": "1.5.0",
      "_view_name": "HTMLView",
      "description": "",
      "description_tooltip": null,
      "layout": "IPY_MODEL_5880cc0670174f3ea7da1b76724082fe",
      "placeholder": "​",
      "style": "IPY_MODEL_4d197bdeae6e4361bc3434226ba58de7",
      "value": "Epoch 199: 100%"
     }
    },
    "b2200b4bb20f49f782b7dfa774fb1811": {
     "model_module": "@jupyter-widgets/controls",
     "model_module_version": "1.5.0",
     "model_name": "DescriptionStyleModel",
     "state": {
      "_model_module": "@jupyter-widgets/controls",
      "_model_module_version": "1.5.0",
      "_model_name": "DescriptionStyleModel",
      "_view_count": null,
      "_view_module": "@jupyter-widgets/base",
      "_view_module_version": "1.2.0",
      "_view_name": "StyleView",
      "description_width": ""
     }
    },
    "b881fed6c44e4bdeb2de4281cfc437b8": {
     "model_module": "@jupyter-widgets/base",
     "model_module_version": "1.2.0",
     "model_name": "LayoutModel",
     "state": {
      "_model_module": "@jupyter-widgets/base",
      "_model_module_version": "1.2.0",
      "_model_name": "LayoutModel",
      "_view_count": null,
      "_view_module": "@jupyter-widgets/base",
      "_view_module_version": "1.2.0",
      "_view_name": "LayoutView",
      "align_content": null,
      "align_items": null,
      "align_self": null,
      "border": null,
      "bottom": null,
      "display": null,
      "flex": "2",
      "flex_flow": null,
      "grid_area": null,
      "grid_auto_columns": null,
      "grid_auto_flow": null,
      "grid_auto_rows": null,
      "grid_column": null,
      "grid_gap": null,
      "grid_row": null,
      "grid_template_areas": null,
      "grid_template_columns": null,
      "grid_template_rows": null,
      "height": null,
      "justify_content": null,
      "justify_items": null,
      "left": null,
      "margin": null,
      "max_height": null,
      "max_width": null,
      "min_height": null,
      "min_width": null,
      "object_fit": null,
      "object_position": null,
      "order": null,
      "overflow": null,
      "overflow_x": null,
      "overflow_y": null,
      "padding": null,
      "right": null,
      "top": null,
      "visibility": null,
      "width": null
     }
    },
    "b905a5cdf9e046d0be99ea8c30a5a226": {
     "model_module": "@jupyter-widgets/controls",
     "model_module_version": "1.5.0",
     "model_name": "FloatProgressModel",
     "state": {
      "_dom_classes": [],
      "_model_module": "@jupyter-widgets/controls",
      "_model_module_version": "1.5.0",
      "_model_name": "FloatProgressModel",
      "_view_count": null,
      "_view_module": "@jupyter-widgets/controls",
      "_view_module_version": "1.5.0",
      "_view_name": "ProgressView",
      "bar_style": "success",
      "description": "",
      "description_tooltip": null,
      "layout": "IPY_MODEL_94609869f4e8445fad097f886ddc9b2c",
      "max": 1,
      "min": 0,
      "orientation": "horizontal",
      "style": "IPY_MODEL_606645febbbd45aa9d53bbdbf7843931",
      "value": 1
     }
    },
    "bd1434e539064ce9a728815eab2b9373": {
     "model_module": "@jupyter-widgets/base",
     "model_module_version": "1.2.0",
     "model_name": "LayoutModel",
     "state": {
      "_model_module": "@jupyter-widgets/base",
      "_model_module_version": "1.2.0",
      "_model_name": "LayoutModel",
      "_view_count": null,
      "_view_module": "@jupyter-widgets/base",
      "_view_module_version": "1.2.0",
      "_view_name": "LayoutView",
      "align_content": null,
      "align_items": null,
      "align_self": null,
      "border": null,
      "bottom": null,
      "display": "inline-flex",
      "flex": null,
      "flex_flow": "row wrap",
      "grid_area": null,
      "grid_auto_columns": null,
      "grid_auto_flow": null,
      "grid_auto_rows": null,
      "grid_column": null,
      "grid_gap": null,
      "grid_row": null,
      "grid_template_areas": null,
      "grid_template_columns": null,
      "grid_template_rows": null,
      "height": null,
      "justify_content": null,
      "justify_items": null,
      "left": null,
      "margin": null,
      "max_height": null,
      "max_width": null,
      "min_height": null,
      "min_width": null,
      "object_fit": null,
      "object_position": null,
      "order": null,
      "overflow": null,
      "overflow_x": null,
      "overflow_y": null,
      "padding": null,
      "right": null,
      "top": null,
      "visibility": null,
      "width": "100%"
     }
    },
    "c991e94a52624d398e025dd561935e0d": {
     "model_module": "@jupyter-widgets/base",
     "model_module_version": "1.2.0",
     "model_name": "LayoutModel",
     "state": {
      "_model_module": "@jupyter-widgets/base",
      "_model_module_version": "1.2.0",
      "_model_name": "LayoutModel",
      "_view_count": null,
      "_view_module": "@jupyter-widgets/base",
      "_view_module_version": "1.2.0",
      "_view_name": "LayoutView",
      "align_content": null,
      "align_items": null,
      "align_self": null,
      "border": null,
      "bottom": null,
      "display": null,
      "flex": null,
      "flex_flow": null,
      "grid_area": null,
      "grid_auto_columns": null,
      "grid_auto_flow": null,
      "grid_auto_rows": null,
      "grid_column": null,
      "grid_gap": null,
      "grid_row": null,
      "grid_template_areas": null,
      "grid_template_columns": null,
      "grid_template_rows": null,
      "height": null,
      "justify_content": null,
      "justify_items": null,
      "left": null,
      "margin": null,
      "max_height": null,
      "max_width": null,
      "min_height": null,
      "min_width": null,
      "object_fit": null,
      "object_position": null,
      "order": null,
      "overflow": null,
      "overflow_x": null,
      "overflow_y": null,
      "padding": null,
      "right": null,
      "top": null,
      "visibility": null,
      "width": null
     }
    },
    "cad060f9235e49d1a12b5d46e5659a09": {
     "model_module": "@jupyter-widgets/controls",
     "model_module_version": "1.5.0",
     "model_name": "HTMLModel",
     "state": {
      "_dom_classes": [],
      "_model_module": "@jupyter-widgets/controls",
      "_model_module_version": "1.5.0",
      "_model_name": "HTMLModel",
      "_view_count": null,
      "_view_module": "@jupyter-widgets/controls",
      "_view_module_version": "1.5.0",
      "_view_name": "HTMLView",
      "description": "",
      "description_tooltip": null,
      "layout": "IPY_MODEL_c991e94a52624d398e025dd561935e0d",
      "placeholder": "​",
      "style": "IPY_MODEL_b2200b4bb20f49f782b7dfa774fb1811",
      "value": " 68/68 [00:01&lt;00:00, 49.73it/s, v_num=logs, train_loss=9.55e+5]"
     }
    },
    "d2346100fc2448f18ce00fd8cd5edb0d": {
     "model_module": "@jupyter-widgets/controls",
     "model_module_version": "1.5.0",
     "model_name": "FloatProgressModel",
     "state": {
      "_dom_classes": [],
      "_model_module": "@jupyter-widgets/controls",
      "_model_module_version": "1.5.0",
      "_model_name": "FloatProgressModel",
      "_view_count": null,
      "_view_module": "@jupyter-widgets/controls",
      "_view_module_version": "1.5.0",
      "_view_name": "ProgressView",
      "bar_style": "success",
      "description": "",
      "description_tooltip": null,
      "layout": "IPY_MODEL_b881fed6c44e4bdeb2de4281cfc437b8",
      "max": 68,
      "min": 0,
      "orientation": "horizontal",
      "style": "IPY_MODEL_a148960a2fd84283970115820ef28140",
      "value": 68
     }
    },
    "eaf33542b5404e1794bc2aa73b26b462": {
     "model_module": "@jupyter-widgets/controls",
     "model_module_version": "1.5.0",
     "model_name": "HTMLModel",
     "state": {
      "_dom_classes": [],
      "_model_module": "@jupyter-widgets/controls",
      "_model_module_version": "1.5.0",
      "_model_name": "HTMLModel",
      "_view_count": null,
      "_view_module": "@jupyter-widgets/controls",
      "_view_module_version": "1.5.0",
      "_view_name": "HTMLView",
      "description": "",
      "description_tooltip": null,
      "layout": "IPY_MODEL_fc416fff0d0d4308a2599d5897a83849",
      "placeholder": "​",
      "style": "IPY_MODEL_0a091e0503a043b3851c74cc7790c57f",
      "value": " 1/1 [00:00&lt;00:00, 12.49it/s]"
     }
    },
    "fb73ac75cfed4aa2aaa3ed72e85188dd": {
     "model_module": "@jupyter-widgets/controls",
     "model_module_version": "1.5.0",
     "model_name": "HTMLModel",
     "state": {
      "_dom_classes": [],
      "_model_module": "@jupyter-widgets/controls",
      "_model_module_version": "1.5.0",
      "_model_name": "HTMLModel",
      "_view_count": null,
      "_view_module": "@jupyter-widgets/controls",
      "_view_module_version": "1.5.0",
      "_view_name": "HTMLView",
      "description": "",
      "description_tooltip": null,
      "layout": "IPY_MODEL_431ba1c8060847a6b0167d79e233496c",
      "placeholder": "​",
      "style": "IPY_MODEL_fe96c653bba54bd59d3a9a5f18f0f506",
      "value": "Predicting DataLoader 0: 100%"
     }
    },
    "fc416fff0d0d4308a2599d5897a83849": {
     "model_module": "@jupyter-widgets/base",
     "model_module_version": "1.2.0",
     "model_name": "LayoutModel",
     "state": {
      "_model_module": "@jupyter-widgets/base",
      "_model_module_version": "1.2.0",
      "_model_name": "LayoutModel",
      "_view_count": null,
      "_view_module": "@jupyter-widgets/base",
      "_view_module_version": "1.2.0",
      "_view_name": "LayoutView",
      "align_content": null,
      "align_items": null,
      "align_self": null,
      "border": null,
      "bottom": null,
      "display": null,
      "flex": null,
      "flex_flow": null,
      "grid_area": null,
      "grid_auto_columns": null,
      "grid_auto_flow": null,
      "grid_auto_rows": null,
      "grid_column": null,
      "grid_gap": null,
      "grid_row": null,
      "grid_template_areas": null,
      "grid_template_columns": null,
      "grid_template_rows": null,
      "height": null,
      "justify_content": null,
      "justify_items": null,
      "left": null,
      "margin": null,
      "max_height": null,
      "max_width": null,
      "min_height": null,
      "min_width": null,
      "object_fit": null,
      "object_position": null,
      "order": null,
      "overflow": null,
      "overflow_x": null,
      "overflow_y": null,
      "padding": null,
      "right": null,
      "top": null,
      "visibility": null,
      "width": null
     }
    },
    "fe96c653bba54bd59d3a9a5f18f0f506": {
     "model_module": "@jupyter-widgets/controls",
     "model_module_version": "1.5.0",
     "model_name": "DescriptionStyleModel",
     "state": {
      "_model_module": "@jupyter-widgets/controls",
      "_model_module_version": "1.5.0",
      "_model_name": "DescriptionStyleModel",
      "_view_count": null,
      "_view_module": "@jupyter-widgets/base",
      "_view_module_version": "1.2.0",
      "_view_name": "StyleView",
      "description_width": ""
     }
    }
   }
  }
 },
 "nbformat": 4,
 "nbformat_minor": 4
}
